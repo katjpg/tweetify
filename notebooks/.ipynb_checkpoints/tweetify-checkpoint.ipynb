{
 "cells": [
  {
   "cell_type": "markdown",
   "metadata": {},
   "source": [
    "# Tweetify: Mapping the Intersection of Twitter and Spotify \n",
    "\n",
    "*By: Kat Limqueco, University of California, Los Angeles (UCLA)*"
   ]
  },
  {
   "cell_type": "markdown",
   "metadata": {},
   "source": [
    "---"
   ]
  },
  {
   "cell_type": "markdown",
   "metadata": {},
   "source": [
    "> **Keywords**: Social Media Analytics, Sentiment Analysis, Natural Language Processing, Unsupervised Learning, Music Consumption "
   ]
  },
  {
   "cell_type": "markdown",
   "metadata": {},
   "source": [
    "## Table of Contents \n",
    "1. **Introduction**\n",
    "   - 1.1 Background \n",
    "   - 1.2 Significance of the Study \n",
    "   - 1.3 Objectives and Scope of the Study\n",
    "   - 1.4 Hypotheses and Research Questions\n",
    "\n",
    "2. **Literature Review**\n",
    "   - 2.1 Twitter and Music Consumption\n",
    "   - 2.2 Spotify and its Impact on Music Preferences\n",
    "   - 2.3 Role of Social Media in Shaping Music Trends\n",
    "\n",
    "3. **Methodology**\n",
    "   - 3.1 Data Collection\n",
    "     - 3.1.1 Twitter Data Extraction\n",
    "     - 3.1.2 Spotify Data Extraction\n",
    "     - 3.1.3 Billboard Data Acquisition\n",
    "   - 3.2 Data Cleaning\n",
    "     - 3.2.1 Removing Special Characters\n",
    "   - 3.3 Data Processing \n",
    "     - 3.3.1 Processing Track URIs\n",
    "     - 3.3.2 Extracting Audio Features \n",
    "     - 3.3.3 Determining Track Info\n",
    "     - 3.3.4 Retrieving Track Lyrics\n",
    "     - 3.3.5 Deriving Unique Words from Lyrics\n",
    "     - 3.3.6 Identifying Genres\n",
    "   - 3.4 Analytical Approach\n",
    "     - 3.4.1 Natural Language Processing\n",
    "     - 3.4.2 Unsupervised Machine Learning\n",
    "\n",
    "4. **Data Analysis and Findings**\n",
    "   - 4.1 Exploratory Data Analysis\n",
    "     - 4.1.1 Data Description\n",
    "     - 4.1.2 Sentiment Analysis\n",
    "       - Treemap \n",
    "       - Genre Bar Chart\n",
    "     - 4.1.3 Data Visualization \n",
    "       - Audio Radar Chart\n",
    "       - Audio Heat Map\n",
    "       - Tempo Histogram\n",
    "       - Key Histogram\n",
    "       - Popularity and Year Histogram \n",
    "       - Geolocation Bubble Map \n",
    "     - 4.1.4 Key Observations \n",
    "   - 4.2 Cluster Analysis\n",
    "     - 4.2.1 Clustering Methodology\n",
    "     - 4.2.2 Results of Cluster Analysis\n",
    "   - 4.3 Comparative Analysis\n",
    "     - 4.3.1 Twitter vs Billboard: Audio Features\n",
    "     - 4.3.2 Twitter vs Billboard: Genre Trends\n",
    "\n",
    "5. **Playlist Curation**\n",
    "   - 5.1 Creating a Playlist Representing 2022\n",
    "\n",
    "6. **Discussion**\n",
    "   - 6.1 Interpretation of Findings\n",
    "   - 6.2 Implications and Contributions of the Study\n",
    "   - 6.3 Limitations and Challenges\n",
    "   - 6.4 Recommendations for Future Research\n",
    "\n",
    "7. **Conclusion**\n",
    "   - 7.1 Summary of Findings\n",
    "   - 7.2 Study Conclusions\n",
    "\n",
    "8. **References**\n",
    "\n",
    "9. **Appendices**\n",
    "   - 9.1 Data Collection Code\n",
    "   - 9.2 Data Cleaning and Processing Code\n",
    "   - 9.3 Data Analysis Code\n",
    "   - 9.4 Sample Playlist for 2022"
   ]
  },
  {
   "cell_type": "markdown",
   "metadata": {},
   "source": [
    "---"
   ]
  },
  {
   "cell_type": "markdown",
   "metadata": {},
   "source": [
    "## 1. Introduction "
   ]
  },
  {
   "cell_type": "markdown",
   "metadata": {},
   "source": [
    "### 1.1 Background"
   ]
  },
  {
   "cell_type": "markdown",
   "metadata": {},
   "source": [
    "### 1.2 Research Questions"
   ]
  },
  {
   "cell_type": "markdown",
   "metadata": {},
   "source": [
    "### 1.3 Objectives and Scope of Study\n"
   ]
  },
  {
   "cell_type": "markdown",
   "metadata": {},
   "source": [
    "The primary objective of this study is to understand the dynamics of music consumption patterns reflected through Twitter data, particularly the links to tracks shared from Spotify, employing techniques such as Natural Language Processing and Machine Learning. Specifically, the study aims to:\n",
    "\n",
    "1. **Examine** the auditory preferences reflected through the genres and audio features of shared tracks on Twitter.\n",
    "2. **Utilize** unsupervised learning techniques like K-Means clustering to identify distinct genre-based musical clusters within the tweeted Spotify tracks\n",
    "3. **Create** a sonically representative playlist for the year 2022 using the data on shared tracks by Twitter users and explore the data-driven curation of music \n",
    "4. **Assess** the prominence of specific audio features in shared tracks and compare these trends with those in the broader music industry as reflected through Billboard charts. This comparison could unveil industry-wide patterns or anomalies, which could help enrich understanding regarding contemporary music consumption trends. "
   ]
  },
  {
   "cell_type": "markdown",
   "metadata": {},
   "source": [
    "----"
   ]
  },
  {
   "cell_type": "markdown",
   "metadata": {},
   "source": [
    "## 2. Literature Review"
   ]
  },
  {
   "cell_type": "markdown",
   "metadata": {},
   "source": [
    "---"
   ]
  },
  {
   "cell_type": "markdown",
   "metadata": {},
   "source": [
    "## 3. Methodology "
   ]
  },
  {
   "cell_type": "markdown",
   "metadata": {},
   "source": [
    "### 3.1 Data Collection"
   ]
  },
  {
   "cell_type": "markdown",
   "metadata": {},
   "source": [
    "#### 3.1.1 Twitter Data Extraction\n",
    "\n",
    "The data for this study was sourced from Twitter using the `snscrape` tool, specifically spanning the entirety of the year 2022. This tool was employed to scrape tweets that contained links to tracks on Spotify. These scraped tweets form the primary dataset of this study. \n",
    "\n",
    "The specific parameters used in the `snscrape` tool were configured to limit the results to tweets containing \"open.spotify.com/track\" and were geographically restricted to USA. This was further refined by specifying the date range for each month in the year of 2022.\n",
    "\n",
    "The fields extracted from each tweet include:\n",
    "\n",
    "- `username`: the Twitter handle of the user posting the tweet.\n",
    "- `date`: the timestamp of the tweet.\n",
    "- `rawContent`: the actual content of the tweet.\n",
    "- `friendsCount`: the number of friends of the user at the time of the tweet.\n",
    "- `followersCount`: the number of followers of the user at the time of the tweet.\n",
    "- `replyCount`: the number of replies to the tweet.\n",
    "- `retweetCount`: the number of retweets of the tweet.\n",
    "- `quoteCount`: the number of quotes of the tweet.\n",
    "- `place`: the geographical location associated with the tweet.\n",
    "- `outlinks`: the external links present in the tweet.\n",
    "\n",
    "The data extracted was then processed using `jq` to create a JSON output of unique users, which was then saved to a `us_tweets.json` file for further analysis.\n",
    "\n",
    "The utilization of this data in my study facilitates an in-depth exploration into the evolving trends of music consumption and preference, providing valuable insights into how social media activity can reflect broader cultural and societal trends."
   ]
  },
  {
   "cell_type": "markdown",
   "metadata": {},
   "source": [
    "#### 3.1.2 Spotify Data Extraction"
   ]
  },
  {
   "cell_type": "markdown",
   "metadata": {},
   "source": [
    "#### 3.1.3 Billboard Data Acquisition"
   ]
  },
  {
   "cell_type": "markdown",
   "metadata": {},
   "source": [
    "#### Importing Libraries"
   ]
  },
  {
   "cell_type": "code",
   "execution_count": 1,
   "metadata": {},
   "outputs": [],
   "source": [
    "# data manipulation\n",
    "import pandas as pd\n",
    "import numpy as np\n",
    "import re \n",
    "import warnings\n",
    "import ast \n",
    "from collections import Counter\n",
    "\n",
    "# api requests\n",
    "import spotipy \n",
    "from spotipy.oauth2 import SpotifyClientCredentials\n",
    "import lyricsgenius\n",
    "import requests\n",
    "\n",
    "# nlp libraries\n",
    "import nltk \n",
    "from nltk.tokenize import word_tokenize\n",
    "from nltk.corpus import words \n",
    "from nltk.sentiment.vader import SentimentIntensityAnalyzer\n",
    "import spacy \n",
    "from spacy.lang.en.stop_words import STOP_WORDS\n",
    "\n",
    "# data visualization \n",
    "import plotly.graph_objects as go \n",
    "import plotly.io as pio \n",
    "import plotly.figure_factory as ff\n"
   ]
  },
  {
   "cell_type": "code",
   "execution_count": null,
   "metadata": {},
   "outputs": [],
   "source": [
    "# tokens, keys, and credentials\n",
    "\n",
    "# spotipy\n",
    "BASE_URL = 'https://api.spotify.com/v1/'\n",
    "AUTH_URL = 'https://accounts.spotify.com/api/token'\n",
    "SPOTIFY_CLIENT_ID = 'YOUR CLIENT ID'\n",
    "SPOTIFY_CLIENT_SECRET = 'YOUR CLIENT SECRET'\n",
    "auth_manager = SpotifyClientCredentials(client_id = SPOTIFY_CLIENT_ID, client_secret = SPOTIFY_CLIENT_SECRET)\n",
    "sp = spotipy.Spotify(auth_manager = auth_manager)\n",
    "\n",
    "\n",
    "# lyricsgenius \n",
    "GENIUS_CLIENT_ACCESS_TOKEN = 'YOUR GENIUS TOKEN'\n",
    "genius = lyricsgenius.Genius(GENIUS_CLIENT_ACCESS_TOKEN)\n"
   ]
  },
  {
   "cell_type": "code",
   "execution_count": null,
   "metadata": {},
   "outputs": [],
   "source": [
    "# nltk downloads\n",
    "nltk.download('punkt') \n",
    "nltk.download('vader_lexicon')\n",
    "\n",
    "# spacy model \n",
    "nlp = spacy.load('en_core_web_sm', disable=['parser', 'ner'])\n"
   ]
  },
  {
   "cell_type": "code",
   "execution_count": 2,
   "metadata": {},
   "outputs": [],
   "source": [
    "# data visualization themes \n",
    "pio.templates.default = 'plotly_dark'"
   ]
  },
  {
   "cell_type": "code",
   "execution_count": null,
   "metadata": {},
   "outputs": [],
   "source": [
    "# load the data\n",
    "df = pd.read_csv('../data/raw/2022-year-us.csv')"
   ]
  },
  {
   "cell_type": "code",
   "execution_count": null,
   "metadata": {},
   "outputs": [],
   "source": [
    "# getting a glimpse of the dataset\n",
    "df.head()"
   ]
  },
  {
   "cell_type": "code",
   "execution_count": null,
   "metadata": {},
   "outputs": [],
   "source": [
    "# checking shape and size of dataset\n",
    "print('Dataset size:', df.shape)\n",
    "print('Dataset columns:', df.columns)"
   ]
  },
  {
   "cell_type": "markdown",
   "metadata": {},
   "source": [
    "### 3.2 Data Cleaning"
   ]
  },
  {
   "cell_type": "markdown",
   "metadata": {},
   "source": [
    "#### 3.2.1 Removing Special Characters \n"
   ]
  },
  {
   "cell_type": "code",
   "execution_count": null,
   "metadata": {},
   "outputs": [],
   "source": [
    "# text processing\n",
    "LINK_PATTERN = re.compile(r'http\\S+')\n",
    "SPECIAL_CHAR_PATTERN = re.compile(r'[^\\w\\s\\n]+')\n",
    "WHITESPACE_PATTERN = re.compile(r'\\s+')"
   ]
  },
  {
   "cell_type": "code",
   "execution_count": null,
   "metadata": {},
   "outputs": [],
   "source": [
    "def clean_text(text):\n",
    "    \"\"\"\n",
    "    Cleans a given text by removing links, special characters, multiple whitespaces and converting \n",
    "    to lowercase.\n",
    "\n",
    "    Args:\n",
    "        text (str): The text to clean.\n",
    "\n",
    "    Returns:\n",
    "        str: The cleaned text.\n",
    "    \"\"\"\n",
    "    # remove links\n",
    "    text = LINK_PATTERN.sub('', text)\n",
    "    # remove special characters\n",
    "    text = SPECIAL_CHAR_PATTERN.sub('', text)\n",
    "    # replace multiple whitespaces with a single space\n",
    "    text = WHITESPACE_PATTERN.sub(' ', text)\n",
    "    # convert to lowercase\n",
    "    text = text.lower()\n",
    "    return text"
   ]
  },
  {
   "cell_type": "markdown",
   "metadata": {},
   "source": [
    "### 3.3 Data Processing"
   ]
  },
  {
   "cell_type": "markdown",
   "metadata": {},
   "source": [
    "#### 3.3.1 Processing Track URIs"
   ]
  },
  {
   "cell_type": "code",
   "execution_count": null,
   "metadata": {},
   "outputs": [],
   "source": [
    "def extract_track_uris(outlink):\n",
    "    \"\"\"\n",
    "    Extracts track URIs from a given outlink.\n",
    "\n",
    "    Args:\n",
    "        outlink (str): The outlink from which to extract track URIs.\n",
    "\n",
    "    Returns:\n",
    "        str: The extracted track URI or None if no match or an error occurred.\n",
    "    \"\"\"\n",
    "    # initialize track_uri to 'None'\n",
    "    track_uri = None\n",
    "    try:\n",
    "        # extract the track ID from the link using regular expressions\n",
    "        match = re.search(r'(?<=\\/track\\/)[a-zA-Z0-9]+', outlink)\n",
    "        if match:\n",
    "            # build the track URI\n",
    "            track_uri = 'spotify:track:' + match.group(0)\n",
    "    except Exception as e:\n",
    "        # if an error occurs, log the error and raise it to stop execution\n",
    "        print(f\"Error occurred while processing link {outlink}: {e}\")\n",
    "        raise e\n",
    "    # return the track_uri or None if no match or error occurred\n",
    "    return track_uri"
   ]
  },
  {
   "cell_type": "markdown",
   "metadata": {},
   "source": [
    "#### 3.3.2 Extracting Audio Features"
   ]
  },
  {
   "cell_type": "code",
   "execution_count": null,
   "metadata": {},
   "outputs": [],
   "source": [
    "def get_audio_features(df):\n",
    "    \"\"\"\n",
    "    Retrieves audio features for each track URI in a given DataFrame.\n",
    "\n",
    "    Args:\n",
    "        df (pd.DataFrame): The DataFrame containing track URIs.\n",
    "\n",
    "    Returns:\n",
    "        pd.DataFrame: A DataFrame containing audio features for each track.\n",
    "    \"\"\"\n",
    "    # extract URIs from the 'track_uri' column\n",
    "    uris = df['track_uris'].tolist()\n",
    "\n",
    "    # initialize list to store audio features for each track\n",
    "    audio_features = []\n",
    "\n",
    "    # create batches of up to 100 URIs each\n",
    "    for i in range(0, len(uris), 100):\n",
    "        batch_uris = uris[i:i+100]\n",
    "\n",
    "        # filter out None values\n",
    "        batch_uris = [uri for uri in batch_uris if uri is not None]\n",
    "\n",
    "        if batch_uris:\n",
    "            # retrieve audio features for the batch of URIs using the Spotify API\n",
    "            batch_features = sp.audio_features(batch_uris)\n",
    "            \n",
    "            # append retrieved features to the list\n",
    "            audio_features.extend(batch_features)\n",
    "\n",
    "    # convert audio features list to a Pandas DataFrame\n",
    "    audio_features_df = pd.DataFrame(audio_features)\n",
    "    # drop rows with None values\n",
    "    audio_features_df.dropna(inplace=True)\n",
    "\n",
    "    return audio_features_df"
   ]
  },
  {
   "cell_type": "markdown",
   "metadata": {},
   "source": [
    "#### 3.3.3 Determining Track Info"
   ]
  },
  {
   "cell_type": "code",
   "execution_count": null,
   "metadata": {},
   "outputs": [],
   "source": [
    "def get_track_info(df):\n",
    "    \"\"\"\n",
    "    Retrieves track popularity, release year, artist name, song name, and album name for each track URI in a given DataFrame.\n",
    "\n",
    "    Args:\n",
    "        df (pd.DataFrame): The DataFrame containing track URIs.\n",
    "\n",
    "    Returns:\n",
    "        pd.DataFrame: The input DataFrame with added 'popularity', 'year', 'artist', 'song_name', and 'album_name' columns.\n",
    "\n",
    "    Note:\n",
    "        - The function prints the error message when an error occurs while processing a track URI.\n",
    "        - The function appends None to the 'popularity', 'year', 'artist', 'song_name', and 'album_name' columns when an error occurs.\n",
    "    \"\"\"\n",
    "    # initialize lists to store popularity, release year, artist, song name, and album name\n",
    "    popularity_list = []\n",
    "    year_list = []\n",
    "    artist_list = []\n",
    "    song_name_list = []\n",
    "    album_name_list = []\n",
    "\n",
    "    for uri in df['uri']:\n",
    "        try:\n",
    "            # get track info using Spotify API\n",
    "            track_info = sp.track(uri)\n",
    "            \n",
    "            # extract popularity, release year, artist, song name, and album name\n",
    "            popularity_list.append(track_info.get('popularity'))\n",
    "            year_list.append(track_info['album']['release_date'][:4] if track_info.get('album') else None)\n",
    "            artist_list.append(track_info['artists'][0]['name'] if track_info.get('artists') else None)\n",
    "            song_name_list.append(track_info.get('name'))\n",
    "            album_name_list.append(track_info['album']['name'] if track_info.get('album') else None)\n",
    "            \n",
    "        except spotipy.client.SpotifyException as e:\n",
    "            # for all types of exceptions, log the error and append None to popularity, year, artist, song name, and album name lists\n",
    "            print(f\"Error occurred while processing URI {uri}: {e}\")\n",
    "            popularity_list.append(None)\n",
    "            year_list.append(None)\n",
    "            artist_list.append(None)\n",
    "            song_name_list.append(None)\n",
    "            album_name_list.append(None)\n",
    "\n",
    "    # add popularity, year, artist, song name, and album name to the dataframe\n",
    "    df['popularity'] = popularity_list\n",
    "    df['year'] = year_list\n",
    "    df['artist'] = artist_list\n",
    "    df['song_name'] = song_name_list\n",
    "    df['album_name'] = album_name_list\n",
    "    \n",
    "    return df"
   ]
  },
  {
   "cell_type": "markdown",
   "metadata": {},
   "source": [
    "#### 3.3.4 Retrieving Track Lyrics"
   ]
  },
  {
   "cell_type": "code",
   "execution_count": null,
   "metadata": {},
   "outputs": [],
   "source": [
    "def get_lyrics_from_dataframe(df):\n",
    "    \"\"\"\n",
    "    Extracts lyrics for each track in the given DataFrame using the Genius API.\n",
    "\n",
    "    Args:\n",
    "        df (pd.DataFrame): The DataFrame containing track URIs.\n",
    "\n",
    "    Returns:\n",
    "        pd.DataFrame: The input DataFrame with an added 'lyrics' column.\n",
    "\n",
    "    Note:\n",
    "        - The function prints an error message when an error occurs while processing a track URI.\n",
    "        - The function appends an empty string to the 'lyrics' column when an error occurs or lyrics are not found.\n",
    "    \"\"\"\n",
    "    # loop through each row in the DataFrame\n",
    "    for index, row in df.iterrows():\n",
    "        # get track information from Spotify\n",
    "        track_uri = row['uri']\n",
    "        track_info = sp.track(track_uri)\n",
    "        track_name = track_info['name']\n",
    "        artist_name = track_info['artists'][0]['name']\n",
    "        \n",
    "        # extract lyrics using Genius API\n",
    "        try:\n",
    "            song = genius.search_song(track_name, artist_name)\n",
    "            lyrics = song.lyrics\n",
    "        except Exception as e:\n",
    "            # if lyrics not found or an error occurred, log the error and set lyrics to an empty string\n",
    "            print(f\"Error occurred while processing URI {track_uri}: {e}\")\n",
    "            lyrics = ''\n",
    "        \n",
    "        # clean lyrics\n",
    "        cleaned_lyrics = clean_text(lyrics)\n",
    "        \n",
    "        # add cleaned lyrics to the DataFrame\n",
    "        df.at[index, 'lyrics'] = cleaned_lyrics\n",
    "    \n",
    "    return df"
   ]
  },
  {
   "cell_type": "markdown",
   "metadata": {},
   "source": [
    "#### 3.3.5 Deriving Unique Words from Lyrics"
   ]
  },
  {
   "cell_type": "code",
   "execution_count": null,
   "metadata": {},
   "outputs": [],
   "source": [
    "# convert nltk corpus words list to a set for faster lookup\n",
    "word_list = set(words.words())"
   ]
  },
  {
   "cell_type": "code",
   "execution_count": null,
   "metadata": {},
   "outputs": [],
   "source": [
    "def extract_unique_words(df, column_name, stopwords_file):\n",
    "    \"\"\"\n",
    "    Extracts unique words from a specified column in a DataFrame, excluding stop words.\n",
    "\n",
    "    Args:\n",
    "        df (pd.DataFrame): The DataFrame containing the text data.\n",
    "        column_name (str): The column from which to extract unique words.\n",
    "        stopwords_file (str): The path to a file containing custom stop words.\n",
    "\n",
    "    Returns:\n",
    "        pd.DataFrame: The input DataFrame with an added 'unique_words' column.\n",
    "    \"\"\"\n",
    "    # load stop words from file\n",
    "    with open(stopwords_file) as f:\n",
    "        custom_stopwords = set([word.strip() for word in f])\n",
    "\n",
    "    # add all stop words to the stop words set\n",
    "    stop_words = STOP_WORDS.union(custom_stopwords)\n",
    "\n",
    "    # fill NA w/ empty strings\n",
    "    df[column_name] = df[column_name].fillna('')\n",
    "\n",
    "    # use spaCy's pipe method for batch processing\n",
    "    docs = list(nlp.pipe(df[column_name].tolist()))\n",
    "\n",
    "    # tokenize the specified column and create a new column for processed words\n",
    "    df['processed_words'] = [[token.lemma_ for token in doc if token.lemma_.lower() not in stop_words and token.pos_ not in {'CONJ', 'DET'}] for doc in docs]\n",
    "\n",
    "    # extract unique words and remove non-dictionary words\n",
    "    df['unique_words'] = df['processed_words'].apply(lambda x: [word for word in set(x) if word in word_list])\n",
    "\n",
    "    # drop the 'processed_words' column\n",
    "    df.drop('processed_words', axis=1, inplace=True)\n",
    "\n",
    "    return df"
   ]
  },
  {
   "cell_type": "markdown",
   "metadata": {},
   "source": [
    "#### 3.3.6 Identifying Genres"
   ]
  },
  {
   "cell_type": "code",
   "execution_count": null,
   "metadata": {},
   "outputs": [],
   "source": [
    "def get_access_token():\n",
    "    \"\"\"\n",
    "    Gets an access token from the Spotify API.\n",
    "\n",
    "    Returns:\n",
    "        str: The access token.\n",
    "\n",
    "    Raises:\n",
    "        Exception: If the request to the Spotify API fails or the response cannot be decoded as JSON.\n",
    "    \"\"\"\n",
    "    try:\n",
    "        # POST\n",
    "        auth_response = requests.post(AUTH_URL, {\n",
    "            'grant_type': 'client_credentials',\n",
    "            'client_id': SPOTIFY_CLIENT_ID,\n",
    "            'client_secret': SPOTIFY_CLIENT_SECRET,\n",
    "        })\n",
    "\n",
    "        # convert the response to JSON\n",
    "        auth_response_data = auth_response.json()\n",
    "\n",
    "        # save and return the access token\n",
    "        return auth_response_data['access_token']\n",
    "    except Exception as e:\n",
    "        print(f\"Error occurred while getting access token: {e}\")\n",
    "        raise e"
   ]
  },
  {
   "cell_type": "code",
   "execution_count": null,
   "metadata": {},
   "outputs": [],
   "source": [
    "def extract_subgenres(df_audio):\n",
    "    \"\"\"\n",
    "    Extracts subgenres for each track in a given DataFrame using the Spotify API.\n",
    "\n",
    "    Args:\n",
    "        df_audio (pd.DataFrame): The DataFrame containing track URIs.\n",
    "\n",
    "    Returns:\n",
    "        pd.DataFrame: A DataFrame containing track URIs, artist URIs, and genres.\n",
    "    \"\"\"\n",
    "    dict_genre = {}\n",
    "\n",
    "    # setup the Spotipy client\n",
    "    auth_manager = SpotifyClientCredentials(client_id=SPOTIFY_CLIENT_ID, client_secret=SPOTIFY_CLIENT_SECRET)\n",
    "    sp = spotipy.Spotify(auth_manager=auth_manager, requests_timeout=10, retries=10)\n",
    "\n",
    "    # convert uri column to an iterable list\n",
    "    track_uris = df_audio['uri'].apply(lambda uri: uri.split(':')[-1]).to_list()\n",
    "\n",
    "    # loop through track URIs and pull artist URI using the API,\n",
    "    # then use artist URI to pull genres associated with that artist\n",
    "    # store all these in a dictionary\n",
    "    for i, t_uri in enumerate(track_uris, start=1):\n",
    "        print(f\"Processing track {i} of {len(track_uris)}\")\n",
    "\n",
    "        dict_genre[t_uri] = {'artist_uri': \"\", \"genres\":[]}\n",
    "\n",
    "        try:\n",
    "            r = sp.track(t_uri)\n",
    "            a_uri = r['artists'][0]['uri'].split(':')[-1]\n",
    "            dict_genre[t_uri]['artist_uri'] = a_uri\n",
    "\n",
    "            s = sp.artist(a_uri)\n",
    "            dict_genre[t_uri]['genres'] = s['genres']\n",
    "        except spotipy.SpotifyException as e:\n",
    "            print(f\"Error occurred while processing URI {t_uri}: {e}\")\n",
    "\n",
    "    # convert dictionary into dataframe with track_uri as the first column\n",
    "    df_genre = pd.DataFrame.from_dict(dict_genre, orient='index')\n",
    "    df_genre.insert(0, 'track_uri', df_genre.index)\n",
    "    df_genre.reset_index(inplace=True, drop=True)\n",
    "\n",
    "    return df_genre"
   ]
  },
  {
   "cell_type": "markdown",
   "metadata": {},
   "source": [
    "----"
   ]
  },
  {
   "cell_type": "markdown",
   "metadata": {},
   "source": [
    "## 4. Data Analysis and Findings"
   ]
  },
  {
   "cell_type": "code",
   "execution_count": 35,
   "metadata": {},
   "outputs": [],
   "source": [
    "# load processed data\n",
    "\n",
    "# audio features\n",
    "US_2022_audio = pd.read_csv('../data/processed/audio-feat/US_2022_audio.csv')\n",
    "\n",
    "# lyrics and unique words \n",
    "US_2022_lyrics = pd.read_csv('../data/processed/lyrics/US_2022_lyrics.csv')\n",
    "\n",
    "# genres\n",
    "US_2022_genres = pd.read_csv('../data/processed/genres/US_2022_genres.csv')\n",
    "\n",
    "# track info\n",
    "US_2022_info = pd.read_csv('../data/processed/track-info/US_2022_track_info.csv')\n",
    "\n",
    "# geolocation\n",
    "US_2022_geoloc = pd.read_csv('../data/processed/location/US_2022_geoloc.csv')"
   ]
  },
  {
   "cell_type": "markdown",
   "metadata": {},
   "source": [
    "### 4.1 Exploratory Data Analysis"
   ]
  },
  {
   "cell_type": "markdown",
   "metadata": {},
   "source": [
    "#### 4.1.1 Data Description"
   ]
  },
  {
   "cell_type": "markdown",
   "metadata": {},
   "source": [
    "#### 4.1.2 Sentiment Analysis"
   ]
  },
  {
   "cell_type": "markdown",
   "metadata": {},
   "source": [
    "##### Treemap"
   ]
  },
  {
   "cell_type": "code",
   "execution_count": 7,
   "metadata": {},
   "outputs": [],
   "source": [
    "def count_words(df, sentiment=None):\n",
    "    \"\"\"\n",
    "    Counts the occurrence of unique words in a DataFrame based on specified sentiment.\n",
    "\n",
    "    Args:\n",
    "        df (pd.DataFrame): The DataFrame containing the unique words.\n",
    "        sentiment (str, optional): The sentiment of words to count. Options are 'positive', 'negative', or None.\n",
    "                                   If None, counts all words. Defaults to None.\n",
    "\n",
    "    Returns:\n",
    "        collections.Counter: A Counter object with counts of unique words.\n",
    "    \"\"\"\n",
    "    # initialize SentimentIntensityAnalyzer\n",
    "    sia = SentimentIntensityAnalyzer()\n",
    "\n",
    "    # initialize a Counter object\n",
    "    word_counter = Counter()\n",
    "    \n",
    "    # iterate over the 'unique_words' column\n",
    "    for words_string in df['unique_words']:\n",
    "        # convert string representation of list to list\n",
    "        words_list = ast.literal_eval(words_string)\n",
    "\n",
    "        # check if the list of words is not empty\n",
    "        if words_list:\n",
    "            if sentiment == 'positive':\n",
    "                # filter positive words\n",
    "                words_list = [word for word in words_list if sia.polarity_scores(word)['compound'] > 0]\n",
    "            elif sentiment == 'negative':\n",
    "                # filter negative words\n",
    "                words_list = [word for word in words_list if sia.polarity_scores(word)['compound'] < 0]\n",
    "\n",
    "            # update the counter with the list of words\n",
    "            word_counter.update(words_list)\n",
    "\n",
    "    return word_counter\n",
    "\n",
    "def get_top_words(word_counter, n=50):\n",
    "    \"\"\"\n",
    "    Get the top n words from a word counter.\n",
    "\n",
    "    Args:\n",
    "        word_counter (collections.Counter): A Counter object with counts of unique words.\n",
    "        n (int, optional): The number of top words to return. Defaults to 50.\n",
    "\n",
    "    Returns:\n",
    "        list: A list of top n words.\n",
    "    \"\"\"\n",
    "    # get the n most common words\n",
    "    top_words = word_counter.most_common(n)\n",
    "    \n",
    "    # prepare a list of words\n",
    "    words = [item[0] for item in top_words]\n",
    "\n",
    "    return words\n",
    "\n",
    "def create_treemap(word_counter, title, color_scale):\n",
    "    \"\"\"\n",
    "    Creates a treemap visualization of word counts.\n",
    "\n",
    "    Args:\n",
    "        word_counter (collections.Counter): A Counter object with counts of unique words.\n",
    "        title (str): The title of the treemap.\n",
    "        color_scale (str): The colorscale of the treemap.\n",
    "    \"\"\"\n",
    "    # get the 50 most common words\n",
    "    top_50_words = word_counter.most_common(50)\n",
    "    \n",
    "    # prepare data for the treemap\n",
    "    words = [item[0] for item in top_50_words]\n",
    "    counts = [item[1] for item in top_50_words]\n",
    "\n",
    "    # create a treemap\n",
    "    fig = go.Figure(go.Treemap(\n",
    "        labels=words,\n",
    "        parents=[\"\"]*len(words),\n",
    "        values=counts,\n",
    "        marker=dict(\n",
    "            colors=counts,  # set color \n",
    "            colorscale=color_scale,  # choose a colorscale\n",
    "        ),\n",
    "        hovertemplate='<b>%{label} </b> <br> Count: %{value}',\n",
    "        name=''\n",
    "    ))\n",
    "\n",
    "    # update layout\n",
    "    fig.update_layout(\n",
    "        title=title,\n",
    "        autosize=False,\n",
    "        width=500,\n",
    "        height=500,\n",
    "    )\n",
    "\n",
    "    fig.show()\n",
    "\n",
    "def treemap(df):\n",
    "    \"\"\"\n",
    "    Creates a treemap visualization of the top 50 unique words in a DataFrame.\n",
    "\n",
    "    Args:\n",
    "        df (pd.DataFrame): The DataFrame containing the unique words.\n",
    "    \"\"\"\n",
    "    word_counter = count_words(df)\n",
    "    create_treemap(word_counter, \"Top 50 Unique Words\", 'plotly3')\n",
    "\n",
    "def neg_sent_treemap(df):\n",
    "    \"\"\"\n",
    "    Creates a treemap visualization of the top 50 negative words in a DataFrame.\n",
    "\n",
    "    Args:\n",
    "        df (pd.DataFrame): The DataFrame containing the unique words.\n",
    "    \"\"\"\n",
    "    word_counter = count_words(df, 'negative')\n",
    "    create_treemap(word_counter, \"Top 50 Negative Words\", 'burg')\n",
    "\n",
    "def pos_sent_treemap(df):\n",
    "    \"\"\"\n",
    "    Creates a treemap visualization of the top 50 positive words in a DataFrame.\n",
    "\n",
    "    Args:\n",
    "        df (pd.DataFrame): The DataFrame containing the unique words.\n",
    "    \"\"\"\n",
    "    word_counter = count_words(df, 'positive')\n",
    "    create_treemap(word_counter, \"Top 50 Positive Words\", 'aggrnyl')\n",
    "\n",
    "\n",
    "def get_sentiment_scores(words):\n",
    "    \"\"\"\n",
    "    Compute sentiment scores (polarity) for a list of words using nltk's SentimentIntensityAnalyzer.\n",
    "\n",
    "    Args:\n",
    "        words (list): A list of words to compute sentiment scores for.\n",
    "\n",
    "    Returns:\n",
    "        pd.DataFrame: A DataFrame with words as the index and their associated sentiment scores as the values.\n",
    "    \"\"\"\n",
    "    # initialize SentimentIntensityAnalyzer\n",
    "    sia = SentimentIntensityAnalyzer()\n",
    "\n",
    "    # Compute sentiment scores\n",
    "    sentiment_scores = {word: sia.polarity_scores(word)['compound'] for word in words}\n",
    "\n",
    "    # Create a DataFrame from the sentiment scores\n",
    "    df = pd.DataFrame(list(sentiment_scores.items()), columns=['word', 'sentiment_score'])\n",
    "\n",
    "    return df"
   ]
  },
  {
   "cell_type": "code",
   "execution_count": 8,
   "metadata": {},
   "outputs": [
    {
     "data": {
      "application/vnd.plotly.v1+json": {
       "config": {
        "plotlyServerURL": "https://plot.ly"
       },
       "data": [
        {
         "hovertemplate": "<b>%{label} </b> <br> Count: %{value}",
         "labels": [
          "love",
          "time",
          "feel",
          "baby",
          "good",
          "life",
          "day",
          "man",
          "bridge",
          "leave",
          "low",
          "thing",
          "night",
          "girl",
          "break",
          "mind",
          "win",
          "eye",
          "heart",
          "find",
          "run",
          "light",
          "bad",
          "world",
          "lose",
          "live",
          "hold",
          "long",
          "head",
          "big",
          "real",
          "talk",
          "boy",
          "ticket",
          "fall",
          "turn",
          "hear",
          "high",
          "money",
          "stay",
          "bitch",
          "play",
          "home",
          "hand",
          "face",
          "hard",
          "god",
          "die",
          "friend",
          "lie"
         ],
         "marker": {
          "colors": [
           4645,
           4493,
           3824,
           3216,
           3143,
           3075,
           3031,
           2982,
           2929,
           2920,
           2817,
           2802,
           2706,
           2511,
           2444,
           2385,
           2381,
           2342,
           2316,
           2311,
           2302,
           2254,
           2200,
           2191,
           2189,
           2185,
           2184,
           2152,
           2143,
           2131,
           2109,
           2099,
           2090,
           2068,
           2045,
           2026,
           1985,
           1970,
           1969,
           1957,
           1950,
           1942,
           1928,
           1913,
           1896,
           1851,
           1845,
           1843,
           1843,
           1796
          ],
          "colorscale": [
           [
            0,
            "#0508b8"
           ],
           [
            0.08333333333333333,
            "#1910d8"
           ],
           [
            0.16666666666666666,
            "#3c19f0"
           ],
           [
            0.25,
            "#6b1cfb"
           ],
           [
            0.3333333333333333,
            "#981cfd"
           ],
           [
            0.4166666666666667,
            "#bf1cfd"
           ],
           [
            0.5,
            "#dd2bfd"
           ],
           [
            0.5833333333333334,
            "#f246fe"
           ],
           [
            0.6666666666666666,
            "#fc67fd"
           ],
           [
            0.75,
            "#fe88fc"
           ],
           [
            0.8333333333333334,
            "#fea5fd"
           ],
           [
            0.9166666666666666,
            "#febefe"
           ],
           [
            1,
            "#fec3fe"
           ]
          ]
         },
         "name": "",
         "parents": [
          "",
          "",
          "",
          "",
          "",
          "",
          "",
          "",
          "",
          "",
          "",
          "",
          "",
          "",
          "",
          "",
          "",
          "",
          "",
          "",
          "",
          "",
          "",
          "",
          "",
          "",
          "",
          "",
          "",
          "",
          "",
          "",
          "",
          "",
          "",
          "",
          "",
          "",
          "",
          "",
          "",
          "",
          "",
          "",
          "",
          "",
          "",
          "",
          "",
          ""
         ],
         "type": "treemap",
         "values": [
          4645,
          4493,
          3824,
          3216,
          3143,
          3075,
          3031,
          2982,
          2929,
          2920,
          2817,
          2802,
          2706,
          2511,
          2444,
          2385,
          2381,
          2342,
          2316,
          2311,
          2302,
          2254,
          2200,
          2191,
          2189,
          2185,
          2184,
          2152,
          2143,
          2131,
          2109,
          2099,
          2090,
          2068,
          2045,
          2026,
          1985,
          1970,
          1969,
          1957,
          1950,
          1942,
          1928,
          1913,
          1896,
          1851,
          1845,
          1843,
          1843,
          1796
         ]
        }
       ],
       "layout": {
        "autosize": false,
        "height": 500,
        "template": {
         "data": {
          "bar": [
           {
            "error_x": {
             "color": "#f2f5fa"
            },
            "error_y": {
             "color": "#f2f5fa"
            },
            "marker": {
             "line": {
              "color": "rgb(17,17,17)",
              "width": 0.5
             },
             "pattern": {
              "fillmode": "overlay",
              "size": 10,
              "solidity": 0.2
             }
            },
            "type": "bar"
           }
          ],
          "barpolar": [
           {
            "marker": {
             "line": {
              "color": "rgb(17,17,17)",
              "width": 0.5
             },
             "pattern": {
              "fillmode": "overlay",
              "size": 10,
              "solidity": 0.2
             }
            },
            "type": "barpolar"
           }
          ],
          "carpet": [
           {
            "aaxis": {
             "endlinecolor": "#A2B1C6",
             "gridcolor": "#506784",
             "linecolor": "#506784",
             "minorgridcolor": "#506784",
             "startlinecolor": "#A2B1C6"
            },
            "baxis": {
             "endlinecolor": "#A2B1C6",
             "gridcolor": "#506784",
             "linecolor": "#506784",
             "minorgridcolor": "#506784",
             "startlinecolor": "#A2B1C6"
            },
            "type": "carpet"
           }
          ],
          "choropleth": [
           {
            "colorbar": {
             "outlinewidth": 0,
             "ticks": ""
            },
            "type": "choropleth"
           }
          ],
          "contour": [
           {
            "colorbar": {
             "outlinewidth": 0,
             "ticks": ""
            },
            "colorscale": [
             [
              0,
              "#0d0887"
             ],
             [
              0.1111111111111111,
              "#46039f"
             ],
             [
              0.2222222222222222,
              "#7201a8"
             ],
             [
              0.3333333333333333,
              "#9c179e"
             ],
             [
              0.4444444444444444,
              "#bd3786"
             ],
             [
              0.5555555555555556,
              "#d8576b"
             ],
             [
              0.6666666666666666,
              "#ed7953"
             ],
             [
              0.7777777777777778,
              "#fb9f3a"
             ],
             [
              0.8888888888888888,
              "#fdca26"
             ],
             [
              1,
              "#f0f921"
             ]
            ],
            "type": "contour"
           }
          ],
          "contourcarpet": [
           {
            "colorbar": {
             "outlinewidth": 0,
             "ticks": ""
            },
            "type": "contourcarpet"
           }
          ],
          "heatmap": [
           {
            "colorbar": {
             "outlinewidth": 0,
             "ticks": ""
            },
            "colorscale": [
             [
              0,
              "#0d0887"
             ],
             [
              0.1111111111111111,
              "#46039f"
             ],
             [
              0.2222222222222222,
              "#7201a8"
             ],
             [
              0.3333333333333333,
              "#9c179e"
             ],
             [
              0.4444444444444444,
              "#bd3786"
             ],
             [
              0.5555555555555556,
              "#d8576b"
             ],
             [
              0.6666666666666666,
              "#ed7953"
             ],
             [
              0.7777777777777778,
              "#fb9f3a"
             ],
             [
              0.8888888888888888,
              "#fdca26"
             ],
             [
              1,
              "#f0f921"
             ]
            ],
            "type": "heatmap"
           }
          ],
          "heatmapgl": [
           {
            "colorbar": {
             "outlinewidth": 0,
             "ticks": ""
            },
            "colorscale": [
             [
              0,
              "#0d0887"
             ],
             [
              0.1111111111111111,
              "#46039f"
             ],
             [
              0.2222222222222222,
              "#7201a8"
             ],
             [
              0.3333333333333333,
              "#9c179e"
             ],
             [
              0.4444444444444444,
              "#bd3786"
             ],
             [
              0.5555555555555556,
              "#d8576b"
             ],
             [
              0.6666666666666666,
              "#ed7953"
             ],
             [
              0.7777777777777778,
              "#fb9f3a"
             ],
             [
              0.8888888888888888,
              "#fdca26"
             ],
             [
              1,
              "#f0f921"
             ]
            ],
            "type": "heatmapgl"
           }
          ],
          "histogram": [
           {
            "marker": {
             "pattern": {
              "fillmode": "overlay",
              "size": 10,
              "solidity": 0.2
             }
            },
            "type": "histogram"
           }
          ],
          "histogram2d": [
           {
            "colorbar": {
             "outlinewidth": 0,
             "ticks": ""
            },
            "colorscale": [
             [
              0,
              "#0d0887"
             ],
             [
              0.1111111111111111,
              "#46039f"
             ],
             [
              0.2222222222222222,
              "#7201a8"
             ],
             [
              0.3333333333333333,
              "#9c179e"
             ],
             [
              0.4444444444444444,
              "#bd3786"
             ],
             [
              0.5555555555555556,
              "#d8576b"
             ],
             [
              0.6666666666666666,
              "#ed7953"
             ],
             [
              0.7777777777777778,
              "#fb9f3a"
             ],
             [
              0.8888888888888888,
              "#fdca26"
             ],
             [
              1,
              "#f0f921"
             ]
            ],
            "type": "histogram2d"
           }
          ],
          "histogram2dcontour": [
           {
            "colorbar": {
             "outlinewidth": 0,
             "ticks": ""
            },
            "colorscale": [
             [
              0,
              "#0d0887"
             ],
             [
              0.1111111111111111,
              "#46039f"
             ],
             [
              0.2222222222222222,
              "#7201a8"
             ],
             [
              0.3333333333333333,
              "#9c179e"
             ],
             [
              0.4444444444444444,
              "#bd3786"
             ],
             [
              0.5555555555555556,
              "#d8576b"
             ],
             [
              0.6666666666666666,
              "#ed7953"
             ],
             [
              0.7777777777777778,
              "#fb9f3a"
             ],
             [
              0.8888888888888888,
              "#fdca26"
             ],
             [
              1,
              "#f0f921"
             ]
            ],
            "type": "histogram2dcontour"
           }
          ],
          "mesh3d": [
           {
            "colorbar": {
             "outlinewidth": 0,
             "ticks": ""
            },
            "type": "mesh3d"
           }
          ],
          "parcoords": [
           {
            "line": {
             "colorbar": {
              "outlinewidth": 0,
              "ticks": ""
             }
            },
            "type": "parcoords"
           }
          ],
          "pie": [
           {
            "automargin": true,
            "type": "pie"
           }
          ],
          "scatter": [
           {
            "marker": {
             "line": {
              "color": "#283442"
             }
            },
            "type": "scatter"
           }
          ],
          "scatter3d": [
           {
            "line": {
             "colorbar": {
              "outlinewidth": 0,
              "ticks": ""
             }
            },
            "marker": {
             "colorbar": {
              "outlinewidth": 0,
              "ticks": ""
             }
            },
            "type": "scatter3d"
           }
          ],
          "scattercarpet": [
           {
            "marker": {
             "colorbar": {
              "outlinewidth": 0,
              "ticks": ""
             }
            },
            "type": "scattercarpet"
           }
          ],
          "scattergeo": [
           {
            "marker": {
             "colorbar": {
              "outlinewidth": 0,
              "ticks": ""
             }
            },
            "type": "scattergeo"
           }
          ],
          "scattergl": [
           {
            "marker": {
             "line": {
              "color": "#283442"
             }
            },
            "type": "scattergl"
           }
          ],
          "scattermapbox": [
           {
            "marker": {
             "colorbar": {
              "outlinewidth": 0,
              "ticks": ""
             }
            },
            "type": "scattermapbox"
           }
          ],
          "scatterpolar": [
           {
            "marker": {
             "colorbar": {
              "outlinewidth": 0,
              "ticks": ""
             }
            },
            "type": "scatterpolar"
           }
          ],
          "scatterpolargl": [
           {
            "marker": {
             "colorbar": {
              "outlinewidth": 0,
              "ticks": ""
             }
            },
            "type": "scatterpolargl"
           }
          ],
          "scatterternary": [
           {
            "marker": {
             "colorbar": {
              "outlinewidth": 0,
              "ticks": ""
             }
            },
            "type": "scatterternary"
           }
          ],
          "surface": [
           {
            "colorbar": {
             "outlinewidth": 0,
             "ticks": ""
            },
            "colorscale": [
             [
              0,
              "#0d0887"
             ],
             [
              0.1111111111111111,
              "#46039f"
             ],
             [
              0.2222222222222222,
              "#7201a8"
             ],
             [
              0.3333333333333333,
              "#9c179e"
             ],
             [
              0.4444444444444444,
              "#bd3786"
             ],
             [
              0.5555555555555556,
              "#d8576b"
             ],
             [
              0.6666666666666666,
              "#ed7953"
             ],
             [
              0.7777777777777778,
              "#fb9f3a"
             ],
             [
              0.8888888888888888,
              "#fdca26"
             ],
             [
              1,
              "#f0f921"
             ]
            ],
            "type": "surface"
           }
          ],
          "table": [
           {
            "cells": {
             "fill": {
              "color": "#506784"
             },
             "line": {
              "color": "rgb(17,17,17)"
             }
            },
            "header": {
             "fill": {
              "color": "#2a3f5f"
             },
             "line": {
              "color": "rgb(17,17,17)"
             }
            },
            "type": "table"
           }
          ]
         },
         "layout": {
          "annotationdefaults": {
           "arrowcolor": "#f2f5fa",
           "arrowhead": 0,
           "arrowwidth": 1
          },
          "autotypenumbers": "strict",
          "coloraxis": {
           "colorbar": {
            "outlinewidth": 0,
            "ticks": ""
           }
          },
          "colorscale": {
           "diverging": [
            [
             0,
             "#8e0152"
            ],
            [
             0.1,
             "#c51b7d"
            ],
            [
             0.2,
             "#de77ae"
            ],
            [
             0.3,
             "#f1b6da"
            ],
            [
             0.4,
             "#fde0ef"
            ],
            [
             0.5,
             "#f7f7f7"
            ],
            [
             0.6,
             "#e6f5d0"
            ],
            [
             0.7,
             "#b8e186"
            ],
            [
             0.8,
             "#7fbc41"
            ],
            [
             0.9,
             "#4d9221"
            ],
            [
             1,
             "#276419"
            ]
           ],
           "sequential": [
            [
             0,
             "#0d0887"
            ],
            [
             0.1111111111111111,
             "#46039f"
            ],
            [
             0.2222222222222222,
             "#7201a8"
            ],
            [
             0.3333333333333333,
             "#9c179e"
            ],
            [
             0.4444444444444444,
             "#bd3786"
            ],
            [
             0.5555555555555556,
             "#d8576b"
            ],
            [
             0.6666666666666666,
             "#ed7953"
            ],
            [
             0.7777777777777778,
             "#fb9f3a"
            ],
            [
             0.8888888888888888,
             "#fdca26"
            ],
            [
             1,
             "#f0f921"
            ]
           ],
           "sequentialminus": [
            [
             0,
             "#0d0887"
            ],
            [
             0.1111111111111111,
             "#46039f"
            ],
            [
             0.2222222222222222,
             "#7201a8"
            ],
            [
             0.3333333333333333,
             "#9c179e"
            ],
            [
             0.4444444444444444,
             "#bd3786"
            ],
            [
             0.5555555555555556,
             "#d8576b"
            ],
            [
             0.6666666666666666,
             "#ed7953"
            ],
            [
             0.7777777777777778,
             "#fb9f3a"
            ],
            [
             0.8888888888888888,
             "#fdca26"
            ],
            [
             1,
             "#f0f921"
            ]
           ]
          },
          "colorway": [
           "#636efa",
           "#EF553B",
           "#00cc96",
           "#ab63fa",
           "#FFA15A",
           "#19d3f3",
           "#FF6692",
           "#B6E880",
           "#FF97FF",
           "#FECB52"
          ],
          "font": {
           "color": "#f2f5fa"
          },
          "geo": {
           "bgcolor": "rgb(17,17,17)",
           "lakecolor": "rgb(17,17,17)",
           "landcolor": "rgb(17,17,17)",
           "showlakes": true,
           "showland": true,
           "subunitcolor": "#506784"
          },
          "hoverlabel": {
           "align": "left"
          },
          "hovermode": "closest",
          "mapbox": {
           "style": "dark"
          },
          "paper_bgcolor": "rgb(17,17,17)",
          "plot_bgcolor": "rgb(17,17,17)",
          "polar": {
           "angularaxis": {
            "gridcolor": "#506784",
            "linecolor": "#506784",
            "ticks": ""
           },
           "bgcolor": "rgb(17,17,17)",
           "radialaxis": {
            "gridcolor": "#506784",
            "linecolor": "#506784",
            "ticks": ""
           }
          },
          "scene": {
           "xaxis": {
            "backgroundcolor": "rgb(17,17,17)",
            "gridcolor": "#506784",
            "gridwidth": 2,
            "linecolor": "#506784",
            "showbackground": true,
            "ticks": "",
            "zerolinecolor": "#C8D4E3"
           },
           "yaxis": {
            "backgroundcolor": "rgb(17,17,17)",
            "gridcolor": "#506784",
            "gridwidth": 2,
            "linecolor": "#506784",
            "showbackground": true,
            "ticks": "",
            "zerolinecolor": "#C8D4E3"
           },
           "zaxis": {
            "backgroundcolor": "rgb(17,17,17)",
            "gridcolor": "#506784",
            "gridwidth": 2,
            "linecolor": "#506784",
            "showbackground": true,
            "ticks": "",
            "zerolinecolor": "#C8D4E3"
           }
          },
          "shapedefaults": {
           "line": {
            "color": "#f2f5fa"
           }
          },
          "sliderdefaults": {
           "bgcolor": "#C8D4E3",
           "bordercolor": "rgb(17,17,17)",
           "borderwidth": 1,
           "tickwidth": 0
          },
          "ternary": {
           "aaxis": {
            "gridcolor": "#506784",
            "linecolor": "#506784",
            "ticks": ""
           },
           "baxis": {
            "gridcolor": "#506784",
            "linecolor": "#506784",
            "ticks": ""
           },
           "bgcolor": "rgb(17,17,17)",
           "caxis": {
            "gridcolor": "#506784",
            "linecolor": "#506784",
            "ticks": ""
           }
          },
          "title": {
           "x": 0.05
          },
          "updatemenudefaults": {
           "bgcolor": "#506784",
           "borderwidth": 0
          },
          "xaxis": {
           "automargin": true,
           "gridcolor": "#283442",
           "linecolor": "#506784",
           "ticks": "",
           "title": {
            "standoff": 15
           },
           "zerolinecolor": "#283442",
           "zerolinewidth": 2
          },
          "yaxis": {
           "automargin": true,
           "gridcolor": "#283442",
           "linecolor": "#506784",
           "ticks": "",
           "title": {
            "standoff": 15
           },
           "zerolinecolor": "#283442",
           "zerolinewidth": 2
          }
         }
        },
        "title": {
         "text": "Top 50 Unique Words"
        },
        "width": 500
       }
      }
     },
     "metadata": {},
     "output_type": "display_data"
    }
   ],
   "source": [
    "treemap(US_2022_lyrics)"
   ]
  },
  {
   "cell_type": "code",
   "execution_count": 9,
   "metadata": {},
   "outputs": [
    {
     "data": {
      "application/vnd.plotly.v1+json": {
       "config": {
        "plotlyServerURL": "https://plot.ly"
       },
       "data": [
        {
         "hovertemplate": "<b>%{label} </b> <br> Count: %{value}",
         "labels": [
          "leave",
          "low",
          "bad",
          "lose",
          "bitch",
          "hard",
          "die",
          "stop",
          "cry",
          "hate",
          "miss",
          "fire",
          "kill",
          "dead",
          "wrong",
          "drop",
          "pain",
          "pay",
          "forget",
          "damn",
          "ass",
          "crazy",
          "cut",
          "hell",
          "hurt",
          "fight",
          "shoot",
          "death",
          "gun",
          "fear",
          "hide",
          "sin",
          "problem",
          "shake",
          "mad",
          "war",
          "waste",
          "block",
          "fool",
          "sad",
          "sick",
          "trap",
          "lonely",
          "dirty",
          "trouble",
          "worry",
          "swear",
          "ghost",
          "dick",
          "fake"
         ],
         "marker": {
          "colors": [
           2920,
           2817,
           2200,
           2189,
           1950,
           1851,
           1843,
           1770,
           1301,
           1288,
           1274,
           1266,
           1233,
           1226,
           1209,
           1199,
           1149,
           1126,
           1109,
           1080,
           1014,
           1000,
           998,
           992,
           963,
           959,
           907,
           860,
           841,
           826,
           826,
           824,
           795,
           783,
           781,
           778,
           701,
           692,
           663,
           629,
           602,
           601,
           594,
           590,
           571,
           567,
           565,
           552,
           550,
           550
          ],
          "colorscale": [
           [
            0,
            "rgb(255, 198, 196)"
           ],
           [
            0.16666666666666666,
            "rgb(244, 163, 168)"
           ],
           [
            0.3333333333333333,
            "rgb(227, 129, 145)"
           ],
           [
            0.5,
            "rgb(204, 96, 125)"
           ],
           [
            0.6666666666666666,
            "rgb(173, 70, 108)"
           ],
           [
            0.8333333333333334,
            "rgb(139, 48, 88)"
           ],
           [
            1,
            "rgb(103, 32, 68)"
           ]
          ]
         },
         "name": "",
         "parents": [
          "",
          "",
          "",
          "",
          "",
          "",
          "",
          "",
          "",
          "",
          "",
          "",
          "",
          "",
          "",
          "",
          "",
          "",
          "",
          "",
          "",
          "",
          "",
          "",
          "",
          "",
          "",
          "",
          "",
          "",
          "",
          "",
          "",
          "",
          "",
          "",
          "",
          "",
          "",
          "",
          "",
          "",
          "",
          "",
          "",
          "",
          "",
          "",
          "",
          ""
         ],
         "type": "treemap",
         "values": [
          2920,
          2817,
          2200,
          2189,
          1950,
          1851,
          1843,
          1770,
          1301,
          1288,
          1274,
          1266,
          1233,
          1226,
          1209,
          1199,
          1149,
          1126,
          1109,
          1080,
          1014,
          1000,
          998,
          992,
          963,
          959,
          907,
          860,
          841,
          826,
          826,
          824,
          795,
          783,
          781,
          778,
          701,
          692,
          663,
          629,
          602,
          601,
          594,
          590,
          571,
          567,
          565,
          552,
          550,
          550
         ]
        }
       ],
       "layout": {
        "autosize": false,
        "height": 500,
        "template": {
         "data": {
          "bar": [
           {
            "error_x": {
             "color": "#f2f5fa"
            },
            "error_y": {
             "color": "#f2f5fa"
            },
            "marker": {
             "line": {
              "color": "rgb(17,17,17)",
              "width": 0.5
             },
             "pattern": {
              "fillmode": "overlay",
              "size": 10,
              "solidity": 0.2
             }
            },
            "type": "bar"
           }
          ],
          "barpolar": [
           {
            "marker": {
             "line": {
              "color": "rgb(17,17,17)",
              "width": 0.5
             },
             "pattern": {
              "fillmode": "overlay",
              "size": 10,
              "solidity": 0.2
             }
            },
            "type": "barpolar"
           }
          ],
          "carpet": [
           {
            "aaxis": {
             "endlinecolor": "#A2B1C6",
             "gridcolor": "#506784",
             "linecolor": "#506784",
             "minorgridcolor": "#506784",
             "startlinecolor": "#A2B1C6"
            },
            "baxis": {
             "endlinecolor": "#A2B1C6",
             "gridcolor": "#506784",
             "linecolor": "#506784",
             "minorgridcolor": "#506784",
             "startlinecolor": "#A2B1C6"
            },
            "type": "carpet"
           }
          ],
          "choropleth": [
           {
            "colorbar": {
             "outlinewidth": 0,
             "ticks": ""
            },
            "type": "choropleth"
           }
          ],
          "contour": [
           {
            "colorbar": {
             "outlinewidth": 0,
             "ticks": ""
            },
            "colorscale": [
             [
              0,
              "#0d0887"
             ],
             [
              0.1111111111111111,
              "#46039f"
             ],
             [
              0.2222222222222222,
              "#7201a8"
             ],
             [
              0.3333333333333333,
              "#9c179e"
             ],
             [
              0.4444444444444444,
              "#bd3786"
             ],
             [
              0.5555555555555556,
              "#d8576b"
             ],
             [
              0.6666666666666666,
              "#ed7953"
             ],
             [
              0.7777777777777778,
              "#fb9f3a"
             ],
             [
              0.8888888888888888,
              "#fdca26"
             ],
             [
              1,
              "#f0f921"
             ]
            ],
            "type": "contour"
           }
          ],
          "contourcarpet": [
           {
            "colorbar": {
             "outlinewidth": 0,
             "ticks": ""
            },
            "type": "contourcarpet"
           }
          ],
          "heatmap": [
           {
            "colorbar": {
             "outlinewidth": 0,
             "ticks": ""
            },
            "colorscale": [
             [
              0,
              "#0d0887"
             ],
             [
              0.1111111111111111,
              "#46039f"
             ],
             [
              0.2222222222222222,
              "#7201a8"
             ],
             [
              0.3333333333333333,
              "#9c179e"
             ],
             [
              0.4444444444444444,
              "#bd3786"
             ],
             [
              0.5555555555555556,
              "#d8576b"
             ],
             [
              0.6666666666666666,
              "#ed7953"
             ],
             [
              0.7777777777777778,
              "#fb9f3a"
             ],
             [
              0.8888888888888888,
              "#fdca26"
             ],
             [
              1,
              "#f0f921"
             ]
            ],
            "type": "heatmap"
           }
          ],
          "heatmapgl": [
           {
            "colorbar": {
             "outlinewidth": 0,
             "ticks": ""
            },
            "colorscale": [
             [
              0,
              "#0d0887"
             ],
             [
              0.1111111111111111,
              "#46039f"
             ],
             [
              0.2222222222222222,
              "#7201a8"
             ],
             [
              0.3333333333333333,
              "#9c179e"
             ],
             [
              0.4444444444444444,
              "#bd3786"
             ],
             [
              0.5555555555555556,
              "#d8576b"
             ],
             [
              0.6666666666666666,
              "#ed7953"
             ],
             [
              0.7777777777777778,
              "#fb9f3a"
             ],
             [
              0.8888888888888888,
              "#fdca26"
             ],
             [
              1,
              "#f0f921"
             ]
            ],
            "type": "heatmapgl"
           }
          ],
          "histogram": [
           {
            "marker": {
             "pattern": {
              "fillmode": "overlay",
              "size": 10,
              "solidity": 0.2
             }
            },
            "type": "histogram"
           }
          ],
          "histogram2d": [
           {
            "colorbar": {
             "outlinewidth": 0,
             "ticks": ""
            },
            "colorscale": [
             [
              0,
              "#0d0887"
             ],
             [
              0.1111111111111111,
              "#46039f"
             ],
             [
              0.2222222222222222,
              "#7201a8"
             ],
             [
              0.3333333333333333,
              "#9c179e"
             ],
             [
              0.4444444444444444,
              "#bd3786"
             ],
             [
              0.5555555555555556,
              "#d8576b"
             ],
             [
              0.6666666666666666,
              "#ed7953"
             ],
             [
              0.7777777777777778,
              "#fb9f3a"
             ],
             [
              0.8888888888888888,
              "#fdca26"
             ],
             [
              1,
              "#f0f921"
             ]
            ],
            "type": "histogram2d"
           }
          ],
          "histogram2dcontour": [
           {
            "colorbar": {
             "outlinewidth": 0,
             "ticks": ""
            },
            "colorscale": [
             [
              0,
              "#0d0887"
             ],
             [
              0.1111111111111111,
              "#46039f"
             ],
             [
              0.2222222222222222,
              "#7201a8"
             ],
             [
              0.3333333333333333,
              "#9c179e"
             ],
             [
              0.4444444444444444,
              "#bd3786"
             ],
             [
              0.5555555555555556,
              "#d8576b"
             ],
             [
              0.6666666666666666,
              "#ed7953"
             ],
             [
              0.7777777777777778,
              "#fb9f3a"
             ],
             [
              0.8888888888888888,
              "#fdca26"
             ],
             [
              1,
              "#f0f921"
             ]
            ],
            "type": "histogram2dcontour"
           }
          ],
          "mesh3d": [
           {
            "colorbar": {
             "outlinewidth": 0,
             "ticks": ""
            },
            "type": "mesh3d"
           }
          ],
          "parcoords": [
           {
            "line": {
             "colorbar": {
              "outlinewidth": 0,
              "ticks": ""
             }
            },
            "type": "parcoords"
           }
          ],
          "pie": [
           {
            "automargin": true,
            "type": "pie"
           }
          ],
          "scatter": [
           {
            "marker": {
             "line": {
              "color": "#283442"
             }
            },
            "type": "scatter"
           }
          ],
          "scatter3d": [
           {
            "line": {
             "colorbar": {
              "outlinewidth": 0,
              "ticks": ""
             }
            },
            "marker": {
             "colorbar": {
              "outlinewidth": 0,
              "ticks": ""
             }
            },
            "type": "scatter3d"
           }
          ],
          "scattercarpet": [
           {
            "marker": {
             "colorbar": {
              "outlinewidth": 0,
              "ticks": ""
             }
            },
            "type": "scattercarpet"
           }
          ],
          "scattergeo": [
           {
            "marker": {
             "colorbar": {
              "outlinewidth": 0,
              "ticks": ""
             }
            },
            "type": "scattergeo"
           }
          ],
          "scattergl": [
           {
            "marker": {
             "line": {
              "color": "#283442"
             }
            },
            "type": "scattergl"
           }
          ],
          "scattermapbox": [
           {
            "marker": {
             "colorbar": {
              "outlinewidth": 0,
              "ticks": ""
             }
            },
            "type": "scattermapbox"
           }
          ],
          "scatterpolar": [
           {
            "marker": {
             "colorbar": {
              "outlinewidth": 0,
              "ticks": ""
             }
            },
            "type": "scatterpolar"
           }
          ],
          "scatterpolargl": [
           {
            "marker": {
             "colorbar": {
              "outlinewidth": 0,
              "ticks": ""
             }
            },
            "type": "scatterpolargl"
           }
          ],
          "scatterternary": [
           {
            "marker": {
             "colorbar": {
              "outlinewidth": 0,
              "ticks": ""
             }
            },
            "type": "scatterternary"
           }
          ],
          "surface": [
           {
            "colorbar": {
             "outlinewidth": 0,
             "ticks": ""
            },
            "colorscale": [
             [
              0,
              "#0d0887"
             ],
             [
              0.1111111111111111,
              "#46039f"
             ],
             [
              0.2222222222222222,
              "#7201a8"
             ],
             [
              0.3333333333333333,
              "#9c179e"
             ],
             [
              0.4444444444444444,
              "#bd3786"
             ],
             [
              0.5555555555555556,
              "#d8576b"
             ],
             [
              0.6666666666666666,
              "#ed7953"
             ],
             [
              0.7777777777777778,
              "#fb9f3a"
             ],
             [
              0.8888888888888888,
              "#fdca26"
             ],
             [
              1,
              "#f0f921"
             ]
            ],
            "type": "surface"
           }
          ],
          "table": [
           {
            "cells": {
             "fill": {
              "color": "#506784"
             },
             "line": {
              "color": "rgb(17,17,17)"
             }
            },
            "header": {
             "fill": {
              "color": "#2a3f5f"
             },
             "line": {
              "color": "rgb(17,17,17)"
             }
            },
            "type": "table"
           }
          ]
         },
         "layout": {
          "annotationdefaults": {
           "arrowcolor": "#f2f5fa",
           "arrowhead": 0,
           "arrowwidth": 1
          },
          "autotypenumbers": "strict",
          "coloraxis": {
           "colorbar": {
            "outlinewidth": 0,
            "ticks": ""
           }
          },
          "colorscale": {
           "diverging": [
            [
             0,
             "#8e0152"
            ],
            [
             0.1,
             "#c51b7d"
            ],
            [
             0.2,
             "#de77ae"
            ],
            [
             0.3,
             "#f1b6da"
            ],
            [
             0.4,
             "#fde0ef"
            ],
            [
             0.5,
             "#f7f7f7"
            ],
            [
             0.6,
             "#e6f5d0"
            ],
            [
             0.7,
             "#b8e186"
            ],
            [
             0.8,
             "#7fbc41"
            ],
            [
             0.9,
             "#4d9221"
            ],
            [
             1,
             "#276419"
            ]
           ],
           "sequential": [
            [
             0,
             "#0d0887"
            ],
            [
             0.1111111111111111,
             "#46039f"
            ],
            [
             0.2222222222222222,
             "#7201a8"
            ],
            [
             0.3333333333333333,
             "#9c179e"
            ],
            [
             0.4444444444444444,
             "#bd3786"
            ],
            [
             0.5555555555555556,
             "#d8576b"
            ],
            [
             0.6666666666666666,
             "#ed7953"
            ],
            [
             0.7777777777777778,
             "#fb9f3a"
            ],
            [
             0.8888888888888888,
             "#fdca26"
            ],
            [
             1,
             "#f0f921"
            ]
           ],
           "sequentialminus": [
            [
             0,
             "#0d0887"
            ],
            [
             0.1111111111111111,
             "#46039f"
            ],
            [
             0.2222222222222222,
             "#7201a8"
            ],
            [
             0.3333333333333333,
             "#9c179e"
            ],
            [
             0.4444444444444444,
             "#bd3786"
            ],
            [
             0.5555555555555556,
             "#d8576b"
            ],
            [
             0.6666666666666666,
             "#ed7953"
            ],
            [
             0.7777777777777778,
             "#fb9f3a"
            ],
            [
             0.8888888888888888,
             "#fdca26"
            ],
            [
             1,
             "#f0f921"
            ]
           ]
          },
          "colorway": [
           "#636efa",
           "#EF553B",
           "#00cc96",
           "#ab63fa",
           "#FFA15A",
           "#19d3f3",
           "#FF6692",
           "#B6E880",
           "#FF97FF",
           "#FECB52"
          ],
          "font": {
           "color": "#f2f5fa"
          },
          "geo": {
           "bgcolor": "rgb(17,17,17)",
           "lakecolor": "rgb(17,17,17)",
           "landcolor": "rgb(17,17,17)",
           "showlakes": true,
           "showland": true,
           "subunitcolor": "#506784"
          },
          "hoverlabel": {
           "align": "left"
          },
          "hovermode": "closest",
          "mapbox": {
           "style": "dark"
          },
          "paper_bgcolor": "rgb(17,17,17)",
          "plot_bgcolor": "rgb(17,17,17)",
          "polar": {
           "angularaxis": {
            "gridcolor": "#506784",
            "linecolor": "#506784",
            "ticks": ""
           },
           "bgcolor": "rgb(17,17,17)",
           "radialaxis": {
            "gridcolor": "#506784",
            "linecolor": "#506784",
            "ticks": ""
           }
          },
          "scene": {
           "xaxis": {
            "backgroundcolor": "rgb(17,17,17)",
            "gridcolor": "#506784",
            "gridwidth": 2,
            "linecolor": "#506784",
            "showbackground": true,
            "ticks": "",
            "zerolinecolor": "#C8D4E3"
           },
           "yaxis": {
            "backgroundcolor": "rgb(17,17,17)",
            "gridcolor": "#506784",
            "gridwidth": 2,
            "linecolor": "#506784",
            "showbackground": true,
            "ticks": "",
            "zerolinecolor": "#C8D4E3"
           },
           "zaxis": {
            "backgroundcolor": "rgb(17,17,17)",
            "gridcolor": "#506784",
            "gridwidth": 2,
            "linecolor": "#506784",
            "showbackground": true,
            "ticks": "",
            "zerolinecolor": "#C8D4E3"
           }
          },
          "shapedefaults": {
           "line": {
            "color": "#f2f5fa"
           }
          },
          "sliderdefaults": {
           "bgcolor": "#C8D4E3",
           "bordercolor": "rgb(17,17,17)",
           "borderwidth": 1,
           "tickwidth": 0
          },
          "ternary": {
           "aaxis": {
            "gridcolor": "#506784",
            "linecolor": "#506784",
            "ticks": ""
           },
           "baxis": {
            "gridcolor": "#506784",
            "linecolor": "#506784",
            "ticks": ""
           },
           "bgcolor": "rgb(17,17,17)",
           "caxis": {
            "gridcolor": "#506784",
            "linecolor": "#506784",
            "ticks": ""
           }
          },
          "title": {
           "x": 0.05
          },
          "updatemenudefaults": {
           "bgcolor": "#506784",
           "borderwidth": 0
          },
          "xaxis": {
           "automargin": true,
           "gridcolor": "#283442",
           "linecolor": "#506784",
           "ticks": "",
           "title": {
            "standoff": 15
           },
           "zerolinecolor": "#283442",
           "zerolinewidth": 2
          },
          "yaxis": {
           "automargin": true,
           "gridcolor": "#283442",
           "linecolor": "#506784",
           "ticks": "",
           "title": {
            "standoff": 15
           },
           "zerolinecolor": "#283442",
           "zerolinewidth": 2
          }
         }
        },
        "title": {
         "text": "Top 50 Negative Words"
        },
        "width": 500
       }
      }
     },
     "metadata": {},
     "output_type": "display_data"
    }
   ],
   "source": [
    "neg_sent_treemap(US_2022_lyrics)"
   ]
  },
  {
   "cell_type": "code",
   "execution_count": 10,
   "metadata": {},
   "outputs": [
    {
     "data": {
      "application/vnd.plotly.v1+json": {
       "config": {
        "plotlyServerURL": "https://plot.ly"
       },
       "data": [
        {
         "hovertemplate": "<b>%{label} </b> <br> Count: %{value}",
         "labels": [
          "love",
          "good",
          "win",
          "play",
          "hand",
          "god",
          "friend",
          "dream",
          "hope",
          "free",
          "care",
          "party",
          "great",
          "true",
          "feeling",
          "kiss",
          "rich",
          "matter",
          "chance",
          "smile",
          "fine",
          "truth",
          "sweet",
          "save",
          "ready",
          "easy",
          "pretty",
          "happy",
          "kind",
          "trust",
          "cool",
          "number",
          "alive",
          "straight",
          "strong",
          "heaven",
          "nice",
          "laugh",
          "beautiful",
          "perfect",
          "promise",
          "diamond",
          "peace",
          "pray",
          "reach",
          "clear",
          "worth",
          "alright",
          "clean",
          "fun"
         ],
         "marker": {
          "colors": [
           4645,
           3143,
           2381,
           1942,
           1913,
           1845,
           1843,
           1717,
           1435,
           1409,
           1193,
           1055,
           1048,
           1037,
           1036,
           1021,
           977,
           966,
           954,
           953,
           911,
           910,
           874,
           871,
           869,
           865,
           861,
           834,
           830,
           830,
           775,
           770,
           732,
           729,
           722,
           705,
           691,
           689,
           689,
           679,
           673,
           663,
           653,
           648,
           644,
           616,
           596,
           590,
           583,
           571
          ],
          "colorscale": [
           [
            0,
            "rgb(36, 86, 104)"
           ],
           [
            0.16666666666666666,
            "rgb(15, 114, 121)"
           ],
           [
            0.3333333333333333,
            "rgb(13, 143, 129)"
           ],
           [
            0.5,
            "rgb(57, 171, 126)"
           ],
           [
            0.6666666666666666,
            "rgb(110, 197, 116)"
           ],
           [
            0.8333333333333334,
            "rgb(169, 220, 103)"
           ],
           [
            1,
            "rgb(237, 239, 93)"
           ]
          ]
         },
         "name": "",
         "parents": [
          "",
          "",
          "",
          "",
          "",
          "",
          "",
          "",
          "",
          "",
          "",
          "",
          "",
          "",
          "",
          "",
          "",
          "",
          "",
          "",
          "",
          "",
          "",
          "",
          "",
          "",
          "",
          "",
          "",
          "",
          "",
          "",
          "",
          "",
          "",
          "",
          "",
          "",
          "",
          "",
          "",
          "",
          "",
          "",
          "",
          "",
          "",
          "",
          "",
          ""
         ],
         "type": "treemap",
         "values": [
          4645,
          3143,
          2381,
          1942,
          1913,
          1845,
          1843,
          1717,
          1435,
          1409,
          1193,
          1055,
          1048,
          1037,
          1036,
          1021,
          977,
          966,
          954,
          953,
          911,
          910,
          874,
          871,
          869,
          865,
          861,
          834,
          830,
          830,
          775,
          770,
          732,
          729,
          722,
          705,
          691,
          689,
          689,
          679,
          673,
          663,
          653,
          648,
          644,
          616,
          596,
          590,
          583,
          571
         ]
        }
       ],
       "layout": {
        "autosize": false,
        "height": 500,
        "template": {
         "data": {
          "bar": [
           {
            "error_x": {
             "color": "#f2f5fa"
            },
            "error_y": {
             "color": "#f2f5fa"
            },
            "marker": {
             "line": {
              "color": "rgb(17,17,17)",
              "width": 0.5
             },
             "pattern": {
              "fillmode": "overlay",
              "size": 10,
              "solidity": 0.2
             }
            },
            "type": "bar"
           }
          ],
          "barpolar": [
           {
            "marker": {
             "line": {
              "color": "rgb(17,17,17)",
              "width": 0.5
             },
             "pattern": {
              "fillmode": "overlay",
              "size": 10,
              "solidity": 0.2
             }
            },
            "type": "barpolar"
           }
          ],
          "carpet": [
           {
            "aaxis": {
             "endlinecolor": "#A2B1C6",
             "gridcolor": "#506784",
             "linecolor": "#506784",
             "minorgridcolor": "#506784",
             "startlinecolor": "#A2B1C6"
            },
            "baxis": {
             "endlinecolor": "#A2B1C6",
             "gridcolor": "#506784",
             "linecolor": "#506784",
             "minorgridcolor": "#506784",
             "startlinecolor": "#A2B1C6"
            },
            "type": "carpet"
           }
          ],
          "choropleth": [
           {
            "colorbar": {
             "outlinewidth": 0,
             "ticks": ""
            },
            "type": "choropleth"
           }
          ],
          "contour": [
           {
            "colorbar": {
             "outlinewidth": 0,
             "ticks": ""
            },
            "colorscale": [
             [
              0,
              "#0d0887"
             ],
             [
              0.1111111111111111,
              "#46039f"
             ],
             [
              0.2222222222222222,
              "#7201a8"
             ],
             [
              0.3333333333333333,
              "#9c179e"
             ],
             [
              0.4444444444444444,
              "#bd3786"
             ],
             [
              0.5555555555555556,
              "#d8576b"
             ],
             [
              0.6666666666666666,
              "#ed7953"
             ],
             [
              0.7777777777777778,
              "#fb9f3a"
             ],
             [
              0.8888888888888888,
              "#fdca26"
             ],
             [
              1,
              "#f0f921"
             ]
            ],
            "type": "contour"
           }
          ],
          "contourcarpet": [
           {
            "colorbar": {
             "outlinewidth": 0,
             "ticks": ""
            },
            "type": "contourcarpet"
           }
          ],
          "heatmap": [
           {
            "colorbar": {
             "outlinewidth": 0,
             "ticks": ""
            },
            "colorscale": [
             [
              0,
              "#0d0887"
             ],
             [
              0.1111111111111111,
              "#46039f"
             ],
             [
              0.2222222222222222,
              "#7201a8"
             ],
             [
              0.3333333333333333,
              "#9c179e"
             ],
             [
              0.4444444444444444,
              "#bd3786"
             ],
             [
              0.5555555555555556,
              "#d8576b"
             ],
             [
              0.6666666666666666,
              "#ed7953"
             ],
             [
              0.7777777777777778,
              "#fb9f3a"
             ],
             [
              0.8888888888888888,
              "#fdca26"
             ],
             [
              1,
              "#f0f921"
             ]
            ],
            "type": "heatmap"
           }
          ],
          "heatmapgl": [
           {
            "colorbar": {
             "outlinewidth": 0,
             "ticks": ""
            },
            "colorscale": [
             [
              0,
              "#0d0887"
             ],
             [
              0.1111111111111111,
              "#46039f"
             ],
             [
              0.2222222222222222,
              "#7201a8"
             ],
             [
              0.3333333333333333,
              "#9c179e"
             ],
             [
              0.4444444444444444,
              "#bd3786"
             ],
             [
              0.5555555555555556,
              "#d8576b"
             ],
             [
              0.6666666666666666,
              "#ed7953"
             ],
             [
              0.7777777777777778,
              "#fb9f3a"
             ],
             [
              0.8888888888888888,
              "#fdca26"
             ],
             [
              1,
              "#f0f921"
             ]
            ],
            "type": "heatmapgl"
           }
          ],
          "histogram": [
           {
            "marker": {
             "pattern": {
              "fillmode": "overlay",
              "size": 10,
              "solidity": 0.2
             }
            },
            "type": "histogram"
           }
          ],
          "histogram2d": [
           {
            "colorbar": {
             "outlinewidth": 0,
             "ticks": ""
            },
            "colorscale": [
             [
              0,
              "#0d0887"
             ],
             [
              0.1111111111111111,
              "#46039f"
             ],
             [
              0.2222222222222222,
              "#7201a8"
             ],
             [
              0.3333333333333333,
              "#9c179e"
             ],
             [
              0.4444444444444444,
              "#bd3786"
             ],
             [
              0.5555555555555556,
              "#d8576b"
             ],
             [
              0.6666666666666666,
              "#ed7953"
             ],
             [
              0.7777777777777778,
              "#fb9f3a"
             ],
             [
              0.8888888888888888,
              "#fdca26"
             ],
             [
              1,
              "#f0f921"
             ]
            ],
            "type": "histogram2d"
           }
          ],
          "histogram2dcontour": [
           {
            "colorbar": {
             "outlinewidth": 0,
             "ticks": ""
            },
            "colorscale": [
             [
              0,
              "#0d0887"
             ],
             [
              0.1111111111111111,
              "#46039f"
             ],
             [
              0.2222222222222222,
              "#7201a8"
             ],
             [
              0.3333333333333333,
              "#9c179e"
             ],
             [
              0.4444444444444444,
              "#bd3786"
             ],
             [
              0.5555555555555556,
              "#d8576b"
             ],
             [
              0.6666666666666666,
              "#ed7953"
             ],
             [
              0.7777777777777778,
              "#fb9f3a"
             ],
             [
              0.8888888888888888,
              "#fdca26"
             ],
             [
              1,
              "#f0f921"
             ]
            ],
            "type": "histogram2dcontour"
           }
          ],
          "mesh3d": [
           {
            "colorbar": {
             "outlinewidth": 0,
             "ticks": ""
            },
            "type": "mesh3d"
           }
          ],
          "parcoords": [
           {
            "line": {
             "colorbar": {
              "outlinewidth": 0,
              "ticks": ""
             }
            },
            "type": "parcoords"
           }
          ],
          "pie": [
           {
            "automargin": true,
            "type": "pie"
           }
          ],
          "scatter": [
           {
            "marker": {
             "line": {
              "color": "#283442"
             }
            },
            "type": "scatter"
           }
          ],
          "scatter3d": [
           {
            "line": {
             "colorbar": {
              "outlinewidth": 0,
              "ticks": ""
             }
            },
            "marker": {
             "colorbar": {
              "outlinewidth": 0,
              "ticks": ""
             }
            },
            "type": "scatter3d"
           }
          ],
          "scattercarpet": [
           {
            "marker": {
             "colorbar": {
              "outlinewidth": 0,
              "ticks": ""
             }
            },
            "type": "scattercarpet"
           }
          ],
          "scattergeo": [
           {
            "marker": {
             "colorbar": {
              "outlinewidth": 0,
              "ticks": ""
             }
            },
            "type": "scattergeo"
           }
          ],
          "scattergl": [
           {
            "marker": {
             "line": {
              "color": "#283442"
             }
            },
            "type": "scattergl"
           }
          ],
          "scattermapbox": [
           {
            "marker": {
             "colorbar": {
              "outlinewidth": 0,
              "ticks": ""
             }
            },
            "type": "scattermapbox"
           }
          ],
          "scatterpolar": [
           {
            "marker": {
             "colorbar": {
              "outlinewidth": 0,
              "ticks": ""
             }
            },
            "type": "scatterpolar"
           }
          ],
          "scatterpolargl": [
           {
            "marker": {
             "colorbar": {
              "outlinewidth": 0,
              "ticks": ""
             }
            },
            "type": "scatterpolargl"
           }
          ],
          "scatterternary": [
           {
            "marker": {
             "colorbar": {
              "outlinewidth": 0,
              "ticks": ""
             }
            },
            "type": "scatterternary"
           }
          ],
          "surface": [
           {
            "colorbar": {
             "outlinewidth": 0,
             "ticks": ""
            },
            "colorscale": [
             [
              0,
              "#0d0887"
             ],
             [
              0.1111111111111111,
              "#46039f"
             ],
             [
              0.2222222222222222,
              "#7201a8"
             ],
             [
              0.3333333333333333,
              "#9c179e"
             ],
             [
              0.4444444444444444,
              "#bd3786"
             ],
             [
              0.5555555555555556,
              "#d8576b"
             ],
             [
              0.6666666666666666,
              "#ed7953"
             ],
             [
              0.7777777777777778,
              "#fb9f3a"
             ],
             [
              0.8888888888888888,
              "#fdca26"
             ],
             [
              1,
              "#f0f921"
             ]
            ],
            "type": "surface"
           }
          ],
          "table": [
           {
            "cells": {
             "fill": {
              "color": "#506784"
             },
             "line": {
              "color": "rgb(17,17,17)"
             }
            },
            "header": {
             "fill": {
              "color": "#2a3f5f"
             },
             "line": {
              "color": "rgb(17,17,17)"
             }
            },
            "type": "table"
           }
          ]
         },
         "layout": {
          "annotationdefaults": {
           "arrowcolor": "#f2f5fa",
           "arrowhead": 0,
           "arrowwidth": 1
          },
          "autotypenumbers": "strict",
          "coloraxis": {
           "colorbar": {
            "outlinewidth": 0,
            "ticks": ""
           }
          },
          "colorscale": {
           "diverging": [
            [
             0,
             "#8e0152"
            ],
            [
             0.1,
             "#c51b7d"
            ],
            [
             0.2,
             "#de77ae"
            ],
            [
             0.3,
             "#f1b6da"
            ],
            [
             0.4,
             "#fde0ef"
            ],
            [
             0.5,
             "#f7f7f7"
            ],
            [
             0.6,
             "#e6f5d0"
            ],
            [
             0.7,
             "#b8e186"
            ],
            [
             0.8,
             "#7fbc41"
            ],
            [
             0.9,
             "#4d9221"
            ],
            [
             1,
             "#276419"
            ]
           ],
           "sequential": [
            [
             0,
             "#0d0887"
            ],
            [
             0.1111111111111111,
             "#46039f"
            ],
            [
             0.2222222222222222,
             "#7201a8"
            ],
            [
             0.3333333333333333,
             "#9c179e"
            ],
            [
             0.4444444444444444,
             "#bd3786"
            ],
            [
             0.5555555555555556,
             "#d8576b"
            ],
            [
             0.6666666666666666,
             "#ed7953"
            ],
            [
             0.7777777777777778,
             "#fb9f3a"
            ],
            [
             0.8888888888888888,
             "#fdca26"
            ],
            [
             1,
             "#f0f921"
            ]
           ],
           "sequentialminus": [
            [
             0,
             "#0d0887"
            ],
            [
             0.1111111111111111,
             "#46039f"
            ],
            [
             0.2222222222222222,
             "#7201a8"
            ],
            [
             0.3333333333333333,
             "#9c179e"
            ],
            [
             0.4444444444444444,
             "#bd3786"
            ],
            [
             0.5555555555555556,
             "#d8576b"
            ],
            [
             0.6666666666666666,
             "#ed7953"
            ],
            [
             0.7777777777777778,
             "#fb9f3a"
            ],
            [
             0.8888888888888888,
             "#fdca26"
            ],
            [
             1,
             "#f0f921"
            ]
           ]
          },
          "colorway": [
           "#636efa",
           "#EF553B",
           "#00cc96",
           "#ab63fa",
           "#FFA15A",
           "#19d3f3",
           "#FF6692",
           "#B6E880",
           "#FF97FF",
           "#FECB52"
          ],
          "font": {
           "color": "#f2f5fa"
          },
          "geo": {
           "bgcolor": "rgb(17,17,17)",
           "lakecolor": "rgb(17,17,17)",
           "landcolor": "rgb(17,17,17)",
           "showlakes": true,
           "showland": true,
           "subunitcolor": "#506784"
          },
          "hoverlabel": {
           "align": "left"
          },
          "hovermode": "closest",
          "mapbox": {
           "style": "dark"
          },
          "paper_bgcolor": "rgb(17,17,17)",
          "plot_bgcolor": "rgb(17,17,17)",
          "polar": {
           "angularaxis": {
            "gridcolor": "#506784",
            "linecolor": "#506784",
            "ticks": ""
           },
           "bgcolor": "rgb(17,17,17)",
           "radialaxis": {
            "gridcolor": "#506784",
            "linecolor": "#506784",
            "ticks": ""
           }
          },
          "scene": {
           "xaxis": {
            "backgroundcolor": "rgb(17,17,17)",
            "gridcolor": "#506784",
            "gridwidth": 2,
            "linecolor": "#506784",
            "showbackground": true,
            "ticks": "",
            "zerolinecolor": "#C8D4E3"
           },
           "yaxis": {
            "backgroundcolor": "rgb(17,17,17)",
            "gridcolor": "#506784",
            "gridwidth": 2,
            "linecolor": "#506784",
            "showbackground": true,
            "ticks": "",
            "zerolinecolor": "#C8D4E3"
           },
           "zaxis": {
            "backgroundcolor": "rgb(17,17,17)",
            "gridcolor": "#506784",
            "gridwidth": 2,
            "linecolor": "#506784",
            "showbackground": true,
            "ticks": "",
            "zerolinecolor": "#C8D4E3"
           }
          },
          "shapedefaults": {
           "line": {
            "color": "#f2f5fa"
           }
          },
          "sliderdefaults": {
           "bgcolor": "#C8D4E3",
           "bordercolor": "rgb(17,17,17)",
           "borderwidth": 1,
           "tickwidth": 0
          },
          "ternary": {
           "aaxis": {
            "gridcolor": "#506784",
            "linecolor": "#506784",
            "ticks": ""
           },
           "baxis": {
            "gridcolor": "#506784",
            "linecolor": "#506784",
            "ticks": ""
           },
           "bgcolor": "rgb(17,17,17)",
           "caxis": {
            "gridcolor": "#506784",
            "linecolor": "#506784",
            "ticks": ""
           }
          },
          "title": {
           "x": 0.05
          },
          "updatemenudefaults": {
           "bgcolor": "#506784",
           "borderwidth": 0
          },
          "xaxis": {
           "automargin": true,
           "gridcolor": "#283442",
           "linecolor": "#506784",
           "ticks": "",
           "title": {
            "standoff": 15
           },
           "zerolinecolor": "#283442",
           "zerolinewidth": 2
          },
          "yaxis": {
           "automargin": true,
           "gridcolor": "#283442",
           "linecolor": "#506784",
           "ticks": "",
           "title": {
            "standoff": 15
           },
           "zerolinecolor": "#283442",
           "zerolinewidth": 2
          }
         }
        },
        "title": {
         "text": "Top 50 Positive Words"
        },
        "width": 500
       }
      }
     },
     "metadata": {},
     "output_type": "display_data"
    }
   ],
   "source": [
    "pos_sent_treemap(US_2022_lyrics)"
   ]
  },
  {
   "cell_type": "code",
   "execution_count": 11,
   "metadata": {},
   "outputs": [
    {
     "name": "stdout",
     "output_type": "stream",
     "text": [
      "Sentiment scores for all words:\n",
      "       word  sentiment_score\n",
      "0     love           0.6369\n",
      "1     time           0.0000\n",
      "2     feel           0.0000\n",
      "3     baby           0.0000\n",
      "4     good           0.4404\n",
      "5     life           0.0000\n",
      "6      day           0.0000\n",
      "7      man           0.0000\n",
      "8   bridge           0.0000\n",
      "9    leave          -0.0516\n",
      "10     low          -0.2732\n",
      "11   thing           0.0000\n",
      "12   night           0.0000\n",
      "13    girl           0.0000\n",
      "14   break           0.0000\n",
      "15    mind           0.0000\n",
      "16     win           0.5859\n",
      "17     eye           0.0000\n",
      "18   heart           0.0000\n",
      "19    find           0.0000\n",
      "20     run           0.0000\n",
      "21   light           0.0000\n",
      "22     bad          -0.5423\n",
      "23   world           0.0000\n",
      "24    lose          -0.4019\n",
      "25    live           0.0000\n",
      "26    hold           0.0000\n",
      "27    long           0.0000\n",
      "28    head           0.0000\n",
      "29     big           0.0000\n",
      "30    real           0.0000\n",
      "31    talk           0.0000\n",
      "32     boy           0.0000\n",
      "33  ticket           0.0000\n",
      "34    fall           0.0000\n",
      "35    turn           0.0000\n",
      "36    hear           0.0000\n",
      "37    high           0.0000\n",
      "38   money           0.0000\n",
      "39    stay           0.0000\n",
      "40   bitch          -0.5859\n",
      "41    play           0.3400\n",
      "42    home           0.0000\n",
      "43    hand           0.4939\n",
      "44    face           0.0000\n",
      "45    hard          -0.1027\n",
      "46     god           0.2732\n",
      "47     die          -0.5994\n",
      "48  friend           0.4939\n",
      "49     lie           0.0000\n",
      "\n",
      "Sentiment scores for negative words:\n",
      "        word  sentiment_score\n",
      "0     leave          -0.0516\n",
      "1       low          -0.2732\n",
      "2       bad          -0.5423\n",
      "3      lose          -0.4019\n",
      "4     bitch          -0.5859\n",
      "5      hard          -0.1027\n",
      "6       die          -0.5994\n",
      "7      stop          -0.2960\n",
      "8       cry          -0.4767\n",
      "9      hate          -0.5719\n",
      "10     miss          -0.1531\n",
      "11     fire          -0.3400\n",
      "12     kill          -0.6908\n",
      "13     dead          -0.6486\n",
      "14    wrong          -0.4767\n",
      "15     drop          -0.2732\n",
      "16     pain          -0.5106\n",
      "17      pay          -0.1027\n",
      "18   forget          -0.2263\n",
      "19     damn          -0.4019\n",
      "20      ass          -0.5423\n",
      "21    crazy          -0.3400\n",
      "22      cut          -0.2732\n",
      "23     hell          -0.6808\n",
      "24     hurt          -0.5267\n",
      "25    fight          -0.3818\n",
      "26    shoot          -0.3400\n",
      "27    death          -0.5994\n",
      "28      gun          -0.3400\n",
      "29     fear          -0.4939\n",
      "30     hide          -0.1779\n",
      "31      sin          -0.5574\n",
      "32  problem          -0.4019\n",
      "33    shake          -0.1779\n",
      "34      mad          -0.4939\n",
      "35      war          -0.5994\n",
      "36    waste          -0.4215\n",
      "37    block          -0.4404\n",
      "38     fool          -0.4404\n",
      "39      sad          -0.4767\n",
      "40     sick          -0.5106\n",
      "41     trap          -0.3182\n",
      "42   lonely          -0.3612\n",
      "43    dirty          -0.4404\n",
      "44  trouble          -0.4019\n",
      "45    worry          -0.4404\n",
      "46    swear          -0.0516\n",
      "47    ghost          -0.3182\n",
      "48     dick          -0.5106\n",
      "49     fake          -0.4767\n",
      "\n",
      "Sentiment scores for positive words:\n",
      "          word  sentiment_score\n",
      "0        love           0.6369\n",
      "1        good           0.4404\n",
      "2         win           0.5859\n",
      "3        play           0.3400\n",
      "4        hand           0.4939\n",
      "5         god           0.2732\n",
      "6      friend           0.4939\n",
      "7       dream           0.2500\n",
      "8        hope           0.4404\n",
      "9        free           0.5106\n",
      "10       care           0.4939\n",
      "11      party           0.4019\n",
      "12      great           0.6249\n",
      "13       true           0.4215\n",
      "14    feeling           0.1280\n",
      "15       kiss           0.4215\n",
      "16       rich           0.5574\n",
      "17     matter           0.0258\n",
      "18     chance           0.2500\n",
      "19      smile           0.3612\n",
      "20       fine           0.2023\n",
      "21      truth           0.3182\n",
      "22      sweet           0.4588\n",
      "23       save           0.4939\n",
      "24      ready           0.3612\n",
      "25       easy           0.4404\n",
      "26     pretty           0.4939\n",
      "27      happy           0.5719\n",
      "28       kind           0.5267\n",
      "29      trust           0.5106\n",
      "30       cool           0.3182\n",
      "31     number           0.0772\n",
      "32      alive           0.3818\n",
      "33   straight           0.2263\n",
      "34     strong           0.5106\n",
      "35     heaven           0.5106\n",
      "36       nice           0.4215\n",
      "37      laugh           0.5574\n",
      "38  beautiful           0.5994\n",
      "39    perfect           0.5719\n",
      "40    promise           0.3182\n",
      "41    diamond           0.3400\n",
      "42      peace           0.5423\n",
      "43       pray           0.3182\n",
      "44      reach           0.0258\n",
      "45      clear           0.3818\n",
      "46      worth           0.2263\n",
      "47    alright           0.2500\n",
      "48      clean           0.4019\n",
      "49        fun           0.5106\n"
     ]
    }
   ],
   "source": [
    "# Get word counters\n",
    "word_counter_all = count_words(US_2022_lyrics)\n",
    "word_counter_negative = count_words(US_2022_lyrics, 'negative')\n",
    "word_counter_positive = count_words(US_2022_lyrics, 'positive')\n",
    "\n",
    "# Get top 50 words from each category\n",
    "top_50_words_all = get_top_words(word_counter_all)\n",
    "top_50_words_negative = get_top_words(word_counter_negative)\n",
    "top_50_words_positive = get_top_words(word_counter_positive)\n",
    "\n",
    "# Get sentiment scores for each category and print them\n",
    "df_scores_all = get_sentiment_scores(top_50_words_all)\n",
    "df_scores_negative = get_sentiment_scores(top_50_words_negative)\n",
    "df_scores_positive = get_sentiment_scores(top_50_words_positive)\n",
    "\n",
    "print(\"Sentiment scores for all words:\\n\", df_scores_all)\n",
    "print(\"\\nSentiment scores for negative words:\\n\", df_scores_negative)\n",
    "print(\"\\nSentiment scores for positive words:\\n\", df_scores_positive)\n"
   ]
  },
  {
   "cell_type": "markdown",
   "metadata": {},
   "source": [
    "##### Genre Bar Chart\n"
   ]
  },
  {
   "cell_type": "code",
   "execution_count": 53,
   "metadata": {},
   "outputs": [],
   "source": [
    "def genre_count(df):\n",
    "    \"\"\"\n",
    "    Creates a horizontal bar chart visualization of the top 25 genres in a DataFrame.\n",
    "\n",
    "    Args:\n",
    "        df (pd.DataFrame): The DataFrame containing the genres.\n",
    "\n",
    "    Note:\n",
    "        This function does not return any values. It directly shows the plot using plotly.\n",
    "    \"\"\"\n",
    "    # initialize a Counter object\n",
    "    genre_counter = Counter()\n",
    "    \n",
    "    # iterate over the 'genres' column\n",
    "    for genres_string in df['genres']:\n",
    "        # convert string representation of list to list\n",
    "        genres_list = ast.literal_eval(genres_string)\n",
    "\n",
    "        # check if the list of genres is not empty\n",
    "        if genres_list:\n",
    "            # update the counter with the list of genres\n",
    "            genre_counter.update(genres_list)\n",
    "    \n",
    "    # get the 25 most common genres\n",
    "    top_25_genres = genre_counter.most_common(25)\n",
    "    \n",
    "    # prepare data for the bar chart\n",
    "    genres = [item[0] for item in top_25_genres]\n",
    "    counts = [item[1] for item in top_25_genres]\n",
    "\n",
    "    # create a horizontal bar chart\n",
    "    fig = go.Figure(data=[go.Bar(\n",
    "        y=genres,\n",
    "        x=counts,\n",
    "        orientation='h',\n",
    "        marker=dict(\n",
    "            color=counts,  # set color \n",
    "            colorscale='plotly3',  # choose a colorscale\n",
    "            line_width=0\n",
    "        )\n",
    "    )])\n",
    "\n",
    "    # update layout\n",
    "    fig.update_layout(\n",
    "        title=\"Top 25 Genres\",\n",
    "        xaxis_title=\"Count\",\n",
    "        yaxis_title=\"Genre\",\n",
    "        yaxis={'categoryorder':'total ascending', 'nticks': len(genres)},\n",
    "    )\n",
    "\n",
    "    fig.show()\n",
    "    \n",
    "def count_unique_genres(df):\n",
    "    \"\"\"\n",
    "    Counts the number of unique genres in a DataFrame and prints the result.\n",
    "\n",
    "    Args:\n",
    "        df (pd.DataFrame): The DataFrame containing the genres.\n",
    "    \"\"\"\n",
    "    # initialize a set to store unique genres\n",
    "    unique_genres = set()\n",
    "\n",
    "    # iterate over the 'genres' column\n",
    "    for genres_string in df['genres']:\n",
    "        # convert string representation of list to list\n",
    "        genres_list = ast.literal_eval(genres_string)\n",
    "\n",
    "        # update the set with the list of genres\n",
    "        unique_genres.update(genres_list)\n",
    "\n",
    "    # print the count of unique genres\n",
    "    print(f\"The number of unique genres is: {len(unique_genres)}\")\n"
   ]
  },
  {
   "cell_type": "code",
   "execution_count": 37,
   "metadata": {},
   "outputs": [
    {
     "data": {
      "application/vnd.plotly.v1+json": {
       "config": {
        "plotlyServerURL": "https://plot.ly"
       },
       "data": [
        {
         "marker": {
          "color": [
           1311,
           1059,
           985,
           732,
           513,
           491,
           343,
           320,
           306,
           305,
           295,
           290,
           290,
           271,
           268,
           265,
           259,
           250,
           248,
           248,
           233,
           224,
           219,
           215,
           209
          ],
          "colorscale": [
           [
            0,
            "#0508b8"
           ],
           [
            0.08333333333333333,
            "#1910d8"
           ],
           [
            0.16666666666666666,
            "#3c19f0"
           ],
           [
            0.25,
            "#6b1cfb"
           ],
           [
            0.3333333333333333,
            "#981cfd"
           ],
           [
            0.4166666666666667,
            "#bf1cfd"
           ],
           [
            0.5,
            "#dd2bfd"
           ],
           [
            0.5833333333333334,
            "#f246fe"
           ],
           [
            0.6666666666666666,
            "#fc67fd"
           ],
           [
            0.75,
            "#fe88fc"
           ],
           [
            0.8333333333333334,
            "#fea5fd"
           ],
           [
            0.9166666666666666,
            "#febefe"
           ],
           [
            1,
            "#fec3fe"
           ]
          ],
          "line": {
           "width": 0
          }
         },
         "orientation": "h",
         "type": "bar",
         "x": [
          1311,
          1059,
          985,
          732,
          513,
          491,
          343,
          320,
          306,
          305,
          295,
          290,
          290,
          271,
          268,
          265,
          259,
          250,
          248,
          248,
          233,
          224,
          219,
          215,
          209
         ],
         "y": [
          "rap",
          "pop",
          "hip hop",
          "rock",
          "trap",
          "r&b",
          "dance pop",
          "southern hip hop",
          "modern rock",
          "pop rap",
          "alternative metal",
          "classic rock",
          "permanent wave",
          "urbano latino",
          "alternative rock",
          "trap latino",
          "urban contemporary",
          "atl hip hop",
          "gangster rap",
          "canadian pop",
          "art pop",
          "album rock",
          "pov: indie",
          "reggaeton",
          "hard rock"
         ]
        }
       ],
       "layout": {
        "template": {
         "data": {
          "bar": [
           {
            "error_x": {
             "color": "#f2f5fa"
            },
            "error_y": {
             "color": "#f2f5fa"
            },
            "marker": {
             "line": {
              "color": "rgb(17,17,17)",
              "width": 0.5
             },
             "pattern": {
              "fillmode": "overlay",
              "size": 10,
              "solidity": 0.2
             }
            },
            "type": "bar"
           }
          ],
          "barpolar": [
           {
            "marker": {
             "line": {
              "color": "rgb(17,17,17)",
              "width": 0.5
             },
             "pattern": {
              "fillmode": "overlay",
              "size": 10,
              "solidity": 0.2
             }
            },
            "type": "barpolar"
           }
          ],
          "carpet": [
           {
            "aaxis": {
             "endlinecolor": "#A2B1C6",
             "gridcolor": "#506784",
             "linecolor": "#506784",
             "minorgridcolor": "#506784",
             "startlinecolor": "#A2B1C6"
            },
            "baxis": {
             "endlinecolor": "#A2B1C6",
             "gridcolor": "#506784",
             "linecolor": "#506784",
             "minorgridcolor": "#506784",
             "startlinecolor": "#A2B1C6"
            },
            "type": "carpet"
           }
          ],
          "choropleth": [
           {
            "colorbar": {
             "outlinewidth": 0,
             "ticks": ""
            },
            "type": "choropleth"
           }
          ],
          "contour": [
           {
            "colorbar": {
             "outlinewidth": 0,
             "ticks": ""
            },
            "colorscale": [
             [
              0,
              "#0d0887"
             ],
             [
              0.1111111111111111,
              "#46039f"
             ],
             [
              0.2222222222222222,
              "#7201a8"
             ],
             [
              0.3333333333333333,
              "#9c179e"
             ],
             [
              0.4444444444444444,
              "#bd3786"
             ],
             [
              0.5555555555555556,
              "#d8576b"
             ],
             [
              0.6666666666666666,
              "#ed7953"
             ],
             [
              0.7777777777777778,
              "#fb9f3a"
             ],
             [
              0.8888888888888888,
              "#fdca26"
             ],
             [
              1,
              "#f0f921"
             ]
            ],
            "type": "contour"
           }
          ],
          "contourcarpet": [
           {
            "colorbar": {
             "outlinewidth": 0,
             "ticks": ""
            },
            "type": "contourcarpet"
           }
          ],
          "heatmap": [
           {
            "colorbar": {
             "outlinewidth": 0,
             "ticks": ""
            },
            "colorscale": [
             [
              0,
              "#0d0887"
             ],
             [
              0.1111111111111111,
              "#46039f"
             ],
             [
              0.2222222222222222,
              "#7201a8"
             ],
             [
              0.3333333333333333,
              "#9c179e"
             ],
             [
              0.4444444444444444,
              "#bd3786"
             ],
             [
              0.5555555555555556,
              "#d8576b"
             ],
             [
              0.6666666666666666,
              "#ed7953"
             ],
             [
              0.7777777777777778,
              "#fb9f3a"
             ],
             [
              0.8888888888888888,
              "#fdca26"
             ],
             [
              1,
              "#f0f921"
             ]
            ],
            "type": "heatmap"
           }
          ],
          "heatmapgl": [
           {
            "colorbar": {
             "outlinewidth": 0,
             "ticks": ""
            },
            "colorscale": [
             [
              0,
              "#0d0887"
             ],
             [
              0.1111111111111111,
              "#46039f"
             ],
             [
              0.2222222222222222,
              "#7201a8"
             ],
             [
              0.3333333333333333,
              "#9c179e"
             ],
             [
              0.4444444444444444,
              "#bd3786"
             ],
             [
              0.5555555555555556,
              "#d8576b"
             ],
             [
              0.6666666666666666,
              "#ed7953"
             ],
             [
              0.7777777777777778,
              "#fb9f3a"
             ],
             [
              0.8888888888888888,
              "#fdca26"
             ],
             [
              1,
              "#f0f921"
             ]
            ],
            "type": "heatmapgl"
           }
          ],
          "histogram": [
           {
            "marker": {
             "pattern": {
              "fillmode": "overlay",
              "size": 10,
              "solidity": 0.2
             }
            },
            "type": "histogram"
           }
          ],
          "histogram2d": [
           {
            "colorbar": {
             "outlinewidth": 0,
             "ticks": ""
            },
            "colorscale": [
             [
              0,
              "#0d0887"
             ],
             [
              0.1111111111111111,
              "#46039f"
             ],
             [
              0.2222222222222222,
              "#7201a8"
             ],
             [
              0.3333333333333333,
              "#9c179e"
             ],
             [
              0.4444444444444444,
              "#bd3786"
             ],
             [
              0.5555555555555556,
              "#d8576b"
             ],
             [
              0.6666666666666666,
              "#ed7953"
             ],
             [
              0.7777777777777778,
              "#fb9f3a"
             ],
             [
              0.8888888888888888,
              "#fdca26"
             ],
             [
              1,
              "#f0f921"
             ]
            ],
            "type": "histogram2d"
           }
          ],
          "histogram2dcontour": [
           {
            "colorbar": {
             "outlinewidth": 0,
             "ticks": ""
            },
            "colorscale": [
             [
              0,
              "#0d0887"
             ],
             [
              0.1111111111111111,
              "#46039f"
             ],
             [
              0.2222222222222222,
              "#7201a8"
             ],
             [
              0.3333333333333333,
              "#9c179e"
             ],
             [
              0.4444444444444444,
              "#bd3786"
             ],
             [
              0.5555555555555556,
              "#d8576b"
             ],
             [
              0.6666666666666666,
              "#ed7953"
             ],
             [
              0.7777777777777778,
              "#fb9f3a"
             ],
             [
              0.8888888888888888,
              "#fdca26"
             ],
             [
              1,
              "#f0f921"
             ]
            ],
            "type": "histogram2dcontour"
           }
          ],
          "mesh3d": [
           {
            "colorbar": {
             "outlinewidth": 0,
             "ticks": ""
            },
            "type": "mesh3d"
           }
          ],
          "parcoords": [
           {
            "line": {
             "colorbar": {
              "outlinewidth": 0,
              "ticks": ""
             }
            },
            "type": "parcoords"
           }
          ],
          "pie": [
           {
            "automargin": true,
            "type": "pie"
           }
          ],
          "scatter": [
           {
            "marker": {
             "line": {
              "color": "#283442"
             }
            },
            "type": "scatter"
           }
          ],
          "scatter3d": [
           {
            "line": {
             "colorbar": {
              "outlinewidth": 0,
              "ticks": ""
             }
            },
            "marker": {
             "colorbar": {
              "outlinewidth": 0,
              "ticks": ""
             }
            },
            "type": "scatter3d"
           }
          ],
          "scattercarpet": [
           {
            "marker": {
             "colorbar": {
              "outlinewidth": 0,
              "ticks": ""
             }
            },
            "type": "scattercarpet"
           }
          ],
          "scattergeo": [
           {
            "marker": {
             "colorbar": {
              "outlinewidth": 0,
              "ticks": ""
             }
            },
            "type": "scattergeo"
           }
          ],
          "scattergl": [
           {
            "marker": {
             "line": {
              "color": "#283442"
             }
            },
            "type": "scattergl"
           }
          ],
          "scattermapbox": [
           {
            "marker": {
             "colorbar": {
              "outlinewidth": 0,
              "ticks": ""
             }
            },
            "type": "scattermapbox"
           }
          ],
          "scatterpolar": [
           {
            "marker": {
             "colorbar": {
              "outlinewidth": 0,
              "ticks": ""
             }
            },
            "type": "scatterpolar"
           }
          ],
          "scatterpolargl": [
           {
            "marker": {
             "colorbar": {
              "outlinewidth": 0,
              "ticks": ""
             }
            },
            "type": "scatterpolargl"
           }
          ],
          "scatterternary": [
           {
            "marker": {
             "colorbar": {
              "outlinewidth": 0,
              "ticks": ""
             }
            },
            "type": "scatterternary"
           }
          ],
          "surface": [
           {
            "colorbar": {
             "outlinewidth": 0,
             "ticks": ""
            },
            "colorscale": [
             [
              0,
              "#0d0887"
             ],
             [
              0.1111111111111111,
              "#46039f"
             ],
             [
              0.2222222222222222,
              "#7201a8"
             ],
             [
              0.3333333333333333,
              "#9c179e"
             ],
             [
              0.4444444444444444,
              "#bd3786"
             ],
             [
              0.5555555555555556,
              "#d8576b"
             ],
             [
              0.6666666666666666,
              "#ed7953"
             ],
             [
              0.7777777777777778,
              "#fb9f3a"
             ],
             [
              0.8888888888888888,
              "#fdca26"
             ],
             [
              1,
              "#f0f921"
             ]
            ],
            "type": "surface"
           }
          ],
          "table": [
           {
            "cells": {
             "fill": {
              "color": "#506784"
             },
             "line": {
              "color": "rgb(17,17,17)"
             }
            },
            "header": {
             "fill": {
              "color": "#2a3f5f"
             },
             "line": {
              "color": "rgb(17,17,17)"
             }
            },
            "type": "table"
           }
          ]
         },
         "layout": {
          "annotationdefaults": {
           "arrowcolor": "#f2f5fa",
           "arrowhead": 0,
           "arrowwidth": 1
          },
          "autotypenumbers": "strict",
          "coloraxis": {
           "colorbar": {
            "outlinewidth": 0,
            "ticks": ""
           }
          },
          "colorscale": {
           "diverging": [
            [
             0,
             "#8e0152"
            ],
            [
             0.1,
             "#c51b7d"
            ],
            [
             0.2,
             "#de77ae"
            ],
            [
             0.3,
             "#f1b6da"
            ],
            [
             0.4,
             "#fde0ef"
            ],
            [
             0.5,
             "#f7f7f7"
            ],
            [
             0.6,
             "#e6f5d0"
            ],
            [
             0.7,
             "#b8e186"
            ],
            [
             0.8,
             "#7fbc41"
            ],
            [
             0.9,
             "#4d9221"
            ],
            [
             1,
             "#276419"
            ]
           ],
           "sequential": [
            [
             0,
             "#0d0887"
            ],
            [
             0.1111111111111111,
             "#46039f"
            ],
            [
             0.2222222222222222,
             "#7201a8"
            ],
            [
             0.3333333333333333,
             "#9c179e"
            ],
            [
             0.4444444444444444,
             "#bd3786"
            ],
            [
             0.5555555555555556,
             "#d8576b"
            ],
            [
             0.6666666666666666,
             "#ed7953"
            ],
            [
             0.7777777777777778,
             "#fb9f3a"
            ],
            [
             0.8888888888888888,
             "#fdca26"
            ],
            [
             1,
             "#f0f921"
            ]
           ],
           "sequentialminus": [
            [
             0,
             "#0d0887"
            ],
            [
             0.1111111111111111,
             "#46039f"
            ],
            [
             0.2222222222222222,
             "#7201a8"
            ],
            [
             0.3333333333333333,
             "#9c179e"
            ],
            [
             0.4444444444444444,
             "#bd3786"
            ],
            [
             0.5555555555555556,
             "#d8576b"
            ],
            [
             0.6666666666666666,
             "#ed7953"
            ],
            [
             0.7777777777777778,
             "#fb9f3a"
            ],
            [
             0.8888888888888888,
             "#fdca26"
            ],
            [
             1,
             "#f0f921"
            ]
           ]
          },
          "colorway": [
           "#636efa",
           "#EF553B",
           "#00cc96",
           "#ab63fa",
           "#FFA15A",
           "#19d3f3",
           "#FF6692",
           "#B6E880",
           "#FF97FF",
           "#FECB52"
          ],
          "font": {
           "color": "#f2f5fa"
          },
          "geo": {
           "bgcolor": "rgb(17,17,17)",
           "lakecolor": "rgb(17,17,17)",
           "landcolor": "rgb(17,17,17)",
           "showlakes": true,
           "showland": true,
           "subunitcolor": "#506784"
          },
          "hoverlabel": {
           "align": "left"
          },
          "hovermode": "closest",
          "mapbox": {
           "style": "dark"
          },
          "paper_bgcolor": "rgb(17,17,17)",
          "plot_bgcolor": "rgb(17,17,17)",
          "polar": {
           "angularaxis": {
            "gridcolor": "#506784",
            "linecolor": "#506784",
            "ticks": ""
           },
           "bgcolor": "rgb(17,17,17)",
           "radialaxis": {
            "gridcolor": "#506784",
            "linecolor": "#506784",
            "ticks": ""
           }
          },
          "scene": {
           "xaxis": {
            "backgroundcolor": "rgb(17,17,17)",
            "gridcolor": "#506784",
            "gridwidth": 2,
            "linecolor": "#506784",
            "showbackground": true,
            "ticks": "",
            "zerolinecolor": "#C8D4E3"
           },
           "yaxis": {
            "backgroundcolor": "rgb(17,17,17)",
            "gridcolor": "#506784",
            "gridwidth": 2,
            "linecolor": "#506784",
            "showbackground": true,
            "ticks": "",
            "zerolinecolor": "#C8D4E3"
           },
           "zaxis": {
            "backgroundcolor": "rgb(17,17,17)",
            "gridcolor": "#506784",
            "gridwidth": 2,
            "linecolor": "#506784",
            "showbackground": true,
            "ticks": "",
            "zerolinecolor": "#C8D4E3"
           }
          },
          "shapedefaults": {
           "line": {
            "color": "#f2f5fa"
           }
          },
          "sliderdefaults": {
           "bgcolor": "#C8D4E3",
           "bordercolor": "rgb(17,17,17)",
           "borderwidth": 1,
           "tickwidth": 0
          },
          "ternary": {
           "aaxis": {
            "gridcolor": "#506784",
            "linecolor": "#506784",
            "ticks": ""
           },
           "baxis": {
            "gridcolor": "#506784",
            "linecolor": "#506784",
            "ticks": ""
           },
           "bgcolor": "rgb(17,17,17)",
           "caxis": {
            "gridcolor": "#506784",
            "linecolor": "#506784",
            "ticks": ""
           }
          },
          "title": {
           "x": 0.05
          },
          "updatemenudefaults": {
           "bgcolor": "#506784",
           "borderwidth": 0
          },
          "xaxis": {
           "automargin": true,
           "gridcolor": "#283442",
           "linecolor": "#506784",
           "ticks": "",
           "title": {
            "standoff": 15
           },
           "zerolinecolor": "#283442",
           "zerolinewidth": 2
          },
          "yaxis": {
           "automargin": true,
           "gridcolor": "#283442",
           "linecolor": "#506784",
           "ticks": "",
           "title": {
            "standoff": 15
           },
           "zerolinecolor": "#283442",
           "zerolinewidth": 2
          }
         }
        },
        "title": {
         "text": "Top 25 Genres"
        },
        "xaxis": {
         "title": {
          "text": "Count"
         }
        },
        "yaxis": {
         "categoryorder": "total ascending",
         "nticks": 25,
         "title": {
          "text": "Genre"
         }
        }
       }
      }
     },
     "metadata": {},
     "output_type": "display_data"
    }
   ],
   "source": [
    "genre_count(US_2022_genres)"
   ]
  },
  {
   "cell_type": "code",
   "execution_count": 55,
   "metadata": {},
   "outputs": [
    {
     "name": "stdout",
     "output_type": "stream",
     "text": [
      "The number of unique genres is: 2033\n"
     ]
    }
   ],
   "source": [
    "count_unique_genres(US_2022_genres)\n"
   ]
  },
  {
   "cell_type": "markdown",
   "metadata": {},
   "source": [
    "#### 4.1.3 Data Visualization "
   ]
  },
  {
   "cell_type": "markdown",
   "metadata": {},
   "source": [
    "##### Audio Radar Chart  "
   ]
  },
  {
   "cell_type": "code",
   "execution_count": 15,
   "metadata": {},
   "outputs": [],
   "source": [
    "def radar_chart(df):\n",
    "    \"\"\"\n",
    "    Creates a radar chart visualization of the mean values of various features in a DataFrame.\n",
    "\n",
    "    Note:\n",
    "        This function does not return any values. It directly shows the plot using plotly.\n",
    "    \"\"\"\n",
    "    # selected features\n",
    "    cols = ['danceability', 'energy', 'liveness', 'valence', 'acousticness', 'speechiness', 'instrumentalness']\n",
    "\n",
    "    # subset dataframe\n",
    "    df = df[cols]\n",
    "\n",
    "    # mormalize to 0-1 range and take mean values\n",
    "    df_mean = ((df - df.min()) / (df.max() - df.min())).mean()\n",
    "\n",
    "    # convert to 0-100 scale for readability\n",
    "    df_mean = (df_mean * 100).round(2)\n",
    "\n",
    "    # single color for all lines\n",
    "    line_color = '#ff00a0'\n",
    "\n",
    "    # prepare custom data for hovertemplate\n",
    "    hover_data = ['{}: {}'.format(col, val) for col, val in zip(cols, df_mean.values)]\n",
    "\n",
    "    # build radar chart\n",
    "    fig = go.Figure(data=go.Scatterpolar(\n",
    "        r=df_mean.values,\n",
    "        theta=cols,\n",
    "        customdata=np.array(hover_data),\n",
    "        hovertemplate='%{customdata}<extra></extra>',\n",
    "        fill='toself',\n",
    "        line_color=line_color\n",
    "    ))\n",
    "\n",
    "    fig.update_layout(\n",
    "        polar=dict(\n",
    "            radialaxis=dict(\n",
    "                visible=True,\n",
    "                range=[0, 100] \n",
    "            )),\n",
    "        showlegend=False\n",
    "    )\n",
    "\n",
    "    fig.show()"
   ]
  },
  {
   "cell_type": "code",
   "execution_count": 38,
   "metadata": {},
   "outputs": [
    {
     "data": {
      "application/vnd.plotly.v1+json": {
       "config": {
        "plotlyServerURL": "https://plot.ly"
       },
       "data": [
        {
         "customdata": [
          "danceability: 59.46",
          "energy: 63.53",
          "liveness: 18.67",
          "valence: 46.06",
          "acousticness: 23.94",
          "speechiness: 9.99",
          "instrumentalness: 8.02"
         ],
         "fill": "toself",
         "hovertemplate": "%{customdata}<extra></extra>",
         "line": {
          "color": "#ff00a0"
         },
         "r": [
          59.46,
          63.53,
          18.67,
          46.06,
          23.94,
          9.99,
          8.02
         ],
         "theta": [
          "danceability",
          "energy",
          "liveness",
          "valence",
          "acousticness",
          "speechiness",
          "instrumentalness"
         ],
         "type": "scatterpolar"
        }
       ],
       "layout": {
        "polar": {
         "radialaxis": {
          "range": [
           0,
           100
          ],
          "visible": true
         }
        },
        "showlegend": false,
        "template": {
         "data": {
          "bar": [
           {
            "error_x": {
             "color": "#f2f5fa"
            },
            "error_y": {
             "color": "#f2f5fa"
            },
            "marker": {
             "line": {
              "color": "rgb(17,17,17)",
              "width": 0.5
             },
             "pattern": {
              "fillmode": "overlay",
              "size": 10,
              "solidity": 0.2
             }
            },
            "type": "bar"
           }
          ],
          "barpolar": [
           {
            "marker": {
             "line": {
              "color": "rgb(17,17,17)",
              "width": 0.5
             },
             "pattern": {
              "fillmode": "overlay",
              "size": 10,
              "solidity": 0.2
             }
            },
            "type": "barpolar"
           }
          ],
          "carpet": [
           {
            "aaxis": {
             "endlinecolor": "#A2B1C6",
             "gridcolor": "#506784",
             "linecolor": "#506784",
             "minorgridcolor": "#506784",
             "startlinecolor": "#A2B1C6"
            },
            "baxis": {
             "endlinecolor": "#A2B1C6",
             "gridcolor": "#506784",
             "linecolor": "#506784",
             "minorgridcolor": "#506784",
             "startlinecolor": "#A2B1C6"
            },
            "type": "carpet"
           }
          ],
          "choropleth": [
           {
            "colorbar": {
             "outlinewidth": 0,
             "ticks": ""
            },
            "type": "choropleth"
           }
          ],
          "contour": [
           {
            "colorbar": {
             "outlinewidth": 0,
             "ticks": ""
            },
            "colorscale": [
             [
              0,
              "#0d0887"
             ],
             [
              0.1111111111111111,
              "#46039f"
             ],
             [
              0.2222222222222222,
              "#7201a8"
             ],
             [
              0.3333333333333333,
              "#9c179e"
             ],
             [
              0.4444444444444444,
              "#bd3786"
             ],
             [
              0.5555555555555556,
              "#d8576b"
             ],
             [
              0.6666666666666666,
              "#ed7953"
             ],
             [
              0.7777777777777778,
              "#fb9f3a"
             ],
             [
              0.8888888888888888,
              "#fdca26"
             ],
             [
              1,
              "#f0f921"
             ]
            ],
            "type": "contour"
           }
          ],
          "contourcarpet": [
           {
            "colorbar": {
             "outlinewidth": 0,
             "ticks": ""
            },
            "type": "contourcarpet"
           }
          ],
          "heatmap": [
           {
            "colorbar": {
             "outlinewidth": 0,
             "ticks": ""
            },
            "colorscale": [
             [
              0,
              "#0d0887"
             ],
             [
              0.1111111111111111,
              "#46039f"
             ],
             [
              0.2222222222222222,
              "#7201a8"
             ],
             [
              0.3333333333333333,
              "#9c179e"
             ],
             [
              0.4444444444444444,
              "#bd3786"
             ],
             [
              0.5555555555555556,
              "#d8576b"
             ],
             [
              0.6666666666666666,
              "#ed7953"
             ],
             [
              0.7777777777777778,
              "#fb9f3a"
             ],
             [
              0.8888888888888888,
              "#fdca26"
             ],
             [
              1,
              "#f0f921"
             ]
            ],
            "type": "heatmap"
           }
          ],
          "heatmapgl": [
           {
            "colorbar": {
             "outlinewidth": 0,
             "ticks": ""
            },
            "colorscale": [
             [
              0,
              "#0d0887"
             ],
             [
              0.1111111111111111,
              "#46039f"
             ],
             [
              0.2222222222222222,
              "#7201a8"
             ],
             [
              0.3333333333333333,
              "#9c179e"
             ],
             [
              0.4444444444444444,
              "#bd3786"
             ],
             [
              0.5555555555555556,
              "#d8576b"
             ],
             [
              0.6666666666666666,
              "#ed7953"
             ],
             [
              0.7777777777777778,
              "#fb9f3a"
             ],
             [
              0.8888888888888888,
              "#fdca26"
             ],
             [
              1,
              "#f0f921"
             ]
            ],
            "type": "heatmapgl"
           }
          ],
          "histogram": [
           {
            "marker": {
             "pattern": {
              "fillmode": "overlay",
              "size": 10,
              "solidity": 0.2
             }
            },
            "type": "histogram"
           }
          ],
          "histogram2d": [
           {
            "colorbar": {
             "outlinewidth": 0,
             "ticks": ""
            },
            "colorscale": [
             [
              0,
              "#0d0887"
             ],
             [
              0.1111111111111111,
              "#46039f"
             ],
             [
              0.2222222222222222,
              "#7201a8"
             ],
             [
              0.3333333333333333,
              "#9c179e"
             ],
             [
              0.4444444444444444,
              "#bd3786"
             ],
             [
              0.5555555555555556,
              "#d8576b"
             ],
             [
              0.6666666666666666,
              "#ed7953"
             ],
             [
              0.7777777777777778,
              "#fb9f3a"
             ],
             [
              0.8888888888888888,
              "#fdca26"
             ],
             [
              1,
              "#f0f921"
             ]
            ],
            "type": "histogram2d"
           }
          ],
          "histogram2dcontour": [
           {
            "colorbar": {
             "outlinewidth": 0,
             "ticks": ""
            },
            "colorscale": [
             [
              0,
              "#0d0887"
             ],
             [
              0.1111111111111111,
              "#46039f"
             ],
             [
              0.2222222222222222,
              "#7201a8"
             ],
             [
              0.3333333333333333,
              "#9c179e"
             ],
             [
              0.4444444444444444,
              "#bd3786"
             ],
             [
              0.5555555555555556,
              "#d8576b"
             ],
             [
              0.6666666666666666,
              "#ed7953"
             ],
             [
              0.7777777777777778,
              "#fb9f3a"
             ],
             [
              0.8888888888888888,
              "#fdca26"
             ],
             [
              1,
              "#f0f921"
             ]
            ],
            "type": "histogram2dcontour"
           }
          ],
          "mesh3d": [
           {
            "colorbar": {
             "outlinewidth": 0,
             "ticks": ""
            },
            "type": "mesh3d"
           }
          ],
          "parcoords": [
           {
            "line": {
             "colorbar": {
              "outlinewidth": 0,
              "ticks": ""
             }
            },
            "type": "parcoords"
           }
          ],
          "pie": [
           {
            "automargin": true,
            "type": "pie"
           }
          ],
          "scatter": [
           {
            "marker": {
             "line": {
              "color": "#283442"
             }
            },
            "type": "scatter"
           }
          ],
          "scatter3d": [
           {
            "line": {
             "colorbar": {
              "outlinewidth": 0,
              "ticks": ""
             }
            },
            "marker": {
             "colorbar": {
              "outlinewidth": 0,
              "ticks": ""
             }
            },
            "type": "scatter3d"
           }
          ],
          "scattercarpet": [
           {
            "marker": {
             "colorbar": {
              "outlinewidth": 0,
              "ticks": ""
             }
            },
            "type": "scattercarpet"
           }
          ],
          "scattergeo": [
           {
            "marker": {
             "colorbar": {
              "outlinewidth": 0,
              "ticks": ""
             }
            },
            "type": "scattergeo"
           }
          ],
          "scattergl": [
           {
            "marker": {
             "line": {
              "color": "#283442"
             }
            },
            "type": "scattergl"
           }
          ],
          "scattermapbox": [
           {
            "marker": {
             "colorbar": {
              "outlinewidth": 0,
              "ticks": ""
             }
            },
            "type": "scattermapbox"
           }
          ],
          "scatterpolar": [
           {
            "marker": {
             "colorbar": {
              "outlinewidth": 0,
              "ticks": ""
             }
            },
            "type": "scatterpolar"
           }
          ],
          "scatterpolargl": [
           {
            "marker": {
             "colorbar": {
              "outlinewidth": 0,
              "ticks": ""
             }
            },
            "type": "scatterpolargl"
           }
          ],
          "scatterternary": [
           {
            "marker": {
             "colorbar": {
              "outlinewidth": 0,
              "ticks": ""
             }
            },
            "type": "scatterternary"
           }
          ],
          "surface": [
           {
            "colorbar": {
             "outlinewidth": 0,
             "ticks": ""
            },
            "colorscale": [
             [
              0,
              "#0d0887"
             ],
             [
              0.1111111111111111,
              "#46039f"
             ],
             [
              0.2222222222222222,
              "#7201a8"
             ],
             [
              0.3333333333333333,
              "#9c179e"
             ],
             [
              0.4444444444444444,
              "#bd3786"
             ],
             [
              0.5555555555555556,
              "#d8576b"
             ],
             [
              0.6666666666666666,
              "#ed7953"
             ],
             [
              0.7777777777777778,
              "#fb9f3a"
             ],
             [
              0.8888888888888888,
              "#fdca26"
             ],
             [
              1,
              "#f0f921"
             ]
            ],
            "type": "surface"
           }
          ],
          "table": [
           {
            "cells": {
             "fill": {
              "color": "#506784"
             },
             "line": {
              "color": "rgb(17,17,17)"
             }
            },
            "header": {
             "fill": {
              "color": "#2a3f5f"
             },
             "line": {
              "color": "rgb(17,17,17)"
             }
            },
            "type": "table"
           }
          ]
         },
         "layout": {
          "annotationdefaults": {
           "arrowcolor": "#f2f5fa",
           "arrowhead": 0,
           "arrowwidth": 1
          },
          "autotypenumbers": "strict",
          "coloraxis": {
           "colorbar": {
            "outlinewidth": 0,
            "ticks": ""
           }
          },
          "colorscale": {
           "diverging": [
            [
             0,
             "#8e0152"
            ],
            [
             0.1,
             "#c51b7d"
            ],
            [
             0.2,
             "#de77ae"
            ],
            [
             0.3,
             "#f1b6da"
            ],
            [
             0.4,
             "#fde0ef"
            ],
            [
             0.5,
             "#f7f7f7"
            ],
            [
             0.6,
             "#e6f5d0"
            ],
            [
             0.7,
             "#b8e186"
            ],
            [
             0.8,
             "#7fbc41"
            ],
            [
             0.9,
             "#4d9221"
            ],
            [
             1,
             "#276419"
            ]
           ],
           "sequential": [
            [
             0,
             "#0d0887"
            ],
            [
             0.1111111111111111,
             "#46039f"
            ],
            [
             0.2222222222222222,
             "#7201a8"
            ],
            [
             0.3333333333333333,
             "#9c179e"
            ],
            [
             0.4444444444444444,
             "#bd3786"
            ],
            [
             0.5555555555555556,
             "#d8576b"
            ],
            [
             0.6666666666666666,
             "#ed7953"
            ],
            [
             0.7777777777777778,
             "#fb9f3a"
            ],
            [
             0.8888888888888888,
             "#fdca26"
            ],
            [
             1,
             "#f0f921"
            ]
           ],
           "sequentialminus": [
            [
             0,
             "#0d0887"
            ],
            [
             0.1111111111111111,
             "#46039f"
            ],
            [
             0.2222222222222222,
             "#7201a8"
            ],
            [
             0.3333333333333333,
             "#9c179e"
            ],
            [
             0.4444444444444444,
             "#bd3786"
            ],
            [
             0.5555555555555556,
             "#d8576b"
            ],
            [
             0.6666666666666666,
             "#ed7953"
            ],
            [
             0.7777777777777778,
             "#fb9f3a"
            ],
            [
             0.8888888888888888,
             "#fdca26"
            ],
            [
             1,
             "#f0f921"
            ]
           ]
          },
          "colorway": [
           "#636efa",
           "#EF553B",
           "#00cc96",
           "#ab63fa",
           "#FFA15A",
           "#19d3f3",
           "#FF6692",
           "#B6E880",
           "#FF97FF",
           "#FECB52"
          ],
          "font": {
           "color": "#f2f5fa"
          },
          "geo": {
           "bgcolor": "rgb(17,17,17)",
           "lakecolor": "rgb(17,17,17)",
           "landcolor": "rgb(17,17,17)",
           "showlakes": true,
           "showland": true,
           "subunitcolor": "#506784"
          },
          "hoverlabel": {
           "align": "left"
          },
          "hovermode": "closest",
          "mapbox": {
           "style": "dark"
          },
          "paper_bgcolor": "rgb(17,17,17)",
          "plot_bgcolor": "rgb(17,17,17)",
          "polar": {
           "angularaxis": {
            "gridcolor": "#506784",
            "linecolor": "#506784",
            "ticks": ""
           },
           "bgcolor": "rgb(17,17,17)",
           "radialaxis": {
            "gridcolor": "#506784",
            "linecolor": "#506784",
            "ticks": ""
           }
          },
          "scene": {
           "xaxis": {
            "backgroundcolor": "rgb(17,17,17)",
            "gridcolor": "#506784",
            "gridwidth": 2,
            "linecolor": "#506784",
            "showbackground": true,
            "ticks": "",
            "zerolinecolor": "#C8D4E3"
           },
           "yaxis": {
            "backgroundcolor": "rgb(17,17,17)",
            "gridcolor": "#506784",
            "gridwidth": 2,
            "linecolor": "#506784",
            "showbackground": true,
            "ticks": "",
            "zerolinecolor": "#C8D4E3"
           },
           "zaxis": {
            "backgroundcolor": "rgb(17,17,17)",
            "gridcolor": "#506784",
            "gridwidth": 2,
            "linecolor": "#506784",
            "showbackground": true,
            "ticks": "",
            "zerolinecolor": "#C8D4E3"
           }
          },
          "shapedefaults": {
           "line": {
            "color": "#f2f5fa"
           }
          },
          "sliderdefaults": {
           "bgcolor": "#C8D4E3",
           "bordercolor": "rgb(17,17,17)",
           "borderwidth": 1,
           "tickwidth": 0
          },
          "ternary": {
           "aaxis": {
            "gridcolor": "#506784",
            "linecolor": "#506784",
            "ticks": ""
           },
           "baxis": {
            "gridcolor": "#506784",
            "linecolor": "#506784",
            "ticks": ""
           },
           "bgcolor": "rgb(17,17,17)",
           "caxis": {
            "gridcolor": "#506784",
            "linecolor": "#506784",
            "ticks": ""
           }
          },
          "title": {
           "x": 0.05
          },
          "updatemenudefaults": {
           "bgcolor": "#506784",
           "borderwidth": 0
          },
          "xaxis": {
           "automargin": true,
           "gridcolor": "#283442",
           "linecolor": "#506784",
           "ticks": "",
           "title": {
            "standoff": 15
           },
           "zerolinecolor": "#283442",
           "zerolinewidth": 2
          },
          "yaxis": {
           "automargin": true,
           "gridcolor": "#283442",
           "linecolor": "#506784",
           "ticks": "",
           "title": {
            "standoff": 15
           },
           "zerolinecolor": "#283442",
           "zerolinewidth": 2
          }
         }
        }
       }
      }
     },
     "metadata": {},
     "output_type": "display_data"
    }
   ],
   "source": [
    "radar_chart(US_2022_audio)"
   ]
  },
  {
   "cell_type": "markdown",
   "metadata": {},
   "source": [
    "##### Audio Heat Map "
   ]
  },
  {
   "cell_type": "code",
   "execution_count": 56,
   "metadata": {},
   "outputs": [],
   "source": [
    "def audio_heatmap(df):\n",
    "    \"\"\"\n",
    "    Creates a heatmap from a DataFrame based on the audio feature columns.\n",
    "\n",
    "    Args:\n",
    "        df (pd.DataFrame): The DataFrame to analyze.\n",
    "\n",
    "    Note:\n",
    "        This function does not return any values. It directly shows the plot using plotly.\n",
    "    \"\"\"\n",
    "    # selected features\n",
    "    cols = ['danceability', 'energy', 'liveness', 'valence', 'acousticness', 'speechiness', 'instrumentalness']\n",
    "\n",
    "    # subset dataframe\n",
    "    df_subset = df[cols]\n",
    "\n",
    "    # compute correlation matrix\n",
    "    corr_matrix = df_subset.corr()\n",
    "\n",
    "    # create a heatmap\n",
    "    fig = ff.create_annotated_heatmap(\n",
    "        z=corr_matrix.values,\n",
    "        x=list(corr_matrix.columns),\n",
    "        y=list(corr_matrix.index),\n",
    "        annotation_text=corr_matrix.round(2).values,\n",
    "        colorscale='plotly3',\n",
    "        showscale=True,\n",
    "        reversescale=True\n",
    "    )\n",
    "\n",
    "    # update layout\n",
    "    fig.update_layout(\n",
    "        title='Correlation Matrix',\n",
    "        width=800, \n",
    "        height=700,\n",
    "    )\n",
    "\n",
    "    fig.show()\n",
    "    \n",
    "def compute_correlation_matrix(df):\n",
    "    \"\"\"\n",
    "    Computes a correlation matrix for the audio feature columns in a DataFrame.\n",
    "\n",
    "    Args:\n",
    "        df (pd.DataFrame): The DataFrame to analyze.\n",
    "\n",
    "    Returns:\n",
    "        pd.DataFrame: The correlation matrix as a DataFrame.\n",
    "    \"\"\"\n",
    "    # selected features\n",
    "    cols = ['danceability', 'energy', 'liveness', 'valence', 'acousticness', 'speechiness', 'instrumentalness']\n",
    "\n",
    "    # subset dataframe\n",
    "    df_subset = df[cols]\n",
    "\n",
    "    # compute correlation matrix\n",
    "    corr_matrix = df_subset.corr()\n",
    "\n",
    "    return corr_matrix\n"
   ]
  },
  {
   "cell_type": "code",
   "execution_count": 39,
   "metadata": {},
   "outputs": [
    {
     "data": {
      "application/vnd.plotly.v1+json": {
       "config": {
        "plotlyServerURL": "https://plot.ly"
       },
       "data": [
        {
         "colorscale": [
          [
           0,
           "#0508b8"
          ],
          [
           0.08333333333333333,
           "#1910d8"
          ],
          [
           0.16666666666666666,
           "#3c19f0"
          ],
          [
           0.25,
           "#6b1cfb"
          ],
          [
           0.3333333333333333,
           "#981cfd"
          ],
          [
           0.4166666666666667,
           "#bf1cfd"
          ],
          [
           0.5,
           "#dd2bfd"
          ],
          [
           0.5833333333333334,
           "#f246fe"
          ],
          [
           0.6666666666666666,
           "#fc67fd"
          ],
          [
           0.75,
           "#fe88fc"
          ],
          [
           0.8333333333333334,
           "#fea5fd"
          ],
          [
           0.9166666666666666,
           "#febefe"
          ],
          [
           1,
           "#fec3fe"
          ]
         ],
         "reversescale": true,
         "showscale": true,
         "type": "heatmap",
         "x": [
          "danceability",
          "energy",
          "liveness",
          "valence",
          "acousticness",
          "speechiness",
          "instrumentalness"
         ],
         "y": [
          "danceability",
          "energy",
          "liveness",
          "valence",
          "acousticness",
          "speechiness",
          "instrumentalness"
         ],
         "z": [
          [
           1,
           -0.012934723591672524,
           -0.12045089632809368,
           0.382460348874177,
           -0.1518829304236402,
           0.20966933028184753,
           -0.14911001150257863
          ],
          [
           -0.012934723591672524,
           1,
           0.18476229656062734,
           0.2696704627479442,
           -0.6062895714567249,
           0.06913873727602064,
           -0.026353073894306862
          ],
          [
           -0.12045089632809368,
           0.18476229656062734,
           1,
           0.025412185391481438,
           -0.07803828380149216,
           0.08574278277083748,
           -0.021665087669943007
          ],
          [
           0.382460348874177,
           0.2696704627479442,
           0.025412185391481438,
           1,
           -0.09387779546731276,
           0.06198628212992696,
           -0.1301590398314123
          ],
          [
           -0.1518829304236402,
           -0.6062895714567249,
           -0.07803828380149216,
           -0.09387779546731276,
           1,
           -0.06024123279165013,
           0.044684761458258615
          ],
          [
           0.20966933028184753,
           0.06913873727602064,
           0.08574278277083748,
           0.06198628212992696,
           -0.06024123279165013,
           1,
           -0.15561601858044904
          ],
          [
           -0.14911001150257863,
           -0.026353073894306862,
           -0.021665087669943007,
           -0.1301590398314123,
           0.044684761458258615,
           -0.15561601858044904,
           1
          ]
         ]
        }
       ],
       "layout": {
        "annotations": [
         {
          "font": {
           "color": "#FFFFFF"
          },
          "showarrow": false,
          "text": "1.0",
          "x": "danceability",
          "xref": "x",
          "y": "danceability",
          "yref": "y"
         },
         {
          "font": {
           "color": "#000000"
          },
          "showarrow": false,
          "text": "-0.01",
          "x": "energy",
          "xref": "x",
          "y": "danceability",
          "yref": "y"
         },
         {
          "font": {
           "color": "#000000"
          },
          "showarrow": false,
          "text": "-0.12",
          "x": "liveness",
          "xref": "x",
          "y": "danceability",
          "yref": "y"
         },
         {
          "font": {
           "color": "#FFFFFF"
          },
          "showarrow": false,
          "text": "0.38",
          "x": "valence",
          "xref": "x",
          "y": "danceability",
          "yref": "y"
         },
         {
          "font": {
           "color": "#000000"
          },
          "showarrow": false,
          "text": "-0.15",
          "x": "acousticness",
          "xref": "x",
          "y": "danceability",
          "yref": "y"
         },
         {
          "font": {
           "color": "#FFFFFF"
          },
          "showarrow": false,
          "text": "0.21",
          "x": "speechiness",
          "xref": "x",
          "y": "danceability",
          "yref": "y"
         },
         {
          "font": {
           "color": "#000000"
          },
          "showarrow": false,
          "text": "-0.15",
          "x": "instrumentalness",
          "xref": "x",
          "y": "danceability",
          "yref": "y"
         },
         {
          "font": {
           "color": "#000000"
          },
          "showarrow": false,
          "text": "-0.01",
          "x": "danceability",
          "xref": "x",
          "y": "energy",
          "yref": "y"
         },
         {
          "font": {
           "color": "#FFFFFF"
          },
          "showarrow": false,
          "text": "1.0",
          "x": "energy",
          "xref": "x",
          "y": "energy",
          "yref": "y"
         },
         {
          "font": {
           "color": "#000000"
          },
          "showarrow": false,
          "text": "0.18",
          "x": "liveness",
          "xref": "x",
          "y": "energy",
          "yref": "y"
         },
         {
          "font": {
           "color": "#FFFFFF"
          },
          "showarrow": false,
          "text": "0.27",
          "x": "valence",
          "xref": "x",
          "y": "energy",
          "yref": "y"
         },
         {
          "font": {
           "color": "#000000"
          },
          "showarrow": false,
          "text": "-0.61",
          "x": "acousticness",
          "xref": "x",
          "y": "energy",
          "yref": "y"
         },
         {
          "font": {
           "color": "#000000"
          },
          "showarrow": false,
          "text": "0.07",
          "x": "speechiness",
          "xref": "x",
          "y": "energy",
          "yref": "y"
         },
         {
          "font": {
           "color": "#000000"
          },
          "showarrow": false,
          "text": "-0.03",
          "x": "instrumentalness",
          "xref": "x",
          "y": "energy",
          "yref": "y"
         },
         {
          "font": {
           "color": "#000000"
          },
          "showarrow": false,
          "text": "-0.12",
          "x": "danceability",
          "xref": "x",
          "y": "liveness",
          "yref": "y"
         },
         {
          "font": {
           "color": "#000000"
          },
          "showarrow": false,
          "text": "0.18",
          "x": "energy",
          "xref": "x",
          "y": "liveness",
          "yref": "y"
         },
         {
          "font": {
           "color": "#FFFFFF"
          },
          "showarrow": false,
          "text": "1.0",
          "x": "liveness",
          "xref": "x",
          "y": "liveness",
          "yref": "y"
         },
         {
          "font": {
           "color": "#000000"
          },
          "showarrow": false,
          "text": "0.03",
          "x": "valence",
          "xref": "x",
          "y": "liveness",
          "yref": "y"
         },
         {
          "font": {
           "color": "#000000"
          },
          "showarrow": false,
          "text": "-0.08",
          "x": "acousticness",
          "xref": "x",
          "y": "liveness",
          "yref": "y"
         },
         {
          "font": {
           "color": "#000000"
          },
          "showarrow": false,
          "text": "0.09",
          "x": "speechiness",
          "xref": "x",
          "y": "liveness",
          "yref": "y"
         },
         {
          "font": {
           "color": "#000000"
          },
          "showarrow": false,
          "text": "-0.02",
          "x": "instrumentalness",
          "xref": "x",
          "y": "liveness",
          "yref": "y"
         },
         {
          "font": {
           "color": "#FFFFFF"
          },
          "showarrow": false,
          "text": "0.38",
          "x": "danceability",
          "xref": "x",
          "y": "valence",
          "yref": "y"
         },
         {
          "font": {
           "color": "#FFFFFF"
          },
          "showarrow": false,
          "text": "0.27",
          "x": "energy",
          "xref": "x",
          "y": "valence",
          "yref": "y"
         },
         {
          "font": {
           "color": "#000000"
          },
          "showarrow": false,
          "text": "0.03",
          "x": "liveness",
          "xref": "x",
          "y": "valence",
          "yref": "y"
         },
         {
          "font": {
           "color": "#FFFFFF"
          },
          "showarrow": false,
          "text": "1.0",
          "x": "valence",
          "xref": "x",
          "y": "valence",
          "yref": "y"
         },
         {
          "font": {
           "color": "#000000"
          },
          "showarrow": false,
          "text": "-0.09",
          "x": "acousticness",
          "xref": "x",
          "y": "valence",
          "yref": "y"
         },
         {
          "font": {
           "color": "#000000"
          },
          "showarrow": false,
          "text": "0.06",
          "x": "speechiness",
          "xref": "x",
          "y": "valence",
          "yref": "y"
         },
         {
          "font": {
           "color": "#000000"
          },
          "showarrow": false,
          "text": "-0.13",
          "x": "instrumentalness",
          "xref": "x",
          "y": "valence",
          "yref": "y"
         },
         {
          "font": {
           "color": "#000000"
          },
          "showarrow": false,
          "text": "-0.15",
          "x": "danceability",
          "xref": "x",
          "y": "acousticness",
          "yref": "y"
         },
         {
          "font": {
           "color": "#000000"
          },
          "showarrow": false,
          "text": "-0.61",
          "x": "energy",
          "xref": "x",
          "y": "acousticness",
          "yref": "y"
         },
         {
          "font": {
           "color": "#000000"
          },
          "showarrow": false,
          "text": "-0.08",
          "x": "liveness",
          "xref": "x",
          "y": "acousticness",
          "yref": "y"
         },
         {
          "font": {
           "color": "#000000"
          },
          "showarrow": false,
          "text": "-0.09",
          "x": "valence",
          "xref": "x",
          "y": "acousticness",
          "yref": "y"
         },
         {
          "font": {
           "color": "#FFFFFF"
          },
          "showarrow": false,
          "text": "1.0",
          "x": "acousticness",
          "xref": "x",
          "y": "acousticness",
          "yref": "y"
         },
         {
          "font": {
           "color": "#000000"
          },
          "showarrow": false,
          "text": "-0.06",
          "x": "speechiness",
          "xref": "x",
          "y": "acousticness",
          "yref": "y"
         },
         {
          "font": {
           "color": "#000000"
          },
          "showarrow": false,
          "text": "0.04",
          "x": "instrumentalness",
          "xref": "x",
          "y": "acousticness",
          "yref": "y"
         },
         {
          "font": {
           "color": "#FFFFFF"
          },
          "showarrow": false,
          "text": "0.21",
          "x": "danceability",
          "xref": "x",
          "y": "speechiness",
          "yref": "y"
         },
         {
          "font": {
           "color": "#000000"
          },
          "showarrow": false,
          "text": "0.07",
          "x": "energy",
          "xref": "x",
          "y": "speechiness",
          "yref": "y"
         },
         {
          "font": {
           "color": "#000000"
          },
          "showarrow": false,
          "text": "0.09",
          "x": "liveness",
          "xref": "x",
          "y": "speechiness",
          "yref": "y"
         },
         {
          "font": {
           "color": "#000000"
          },
          "showarrow": false,
          "text": "0.06",
          "x": "valence",
          "xref": "x",
          "y": "speechiness",
          "yref": "y"
         },
         {
          "font": {
           "color": "#000000"
          },
          "showarrow": false,
          "text": "-0.06",
          "x": "acousticness",
          "xref": "x",
          "y": "speechiness",
          "yref": "y"
         },
         {
          "font": {
           "color": "#FFFFFF"
          },
          "showarrow": false,
          "text": "1.0",
          "x": "speechiness",
          "xref": "x",
          "y": "speechiness",
          "yref": "y"
         },
         {
          "font": {
           "color": "#000000"
          },
          "showarrow": false,
          "text": "-0.16",
          "x": "instrumentalness",
          "xref": "x",
          "y": "speechiness",
          "yref": "y"
         },
         {
          "font": {
           "color": "#000000"
          },
          "showarrow": false,
          "text": "-0.15",
          "x": "danceability",
          "xref": "x",
          "y": "instrumentalness",
          "yref": "y"
         },
         {
          "font": {
           "color": "#000000"
          },
          "showarrow": false,
          "text": "-0.03",
          "x": "energy",
          "xref": "x",
          "y": "instrumentalness",
          "yref": "y"
         },
         {
          "font": {
           "color": "#000000"
          },
          "showarrow": false,
          "text": "-0.02",
          "x": "liveness",
          "xref": "x",
          "y": "instrumentalness",
          "yref": "y"
         },
         {
          "font": {
           "color": "#000000"
          },
          "showarrow": false,
          "text": "-0.13",
          "x": "valence",
          "xref": "x",
          "y": "instrumentalness",
          "yref": "y"
         },
         {
          "font": {
           "color": "#000000"
          },
          "showarrow": false,
          "text": "0.04",
          "x": "acousticness",
          "xref": "x",
          "y": "instrumentalness",
          "yref": "y"
         },
         {
          "font": {
           "color": "#000000"
          },
          "showarrow": false,
          "text": "-0.16",
          "x": "speechiness",
          "xref": "x",
          "y": "instrumentalness",
          "yref": "y"
         },
         {
          "font": {
           "color": "#FFFFFF"
          },
          "showarrow": false,
          "text": "1.0",
          "x": "instrumentalness",
          "xref": "x",
          "y": "instrumentalness",
          "yref": "y"
         }
        ],
        "height": 700,
        "template": {
         "data": {
          "bar": [
           {
            "error_x": {
             "color": "#f2f5fa"
            },
            "error_y": {
             "color": "#f2f5fa"
            },
            "marker": {
             "line": {
              "color": "rgb(17,17,17)",
              "width": 0.5
             },
             "pattern": {
              "fillmode": "overlay",
              "size": 10,
              "solidity": 0.2
             }
            },
            "type": "bar"
           }
          ],
          "barpolar": [
           {
            "marker": {
             "line": {
              "color": "rgb(17,17,17)",
              "width": 0.5
             },
             "pattern": {
              "fillmode": "overlay",
              "size": 10,
              "solidity": 0.2
             }
            },
            "type": "barpolar"
           }
          ],
          "carpet": [
           {
            "aaxis": {
             "endlinecolor": "#A2B1C6",
             "gridcolor": "#506784",
             "linecolor": "#506784",
             "minorgridcolor": "#506784",
             "startlinecolor": "#A2B1C6"
            },
            "baxis": {
             "endlinecolor": "#A2B1C6",
             "gridcolor": "#506784",
             "linecolor": "#506784",
             "minorgridcolor": "#506784",
             "startlinecolor": "#A2B1C6"
            },
            "type": "carpet"
           }
          ],
          "choropleth": [
           {
            "colorbar": {
             "outlinewidth": 0,
             "ticks": ""
            },
            "type": "choropleth"
           }
          ],
          "contour": [
           {
            "colorbar": {
             "outlinewidth": 0,
             "ticks": ""
            },
            "colorscale": [
             [
              0,
              "#0d0887"
             ],
             [
              0.1111111111111111,
              "#46039f"
             ],
             [
              0.2222222222222222,
              "#7201a8"
             ],
             [
              0.3333333333333333,
              "#9c179e"
             ],
             [
              0.4444444444444444,
              "#bd3786"
             ],
             [
              0.5555555555555556,
              "#d8576b"
             ],
             [
              0.6666666666666666,
              "#ed7953"
             ],
             [
              0.7777777777777778,
              "#fb9f3a"
             ],
             [
              0.8888888888888888,
              "#fdca26"
             ],
             [
              1,
              "#f0f921"
             ]
            ],
            "type": "contour"
           }
          ],
          "contourcarpet": [
           {
            "colorbar": {
             "outlinewidth": 0,
             "ticks": ""
            },
            "type": "contourcarpet"
           }
          ],
          "heatmap": [
           {
            "colorbar": {
             "outlinewidth": 0,
             "ticks": ""
            },
            "colorscale": [
             [
              0,
              "#0d0887"
             ],
             [
              0.1111111111111111,
              "#46039f"
             ],
             [
              0.2222222222222222,
              "#7201a8"
             ],
             [
              0.3333333333333333,
              "#9c179e"
             ],
             [
              0.4444444444444444,
              "#bd3786"
             ],
             [
              0.5555555555555556,
              "#d8576b"
             ],
             [
              0.6666666666666666,
              "#ed7953"
             ],
             [
              0.7777777777777778,
              "#fb9f3a"
             ],
             [
              0.8888888888888888,
              "#fdca26"
             ],
             [
              1,
              "#f0f921"
             ]
            ],
            "type": "heatmap"
           }
          ],
          "heatmapgl": [
           {
            "colorbar": {
             "outlinewidth": 0,
             "ticks": ""
            },
            "colorscale": [
             [
              0,
              "#0d0887"
             ],
             [
              0.1111111111111111,
              "#46039f"
             ],
             [
              0.2222222222222222,
              "#7201a8"
             ],
             [
              0.3333333333333333,
              "#9c179e"
             ],
             [
              0.4444444444444444,
              "#bd3786"
             ],
             [
              0.5555555555555556,
              "#d8576b"
             ],
             [
              0.6666666666666666,
              "#ed7953"
             ],
             [
              0.7777777777777778,
              "#fb9f3a"
             ],
             [
              0.8888888888888888,
              "#fdca26"
             ],
             [
              1,
              "#f0f921"
             ]
            ],
            "type": "heatmapgl"
           }
          ],
          "histogram": [
           {
            "marker": {
             "pattern": {
              "fillmode": "overlay",
              "size": 10,
              "solidity": 0.2
             }
            },
            "type": "histogram"
           }
          ],
          "histogram2d": [
           {
            "colorbar": {
             "outlinewidth": 0,
             "ticks": ""
            },
            "colorscale": [
             [
              0,
              "#0d0887"
             ],
             [
              0.1111111111111111,
              "#46039f"
             ],
             [
              0.2222222222222222,
              "#7201a8"
             ],
             [
              0.3333333333333333,
              "#9c179e"
             ],
             [
              0.4444444444444444,
              "#bd3786"
             ],
             [
              0.5555555555555556,
              "#d8576b"
             ],
             [
              0.6666666666666666,
              "#ed7953"
             ],
             [
              0.7777777777777778,
              "#fb9f3a"
             ],
             [
              0.8888888888888888,
              "#fdca26"
             ],
             [
              1,
              "#f0f921"
             ]
            ],
            "type": "histogram2d"
           }
          ],
          "histogram2dcontour": [
           {
            "colorbar": {
             "outlinewidth": 0,
             "ticks": ""
            },
            "colorscale": [
             [
              0,
              "#0d0887"
             ],
             [
              0.1111111111111111,
              "#46039f"
             ],
             [
              0.2222222222222222,
              "#7201a8"
             ],
             [
              0.3333333333333333,
              "#9c179e"
             ],
             [
              0.4444444444444444,
              "#bd3786"
             ],
             [
              0.5555555555555556,
              "#d8576b"
             ],
             [
              0.6666666666666666,
              "#ed7953"
             ],
             [
              0.7777777777777778,
              "#fb9f3a"
             ],
             [
              0.8888888888888888,
              "#fdca26"
             ],
             [
              1,
              "#f0f921"
             ]
            ],
            "type": "histogram2dcontour"
           }
          ],
          "mesh3d": [
           {
            "colorbar": {
             "outlinewidth": 0,
             "ticks": ""
            },
            "type": "mesh3d"
           }
          ],
          "parcoords": [
           {
            "line": {
             "colorbar": {
              "outlinewidth": 0,
              "ticks": ""
             }
            },
            "type": "parcoords"
           }
          ],
          "pie": [
           {
            "automargin": true,
            "type": "pie"
           }
          ],
          "scatter": [
           {
            "marker": {
             "line": {
              "color": "#283442"
             }
            },
            "type": "scatter"
           }
          ],
          "scatter3d": [
           {
            "line": {
             "colorbar": {
              "outlinewidth": 0,
              "ticks": ""
             }
            },
            "marker": {
             "colorbar": {
              "outlinewidth": 0,
              "ticks": ""
             }
            },
            "type": "scatter3d"
           }
          ],
          "scattercarpet": [
           {
            "marker": {
             "colorbar": {
              "outlinewidth": 0,
              "ticks": ""
             }
            },
            "type": "scattercarpet"
           }
          ],
          "scattergeo": [
           {
            "marker": {
             "colorbar": {
              "outlinewidth": 0,
              "ticks": ""
             }
            },
            "type": "scattergeo"
           }
          ],
          "scattergl": [
           {
            "marker": {
             "line": {
              "color": "#283442"
             }
            },
            "type": "scattergl"
           }
          ],
          "scattermapbox": [
           {
            "marker": {
             "colorbar": {
              "outlinewidth": 0,
              "ticks": ""
             }
            },
            "type": "scattermapbox"
           }
          ],
          "scatterpolar": [
           {
            "marker": {
             "colorbar": {
              "outlinewidth": 0,
              "ticks": ""
             }
            },
            "type": "scatterpolar"
           }
          ],
          "scatterpolargl": [
           {
            "marker": {
             "colorbar": {
              "outlinewidth": 0,
              "ticks": ""
             }
            },
            "type": "scatterpolargl"
           }
          ],
          "scatterternary": [
           {
            "marker": {
             "colorbar": {
              "outlinewidth": 0,
              "ticks": ""
             }
            },
            "type": "scatterternary"
           }
          ],
          "surface": [
           {
            "colorbar": {
             "outlinewidth": 0,
             "ticks": ""
            },
            "colorscale": [
             [
              0,
              "#0d0887"
             ],
             [
              0.1111111111111111,
              "#46039f"
             ],
             [
              0.2222222222222222,
              "#7201a8"
             ],
             [
              0.3333333333333333,
              "#9c179e"
             ],
             [
              0.4444444444444444,
              "#bd3786"
             ],
             [
              0.5555555555555556,
              "#d8576b"
             ],
             [
              0.6666666666666666,
              "#ed7953"
             ],
             [
              0.7777777777777778,
              "#fb9f3a"
             ],
             [
              0.8888888888888888,
              "#fdca26"
             ],
             [
              1,
              "#f0f921"
             ]
            ],
            "type": "surface"
           }
          ],
          "table": [
           {
            "cells": {
             "fill": {
              "color": "#506784"
             },
             "line": {
              "color": "rgb(17,17,17)"
             }
            },
            "header": {
             "fill": {
              "color": "#2a3f5f"
             },
             "line": {
              "color": "rgb(17,17,17)"
             }
            },
            "type": "table"
           }
          ]
         },
         "layout": {
          "annotationdefaults": {
           "arrowcolor": "#f2f5fa",
           "arrowhead": 0,
           "arrowwidth": 1
          },
          "autotypenumbers": "strict",
          "coloraxis": {
           "colorbar": {
            "outlinewidth": 0,
            "ticks": ""
           }
          },
          "colorscale": {
           "diverging": [
            [
             0,
             "#8e0152"
            ],
            [
             0.1,
             "#c51b7d"
            ],
            [
             0.2,
             "#de77ae"
            ],
            [
             0.3,
             "#f1b6da"
            ],
            [
             0.4,
             "#fde0ef"
            ],
            [
             0.5,
             "#f7f7f7"
            ],
            [
             0.6,
             "#e6f5d0"
            ],
            [
             0.7,
             "#b8e186"
            ],
            [
             0.8,
             "#7fbc41"
            ],
            [
             0.9,
             "#4d9221"
            ],
            [
             1,
             "#276419"
            ]
           ],
           "sequential": [
            [
             0,
             "#0d0887"
            ],
            [
             0.1111111111111111,
             "#46039f"
            ],
            [
             0.2222222222222222,
             "#7201a8"
            ],
            [
             0.3333333333333333,
             "#9c179e"
            ],
            [
             0.4444444444444444,
             "#bd3786"
            ],
            [
             0.5555555555555556,
             "#d8576b"
            ],
            [
             0.6666666666666666,
             "#ed7953"
            ],
            [
             0.7777777777777778,
             "#fb9f3a"
            ],
            [
             0.8888888888888888,
             "#fdca26"
            ],
            [
             1,
             "#f0f921"
            ]
           ],
           "sequentialminus": [
            [
             0,
             "#0d0887"
            ],
            [
             0.1111111111111111,
             "#46039f"
            ],
            [
             0.2222222222222222,
             "#7201a8"
            ],
            [
             0.3333333333333333,
             "#9c179e"
            ],
            [
             0.4444444444444444,
             "#bd3786"
            ],
            [
             0.5555555555555556,
             "#d8576b"
            ],
            [
             0.6666666666666666,
             "#ed7953"
            ],
            [
             0.7777777777777778,
             "#fb9f3a"
            ],
            [
             0.8888888888888888,
             "#fdca26"
            ],
            [
             1,
             "#f0f921"
            ]
           ]
          },
          "colorway": [
           "#636efa",
           "#EF553B",
           "#00cc96",
           "#ab63fa",
           "#FFA15A",
           "#19d3f3",
           "#FF6692",
           "#B6E880",
           "#FF97FF",
           "#FECB52"
          ],
          "font": {
           "color": "#f2f5fa"
          },
          "geo": {
           "bgcolor": "rgb(17,17,17)",
           "lakecolor": "rgb(17,17,17)",
           "landcolor": "rgb(17,17,17)",
           "showlakes": true,
           "showland": true,
           "subunitcolor": "#506784"
          },
          "hoverlabel": {
           "align": "left"
          },
          "hovermode": "closest",
          "mapbox": {
           "style": "dark"
          },
          "paper_bgcolor": "rgb(17,17,17)",
          "plot_bgcolor": "rgb(17,17,17)",
          "polar": {
           "angularaxis": {
            "gridcolor": "#506784",
            "linecolor": "#506784",
            "ticks": ""
           },
           "bgcolor": "rgb(17,17,17)",
           "radialaxis": {
            "gridcolor": "#506784",
            "linecolor": "#506784",
            "ticks": ""
           }
          },
          "scene": {
           "xaxis": {
            "backgroundcolor": "rgb(17,17,17)",
            "gridcolor": "#506784",
            "gridwidth": 2,
            "linecolor": "#506784",
            "showbackground": true,
            "ticks": "",
            "zerolinecolor": "#C8D4E3"
           },
           "yaxis": {
            "backgroundcolor": "rgb(17,17,17)",
            "gridcolor": "#506784",
            "gridwidth": 2,
            "linecolor": "#506784",
            "showbackground": true,
            "ticks": "",
            "zerolinecolor": "#C8D4E3"
           },
           "zaxis": {
            "backgroundcolor": "rgb(17,17,17)",
            "gridcolor": "#506784",
            "gridwidth": 2,
            "linecolor": "#506784",
            "showbackground": true,
            "ticks": "",
            "zerolinecolor": "#C8D4E3"
           }
          },
          "shapedefaults": {
           "line": {
            "color": "#f2f5fa"
           }
          },
          "sliderdefaults": {
           "bgcolor": "#C8D4E3",
           "bordercolor": "rgb(17,17,17)",
           "borderwidth": 1,
           "tickwidth": 0
          },
          "ternary": {
           "aaxis": {
            "gridcolor": "#506784",
            "linecolor": "#506784",
            "ticks": ""
           },
           "baxis": {
            "gridcolor": "#506784",
            "linecolor": "#506784",
            "ticks": ""
           },
           "bgcolor": "rgb(17,17,17)",
           "caxis": {
            "gridcolor": "#506784",
            "linecolor": "#506784",
            "ticks": ""
           }
          },
          "title": {
           "x": 0.05
          },
          "updatemenudefaults": {
           "bgcolor": "#506784",
           "borderwidth": 0
          },
          "xaxis": {
           "automargin": true,
           "gridcolor": "#283442",
           "linecolor": "#506784",
           "ticks": "",
           "title": {
            "standoff": 15
           },
           "zerolinecolor": "#283442",
           "zerolinewidth": 2
          },
          "yaxis": {
           "automargin": true,
           "gridcolor": "#283442",
           "linecolor": "#506784",
           "ticks": "",
           "title": {
            "standoff": 15
           },
           "zerolinecolor": "#283442",
           "zerolinewidth": 2
          }
         }
        },
        "title": {
         "text": "Correlation Matrix"
        },
        "width": 800,
        "xaxis": {
         "dtick": 1,
         "gridcolor": "rgb(0, 0, 0)",
         "side": "top",
         "ticks": ""
        },
        "yaxis": {
         "dtick": 1,
         "ticks": "",
         "ticksuffix": "  "
        }
       }
      }
     },
     "metadata": {},
     "output_type": "display_data"
    }
   ],
   "source": [
    "audio_heatmap(US_2022_audio)"
   ]
  },
  {
   "cell_type": "code",
   "execution_count": 57,
   "metadata": {},
   "outputs": [
    {
     "data": {
      "text/html": [
       "<div>\n",
       "<style scoped>\n",
       "    .dataframe tbody tr th:only-of-type {\n",
       "        vertical-align: middle;\n",
       "    }\n",
       "\n",
       "    .dataframe tbody tr th {\n",
       "        vertical-align: top;\n",
       "    }\n",
       "\n",
       "    .dataframe thead th {\n",
       "        text-align: right;\n",
       "    }\n",
       "</style>\n",
       "<table border=\"1\" class=\"dataframe\">\n",
       "  <thead>\n",
       "    <tr style=\"text-align: right;\">\n",
       "      <th></th>\n",
       "      <th>danceability</th>\n",
       "      <th>energy</th>\n",
       "      <th>liveness</th>\n",
       "      <th>valence</th>\n",
       "      <th>acousticness</th>\n",
       "      <th>speechiness</th>\n",
       "      <th>instrumentalness</th>\n",
       "    </tr>\n",
       "  </thead>\n",
       "  <tbody>\n",
       "    <tr>\n",
       "      <th>danceability</th>\n",
       "      <td>1.000000</td>\n",
       "      <td>-0.012935</td>\n",
       "      <td>-0.120451</td>\n",
       "      <td>0.382460</td>\n",
       "      <td>-0.151883</td>\n",
       "      <td>0.209669</td>\n",
       "      <td>-0.149110</td>\n",
       "    </tr>\n",
       "    <tr>\n",
       "      <th>energy</th>\n",
       "      <td>-0.012935</td>\n",
       "      <td>1.000000</td>\n",
       "      <td>0.184762</td>\n",
       "      <td>0.269670</td>\n",
       "      <td>-0.606290</td>\n",
       "      <td>0.069139</td>\n",
       "      <td>-0.026353</td>\n",
       "    </tr>\n",
       "    <tr>\n",
       "      <th>liveness</th>\n",
       "      <td>-0.120451</td>\n",
       "      <td>0.184762</td>\n",
       "      <td>1.000000</td>\n",
       "      <td>0.025412</td>\n",
       "      <td>-0.078038</td>\n",
       "      <td>0.085743</td>\n",
       "      <td>-0.021665</td>\n",
       "    </tr>\n",
       "    <tr>\n",
       "      <th>valence</th>\n",
       "      <td>0.382460</td>\n",
       "      <td>0.269670</td>\n",
       "      <td>0.025412</td>\n",
       "      <td>1.000000</td>\n",
       "      <td>-0.093878</td>\n",
       "      <td>0.061986</td>\n",
       "      <td>-0.130159</td>\n",
       "    </tr>\n",
       "    <tr>\n",
       "      <th>acousticness</th>\n",
       "      <td>-0.151883</td>\n",
       "      <td>-0.606290</td>\n",
       "      <td>-0.078038</td>\n",
       "      <td>-0.093878</td>\n",
       "      <td>1.000000</td>\n",
       "      <td>-0.060241</td>\n",
       "      <td>0.044685</td>\n",
       "    </tr>\n",
       "    <tr>\n",
       "      <th>speechiness</th>\n",
       "      <td>0.209669</td>\n",
       "      <td>0.069139</td>\n",
       "      <td>0.085743</td>\n",
       "      <td>0.061986</td>\n",
       "      <td>-0.060241</td>\n",
       "      <td>1.000000</td>\n",
       "      <td>-0.155616</td>\n",
       "    </tr>\n",
       "    <tr>\n",
       "      <th>instrumentalness</th>\n",
       "      <td>-0.149110</td>\n",
       "      <td>-0.026353</td>\n",
       "      <td>-0.021665</td>\n",
       "      <td>-0.130159</td>\n",
       "      <td>0.044685</td>\n",
       "      <td>-0.155616</td>\n",
       "      <td>1.000000</td>\n",
       "    </tr>\n",
       "  </tbody>\n",
       "</table>\n",
       "</div>"
      ],
      "text/plain": [
       "                  danceability    energy  liveness   valence  acousticness  \\\n",
       "danceability          1.000000 -0.012935 -0.120451  0.382460     -0.151883   \n",
       "energy               -0.012935  1.000000  0.184762  0.269670     -0.606290   \n",
       "liveness             -0.120451  0.184762  1.000000  0.025412     -0.078038   \n",
       "valence               0.382460  0.269670  0.025412  1.000000     -0.093878   \n",
       "acousticness         -0.151883 -0.606290 -0.078038 -0.093878      1.000000   \n",
       "speechiness           0.209669  0.069139  0.085743  0.061986     -0.060241   \n",
       "instrumentalness     -0.149110 -0.026353 -0.021665 -0.130159      0.044685   \n",
       "\n",
       "                  speechiness  instrumentalness  \n",
       "danceability         0.209669         -0.149110  \n",
       "energy               0.069139         -0.026353  \n",
       "liveness             0.085743         -0.021665  \n",
       "valence              0.061986         -0.130159  \n",
       "acousticness        -0.060241          0.044685  \n",
       "speechiness          1.000000         -0.155616  \n",
       "instrumentalness    -0.155616          1.000000  "
      ]
     },
     "execution_count": 57,
     "metadata": {},
     "output_type": "execute_result"
    }
   ],
   "source": [
    "compute_correlation_matrix(US_2022_audio)"
   ]
  },
  {
   "cell_type": "markdown",
   "metadata": {},
   "source": [
    "##### Tempo Histogram"
   ]
  },
  {
   "cell_type": "code",
   "execution_count": 20,
   "metadata": {},
   "outputs": [],
   "source": [
    "def tempo_hist(df):\n",
    "    \"\"\"\n",
    "    Creates a histogram-like bar chart of the distribution of tempo values in a DataFrame.\n",
    "\n",
    "    Note:\n",
    "        This function does not return any values. It directly shows the plot using plotly.\n",
    "    \"\"\"\n",
    "    # round the 'tempo' column to the nearest whole number\n",
    "    df['tempo'] = df['tempo'].round(0)\n",
    "\n",
    "    # count occurrences of each tempo\n",
    "    tempo_counts = df['tempo'].value_counts()\n",
    "    tempos = tempo_counts.index\n",
    "    counts = tempo_counts.values\n",
    "    max_count = max(counts)\n",
    "\n",
    "    # create a bar chart (which looks like a histogram)\n",
    "    fig = go.Figure(data=go.Bar(\n",
    "        x=tempos,\n",
    "        y=counts,\n",
    "        marker_color=[f'rgba(255, 0, 160, {i/max_count})' for i in counts]  # simulate gradient\n",
    "    ))\n",
    "    \n",
    "    # update layout\n",
    "    fig.update_layout(\n",
    "        title=\"Tempo Distribution\",\n",
    "        xaxis_title=\"Tempo\",\n",
    "        yaxis_title=\"Count\",\n",
    "        bargap=0.05  # Gap between bars\n",
    "    )\n",
    "\n",
    "    fig.show()"
   ]
  },
  {
   "cell_type": "code",
   "execution_count": 42,
   "metadata": {},
   "outputs": [
    {
     "data": {
      "application/vnd.plotly.v1+json": {
       "config": {
        "plotlyServerURL": "https://plot.ly"
       },
       "data": [
        {
         "marker": {
          "color": [
           "rgba(255, 0, 160, 1.0)",
           "rgba(255, 0, 160, 0.9226361031518625)",
           "rgba(255, 0, 160, 0.7822349570200573)",
           "rgba(255, 0, 160, 0.66189111747851)",
           "rgba(255, 0, 160, 0.6389684813753582)",
           "rgba(255, 0, 160, 0.5873925501432665)",
           "rgba(255, 0, 160, 0.5759312320916905)",
           "rgba(255, 0, 160, 0.5530085959885387)",
           "rgba(255, 0, 160, 0.5329512893982808)",
           "rgba(255, 0, 160, 0.5329512893982808)",
           "rgba(255, 0, 160, 0.5214899713467048)",
           "rgba(255, 0, 160, 0.5128939828080229)",
           "rgba(255, 0, 160, 0.48424068767908307)",
           "rgba(255, 0, 160, 0.4785100286532951)",
           "rgba(255, 0, 160, 0.46131805157593125)",
           "rgba(255, 0, 160, 0.4183381088825215)",
           "rgba(255, 0, 160, 0.4154727793696275)",
           "rgba(255, 0, 160, 0.41260744985673353)",
           "rgba(255, 0, 160, 0.40114613180515757)",
           "rgba(255, 0, 160, 0.3868194842406877)",
           "rgba(255, 0, 160, 0.38108882521489973)",
           "rgba(255, 0, 160, 0.3753581661891118)",
           "rgba(255, 0, 160, 0.3753581661891118)",
           "rgba(255, 0, 160, 0.3753581661891118)",
           "rgba(255, 0, 160, 0.3638968481375358)",
           "rgba(255, 0, 160, 0.3553008595988539)",
           "rgba(255, 0, 160, 0.34097421203438394)",
           "rgba(255, 0, 160, 0.34097421203438394)",
           "rgba(255, 0, 160, 0.335243553008596)",
           "rgba(255, 0, 160, 0.32951289398280803)",
           "rgba(255, 0, 160, 0.32664756446991405)",
           "rgba(255, 0, 160, 0.32664756446991405)",
           "rgba(255, 0, 160, 0.32664756446991405)",
           "rgba(255, 0, 160, 0.32664756446991405)",
           "rgba(255, 0, 160, 0.32664756446991405)",
           "rgba(255, 0, 160, 0.31805157593123207)",
           "rgba(255, 0, 160, 0.3151862464183381)",
           "rgba(255, 0, 160, 0.3123209169054441)",
           "rgba(255, 0, 160, 0.30945558739255014)",
           "rgba(255, 0, 160, 0.30945558739255014)",
           "rgba(255, 0, 160, 0.3037249283667622)",
           "rgba(255, 0, 160, 0.3008595988538682)",
           "rgba(255, 0, 160, 0.29512893982808025)",
           "rgba(255, 0, 160, 0.2922636103151863)",
           "rgba(255, 0, 160, 0.28939828080229224)",
           "rgba(255, 0, 160, 0.28939828080229224)",
           "rgba(255, 0, 160, 0.28939828080229224)",
           "rgba(255, 0, 160, 0.28653295128939826)",
           "rgba(255, 0, 160, 0.2808022922636103)",
           "rgba(255, 0, 160, 0.2693409742120344)",
           "rgba(255, 0, 160, 0.2693409742120344)",
           "rgba(255, 0, 160, 0.2664756446991404)",
           "rgba(255, 0, 160, 0.2664756446991404)",
           "rgba(255, 0, 160, 0.2664756446991404)",
           "rgba(255, 0, 160, 0.2607449856733524)",
           "rgba(255, 0, 160, 0.25501432664756446)",
           "rgba(255, 0, 160, 0.2521489971346705)",
           "rgba(255, 0, 160, 0.2521489971346705)",
           "rgba(255, 0, 160, 0.2492836676217765)",
           "rgba(255, 0, 160, 0.24355300859598855)",
           "rgba(255, 0, 160, 0.24355300859598855)",
           "rgba(255, 0, 160, 0.24068767908309455)",
           "rgba(255, 0, 160, 0.23782234957020057)",
           "rgba(255, 0, 160, 0.23209169054441262)",
           "rgba(255, 0, 160, 0.22636103151862463)",
           "rgba(255, 0, 160, 0.22349570200573066)",
           "rgba(255, 0, 160, 0.22063037249283668)",
           "rgba(255, 0, 160, 0.22063037249283668)",
           "rgba(255, 0, 160, 0.22063037249283668)",
           "rgba(255, 0, 160, 0.2177650429799427)",
           "rgba(255, 0, 160, 0.2148997134670487)",
           "rgba(255, 0, 160, 0.20916905444126074)",
           "rgba(255, 0, 160, 0.2034383954154728)",
           "rgba(255, 0, 160, 0.20057306590257878)",
           "rgba(255, 0, 160, 0.20057306590257878)",
           "rgba(255, 0, 160, 0.18911174785100288)",
           "rgba(255, 0, 160, 0.18624641833810887)",
           "rgba(255, 0, 160, 0.1833810888252149)",
           "rgba(255, 0, 160, 0.18051575931232092)",
           "rgba(255, 0, 160, 0.18051575931232092)",
           "rgba(255, 0, 160, 0.17478510028653296)",
           "rgba(255, 0, 160, 0.17191977077363896)",
           "rgba(255, 0, 160, 0.16332378223495703)",
           "rgba(255, 0, 160, 0.16332378223495703)",
           "rgba(255, 0, 160, 0.15759312320916904)",
           "rgba(255, 0, 160, 0.15759312320916904)",
           "rgba(255, 0, 160, 0.15472779369627507)",
           "rgba(255, 0, 160, 0.15472779369627507)",
           "rgba(255, 0, 160, 0.1518624641833811)",
           "rgba(255, 0, 160, 0.1489971346704871)",
           "rgba(255, 0, 160, 0.12607449856733524)",
           "rgba(255, 0, 160, 0.12320916905444126)",
           "rgba(255, 0, 160, 0.12034383954154727)",
           "rgba(255, 0, 160, 0.11461318051575932)",
           "rgba(255, 0, 160, 0.10888252148997135)",
           "rgba(255, 0, 160, 0.10601719197707736)",
           "rgba(255, 0, 160, 0.09742120343839542)",
           "rgba(255, 0, 160, 0.09169054441260745)",
           "rgba(255, 0, 160, 0.09169054441260745)",
           "rgba(255, 0, 160, 0.08882521489971347)",
           "rgba(255, 0, 160, 0.08882521489971347)",
           "rgba(255, 0, 160, 0.08595988538681948)",
           "rgba(255, 0, 160, 0.0830945558739255)",
           "rgba(255, 0, 160, 0.08022922636103152)",
           "rgba(255, 0, 160, 0.07449856733524356)",
           "rgba(255, 0, 160, 0.07163323782234957)",
           "rgba(255, 0, 160, 0.0659025787965616)",
           "rgba(255, 0, 160, 0.06017191977077364)",
           "rgba(255, 0, 160, 0.06017191977077364)",
           "rgba(255, 0, 160, 0.05730659025787966)",
           "rgba(255, 0, 160, 0.05730659025787966)",
           "rgba(255, 0, 160, 0.054441260744985676)",
           "rgba(255, 0, 160, 0.04871060171919771)",
           "rgba(255, 0, 160, 0.04297994269340974)",
           "rgba(255, 0, 160, 0.04011461318051576)",
           "rgba(255, 0, 160, 0.04011461318051576)",
           "rgba(255, 0, 160, 0.03724928366762178)",
           "rgba(255, 0, 160, 0.03724928366762178)",
           "rgba(255, 0, 160, 0.03724928366762178)",
           "rgba(255, 0, 160, 0.03724928366762178)",
           "rgba(255, 0, 160, 0.03151862464183381)",
           "rgba(255, 0, 160, 0.03151862464183381)",
           "rgba(255, 0, 160, 0.03151862464183381)",
           "rgba(255, 0, 160, 0.02865329512893983)",
           "rgba(255, 0, 160, 0.02865329512893983)",
           "rgba(255, 0, 160, 0.02865329512893983)",
           "rgba(255, 0, 160, 0.025787965616045846)",
           "rgba(255, 0, 160, 0.02005730659025788)",
           "rgba(255, 0, 160, 0.02005730659025788)",
           "rgba(255, 0, 160, 0.02005730659025788)",
           "rgba(255, 0, 160, 0.017191977077363897)",
           "rgba(255, 0, 160, 0.017191977077363897)",
           "rgba(255, 0, 160, 0.014326647564469915)",
           "rgba(255, 0, 160, 0.014326647564469915)",
           "rgba(255, 0, 160, 0.014326647564469915)",
           "rgba(255, 0, 160, 0.014326647564469915)",
           "rgba(255, 0, 160, 0.014326647564469915)",
           "rgba(255, 0, 160, 0.014326647564469915)",
           "rgba(255, 0, 160, 0.011461318051575931)",
           "rgba(255, 0, 160, 0.011461318051575931)",
           "rgba(255, 0, 160, 0.011461318051575931)",
           "rgba(255, 0, 160, 0.011461318051575931)",
           "rgba(255, 0, 160, 0.008595988538681949)",
           "rgba(255, 0, 160, 0.008595988538681949)",
           "rgba(255, 0, 160, 0.0057306590257879654)",
           "rgba(255, 0, 160, 0.0057306590257879654)",
           "rgba(255, 0, 160, 0.0057306590257879654)",
           "rgba(255, 0, 160, 0.0057306590257879654)",
           "rgba(255, 0, 160, 0.0057306590257879654)",
           "rgba(255, 0, 160, 0.0057306590257879654)",
           "rgba(255, 0, 160, 0.0028653295128939827)",
           "rgba(255, 0, 160, 0.0028653295128939827)",
           "rgba(255, 0, 160, 0.0028653295128939827)",
           "rgba(255, 0, 160, 0.0028653295128939827)",
           "rgba(255, 0, 160, 0.0028653295128939827)",
           "rgba(255, 0, 160, 0.0028653295128939827)",
           "rgba(255, 0, 160, 0.0028653295128939827)",
           "rgba(255, 0, 160, 0.0028653295128939827)",
           "rgba(255, 0, 160, 0.0028653295128939827)",
           "rgba(255, 0, 160, 0.0028653295128939827)",
           "rgba(255, 0, 160, 0.0028653295128939827)",
           "rgba(255, 0, 160, 0.0028653295128939827)",
           "rgba(255, 0, 160, 0.0028653295128939827)",
           "rgba(255, 0, 160, 0.0028653295128939827)",
           "rgba(255, 0, 160, 0.0028653295128939827)",
           "rgba(255, 0, 160, 0.0028653295128939827)",
           "rgba(255, 0, 160, 0.0028653295128939827)"
          ]
         },
         "type": "bar",
         "x": [
          120,
          140,
          130,
          100,
          128,
          150,
          80,
          90,
          125,
          110,
          95,
          115,
          123,
          126,
          92,
          122,
          93,
          160,
          124,
          135,
          98,
          105,
          97,
          94,
          108,
          96,
          134,
          82,
          106,
          144,
          142,
          138,
          127,
          118,
          116,
          145,
          170,
          83,
          132,
          136,
          119,
          103,
          112,
          131,
          87,
          114,
          102,
          75,
          84,
          117,
          91,
          104,
          81,
          85,
          77,
          129,
          99,
          88,
          180,
          111,
          146,
          79,
          76,
          174,
          113,
          78,
          107,
          101,
          109,
          121,
          137,
          86,
          158,
          148,
          172,
          89,
          152,
          176,
          168,
          133,
          162,
          155,
          166,
          143,
          141,
          177,
          139,
          156,
          147,
          164,
          157,
          175,
          154,
          151,
          149,
          178,
          165,
          173,
          73,
          153,
          169,
          72,
          74,
          167,
          171,
          159,
          200,
          184,
          182,
          181,
          163,
          186,
          196,
          68,
          70,
          183,
          188,
          161,
          71,
          190,
          66,
          69,
          185,
          192,
          204,
          63,
          67,
          194,
          58,
          60,
          198,
          202,
          62,
          203,
          193,
          206,
          207,
          65,
          191,
          201,
          179,
          195,
          187,
          189,
          64,
          55,
          52,
          197,
          59,
          54,
          40,
          211,
          47,
          61,
          50,
          56,
          208,
          199,
          210,
          217,
          43,
          48,
          218,
          57,
          220,
          205,
          49
         ],
         "y": [
          349,
          322,
          273,
          231,
          223,
          205,
          201,
          193,
          186,
          186,
          182,
          179,
          169,
          167,
          161,
          146,
          145,
          144,
          140,
          135,
          133,
          131,
          131,
          131,
          127,
          124,
          119,
          119,
          117,
          115,
          114,
          114,
          114,
          114,
          114,
          111,
          110,
          109,
          108,
          108,
          106,
          105,
          103,
          102,
          101,
          101,
          101,
          100,
          98,
          94,
          94,
          93,
          93,
          93,
          91,
          89,
          88,
          88,
          87,
          85,
          85,
          84,
          83,
          81,
          79,
          78,
          77,
          77,
          77,
          76,
          75,
          73,
          71,
          70,
          70,
          66,
          65,
          64,
          63,
          63,
          61,
          60,
          57,
          57,
          55,
          55,
          54,
          54,
          53,
          52,
          44,
          43,
          42,
          40,
          38,
          37,
          34,
          32,
          32,
          31,
          31,
          30,
          29,
          28,
          26,
          25,
          23,
          21,
          21,
          20,
          20,
          19,
          17,
          15,
          14,
          14,
          13,
          13,
          13,
          13,
          11,
          11,
          11,
          10,
          10,
          10,
          9,
          7,
          7,
          7,
          6,
          6,
          5,
          5,
          5,
          5,
          5,
          5,
          4,
          4,
          4,
          4,
          3,
          3,
          2,
          2,
          2,
          2,
          2,
          2,
          1,
          1,
          1,
          1,
          1,
          1,
          1,
          1,
          1,
          1,
          1,
          1,
          1,
          1,
          1,
          1,
          1
         ]
        }
       ],
       "layout": {
        "bargap": 0.05,
        "template": {
         "data": {
          "bar": [
           {
            "error_x": {
             "color": "#f2f5fa"
            },
            "error_y": {
             "color": "#f2f5fa"
            },
            "marker": {
             "line": {
              "color": "rgb(17,17,17)",
              "width": 0.5
             },
             "pattern": {
              "fillmode": "overlay",
              "size": 10,
              "solidity": 0.2
             }
            },
            "type": "bar"
           }
          ],
          "barpolar": [
           {
            "marker": {
             "line": {
              "color": "rgb(17,17,17)",
              "width": 0.5
             },
             "pattern": {
              "fillmode": "overlay",
              "size": 10,
              "solidity": 0.2
             }
            },
            "type": "barpolar"
           }
          ],
          "carpet": [
           {
            "aaxis": {
             "endlinecolor": "#A2B1C6",
             "gridcolor": "#506784",
             "linecolor": "#506784",
             "minorgridcolor": "#506784",
             "startlinecolor": "#A2B1C6"
            },
            "baxis": {
             "endlinecolor": "#A2B1C6",
             "gridcolor": "#506784",
             "linecolor": "#506784",
             "minorgridcolor": "#506784",
             "startlinecolor": "#A2B1C6"
            },
            "type": "carpet"
           }
          ],
          "choropleth": [
           {
            "colorbar": {
             "outlinewidth": 0,
             "ticks": ""
            },
            "type": "choropleth"
           }
          ],
          "contour": [
           {
            "colorbar": {
             "outlinewidth": 0,
             "ticks": ""
            },
            "colorscale": [
             [
              0,
              "#0d0887"
             ],
             [
              0.1111111111111111,
              "#46039f"
             ],
             [
              0.2222222222222222,
              "#7201a8"
             ],
             [
              0.3333333333333333,
              "#9c179e"
             ],
             [
              0.4444444444444444,
              "#bd3786"
             ],
             [
              0.5555555555555556,
              "#d8576b"
             ],
             [
              0.6666666666666666,
              "#ed7953"
             ],
             [
              0.7777777777777778,
              "#fb9f3a"
             ],
             [
              0.8888888888888888,
              "#fdca26"
             ],
             [
              1,
              "#f0f921"
             ]
            ],
            "type": "contour"
           }
          ],
          "contourcarpet": [
           {
            "colorbar": {
             "outlinewidth": 0,
             "ticks": ""
            },
            "type": "contourcarpet"
           }
          ],
          "heatmap": [
           {
            "colorbar": {
             "outlinewidth": 0,
             "ticks": ""
            },
            "colorscale": [
             [
              0,
              "#0d0887"
             ],
             [
              0.1111111111111111,
              "#46039f"
             ],
             [
              0.2222222222222222,
              "#7201a8"
             ],
             [
              0.3333333333333333,
              "#9c179e"
             ],
             [
              0.4444444444444444,
              "#bd3786"
             ],
             [
              0.5555555555555556,
              "#d8576b"
             ],
             [
              0.6666666666666666,
              "#ed7953"
             ],
             [
              0.7777777777777778,
              "#fb9f3a"
             ],
             [
              0.8888888888888888,
              "#fdca26"
             ],
             [
              1,
              "#f0f921"
             ]
            ],
            "type": "heatmap"
           }
          ],
          "heatmapgl": [
           {
            "colorbar": {
             "outlinewidth": 0,
             "ticks": ""
            },
            "colorscale": [
             [
              0,
              "#0d0887"
             ],
             [
              0.1111111111111111,
              "#46039f"
             ],
             [
              0.2222222222222222,
              "#7201a8"
             ],
             [
              0.3333333333333333,
              "#9c179e"
             ],
             [
              0.4444444444444444,
              "#bd3786"
             ],
             [
              0.5555555555555556,
              "#d8576b"
             ],
             [
              0.6666666666666666,
              "#ed7953"
             ],
             [
              0.7777777777777778,
              "#fb9f3a"
             ],
             [
              0.8888888888888888,
              "#fdca26"
             ],
             [
              1,
              "#f0f921"
             ]
            ],
            "type": "heatmapgl"
           }
          ],
          "histogram": [
           {
            "marker": {
             "pattern": {
              "fillmode": "overlay",
              "size": 10,
              "solidity": 0.2
             }
            },
            "type": "histogram"
           }
          ],
          "histogram2d": [
           {
            "colorbar": {
             "outlinewidth": 0,
             "ticks": ""
            },
            "colorscale": [
             [
              0,
              "#0d0887"
             ],
             [
              0.1111111111111111,
              "#46039f"
             ],
             [
              0.2222222222222222,
              "#7201a8"
             ],
             [
              0.3333333333333333,
              "#9c179e"
             ],
             [
              0.4444444444444444,
              "#bd3786"
             ],
             [
              0.5555555555555556,
              "#d8576b"
             ],
             [
              0.6666666666666666,
              "#ed7953"
             ],
             [
              0.7777777777777778,
              "#fb9f3a"
             ],
             [
              0.8888888888888888,
              "#fdca26"
             ],
             [
              1,
              "#f0f921"
             ]
            ],
            "type": "histogram2d"
           }
          ],
          "histogram2dcontour": [
           {
            "colorbar": {
             "outlinewidth": 0,
             "ticks": ""
            },
            "colorscale": [
             [
              0,
              "#0d0887"
             ],
             [
              0.1111111111111111,
              "#46039f"
             ],
             [
              0.2222222222222222,
              "#7201a8"
             ],
             [
              0.3333333333333333,
              "#9c179e"
             ],
             [
              0.4444444444444444,
              "#bd3786"
             ],
             [
              0.5555555555555556,
              "#d8576b"
             ],
             [
              0.6666666666666666,
              "#ed7953"
             ],
             [
              0.7777777777777778,
              "#fb9f3a"
             ],
             [
              0.8888888888888888,
              "#fdca26"
             ],
             [
              1,
              "#f0f921"
             ]
            ],
            "type": "histogram2dcontour"
           }
          ],
          "mesh3d": [
           {
            "colorbar": {
             "outlinewidth": 0,
             "ticks": ""
            },
            "type": "mesh3d"
           }
          ],
          "parcoords": [
           {
            "line": {
             "colorbar": {
              "outlinewidth": 0,
              "ticks": ""
             }
            },
            "type": "parcoords"
           }
          ],
          "pie": [
           {
            "automargin": true,
            "type": "pie"
           }
          ],
          "scatter": [
           {
            "marker": {
             "line": {
              "color": "#283442"
             }
            },
            "type": "scatter"
           }
          ],
          "scatter3d": [
           {
            "line": {
             "colorbar": {
              "outlinewidth": 0,
              "ticks": ""
             }
            },
            "marker": {
             "colorbar": {
              "outlinewidth": 0,
              "ticks": ""
             }
            },
            "type": "scatter3d"
           }
          ],
          "scattercarpet": [
           {
            "marker": {
             "colorbar": {
              "outlinewidth": 0,
              "ticks": ""
             }
            },
            "type": "scattercarpet"
           }
          ],
          "scattergeo": [
           {
            "marker": {
             "colorbar": {
              "outlinewidth": 0,
              "ticks": ""
             }
            },
            "type": "scattergeo"
           }
          ],
          "scattergl": [
           {
            "marker": {
             "line": {
              "color": "#283442"
             }
            },
            "type": "scattergl"
           }
          ],
          "scattermapbox": [
           {
            "marker": {
             "colorbar": {
              "outlinewidth": 0,
              "ticks": ""
             }
            },
            "type": "scattermapbox"
           }
          ],
          "scatterpolar": [
           {
            "marker": {
             "colorbar": {
              "outlinewidth": 0,
              "ticks": ""
             }
            },
            "type": "scatterpolar"
           }
          ],
          "scatterpolargl": [
           {
            "marker": {
             "colorbar": {
              "outlinewidth": 0,
              "ticks": ""
             }
            },
            "type": "scatterpolargl"
           }
          ],
          "scatterternary": [
           {
            "marker": {
             "colorbar": {
              "outlinewidth": 0,
              "ticks": ""
             }
            },
            "type": "scatterternary"
           }
          ],
          "surface": [
           {
            "colorbar": {
             "outlinewidth": 0,
             "ticks": ""
            },
            "colorscale": [
             [
              0,
              "#0d0887"
             ],
             [
              0.1111111111111111,
              "#46039f"
             ],
             [
              0.2222222222222222,
              "#7201a8"
             ],
             [
              0.3333333333333333,
              "#9c179e"
             ],
             [
              0.4444444444444444,
              "#bd3786"
             ],
             [
              0.5555555555555556,
              "#d8576b"
             ],
             [
              0.6666666666666666,
              "#ed7953"
             ],
             [
              0.7777777777777778,
              "#fb9f3a"
             ],
             [
              0.8888888888888888,
              "#fdca26"
             ],
             [
              1,
              "#f0f921"
             ]
            ],
            "type": "surface"
           }
          ],
          "table": [
           {
            "cells": {
             "fill": {
              "color": "#506784"
             },
             "line": {
              "color": "rgb(17,17,17)"
             }
            },
            "header": {
             "fill": {
              "color": "#2a3f5f"
             },
             "line": {
              "color": "rgb(17,17,17)"
             }
            },
            "type": "table"
           }
          ]
         },
         "layout": {
          "annotationdefaults": {
           "arrowcolor": "#f2f5fa",
           "arrowhead": 0,
           "arrowwidth": 1
          },
          "autotypenumbers": "strict",
          "coloraxis": {
           "colorbar": {
            "outlinewidth": 0,
            "ticks": ""
           }
          },
          "colorscale": {
           "diverging": [
            [
             0,
             "#8e0152"
            ],
            [
             0.1,
             "#c51b7d"
            ],
            [
             0.2,
             "#de77ae"
            ],
            [
             0.3,
             "#f1b6da"
            ],
            [
             0.4,
             "#fde0ef"
            ],
            [
             0.5,
             "#f7f7f7"
            ],
            [
             0.6,
             "#e6f5d0"
            ],
            [
             0.7,
             "#b8e186"
            ],
            [
             0.8,
             "#7fbc41"
            ],
            [
             0.9,
             "#4d9221"
            ],
            [
             1,
             "#276419"
            ]
           ],
           "sequential": [
            [
             0,
             "#0d0887"
            ],
            [
             0.1111111111111111,
             "#46039f"
            ],
            [
             0.2222222222222222,
             "#7201a8"
            ],
            [
             0.3333333333333333,
             "#9c179e"
            ],
            [
             0.4444444444444444,
             "#bd3786"
            ],
            [
             0.5555555555555556,
             "#d8576b"
            ],
            [
             0.6666666666666666,
             "#ed7953"
            ],
            [
             0.7777777777777778,
             "#fb9f3a"
            ],
            [
             0.8888888888888888,
             "#fdca26"
            ],
            [
             1,
             "#f0f921"
            ]
           ],
           "sequentialminus": [
            [
             0,
             "#0d0887"
            ],
            [
             0.1111111111111111,
             "#46039f"
            ],
            [
             0.2222222222222222,
             "#7201a8"
            ],
            [
             0.3333333333333333,
             "#9c179e"
            ],
            [
             0.4444444444444444,
             "#bd3786"
            ],
            [
             0.5555555555555556,
             "#d8576b"
            ],
            [
             0.6666666666666666,
             "#ed7953"
            ],
            [
             0.7777777777777778,
             "#fb9f3a"
            ],
            [
             0.8888888888888888,
             "#fdca26"
            ],
            [
             1,
             "#f0f921"
            ]
           ]
          },
          "colorway": [
           "#636efa",
           "#EF553B",
           "#00cc96",
           "#ab63fa",
           "#FFA15A",
           "#19d3f3",
           "#FF6692",
           "#B6E880",
           "#FF97FF",
           "#FECB52"
          ],
          "font": {
           "color": "#f2f5fa"
          },
          "geo": {
           "bgcolor": "rgb(17,17,17)",
           "lakecolor": "rgb(17,17,17)",
           "landcolor": "rgb(17,17,17)",
           "showlakes": true,
           "showland": true,
           "subunitcolor": "#506784"
          },
          "hoverlabel": {
           "align": "left"
          },
          "hovermode": "closest",
          "mapbox": {
           "style": "dark"
          },
          "paper_bgcolor": "rgb(17,17,17)",
          "plot_bgcolor": "rgb(17,17,17)",
          "polar": {
           "angularaxis": {
            "gridcolor": "#506784",
            "linecolor": "#506784",
            "ticks": ""
           },
           "bgcolor": "rgb(17,17,17)",
           "radialaxis": {
            "gridcolor": "#506784",
            "linecolor": "#506784",
            "ticks": ""
           }
          },
          "scene": {
           "xaxis": {
            "backgroundcolor": "rgb(17,17,17)",
            "gridcolor": "#506784",
            "gridwidth": 2,
            "linecolor": "#506784",
            "showbackground": true,
            "ticks": "",
            "zerolinecolor": "#C8D4E3"
           },
           "yaxis": {
            "backgroundcolor": "rgb(17,17,17)",
            "gridcolor": "#506784",
            "gridwidth": 2,
            "linecolor": "#506784",
            "showbackground": true,
            "ticks": "",
            "zerolinecolor": "#C8D4E3"
           },
           "zaxis": {
            "backgroundcolor": "rgb(17,17,17)",
            "gridcolor": "#506784",
            "gridwidth": 2,
            "linecolor": "#506784",
            "showbackground": true,
            "ticks": "",
            "zerolinecolor": "#C8D4E3"
           }
          },
          "shapedefaults": {
           "line": {
            "color": "#f2f5fa"
           }
          },
          "sliderdefaults": {
           "bgcolor": "#C8D4E3",
           "bordercolor": "rgb(17,17,17)",
           "borderwidth": 1,
           "tickwidth": 0
          },
          "ternary": {
           "aaxis": {
            "gridcolor": "#506784",
            "linecolor": "#506784",
            "ticks": ""
           },
           "baxis": {
            "gridcolor": "#506784",
            "linecolor": "#506784",
            "ticks": ""
           },
           "bgcolor": "rgb(17,17,17)",
           "caxis": {
            "gridcolor": "#506784",
            "linecolor": "#506784",
            "ticks": ""
           }
          },
          "title": {
           "x": 0.05
          },
          "updatemenudefaults": {
           "bgcolor": "#506784",
           "borderwidth": 0
          },
          "xaxis": {
           "automargin": true,
           "gridcolor": "#283442",
           "linecolor": "#506784",
           "ticks": "",
           "title": {
            "standoff": 15
           },
           "zerolinecolor": "#283442",
           "zerolinewidth": 2
          },
          "yaxis": {
           "automargin": true,
           "gridcolor": "#283442",
           "linecolor": "#506784",
           "ticks": "",
           "title": {
            "standoff": 15
           },
           "zerolinecolor": "#283442",
           "zerolinewidth": 2
          }
         }
        },
        "title": {
         "text": "Tempo Distribution"
        },
        "xaxis": {
         "title": {
          "text": "Tempo"
         }
        },
        "yaxis": {
         "title": {
          "text": "Count"
         }
        }
       }
      }
     },
     "metadata": {},
     "output_type": "display_data"
    }
   ],
   "source": [
    "tempo_hist(US_2022_audio)"
   ]
  },
  {
   "cell_type": "code",
   "execution_count": 58,
   "metadata": {},
   "outputs": [
    {
     "data": {
      "text/plain": [
       "count    11211.000000\n",
       "mean       121.163233\n",
       "std         29.435554\n",
       "min         40.000000\n",
       "25%         97.000000\n",
       "50%        120.000000\n",
       "75%        140.000000\n",
       "max        220.000000\n",
       "Name: tempo, dtype: float64"
      ]
     },
     "execution_count": 58,
     "metadata": {},
     "output_type": "execute_result"
    }
   ],
   "source": [
    "US_2022_audio['tempo'].describe()"
   ]
  },
  {
   "cell_type": "markdown",
   "metadata": {},
   "source": [
    "##### Key Histogram "
   ]
  },
  {
   "cell_type": "code",
   "execution_count": 43,
   "metadata": {},
   "outputs": [],
   "source": [
    "def plot_key_distribution(df):\n",
    "    \"\"\"\n",
    "    Creates a bar chart of the distribution of keys in a DataFrame.\n",
    "\n",
    "    Note:\n",
    "        This function does not return any values. It directly shows the plot using plotly.\n",
    "    \"\"\"\n",
    "    # create a dictionary to map integers to musical keys\n",
    "    key_mapping = {\n",
    "        0: \"C\",\n",
    "        1: \"C♯/D♭\",\n",
    "        2: \"D\",\n",
    "        3: \"D♯/E♭\",\n",
    "        4: \"E\",\n",
    "        5: \"F\",\n",
    "        6: \"F♯/G♭\",\n",
    "        7: \"G\",\n",
    "        8: \"G♯/A♭\",\n",
    "        9: \"A\",\n",
    "        10: \"A♯/B♭\",\n",
    "        11: \"B\"\n",
    "    }\n",
    "\n",
    "    # create a copy of the DataFrame to avoid modifying the original one\n",
    "    df_copy = df.copy()\n",
    "    \n",
    "    # replace integer keys with musical keys in the 'key' column of the copied DataFrame\n",
    "    df_copy['key'] = df_copy['key'].map(key_mapping)\n",
    "\n",
    "    # count the occurrences of each key\n",
    "    key_counts = df_copy['key'].value_counts().reset_index()\n",
    "    key_counts.columns = ['key', 'count']\n",
    "\n",
    "    # create a bar chart\n",
    "    fig = go.Figure(data=go.Bar(\n",
    "        x=key_counts['key'],\n",
    "        y=key_counts['count'],\n",
    "        marker_color='rgba(5, 215, 243, 1)'  # single color for all bars\n",
    "    ))\n",
    "\n",
    "    # update layout\n",
    "    fig.update_layout(\n",
    "        title=\"Key Distribution\",\n",
    "        xaxis_title=\"Key\",\n",
    "        yaxis_title=\"Count\",\n",
    "        bargap=0.05  # gap between bars\n",
    "    )\n",
    "\n",
    "    fig.show()\n"
   ]
  },
  {
   "cell_type": "code",
   "execution_count": 59,
   "metadata": {},
   "outputs": [
    {
     "data": {
      "text/plain": [
       "count    11211.000000\n",
       "mean         5.356703\n",
       "std          3.608056\n",
       "min          0.000000\n",
       "25%          2.000000\n",
       "50%          5.000000\n",
       "75%          9.000000\n",
       "max         11.000000\n",
       "Name: key, dtype: float64"
      ]
     },
     "execution_count": 59,
     "metadata": {},
     "output_type": "execute_result"
    }
   ],
   "source": [
    "US_2022_audio['key'].describe()"
   ]
  },
  {
   "cell_type": "code",
   "execution_count": 44,
   "metadata": {},
   "outputs": [
    {
     "data": {
      "application/vnd.plotly.v1+json": {
       "config": {
        "plotlyServerURL": "https://plot.ly"
       },
       "data": [
        {
         "marker": {
          "color": "rgba(5, 215, 243, 1)"
         },
         "type": "bar",
         "x": [
          "C♯/D♭",
          "G",
          "C",
          "D",
          "A",
          "B",
          "F",
          "G♯/A♭",
          "E",
          "F♯/G♭",
          "A♯/B♭",
          "D♯/E♭"
         ],
         "y": [
          1359,
          1142,
          1125,
          1058,
          1043,
          1033,
          936,
          847,
          796,
          760,
          757,
          355
         ]
        }
       ],
       "layout": {
        "bargap": 0.05,
        "template": {
         "data": {
          "bar": [
           {
            "error_x": {
             "color": "#f2f5fa"
            },
            "error_y": {
             "color": "#f2f5fa"
            },
            "marker": {
             "line": {
              "color": "rgb(17,17,17)",
              "width": 0.5
             },
             "pattern": {
              "fillmode": "overlay",
              "size": 10,
              "solidity": 0.2
             }
            },
            "type": "bar"
           }
          ],
          "barpolar": [
           {
            "marker": {
             "line": {
              "color": "rgb(17,17,17)",
              "width": 0.5
             },
             "pattern": {
              "fillmode": "overlay",
              "size": 10,
              "solidity": 0.2
             }
            },
            "type": "barpolar"
           }
          ],
          "carpet": [
           {
            "aaxis": {
             "endlinecolor": "#A2B1C6",
             "gridcolor": "#506784",
             "linecolor": "#506784",
             "minorgridcolor": "#506784",
             "startlinecolor": "#A2B1C6"
            },
            "baxis": {
             "endlinecolor": "#A2B1C6",
             "gridcolor": "#506784",
             "linecolor": "#506784",
             "minorgridcolor": "#506784",
             "startlinecolor": "#A2B1C6"
            },
            "type": "carpet"
           }
          ],
          "choropleth": [
           {
            "colorbar": {
             "outlinewidth": 0,
             "ticks": ""
            },
            "type": "choropleth"
           }
          ],
          "contour": [
           {
            "colorbar": {
             "outlinewidth": 0,
             "ticks": ""
            },
            "colorscale": [
             [
              0,
              "#0d0887"
             ],
             [
              0.1111111111111111,
              "#46039f"
             ],
             [
              0.2222222222222222,
              "#7201a8"
             ],
             [
              0.3333333333333333,
              "#9c179e"
             ],
             [
              0.4444444444444444,
              "#bd3786"
             ],
             [
              0.5555555555555556,
              "#d8576b"
             ],
             [
              0.6666666666666666,
              "#ed7953"
             ],
             [
              0.7777777777777778,
              "#fb9f3a"
             ],
             [
              0.8888888888888888,
              "#fdca26"
             ],
             [
              1,
              "#f0f921"
             ]
            ],
            "type": "contour"
           }
          ],
          "contourcarpet": [
           {
            "colorbar": {
             "outlinewidth": 0,
             "ticks": ""
            },
            "type": "contourcarpet"
           }
          ],
          "heatmap": [
           {
            "colorbar": {
             "outlinewidth": 0,
             "ticks": ""
            },
            "colorscale": [
             [
              0,
              "#0d0887"
             ],
             [
              0.1111111111111111,
              "#46039f"
             ],
             [
              0.2222222222222222,
              "#7201a8"
             ],
             [
              0.3333333333333333,
              "#9c179e"
             ],
             [
              0.4444444444444444,
              "#bd3786"
             ],
             [
              0.5555555555555556,
              "#d8576b"
             ],
             [
              0.6666666666666666,
              "#ed7953"
             ],
             [
              0.7777777777777778,
              "#fb9f3a"
             ],
             [
              0.8888888888888888,
              "#fdca26"
             ],
             [
              1,
              "#f0f921"
             ]
            ],
            "type": "heatmap"
           }
          ],
          "heatmapgl": [
           {
            "colorbar": {
             "outlinewidth": 0,
             "ticks": ""
            },
            "colorscale": [
             [
              0,
              "#0d0887"
             ],
             [
              0.1111111111111111,
              "#46039f"
             ],
             [
              0.2222222222222222,
              "#7201a8"
             ],
             [
              0.3333333333333333,
              "#9c179e"
             ],
             [
              0.4444444444444444,
              "#bd3786"
             ],
             [
              0.5555555555555556,
              "#d8576b"
             ],
             [
              0.6666666666666666,
              "#ed7953"
             ],
             [
              0.7777777777777778,
              "#fb9f3a"
             ],
             [
              0.8888888888888888,
              "#fdca26"
             ],
             [
              1,
              "#f0f921"
             ]
            ],
            "type": "heatmapgl"
           }
          ],
          "histogram": [
           {
            "marker": {
             "pattern": {
              "fillmode": "overlay",
              "size": 10,
              "solidity": 0.2
             }
            },
            "type": "histogram"
           }
          ],
          "histogram2d": [
           {
            "colorbar": {
             "outlinewidth": 0,
             "ticks": ""
            },
            "colorscale": [
             [
              0,
              "#0d0887"
             ],
             [
              0.1111111111111111,
              "#46039f"
             ],
             [
              0.2222222222222222,
              "#7201a8"
             ],
             [
              0.3333333333333333,
              "#9c179e"
             ],
             [
              0.4444444444444444,
              "#bd3786"
             ],
             [
              0.5555555555555556,
              "#d8576b"
             ],
             [
              0.6666666666666666,
              "#ed7953"
             ],
             [
              0.7777777777777778,
              "#fb9f3a"
             ],
             [
              0.8888888888888888,
              "#fdca26"
             ],
             [
              1,
              "#f0f921"
             ]
            ],
            "type": "histogram2d"
           }
          ],
          "histogram2dcontour": [
           {
            "colorbar": {
             "outlinewidth": 0,
             "ticks": ""
            },
            "colorscale": [
             [
              0,
              "#0d0887"
             ],
             [
              0.1111111111111111,
              "#46039f"
             ],
             [
              0.2222222222222222,
              "#7201a8"
             ],
             [
              0.3333333333333333,
              "#9c179e"
             ],
             [
              0.4444444444444444,
              "#bd3786"
             ],
             [
              0.5555555555555556,
              "#d8576b"
             ],
             [
              0.6666666666666666,
              "#ed7953"
             ],
             [
              0.7777777777777778,
              "#fb9f3a"
             ],
             [
              0.8888888888888888,
              "#fdca26"
             ],
             [
              1,
              "#f0f921"
             ]
            ],
            "type": "histogram2dcontour"
           }
          ],
          "mesh3d": [
           {
            "colorbar": {
             "outlinewidth": 0,
             "ticks": ""
            },
            "type": "mesh3d"
           }
          ],
          "parcoords": [
           {
            "line": {
             "colorbar": {
              "outlinewidth": 0,
              "ticks": ""
             }
            },
            "type": "parcoords"
           }
          ],
          "pie": [
           {
            "automargin": true,
            "type": "pie"
           }
          ],
          "scatter": [
           {
            "marker": {
             "line": {
              "color": "#283442"
             }
            },
            "type": "scatter"
           }
          ],
          "scatter3d": [
           {
            "line": {
             "colorbar": {
              "outlinewidth": 0,
              "ticks": ""
             }
            },
            "marker": {
             "colorbar": {
              "outlinewidth": 0,
              "ticks": ""
             }
            },
            "type": "scatter3d"
           }
          ],
          "scattercarpet": [
           {
            "marker": {
             "colorbar": {
              "outlinewidth": 0,
              "ticks": ""
             }
            },
            "type": "scattercarpet"
           }
          ],
          "scattergeo": [
           {
            "marker": {
             "colorbar": {
              "outlinewidth": 0,
              "ticks": ""
             }
            },
            "type": "scattergeo"
           }
          ],
          "scattergl": [
           {
            "marker": {
             "line": {
              "color": "#283442"
             }
            },
            "type": "scattergl"
           }
          ],
          "scattermapbox": [
           {
            "marker": {
             "colorbar": {
              "outlinewidth": 0,
              "ticks": ""
             }
            },
            "type": "scattermapbox"
           }
          ],
          "scatterpolar": [
           {
            "marker": {
             "colorbar": {
              "outlinewidth": 0,
              "ticks": ""
             }
            },
            "type": "scatterpolar"
           }
          ],
          "scatterpolargl": [
           {
            "marker": {
             "colorbar": {
              "outlinewidth": 0,
              "ticks": ""
             }
            },
            "type": "scatterpolargl"
           }
          ],
          "scatterternary": [
           {
            "marker": {
             "colorbar": {
              "outlinewidth": 0,
              "ticks": ""
             }
            },
            "type": "scatterternary"
           }
          ],
          "surface": [
           {
            "colorbar": {
             "outlinewidth": 0,
             "ticks": ""
            },
            "colorscale": [
             [
              0,
              "#0d0887"
             ],
             [
              0.1111111111111111,
              "#46039f"
             ],
             [
              0.2222222222222222,
              "#7201a8"
             ],
             [
              0.3333333333333333,
              "#9c179e"
             ],
             [
              0.4444444444444444,
              "#bd3786"
             ],
             [
              0.5555555555555556,
              "#d8576b"
             ],
             [
              0.6666666666666666,
              "#ed7953"
             ],
             [
              0.7777777777777778,
              "#fb9f3a"
             ],
             [
              0.8888888888888888,
              "#fdca26"
             ],
             [
              1,
              "#f0f921"
             ]
            ],
            "type": "surface"
           }
          ],
          "table": [
           {
            "cells": {
             "fill": {
              "color": "#506784"
             },
             "line": {
              "color": "rgb(17,17,17)"
             }
            },
            "header": {
             "fill": {
              "color": "#2a3f5f"
             },
             "line": {
              "color": "rgb(17,17,17)"
             }
            },
            "type": "table"
           }
          ]
         },
         "layout": {
          "annotationdefaults": {
           "arrowcolor": "#f2f5fa",
           "arrowhead": 0,
           "arrowwidth": 1
          },
          "autotypenumbers": "strict",
          "coloraxis": {
           "colorbar": {
            "outlinewidth": 0,
            "ticks": ""
           }
          },
          "colorscale": {
           "diverging": [
            [
             0,
             "#8e0152"
            ],
            [
             0.1,
             "#c51b7d"
            ],
            [
             0.2,
             "#de77ae"
            ],
            [
             0.3,
             "#f1b6da"
            ],
            [
             0.4,
             "#fde0ef"
            ],
            [
             0.5,
             "#f7f7f7"
            ],
            [
             0.6,
             "#e6f5d0"
            ],
            [
             0.7,
             "#b8e186"
            ],
            [
             0.8,
             "#7fbc41"
            ],
            [
             0.9,
             "#4d9221"
            ],
            [
             1,
             "#276419"
            ]
           ],
           "sequential": [
            [
             0,
             "#0d0887"
            ],
            [
             0.1111111111111111,
             "#46039f"
            ],
            [
             0.2222222222222222,
             "#7201a8"
            ],
            [
             0.3333333333333333,
             "#9c179e"
            ],
            [
             0.4444444444444444,
             "#bd3786"
            ],
            [
             0.5555555555555556,
             "#d8576b"
            ],
            [
             0.6666666666666666,
             "#ed7953"
            ],
            [
             0.7777777777777778,
             "#fb9f3a"
            ],
            [
             0.8888888888888888,
             "#fdca26"
            ],
            [
             1,
             "#f0f921"
            ]
           ],
           "sequentialminus": [
            [
             0,
             "#0d0887"
            ],
            [
             0.1111111111111111,
             "#46039f"
            ],
            [
             0.2222222222222222,
             "#7201a8"
            ],
            [
             0.3333333333333333,
             "#9c179e"
            ],
            [
             0.4444444444444444,
             "#bd3786"
            ],
            [
             0.5555555555555556,
             "#d8576b"
            ],
            [
             0.6666666666666666,
             "#ed7953"
            ],
            [
             0.7777777777777778,
             "#fb9f3a"
            ],
            [
             0.8888888888888888,
             "#fdca26"
            ],
            [
             1,
             "#f0f921"
            ]
           ]
          },
          "colorway": [
           "#636efa",
           "#EF553B",
           "#00cc96",
           "#ab63fa",
           "#FFA15A",
           "#19d3f3",
           "#FF6692",
           "#B6E880",
           "#FF97FF",
           "#FECB52"
          ],
          "font": {
           "color": "#f2f5fa"
          },
          "geo": {
           "bgcolor": "rgb(17,17,17)",
           "lakecolor": "rgb(17,17,17)",
           "landcolor": "rgb(17,17,17)",
           "showlakes": true,
           "showland": true,
           "subunitcolor": "#506784"
          },
          "hoverlabel": {
           "align": "left"
          },
          "hovermode": "closest",
          "mapbox": {
           "style": "dark"
          },
          "paper_bgcolor": "rgb(17,17,17)",
          "plot_bgcolor": "rgb(17,17,17)",
          "polar": {
           "angularaxis": {
            "gridcolor": "#506784",
            "linecolor": "#506784",
            "ticks": ""
           },
           "bgcolor": "rgb(17,17,17)",
           "radialaxis": {
            "gridcolor": "#506784",
            "linecolor": "#506784",
            "ticks": ""
           }
          },
          "scene": {
           "xaxis": {
            "backgroundcolor": "rgb(17,17,17)",
            "gridcolor": "#506784",
            "gridwidth": 2,
            "linecolor": "#506784",
            "showbackground": true,
            "ticks": "",
            "zerolinecolor": "#C8D4E3"
           },
           "yaxis": {
            "backgroundcolor": "rgb(17,17,17)",
            "gridcolor": "#506784",
            "gridwidth": 2,
            "linecolor": "#506784",
            "showbackground": true,
            "ticks": "",
            "zerolinecolor": "#C8D4E3"
           },
           "zaxis": {
            "backgroundcolor": "rgb(17,17,17)",
            "gridcolor": "#506784",
            "gridwidth": 2,
            "linecolor": "#506784",
            "showbackground": true,
            "ticks": "",
            "zerolinecolor": "#C8D4E3"
           }
          },
          "shapedefaults": {
           "line": {
            "color": "#f2f5fa"
           }
          },
          "sliderdefaults": {
           "bgcolor": "#C8D4E3",
           "bordercolor": "rgb(17,17,17)",
           "borderwidth": 1,
           "tickwidth": 0
          },
          "ternary": {
           "aaxis": {
            "gridcolor": "#506784",
            "linecolor": "#506784",
            "ticks": ""
           },
           "baxis": {
            "gridcolor": "#506784",
            "linecolor": "#506784",
            "ticks": ""
           },
           "bgcolor": "rgb(17,17,17)",
           "caxis": {
            "gridcolor": "#506784",
            "linecolor": "#506784",
            "ticks": ""
           }
          },
          "title": {
           "x": 0.05
          },
          "updatemenudefaults": {
           "bgcolor": "#506784",
           "borderwidth": 0
          },
          "xaxis": {
           "automargin": true,
           "gridcolor": "#283442",
           "linecolor": "#506784",
           "ticks": "",
           "title": {
            "standoff": 15
           },
           "zerolinecolor": "#283442",
           "zerolinewidth": 2
          },
          "yaxis": {
           "automargin": true,
           "gridcolor": "#283442",
           "linecolor": "#506784",
           "ticks": "",
           "title": {
            "standoff": 15
           },
           "zerolinecolor": "#283442",
           "zerolinewidth": 2
          }
         }
        },
        "title": {
         "text": "Key Distribution"
        },
        "xaxis": {
         "title": {
          "text": "Key"
         }
        },
        "yaxis": {
         "title": {
          "text": "Count"
         }
        }
       }
      }
     },
     "metadata": {},
     "output_type": "display_data"
    }
   ],
   "source": [
    "plot_key_distribution(US_2022_audio)"
   ]
  },
  {
   "cell_type": "markdown",
   "metadata": {},
   "source": [
    "##### Popularity and Year Histogram "
   ]
  },
  {
   "cell_type": "code",
   "execution_count": 45,
   "metadata": {},
   "outputs": [],
   "source": [
    "def pop_hist(df):\n",
    "    \"\"\"\n",
    "    Creates a histogram-like bar chart of the distribution of popularity values in a DataFrame.\n",
    "\n",
    "    Note:\n",
    "        This function does not return any values. It directly shows the plot using plotly.\n",
    "    \"\"\"\n",
    "    # exclude 0 popularity\n",
    "    df = df[df['popularity'] != 0]\n",
    "\n",
    "    # count occurrences of each popularity score\n",
    "    popularity_counts = df['popularity'].value_counts()\n",
    "    popularity_scores = popularity_counts.index\n",
    "    counts = popularity_counts.values\n",
    "    max_count = max(counts)\n",
    "\n",
    "    # create chart \n",
    "    fig = go.Figure(data=go.Bar(\n",
    "        x=popularity_scores,\n",
    "        y=counts,\n",
    "        marker_color=[f'rgba(5, 215, 243, {i**0.5/max_count**0.5})' for i in counts]  # simulate gradient\n",
    "    ))\n",
    "    \n",
    "    # update layout\n",
    "    fig.update_layout(\n",
    "        title=\"Popularity Distribution\",\n",
    "        xaxis_title=\"Popularity\",\n",
    "        yaxis_title=\"Count\",\n",
    "        bargap=0.05 \n",
    "    )\n",
    "\n",
    "    fig.show()"
   ]
  },
  {
   "cell_type": "code",
   "execution_count": 60,
   "metadata": {},
   "outputs": [
    {
     "data": {
      "text/plain": [
       "count    11211.000000\n",
       "mean        43.957809\n",
       "std         25.916302\n",
       "min          0.000000\n",
       "25%         25.000000\n",
       "50%         48.000000\n",
       "75%         64.000000\n",
       "max         95.000000\n",
       "Name: popularity, dtype: float64"
      ]
     },
     "execution_count": 60,
     "metadata": {},
     "output_type": "execute_result"
    }
   ],
   "source": [
    "US_2022_info['popularity'].describe()"
   ]
  },
  {
   "cell_type": "code",
   "execution_count": 47,
   "metadata": {},
   "outputs": [
    {
     "data": {
      "application/vnd.plotly.v1+json": {
       "config": {
        "plotlyServerURL": "https://plot.ly"
       },
       "data": [
        {
         "marker": {
          "color": [
           "rgba(5, 215, 243, 1.0)",
           "rgba(5, 215, 243, 0.9654215840509556)",
           "rgba(5, 215, 243, 0.9502171443197724)",
           "rgba(5, 215, 243, 0.9399442247447813)",
           "rgba(5, 215, 243, 0.9295577819064895)",
           "rgba(5, 215, 243, 0.9243207949834489)",
           "rgba(5, 215, 243, 0.9216911430120158)",
           "rgba(5, 215, 243, 0.9216911430120158)",
           "rgba(5, 215, 243, 0.9216911430120158)",
           "rgba(5, 215, 243, 0.919053966954475)",
           "rgba(5, 215, 243, 0.919053966954475)",
           "rgba(5, 215, 243, 0.913756781813782)",
           "rgba(5, 215, 243, 0.9110966399776924)",
           "rgba(5, 215, 243, 0.9110966399776924)",
           "rgba(5, 215, 243, 0.9030692003288144)",
           "rgba(5, 215, 243, 0.9030692003288144)",
           "rgba(5, 215, 243, 0.897677694230199)",
           "rgba(5, 215, 243, 0.897677694230199)",
           "rgba(5, 215, 243, 0.8867963503478639)",
           "rgba(5, 215, 243, 0.8813052984784635)",
           "rgba(5, 215, 243, 0.875779818939747)",
           "rgba(5, 215, 243, 0.875779818939747)",
           "rgba(5, 215, 243, 0.8730039646703199)",
           "rgba(5, 215, 243, 0.8730039646703199)",
           "rgba(5, 215, 243, 0.8618111432337956)",
           "rgba(5, 215, 243, 0.8618111432337956)",
           "rgba(5, 215, 243, 0.8589901499260063)",
           "rgba(5, 215, 243, 0.8561598616717933)",
           "rgba(5, 215, 243, 0.8561598616717933)",
           "rgba(5, 215, 243, 0.8533201859828614)",
           "rgba(5, 215, 243, 0.8476122945909571)",
           "rgba(5, 215, 243, 0.8447438860445862)",
           "rgba(5, 215, 243, 0.8418657043006741)",
           "rgba(5, 215, 243, 0.824385620013739)",
           "rgba(5, 215, 243, 0.824385620013739)",
           "rgba(5, 215, 243, 0.8095306083312988)",
           "rgba(5, 215, 243, 0.8065267738229177)",
           "rgba(5, 215, 243, 0.7851782309571069)",
           "rgba(5, 215, 243, 0.7789711910621948)",
           "rgba(5, 215, 243, 0.7758490494760018)",
           "rgba(5, 215, 243, 0.7695667675444009)",
           "rgba(5, 215, 243, 0.7695667675444009)",
           "rgba(5, 215, 243, 0.7600459873669627)",
           "rgba(5, 215, 243, 0.7536319825011036)",
           "rgba(5, 215, 243, 0.7439072914365252)",
           "rgba(5, 215, 243, 0.7406373534466031)",
           "rgba(5, 215, 243, 0.7240661880382168)",
           "rgba(5, 215, 243, 0.7207062340011743)",
           "rgba(5, 215, 243, 0.7139388894464831)",
           "rgba(5, 215, 243, 0.7139388894464831)",
           "rgba(5, 215, 243, 0.7036658518558089)",
           "rgba(5, 215, 243, 0.6790913403539242)",
           "rgba(5, 215, 243, 0.6755077198756877)",
           "rgba(5, 215, 243, 0.6719049863482274)",
           "rgba(5, 215, 243, 0.6682828306544862)",
           "rgba(5, 215, 243, 0.6609789738588476)",
           "rgba(5, 215, 243, 0.6461236167757218)",
           "rgba(5, 215, 243, 0.6231769528497558)",
           "rgba(5, 215, 243, 0.6113807387929312)",
           "rgba(5, 215, 243, 0.6033884900318474)",
           "rgba(5, 215, 243, 0.5952889483593954)",
           "rgba(5, 215, 243, 0.5870776730337796)",
           "rgba(5, 215, 243, 0.5870776730337796)",
           "rgba(5, 215, 243, 0.5829286622243913)",
           "rgba(5, 215, 243, 0.5787499082597591)",
           "rgba(5, 215, 243, 0.5660285765882878)",
           "rgba(5, 215, 243, 0.5486081240616182)",
           "rgba(5, 215, 243, 0.5396870722208659)",
           "rgba(5, 215, 243, 0.5306160552209597)",
           "rgba(5, 215, 243, 0.5306160552209597)",
           "rgba(5, 215, 243, 0.5260218903488842)",
           "rgba(5, 215, 243, 0.5167110326499096)",
           "rgba(5, 215, 243, 0.5072292907532631)",
           "rgba(5, 215, 243, 0.5072292907532631)",
           "rgba(5, 215, 243, 0.5024213216674024)",
           "rgba(5, 215, 243, 0.5024213216674024)",
           "rgba(5, 215, 243, 0.5024213216674024)",
           "rgba(5, 215, 243, 0.5024213216674024)",
           "rgba(5, 215, 243, 0.4827107920254778)",
           "rgba(5, 215, 243, 0.4776560894679615)",
           "rgba(5, 215, 243, 0.4725473213063284)",
           "rgba(5, 215, 243, 0.4673827146373169)",
           "rgba(5, 215, 243, 0.456878390906891)",
           "rgba(5, 215, 243, 0.44065264923923175)",
           "rgba(5, 215, 243, 0.44065264923923175)",
           "rgba(5, 215, 243, 0.44065264923923175)",
           "rgba(5, 215, 243, 0.4351096279669235)",
           "rgba(5, 215, 243, 0.42949507496300315)",
           "rgba(5, 215, 243, 0.3341414153272431)",
           "rgba(5, 215, 243, 0.26984353611043294)",
           "rgba(5, 215, 243, 0.26984353611043294)",
           "rgba(5, 215, 243, 0.26984353611043294)",
           "rgba(5, 215, 243, 0.13934660285832354)",
           "rgba(5, 215, 243, 0.12067769800636945)",
           "rgba(5, 215, 243, 0.06967330142916177)"
          ]
         },
         "type": "bar",
         "x": [
          59,
          64,
          65,
          60,
          54,
          58,
          57,
          48,
          53,
          52,
          55,
          61,
          1,
          63,
          56,
          50,
          70,
          45,
          72,
          51,
          47,
          46,
          66,
          49,
          42,
          73,
          71,
          67,
          69,
          41,
          81,
          43,
          62,
          40,
          68,
          44,
          39,
          38,
          78,
          37,
          75,
          2,
          74,
          36,
          33,
          80,
          34,
          35,
          77,
          3,
          76,
          79,
          31,
          29,
          32,
          30,
          28,
          25,
          26,
          84,
          27,
          23,
          16,
          24,
          22,
          82,
          17,
          20,
          21,
          13,
          6,
          88,
          14,
          5,
          15,
          7,
          9,
          4,
          11,
          86,
          12,
          85,
          19,
          8,
          10,
          18,
          83,
          87,
          89,
          92,
          91,
          90,
          95,
          93,
          94
         ],
         "y": [
          206,
          192,
          186,
          182,
          178,
          176,
          175,
          175,
          175,
          174,
          174,
          172,
          171,
          171,
          168,
          168,
          166,
          166,
          162,
          160,
          158,
          158,
          157,
          157,
          153,
          153,
          152,
          151,
          151,
          150,
          148,
          147,
          146,
          140,
          140,
          135,
          134,
          127,
          125,
          124,
          122,
          122,
          119,
          117,
          114,
          113,
          108,
          107,
          105,
          105,
          102,
          95,
          94,
          93,
          92,
          90,
          86,
          80,
          77,
          75,
          73,
          71,
          71,
          70,
          69,
          66,
          62,
          60,
          58,
          58,
          57,
          55,
          53,
          53,
          52,
          52,
          52,
          52,
          48,
          47,
          46,
          45,
          43,
          40,
          40,
          40,
          39,
          38,
          23,
          15,
          15,
          15,
          4,
          3,
          1
         ]
        }
       ],
       "layout": {
        "bargap": 0.05,
        "template": {
         "data": {
          "bar": [
           {
            "error_x": {
             "color": "#f2f5fa"
            },
            "error_y": {
             "color": "#f2f5fa"
            },
            "marker": {
             "line": {
              "color": "rgb(17,17,17)",
              "width": 0.5
             },
             "pattern": {
              "fillmode": "overlay",
              "size": 10,
              "solidity": 0.2
             }
            },
            "type": "bar"
           }
          ],
          "barpolar": [
           {
            "marker": {
             "line": {
              "color": "rgb(17,17,17)",
              "width": 0.5
             },
             "pattern": {
              "fillmode": "overlay",
              "size": 10,
              "solidity": 0.2
             }
            },
            "type": "barpolar"
           }
          ],
          "carpet": [
           {
            "aaxis": {
             "endlinecolor": "#A2B1C6",
             "gridcolor": "#506784",
             "linecolor": "#506784",
             "minorgridcolor": "#506784",
             "startlinecolor": "#A2B1C6"
            },
            "baxis": {
             "endlinecolor": "#A2B1C6",
             "gridcolor": "#506784",
             "linecolor": "#506784",
             "minorgridcolor": "#506784",
             "startlinecolor": "#A2B1C6"
            },
            "type": "carpet"
           }
          ],
          "choropleth": [
           {
            "colorbar": {
             "outlinewidth": 0,
             "ticks": ""
            },
            "type": "choropleth"
           }
          ],
          "contour": [
           {
            "colorbar": {
             "outlinewidth": 0,
             "ticks": ""
            },
            "colorscale": [
             [
              0,
              "#0d0887"
             ],
             [
              0.1111111111111111,
              "#46039f"
             ],
             [
              0.2222222222222222,
              "#7201a8"
             ],
             [
              0.3333333333333333,
              "#9c179e"
             ],
             [
              0.4444444444444444,
              "#bd3786"
             ],
             [
              0.5555555555555556,
              "#d8576b"
             ],
             [
              0.6666666666666666,
              "#ed7953"
             ],
             [
              0.7777777777777778,
              "#fb9f3a"
             ],
             [
              0.8888888888888888,
              "#fdca26"
             ],
             [
              1,
              "#f0f921"
             ]
            ],
            "type": "contour"
           }
          ],
          "contourcarpet": [
           {
            "colorbar": {
             "outlinewidth": 0,
             "ticks": ""
            },
            "type": "contourcarpet"
           }
          ],
          "heatmap": [
           {
            "colorbar": {
             "outlinewidth": 0,
             "ticks": ""
            },
            "colorscale": [
             [
              0,
              "#0d0887"
             ],
             [
              0.1111111111111111,
              "#46039f"
             ],
             [
              0.2222222222222222,
              "#7201a8"
             ],
             [
              0.3333333333333333,
              "#9c179e"
             ],
             [
              0.4444444444444444,
              "#bd3786"
             ],
             [
              0.5555555555555556,
              "#d8576b"
             ],
             [
              0.6666666666666666,
              "#ed7953"
             ],
             [
              0.7777777777777778,
              "#fb9f3a"
             ],
             [
              0.8888888888888888,
              "#fdca26"
             ],
             [
              1,
              "#f0f921"
             ]
            ],
            "type": "heatmap"
           }
          ],
          "heatmapgl": [
           {
            "colorbar": {
             "outlinewidth": 0,
             "ticks": ""
            },
            "colorscale": [
             [
              0,
              "#0d0887"
             ],
             [
              0.1111111111111111,
              "#46039f"
             ],
             [
              0.2222222222222222,
              "#7201a8"
             ],
             [
              0.3333333333333333,
              "#9c179e"
             ],
             [
              0.4444444444444444,
              "#bd3786"
             ],
             [
              0.5555555555555556,
              "#d8576b"
             ],
             [
              0.6666666666666666,
              "#ed7953"
             ],
             [
              0.7777777777777778,
              "#fb9f3a"
             ],
             [
              0.8888888888888888,
              "#fdca26"
             ],
             [
              1,
              "#f0f921"
             ]
            ],
            "type": "heatmapgl"
           }
          ],
          "histogram": [
           {
            "marker": {
             "pattern": {
              "fillmode": "overlay",
              "size": 10,
              "solidity": 0.2
             }
            },
            "type": "histogram"
           }
          ],
          "histogram2d": [
           {
            "colorbar": {
             "outlinewidth": 0,
             "ticks": ""
            },
            "colorscale": [
             [
              0,
              "#0d0887"
             ],
             [
              0.1111111111111111,
              "#46039f"
             ],
             [
              0.2222222222222222,
              "#7201a8"
             ],
             [
              0.3333333333333333,
              "#9c179e"
             ],
             [
              0.4444444444444444,
              "#bd3786"
             ],
             [
              0.5555555555555556,
              "#d8576b"
             ],
             [
              0.6666666666666666,
              "#ed7953"
             ],
             [
              0.7777777777777778,
              "#fb9f3a"
             ],
             [
              0.8888888888888888,
              "#fdca26"
             ],
             [
              1,
              "#f0f921"
             ]
            ],
            "type": "histogram2d"
           }
          ],
          "histogram2dcontour": [
           {
            "colorbar": {
             "outlinewidth": 0,
             "ticks": ""
            },
            "colorscale": [
             [
              0,
              "#0d0887"
             ],
             [
              0.1111111111111111,
              "#46039f"
             ],
             [
              0.2222222222222222,
              "#7201a8"
             ],
             [
              0.3333333333333333,
              "#9c179e"
             ],
             [
              0.4444444444444444,
              "#bd3786"
             ],
             [
              0.5555555555555556,
              "#d8576b"
             ],
             [
              0.6666666666666666,
              "#ed7953"
             ],
             [
              0.7777777777777778,
              "#fb9f3a"
             ],
             [
              0.8888888888888888,
              "#fdca26"
             ],
             [
              1,
              "#f0f921"
             ]
            ],
            "type": "histogram2dcontour"
           }
          ],
          "mesh3d": [
           {
            "colorbar": {
             "outlinewidth": 0,
             "ticks": ""
            },
            "type": "mesh3d"
           }
          ],
          "parcoords": [
           {
            "line": {
             "colorbar": {
              "outlinewidth": 0,
              "ticks": ""
             }
            },
            "type": "parcoords"
           }
          ],
          "pie": [
           {
            "automargin": true,
            "type": "pie"
           }
          ],
          "scatter": [
           {
            "marker": {
             "line": {
              "color": "#283442"
             }
            },
            "type": "scatter"
           }
          ],
          "scatter3d": [
           {
            "line": {
             "colorbar": {
              "outlinewidth": 0,
              "ticks": ""
             }
            },
            "marker": {
             "colorbar": {
              "outlinewidth": 0,
              "ticks": ""
             }
            },
            "type": "scatter3d"
           }
          ],
          "scattercarpet": [
           {
            "marker": {
             "colorbar": {
              "outlinewidth": 0,
              "ticks": ""
             }
            },
            "type": "scattercarpet"
           }
          ],
          "scattergeo": [
           {
            "marker": {
             "colorbar": {
              "outlinewidth": 0,
              "ticks": ""
             }
            },
            "type": "scattergeo"
           }
          ],
          "scattergl": [
           {
            "marker": {
             "line": {
              "color": "#283442"
             }
            },
            "type": "scattergl"
           }
          ],
          "scattermapbox": [
           {
            "marker": {
             "colorbar": {
              "outlinewidth": 0,
              "ticks": ""
             }
            },
            "type": "scattermapbox"
           }
          ],
          "scatterpolar": [
           {
            "marker": {
             "colorbar": {
              "outlinewidth": 0,
              "ticks": ""
             }
            },
            "type": "scatterpolar"
           }
          ],
          "scatterpolargl": [
           {
            "marker": {
             "colorbar": {
              "outlinewidth": 0,
              "ticks": ""
             }
            },
            "type": "scatterpolargl"
           }
          ],
          "scatterternary": [
           {
            "marker": {
             "colorbar": {
              "outlinewidth": 0,
              "ticks": ""
             }
            },
            "type": "scatterternary"
           }
          ],
          "surface": [
           {
            "colorbar": {
             "outlinewidth": 0,
             "ticks": ""
            },
            "colorscale": [
             [
              0,
              "#0d0887"
             ],
             [
              0.1111111111111111,
              "#46039f"
             ],
             [
              0.2222222222222222,
              "#7201a8"
             ],
             [
              0.3333333333333333,
              "#9c179e"
             ],
             [
              0.4444444444444444,
              "#bd3786"
             ],
             [
              0.5555555555555556,
              "#d8576b"
             ],
             [
              0.6666666666666666,
              "#ed7953"
             ],
             [
              0.7777777777777778,
              "#fb9f3a"
             ],
             [
              0.8888888888888888,
              "#fdca26"
             ],
             [
              1,
              "#f0f921"
             ]
            ],
            "type": "surface"
           }
          ],
          "table": [
           {
            "cells": {
             "fill": {
              "color": "#506784"
             },
             "line": {
              "color": "rgb(17,17,17)"
             }
            },
            "header": {
             "fill": {
              "color": "#2a3f5f"
             },
             "line": {
              "color": "rgb(17,17,17)"
             }
            },
            "type": "table"
           }
          ]
         },
         "layout": {
          "annotationdefaults": {
           "arrowcolor": "#f2f5fa",
           "arrowhead": 0,
           "arrowwidth": 1
          },
          "autotypenumbers": "strict",
          "coloraxis": {
           "colorbar": {
            "outlinewidth": 0,
            "ticks": ""
           }
          },
          "colorscale": {
           "diverging": [
            [
             0,
             "#8e0152"
            ],
            [
             0.1,
             "#c51b7d"
            ],
            [
             0.2,
             "#de77ae"
            ],
            [
             0.3,
             "#f1b6da"
            ],
            [
             0.4,
             "#fde0ef"
            ],
            [
             0.5,
             "#f7f7f7"
            ],
            [
             0.6,
             "#e6f5d0"
            ],
            [
             0.7,
             "#b8e186"
            ],
            [
             0.8,
             "#7fbc41"
            ],
            [
             0.9,
             "#4d9221"
            ],
            [
             1,
             "#276419"
            ]
           ],
           "sequential": [
            [
             0,
             "#0d0887"
            ],
            [
             0.1111111111111111,
             "#46039f"
            ],
            [
             0.2222222222222222,
             "#7201a8"
            ],
            [
             0.3333333333333333,
             "#9c179e"
            ],
            [
             0.4444444444444444,
             "#bd3786"
            ],
            [
             0.5555555555555556,
             "#d8576b"
            ],
            [
             0.6666666666666666,
             "#ed7953"
            ],
            [
             0.7777777777777778,
             "#fb9f3a"
            ],
            [
             0.8888888888888888,
             "#fdca26"
            ],
            [
             1,
             "#f0f921"
            ]
           ],
           "sequentialminus": [
            [
             0,
             "#0d0887"
            ],
            [
             0.1111111111111111,
             "#46039f"
            ],
            [
             0.2222222222222222,
             "#7201a8"
            ],
            [
             0.3333333333333333,
             "#9c179e"
            ],
            [
             0.4444444444444444,
             "#bd3786"
            ],
            [
             0.5555555555555556,
             "#d8576b"
            ],
            [
             0.6666666666666666,
             "#ed7953"
            ],
            [
             0.7777777777777778,
             "#fb9f3a"
            ],
            [
             0.8888888888888888,
             "#fdca26"
            ],
            [
             1,
             "#f0f921"
            ]
           ]
          },
          "colorway": [
           "#636efa",
           "#EF553B",
           "#00cc96",
           "#ab63fa",
           "#FFA15A",
           "#19d3f3",
           "#FF6692",
           "#B6E880",
           "#FF97FF",
           "#FECB52"
          ],
          "font": {
           "color": "#f2f5fa"
          },
          "geo": {
           "bgcolor": "rgb(17,17,17)",
           "lakecolor": "rgb(17,17,17)",
           "landcolor": "rgb(17,17,17)",
           "showlakes": true,
           "showland": true,
           "subunitcolor": "#506784"
          },
          "hoverlabel": {
           "align": "left"
          },
          "hovermode": "closest",
          "mapbox": {
           "style": "dark"
          },
          "paper_bgcolor": "rgb(17,17,17)",
          "plot_bgcolor": "rgb(17,17,17)",
          "polar": {
           "angularaxis": {
            "gridcolor": "#506784",
            "linecolor": "#506784",
            "ticks": ""
           },
           "bgcolor": "rgb(17,17,17)",
           "radialaxis": {
            "gridcolor": "#506784",
            "linecolor": "#506784",
            "ticks": ""
           }
          },
          "scene": {
           "xaxis": {
            "backgroundcolor": "rgb(17,17,17)",
            "gridcolor": "#506784",
            "gridwidth": 2,
            "linecolor": "#506784",
            "showbackground": true,
            "ticks": "",
            "zerolinecolor": "#C8D4E3"
           },
           "yaxis": {
            "backgroundcolor": "rgb(17,17,17)",
            "gridcolor": "#506784",
            "gridwidth": 2,
            "linecolor": "#506784",
            "showbackground": true,
            "ticks": "",
            "zerolinecolor": "#C8D4E3"
           },
           "zaxis": {
            "backgroundcolor": "rgb(17,17,17)",
            "gridcolor": "#506784",
            "gridwidth": 2,
            "linecolor": "#506784",
            "showbackground": true,
            "ticks": "",
            "zerolinecolor": "#C8D4E3"
           }
          },
          "shapedefaults": {
           "line": {
            "color": "#f2f5fa"
           }
          },
          "sliderdefaults": {
           "bgcolor": "#C8D4E3",
           "bordercolor": "rgb(17,17,17)",
           "borderwidth": 1,
           "tickwidth": 0
          },
          "ternary": {
           "aaxis": {
            "gridcolor": "#506784",
            "linecolor": "#506784",
            "ticks": ""
           },
           "baxis": {
            "gridcolor": "#506784",
            "linecolor": "#506784",
            "ticks": ""
           },
           "bgcolor": "rgb(17,17,17)",
           "caxis": {
            "gridcolor": "#506784",
            "linecolor": "#506784",
            "ticks": ""
           }
          },
          "title": {
           "x": 0.05
          },
          "updatemenudefaults": {
           "bgcolor": "#506784",
           "borderwidth": 0
          },
          "xaxis": {
           "automargin": true,
           "gridcolor": "#283442",
           "linecolor": "#506784",
           "ticks": "",
           "title": {
            "standoff": 15
           },
           "zerolinecolor": "#283442",
           "zerolinewidth": 2
          },
          "yaxis": {
           "automargin": true,
           "gridcolor": "#283442",
           "linecolor": "#506784",
           "ticks": "",
           "title": {
            "standoff": 15
           },
           "zerolinecolor": "#283442",
           "zerolinewidth": 2
          }
         }
        },
        "title": {
         "text": "Popularity Distribution"
        },
        "xaxis": {
         "title": {
          "text": "Popularity"
         }
        },
        "yaxis": {
         "title": {
          "text": "Count"
         }
        }
       }
      }
     },
     "metadata": {},
     "output_type": "display_data"
    }
   ],
   "source": [
    "pop_hist(US_2022_info)"
   ]
  },
  {
   "cell_type": "code",
   "execution_count": 62,
   "metadata": {},
   "outputs": [],
   "source": [
    "def year_hist(df):\n",
    "    \"\"\"\n",
    "    Creates a horizontal bar chart of the distribution of years in a DataFrame.\n",
    "\n",
    "    Args:\n",
    "        df (pd.DataFrame): The DataFrame to analyze.\n",
    "\n",
    "    Note:\n",
    "        This function does not return any values. It directly shows the plot using plotly.\n",
    "    \"\"\"\n",
    "    # count occurrences of each year\n",
    "    counter = Counter(df['year'])\n",
    "    \n",
    "    # get keys and values from the counter and sort based on the keys (years)\n",
    "    years_counts = sorted(counter.items())\n",
    "    years = [item[0] for item in years_counts]\n",
    "    counts = [item[1] for item in years_counts]\n",
    "    \n",
    "    max_count = max(counts)\n",
    "\n",
    "    # create a horizontal bar chart\n",
    "    fig = go.Figure(data=go.Bar(\n",
    "        y=years,  # switched with x\n",
    "        x=counts,  # switched with y\n",
    "        marker_color=[f'rgba(255, 18, 79,  {i**0.5/max_count**0.5})' for i in counts],  # simulate gradient\n",
    "        orientation='h'  # This makes the bars horizontal\n",
    "    ))\n",
    "\n",
    "    # update layout\n",
    "    fig.update_layout(\n",
    "        title=\"Year Distribution\",\n",
    "        xaxis_title=\"Count\",  # switched with yaxis\n",
    "        yaxis_title=\"Year\",  # switched with xaxis\n",
    "        bargap=0.05  # gap between bars\n",
    "    )\n",
    "\n",
    "    fig.show()"
   ]
  },
  {
   "cell_type": "code",
   "execution_count": 63,
   "metadata": {},
   "outputs": [
    {
     "data": {
      "text/plain": [
       "count    11211.000000\n",
       "mean      2012.848809\n",
       "std         12.623530\n",
       "min       1950.000000\n",
       "25%       2009.000000\n",
       "50%       2019.000000\n",
       "75%       2022.000000\n",
       "max       2023.000000\n",
       "Name: year, dtype: float64"
      ]
     },
     "execution_count": 63,
     "metadata": {},
     "output_type": "execute_result"
    }
   ],
   "source": [
    "US_2022_info['year'].describe()"
   ]
  },
  {
   "cell_type": "code",
   "execution_count": 49,
   "metadata": {},
   "outputs": [
    {
     "data": {
      "application/vnd.plotly.v1+json": {
       "config": {
        "plotlyServerURL": "https://plot.ly"
       },
       "data": [
        {
         "marker": {
          "color": [
           "rgba(255, 18, 79,  0.01757092099429725)",
           "rgba(255, 18, 79,  0.01757092099429725)",
           "rgba(255, 18, 79,  0.01757092099429725)",
           "rgba(255, 18, 79,  0.02484903477352132)",
           "rgba(255, 18, 79,  0.039289773770526844)",
           "rgba(255, 18, 79,  0.0351418419885945)",
           "rgba(255, 18, 79,  0.030433727897901486)",
           "rgba(255, 18, 79,  0.043039790746784705)",
           "rgba(255, 18, 79,  0.02484903477352132)",
           "rgba(255, 18, 79,  0.04648828725727428)",
           "rgba(255, 18, 79,  0.06086745579580297)",
           "rgba(255, 18, 79,  0.06335285660206542)",
           "rgba(255, 18, 79,  0.07454710432056394)",
           "rgba(255, 18, 79,  0.06574436633073362)",
           "rgba(255, 18, 79,  0.08607958149356941)",
           "rgba(255, 18, 79,  0.09462230536743034)",
           "rgba(255, 18, 79,  0.10245519506587461)",
           "rgba(255, 18, 79,  0.08241492474626418)",
           "rgba(255, 18, 79,  0.11112826185769951)",
           "rgba(255, 18, 79,  0.06574436633073362)",
           "rgba(255, 18, 79,  0.08607958149356941)",
           "rgba(255, 18, 79,  0.1165523043181248)",
           "rgba(255, 18, 79,  0.09939613909408528)",
           "rgba(255, 18, 79,  0.10395097046480255)",
           "rgba(255, 18, 79,  0.09297657451454856)",
           "rgba(255, 18, 79,  0.09783074773415006)",
           "rgba(255, 18, 79,  0.09297657451454856)",
           "rgba(255, 18, 79,  0.12299644696008073)",
           "rgba(255, 18, 79,  0.10245519506587461)",
           "rgba(255, 18, 79,  0.10687973984694163)",
           "rgba(255, 18, 79,  0.11522023423547158)",
           "rgba(255, 18, 79,  0.10831443142230751)",
           "rgba(255, 18, 79,  0.1097303664394027)",
           "rgba(255, 18, 79,  0.1125087900926024)",
           "rgba(255, 18, 79,  0.10542552596578349)",
           "rgba(255, 18, 79,  0.12173491159160595)",
           "rgba(255, 18, 79,  0.13610376877687902)",
           "rgba(255, 18, 79,  0.12173491159160595)",
           "rgba(255, 18, 79,  0.13835357026273598)",
           "rgba(255, 18, 79,  0.16482984949252835)",
           "rgba(255, 18, 79,  0.1739432434146492)",
           "rgba(255, 18, 79,  0.18004836234112975)",
           "rgba(255, 18, 79,  0.18175502004318458)",
           "rgba(255, 18, 79,  0.16944782561800173)",
           "rgba(255, 18, 79,  0.19086905778927243)",
           "rgba(255, 18, 79,  0.17126015338030148)",
           "rgba(255, 18, 79,  0.19801422323321913)",
           "rgba(255, 18, 79,  0.1748284564771872)",
           "rgba(255, 18, 79,  0.1948709407384893)",
           "rgba(255, 18, 79,  0.19723309899220087)",
           "rgba(255, 18, 79,  0.21519895373392353)",
           "rgba(255, 18, 79,  0.2079019409296051)",
           "rgba(255, 18, 79,  0.22225652371539903)",
           "rgba(255, 18, 79,  0.21875620222319309)",
           "rgba(255, 18, 79,  0.2208630521496931)",
           "rgba(255, 18, 79,  0.23442532520321854)",
           "rgba(255, 18, 79,  0.23442532520321854)",
           "rgba(255, 18, 79,  0.2534114264082617)",
           "rgba(255, 18, 79,  0.2687834070651564)",
           "rgba(255, 18, 79,  0.25583647138870014)",
           "rgba(255, 18, 79,  0.3063594758363157)",
           "rgba(255, 18, 79,  0.34252030676060297)",
           "rgba(255, 18, 79,  0.38254602783800296)",
           "rgba(255, 18, 79,  0.3845583827425601)",
           "rgba(255, 18, 79,  0.43218751147579526)",
           "rgba(255, 18, 79,  0.4776576582976668)",
           "rgba(255, 18, 79,  0.5636405284051911)",
           "rgba(255, 18, 79,  1.0)",
           "rgba(255, 18, 79,  0.01757092099429725)"
          ]
         },
         "orientation": "h",
         "type": "bar",
         "x": [
          1,
          1,
          1,
          2,
          5,
          4,
          3,
          6,
          2,
          7,
          12,
          13,
          18,
          14,
          24,
          29,
          34,
          22,
          40,
          14,
          24,
          44,
          32,
          35,
          28,
          31,
          28,
          49,
          34,
          37,
          43,
          38,
          39,
          41,
          36,
          48,
          60,
          48,
          62,
          88,
          98,
          105,
          107,
          93,
          118,
          95,
          127,
          99,
          123,
          126,
          150,
          140,
          160,
          155,
          158,
          178,
          178,
          208,
          234,
          212,
          304,
          380,
          474,
          479,
          605,
          739,
          1029,
          3239,
          1
         ],
         "y": [
          1950,
          1954,
          1956,
          1958,
          1959,
          1960,
          1961,
          1962,
          1963,
          1964,
          1965,
          1966,
          1967,
          1968,
          1969,
          1970,
          1971,
          1972,
          1973,
          1974,
          1975,
          1976,
          1977,
          1978,
          1979,
          1980,
          1981,
          1982,
          1983,
          1984,
          1985,
          1986,
          1987,
          1988,
          1989,
          1990,
          1991,
          1992,
          1993,
          1994,
          1995,
          1996,
          1997,
          1998,
          1999,
          2000,
          2001,
          2002,
          2003,
          2004,
          2005,
          2006,
          2007,
          2008,
          2009,
          2010,
          2011,
          2012,
          2013,
          2014,
          2015,
          2016,
          2017,
          2018,
          2019,
          2020,
          2021,
          2022,
          2023
         ]
        }
       ],
       "layout": {
        "bargap": 0.05,
        "template": {
         "data": {
          "bar": [
           {
            "error_x": {
             "color": "#f2f5fa"
            },
            "error_y": {
             "color": "#f2f5fa"
            },
            "marker": {
             "line": {
              "color": "rgb(17,17,17)",
              "width": 0.5
             },
             "pattern": {
              "fillmode": "overlay",
              "size": 10,
              "solidity": 0.2
             }
            },
            "type": "bar"
           }
          ],
          "barpolar": [
           {
            "marker": {
             "line": {
              "color": "rgb(17,17,17)",
              "width": 0.5
             },
             "pattern": {
              "fillmode": "overlay",
              "size": 10,
              "solidity": 0.2
             }
            },
            "type": "barpolar"
           }
          ],
          "carpet": [
           {
            "aaxis": {
             "endlinecolor": "#A2B1C6",
             "gridcolor": "#506784",
             "linecolor": "#506784",
             "minorgridcolor": "#506784",
             "startlinecolor": "#A2B1C6"
            },
            "baxis": {
             "endlinecolor": "#A2B1C6",
             "gridcolor": "#506784",
             "linecolor": "#506784",
             "minorgridcolor": "#506784",
             "startlinecolor": "#A2B1C6"
            },
            "type": "carpet"
           }
          ],
          "choropleth": [
           {
            "colorbar": {
             "outlinewidth": 0,
             "ticks": ""
            },
            "type": "choropleth"
           }
          ],
          "contour": [
           {
            "colorbar": {
             "outlinewidth": 0,
             "ticks": ""
            },
            "colorscale": [
             [
              0,
              "#0d0887"
             ],
             [
              0.1111111111111111,
              "#46039f"
             ],
             [
              0.2222222222222222,
              "#7201a8"
             ],
             [
              0.3333333333333333,
              "#9c179e"
             ],
             [
              0.4444444444444444,
              "#bd3786"
             ],
             [
              0.5555555555555556,
              "#d8576b"
             ],
             [
              0.6666666666666666,
              "#ed7953"
             ],
             [
              0.7777777777777778,
              "#fb9f3a"
             ],
             [
              0.8888888888888888,
              "#fdca26"
             ],
             [
              1,
              "#f0f921"
             ]
            ],
            "type": "contour"
           }
          ],
          "contourcarpet": [
           {
            "colorbar": {
             "outlinewidth": 0,
             "ticks": ""
            },
            "type": "contourcarpet"
           }
          ],
          "heatmap": [
           {
            "colorbar": {
             "outlinewidth": 0,
             "ticks": ""
            },
            "colorscale": [
             [
              0,
              "#0d0887"
             ],
             [
              0.1111111111111111,
              "#46039f"
             ],
             [
              0.2222222222222222,
              "#7201a8"
             ],
             [
              0.3333333333333333,
              "#9c179e"
             ],
             [
              0.4444444444444444,
              "#bd3786"
             ],
             [
              0.5555555555555556,
              "#d8576b"
             ],
             [
              0.6666666666666666,
              "#ed7953"
             ],
             [
              0.7777777777777778,
              "#fb9f3a"
             ],
             [
              0.8888888888888888,
              "#fdca26"
             ],
             [
              1,
              "#f0f921"
             ]
            ],
            "type": "heatmap"
           }
          ],
          "heatmapgl": [
           {
            "colorbar": {
             "outlinewidth": 0,
             "ticks": ""
            },
            "colorscale": [
             [
              0,
              "#0d0887"
             ],
             [
              0.1111111111111111,
              "#46039f"
             ],
             [
              0.2222222222222222,
              "#7201a8"
             ],
             [
              0.3333333333333333,
              "#9c179e"
             ],
             [
              0.4444444444444444,
              "#bd3786"
             ],
             [
              0.5555555555555556,
              "#d8576b"
             ],
             [
              0.6666666666666666,
              "#ed7953"
             ],
             [
              0.7777777777777778,
              "#fb9f3a"
             ],
             [
              0.8888888888888888,
              "#fdca26"
             ],
             [
              1,
              "#f0f921"
             ]
            ],
            "type": "heatmapgl"
           }
          ],
          "histogram": [
           {
            "marker": {
             "pattern": {
              "fillmode": "overlay",
              "size": 10,
              "solidity": 0.2
             }
            },
            "type": "histogram"
           }
          ],
          "histogram2d": [
           {
            "colorbar": {
             "outlinewidth": 0,
             "ticks": ""
            },
            "colorscale": [
             [
              0,
              "#0d0887"
             ],
             [
              0.1111111111111111,
              "#46039f"
             ],
             [
              0.2222222222222222,
              "#7201a8"
             ],
             [
              0.3333333333333333,
              "#9c179e"
             ],
             [
              0.4444444444444444,
              "#bd3786"
             ],
             [
              0.5555555555555556,
              "#d8576b"
             ],
             [
              0.6666666666666666,
              "#ed7953"
             ],
             [
              0.7777777777777778,
              "#fb9f3a"
             ],
             [
              0.8888888888888888,
              "#fdca26"
             ],
             [
              1,
              "#f0f921"
             ]
            ],
            "type": "histogram2d"
           }
          ],
          "histogram2dcontour": [
           {
            "colorbar": {
             "outlinewidth": 0,
             "ticks": ""
            },
            "colorscale": [
             [
              0,
              "#0d0887"
             ],
             [
              0.1111111111111111,
              "#46039f"
             ],
             [
              0.2222222222222222,
              "#7201a8"
             ],
             [
              0.3333333333333333,
              "#9c179e"
             ],
             [
              0.4444444444444444,
              "#bd3786"
             ],
             [
              0.5555555555555556,
              "#d8576b"
             ],
             [
              0.6666666666666666,
              "#ed7953"
             ],
             [
              0.7777777777777778,
              "#fb9f3a"
             ],
             [
              0.8888888888888888,
              "#fdca26"
             ],
             [
              1,
              "#f0f921"
             ]
            ],
            "type": "histogram2dcontour"
           }
          ],
          "mesh3d": [
           {
            "colorbar": {
             "outlinewidth": 0,
             "ticks": ""
            },
            "type": "mesh3d"
           }
          ],
          "parcoords": [
           {
            "line": {
             "colorbar": {
              "outlinewidth": 0,
              "ticks": ""
             }
            },
            "type": "parcoords"
           }
          ],
          "pie": [
           {
            "automargin": true,
            "type": "pie"
           }
          ],
          "scatter": [
           {
            "marker": {
             "line": {
              "color": "#283442"
             }
            },
            "type": "scatter"
           }
          ],
          "scatter3d": [
           {
            "line": {
             "colorbar": {
              "outlinewidth": 0,
              "ticks": ""
             }
            },
            "marker": {
             "colorbar": {
              "outlinewidth": 0,
              "ticks": ""
             }
            },
            "type": "scatter3d"
           }
          ],
          "scattercarpet": [
           {
            "marker": {
             "colorbar": {
              "outlinewidth": 0,
              "ticks": ""
             }
            },
            "type": "scattercarpet"
           }
          ],
          "scattergeo": [
           {
            "marker": {
             "colorbar": {
              "outlinewidth": 0,
              "ticks": ""
             }
            },
            "type": "scattergeo"
           }
          ],
          "scattergl": [
           {
            "marker": {
             "line": {
              "color": "#283442"
             }
            },
            "type": "scattergl"
           }
          ],
          "scattermapbox": [
           {
            "marker": {
             "colorbar": {
              "outlinewidth": 0,
              "ticks": ""
             }
            },
            "type": "scattermapbox"
           }
          ],
          "scatterpolar": [
           {
            "marker": {
             "colorbar": {
              "outlinewidth": 0,
              "ticks": ""
             }
            },
            "type": "scatterpolar"
           }
          ],
          "scatterpolargl": [
           {
            "marker": {
             "colorbar": {
              "outlinewidth": 0,
              "ticks": ""
             }
            },
            "type": "scatterpolargl"
           }
          ],
          "scatterternary": [
           {
            "marker": {
             "colorbar": {
              "outlinewidth": 0,
              "ticks": ""
             }
            },
            "type": "scatterternary"
           }
          ],
          "surface": [
           {
            "colorbar": {
             "outlinewidth": 0,
             "ticks": ""
            },
            "colorscale": [
             [
              0,
              "#0d0887"
             ],
             [
              0.1111111111111111,
              "#46039f"
             ],
             [
              0.2222222222222222,
              "#7201a8"
             ],
             [
              0.3333333333333333,
              "#9c179e"
             ],
             [
              0.4444444444444444,
              "#bd3786"
             ],
             [
              0.5555555555555556,
              "#d8576b"
             ],
             [
              0.6666666666666666,
              "#ed7953"
             ],
             [
              0.7777777777777778,
              "#fb9f3a"
             ],
             [
              0.8888888888888888,
              "#fdca26"
             ],
             [
              1,
              "#f0f921"
             ]
            ],
            "type": "surface"
           }
          ],
          "table": [
           {
            "cells": {
             "fill": {
              "color": "#506784"
             },
             "line": {
              "color": "rgb(17,17,17)"
             }
            },
            "header": {
             "fill": {
              "color": "#2a3f5f"
             },
             "line": {
              "color": "rgb(17,17,17)"
             }
            },
            "type": "table"
           }
          ]
         },
         "layout": {
          "annotationdefaults": {
           "arrowcolor": "#f2f5fa",
           "arrowhead": 0,
           "arrowwidth": 1
          },
          "autotypenumbers": "strict",
          "coloraxis": {
           "colorbar": {
            "outlinewidth": 0,
            "ticks": ""
           }
          },
          "colorscale": {
           "diverging": [
            [
             0,
             "#8e0152"
            ],
            [
             0.1,
             "#c51b7d"
            ],
            [
             0.2,
             "#de77ae"
            ],
            [
             0.3,
             "#f1b6da"
            ],
            [
             0.4,
             "#fde0ef"
            ],
            [
             0.5,
             "#f7f7f7"
            ],
            [
             0.6,
             "#e6f5d0"
            ],
            [
             0.7,
             "#b8e186"
            ],
            [
             0.8,
             "#7fbc41"
            ],
            [
             0.9,
             "#4d9221"
            ],
            [
             1,
             "#276419"
            ]
           ],
           "sequential": [
            [
             0,
             "#0d0887"
            ],
            [
             0.1111111111111111,
             "#46039f"
            ],
            [
             0.2222222222222222,
             "#7201a8"
            ],
            [
             0.3333333333333333,
             "#9c179e"
            ],
            [
             0.4444444444444444,
             "#bd3786"
            ],
            [
             0.5555555555555556,
             "#d8576b"
            ],
            [
             0.6666666666666666,
             "#ed7953"
            ],
            [
             0.7777777777777778,
             "#fb9f3a"
            ],
            [
             0.8888888888888888,
             "#fdca26"
            ],
            [
             1,
             "#f0f921"
            ]
           ],
           "sequentialminus": [
            [
             0,
             "#0d0887"
            ],
            [
             0.1111111111111111,
             "#46039f"
            ],
            [
             0.2222222222222222,
             "#7201a8"
            ],
            [
             0.3333333333333333,
             "#9c179e"
            ],
            [
             0.4444444444444444,
             "#bd3786"
            ],
            [
             0.5555555555555556,
             "#d8576b"
            ],
            [
             0.6666666666666666,
             "#ed7953"
            ],
            [
             0.7777777777777778,
             "#fb9f3a"
            ],
            [
             0.8888888888888888,
             "#fdca26"
            ],
            [
             1,
             "#f0f921"
            ]
           ]
          },
          "colorway": [
           "#636efa",
           "#EF553B",
           "#00cc96",
           "#ab63fa",
           "#FFA15A",
           "#19d3f3",
           "#FF6692",
           "#B6E880",
           "#FF97FF",
           "#FECB52"
          ],
          "font": {
           "color": "#f2f5fa"
          },
          "geo": {
           "bgcolor": "rgb(17,17,17)",
           "lakecolor": "rgb(17,17,17)",
           "landcolor": "rgb(17,17,17)",
           "showlakes": true,
           "showland": true,
           "subunitcolor": "#506784"
          },
          "hoverlabel": {
           "align": "left"
          },
          "hovermode": "closest",
          "mapbox": {
           "style": "dark"
          },
          "paper_bgcolor": "rgb(17,17,17)",
          "plot_bgcolor": "rgb(17,17,17)",
          "polar": {
           "angularaxis": {
            "gridcolor": "#506784",
            "linecolor": "#506784",
            "ticks": ""
           },
           "bgcolor": "rgb(17,17,17)",
           "radialaxis": {
            "gridcolor": "#506784",
            "linecolor": "#506784",
            "ticks": ""
           }
          },
          "scene": {
           "xaxis": {
            "backgroundcolor": "rgb(17,17,17)",
            "gridcolor": "#506784",
            "gridwidth": 2,
            "linecolor": "#506784",
            "showbackground": true,
            "ticks": "",
            "zerolinecolor": "#C8D4E3"
           },
           "yaxis": {
            "backgroundcolor": "rgb(17,17,17)",
            "gridcolor": "#506784",
            "gridwidth": 2,
            "linecolor": "#506784",
            "showbackground": true,
            "ticks": "",
            "zerolinecolor": "#C8D4E3"
           },
           "zaxis": {
            "backgroundcolor": "rgb(17,17,17)",
            "gridcolor": "#506784",
            "gridwidth": 2,
            "linecolor": "#506784",
            "showbackground": true,
            "ticks": "",
            "zerolinecolor": "#C8D4E3"
           }
          },
          "shapedefaults": {
           "line": {
            "color": "#f2f5fa"
           }
          },
          "sliderdefaults": {
           "bgcolor": "#C8D4E3",
           "bordercolor": "rgb(17,17,17)",
           "borderwidth": 1,
           "tickwidth": 0
          },
          "ternary": {
           "aaxis": {
            "gridcolor": "#506784",
            "linecolor": "#506784",
            "ticks": ""
           },
           "baxis": {
            "gridcolor": "#506784",
            "linecolor": "#506784",
            "ticks": ""
           },
           "bgcolor": "rgb(17,17,17)",
           "caxis": {
            "gridcolor": "#506784",
            "linecolor": "#506784",
            "ticks": ""
           }
          },
          "title": {
           "x": 0.05
          },
          "updatemenudefaults": {
           "bgcolor": "#506784",
           "borderwidth": 0
          },
          "xaxis": {
           "automargin": true,
           "gridcolor": "#283442",
           "linecolor": "#506784",
           "ticks": "",
           "title": {
            "standoff": 15
           },
           "zerolinecolor": "#283442",
           "zerolinewidth": 2
          },
          "yaxis": {
           "automargin": true,
           "gridcolor": "#283442",
           "linecolor": "#506784",
           "ticks": "",
           "title": {
            "standoff": 15
           },
           "zerolinecolor": "#283442",
           "zerolinewidth": 2
          }
         }
        },
        "title": {
         "text": "Year Distribution"
        },
        "xaxis": {
         "title": {
          "text": "Count"
         }
        },
        "yaxis": {
         "title": {
          "text": "Year"
         }
        }
       }
      }
     },
     "metadata": {},
     "output_type": "display_data"
    }
   ],
   "source": [
    "year_hist(US_2022_info)"
   ]
  },
  {
   "cell_type": "markdown",
   "metadata": {},
   "source": [
    "##### Geolocation Bubble Map "
   ]
  },
  {
   "cell_type": "code",
   "execution_count": null,
   "metadata": {},
   "outputs": [],
   "source": [
    "def cities_data(df, cities_filepath):\n",
    "    \"\"\"\n",
    "    Merges a DataFrame with a cities DataFrame.\n",
    "\n",
    "    Args:\n",
    "        df (pd.DataFrame): The DataFrame to merge. Must contain a 'fullName' column.\n",
    "        cities_filepath (str): The file path of the cities CSV file.\n",
    "\n",
    "    Returns:\n",
    "        pd.DataFrame: The merged DataFrame.\n",
    "    \"\"\"\n",
    "    # load the cities CSV file\n",
    "    cities_df = pd.read_csv(cities_filepath)\n",
    "\n",
    "    # split the 'fullName' into two separate columns: 'city' and 'state_id'\n",
    "    df[['city', 'state_id']] = df['fullName'].str.split(', ', expand=True)\n",
    "\n",
    "    # convert city and state_id to lowercase in both dataframes to avoid mismatch due to case differences\n",
    "    df[['city', 'state_id']] = df[['city', 'state_id']].apply(lambda x: x.str.lower())\n",
    "    cities_df[['city', 'state_id']] = cities_df[['city', 'state_id']].apply(lambda x: x.str.lower())\n",
    "\n",
    "    # merge the dataframes on 'city' and 'state_id'\n",
    "    df = pd.merge(df, cities_df[['city', 'state_id', 'lat', 'lng']], on=['city', 'state_id'], how='left')\n",
    "\n",
    "    return df\n"
   ]
  },
  {
   "cell_type": "code",
   "execution_count": 50,
   "metadata": {},
   "outputs": [],
   "source": [
    "def create_bubble_map(df):\n",
    "    \"\"\"\n",
    "    Creates a bubble map showing the geographical distribution of Spotify streams.\n",
    "\n",
    "    Args:\n",
    "        df (pd.DataFrame): The DataFrame containing the 'city', 'state_id', 'lat', and 'lng' columns.\n",
    "\n",
    "    Returns:\n",
    "        plotly.graph_objects.Figure: The bubble map figure.\n",
    "    \"\"\"\n",
    "    # count the number of occurrences of each city and state\n",
    "    df_counts = df.groupby(['city', 'state_id', 'lat', 'lng']).size().reset_index(name='counts')\n",
    "\n",
    "    # create the bubble map\n",
    "    fig = go.Figure(data=go.Scattergeo(\n",
    "        lat=df_counts['lat'],\n",
    "        lon=df_counts['lng'],\n",
    "        text=df_counts['city'] + ', ' + df_counts['state_id'].str.upper(),\n",
    "        mode='markers',\n",
    "        marker=dict(\n",
    "            size=df_counts['counts'],\n",
    "            color=df_counts['counts'],  # assign color values as actual counts\n",
    "            colorscale='tealgrn',  # apply the colorscale\n",
    "            sizemode='area',\n",
    "            sizeref=2. * df_counts['counts'].max() / (40. ** 2), \n",
    "            sizemin=4,\n",
    "            showscale=True,\n",
    "            colorbar=dict(title=\"Counts\"),\n",
    "            cmin=df_counts['counts'].min(),  \n",
    "            cmax=df_counts['counts'].max()  \n",
    "        )\n",
    "    ))\n",
    "\n",
    "    # update layout to focus on USA\n",
    "    fig.update_geos(scope='usa')\n",
    "\n",
    "    # additional layout settings\n",
    "    fig.update_layout(\n",
    "        title={\n",
    "            'text': \"Geographical Distribution of Spotify Stream Tweets\",\n",
    "            'x': 0.5,  # center the title\n",
    "            'xanchor': 'center'  # specify the 'x' as the center\n",
    "        },\n",
    "        geo=dict(\n",
    "            landcolor='rgb(217, 217, 217)',\n",
    "            subunitcolor='rgb(217, 217, 217)',\n",
    "            countrycolor='rgb(217, 217, 217)',\n",
    "            showlakes=True,\n",
    "            lakecolor='rgb(255, 255, 255)',\n",
    "            showsubunits=True)\n",
    "    )\n",
    "\n",
    "    return fig"
   ]
  },
  {
   "cell_type": "code",
   "execution_count": 51,
   "metadata": {},
   "outputs": [
    {
     "data": {
      "application/vnd.plotly.v1+json": {
       "config": {
        "plotlyServerURL": "https://plot.ly"
       },
       "data": [
        {
         "lat": [
          39.5151,
          46.9757,
          39.4629,
          26.2173,
          32.959,
          34.5814,
          35.6615,
          47.6459,
          41.0798,
          28.528,
          37.7668,
          26.181,
          29.4828,
          44.6272,
          35.1054,
          36.0854,
          35.8076,
          47.8146,
          29.9123,
          31.2923,
          38.8185,
          42.1629,
          34.084,
          40.6155,
          33.1088,
          40.5961,
          42.9206,
          45.492,
          30.364,
          34.1927,
          28.6615,
          26.2884,
          41.6483,
          35.1984,
          40.1564,
          38.1796,
          40.3783,
          42.0256,
          33.839,
          45.2571,
          29.1721,
          41.7288,
          42.2759,
          38.7153,
          33.856,
          37.9787,
          28.7015,
          34.5352,
          44.7457,
          44.278,
          34.1342,
          45.0721,
          38.6017,
          34.1949,
          40.0033,
          37.0726,
          32.6998,
          38.8786,
          42.0955,
          41.0788,
          33.8676,
          39.832,
          35.1944,
          40.2226,
          39.0277,
          35.5707,
          37.6942,
          38.4592,
          37.7597,
          39.1951,
          39.0927,
          46.1856,
          29.9777,
          39.7682,
          33.9508,
          39.327,
          33.7628,
          39.3797,
          31.0927,
          37.3529,
          33.2874,
          32.6087,
          47.3039,
          42.6735,
          28.0963,
          33.3645,
          43.6721,
          30.3005,
          41.0932,
          36.0311,
          25.9566,
          39.7601,
          41.4485,
          33.3873,
          33.7699,
          32.4195,
          28.5473,
          34.1386,
          38.8477,
          35.3529,
          25.8935,
          34.0829,
          39.3807,
          38.595,
          39.3051,
          33.946,
          38.4067,
          44.1998,
          34.8661,
          36.7365,
          41.9804,
          35.2337,
          40.7061,
          42.9987,
          34.3148,
          30.442,
          28.9838,
          38.0329,
          40.6668,
          29.6341,
          29.6243,
          29.7587,
          42.426,
          30.0849,
          39.731,
          45.4779,
          32.8464,
          37.336,
          30.3084,
          35.0713,
          45.7789,
          33.9801,
          29.704,
          29.8558,
          44.6196,
          38.5164,
          41.1485,
          40.4945,
          47.5951,
          33.888,
          48.7548,
          31.6026,
          37.5154,
          38.8192,
          39.0394,
          42.2543,
          32.6788,
          44.0563,
          34.5776,
          36.3547,
          37.8722,
          38.7439,
          39.8045,
          33.7435,
          35.3127,
          36.1196,
          41.8433,
          33.3712,
          38.9015,
          38.9866,
          40.6266,
          42.5681,
          34.0786,
          42.522,
          39.965,
          34.2536,
          34.2429,
          40.8233,
          32.2389,
          48.9243,
          33.5279,
          25.8818,
          39.7982,
          41.5416,
          40.4056,
          36.7401,
          44.8306,
          41.6578,
          40.4744,
          32.2135,
          33.6219,
          26.3752,
          43.6005,
          41.6901,
          33.588,
          47.1791,
          36.2111,
          34.8539,
          42.3188,
          40.0248,
          36.9716,
          26.5281,
          41.2558,
          45.6833,
          27.4901,
          36.6509,
          34.1087,
          32.9783,
          29.0454,
          33.9254,
          30.2829,
          47.5436,
          37.9356,
          38.6194,
          40.3734,
          35.9918,
          44.7835,
          41.1918,
          43.3706,
          38.3862,
          39.4138,
          41.8583,
          40.7356,
          42.0821,
          36.038,
          40.8501,
          40.9395,
          33.4359,
          41.8245,
          43.064,
          33.8743,
          31.5803,
          44.3022,
          40.6501,
          41.4349,
          39.6665,
          28.5404,
          25.9975,
          31.1449,
          30.665,
          30.0758,
          33.8572,
          42.9018,
          42.1675,
          38.7802,
          38.8396,
          35.1205,
          29.7647,
          34.1879,
          38.7773,
          37.5859,
          44.4876,
          41.6187,
          44.7648,
          41.7485,
          34.1375,
          35.048,
          41.6134,
          34.223,
          42.3759,
          38.8052,
          37.2802,
          37.3445,
          33.7267,
          32.5546,
          31.9185,
          34.9911,
          33.6885,
          39.0788,
          30.3126,
          33.1246,
          39.965,
          38.6318,
          41.9181,
          42.1227,
          34.3962,
          33.8374,
          39.1511,
          34.1644,
          35.7819,
          32.9069,
          37.7088,
          29.3513,
          33.8362,
          39.2646,
          36.1834,
          33.9459,
          38.443,
          32.581,
          30.5105,
          41.9662,
          39.7471,
          40.8681,
          34.5257,
          40.7836,
          38.839,
          33.8678,
          41.1817,
          33.8842,
          40.1142,
          33.2825,
          29.7914,
          38.8868,
          35.9271,
          32.8168,
          38.3484,
          35.2083,
          38.0375,
          35.066,
          33.3262,
          38.5696,
          36.6778,
          38.9677,
          39.8456,
          38.6589,
          39.2182,
          38.9254,
          41.135,
          41.8375,
          39.7578,
          38.9666,
          33.9836,
          33.9508,
          32.6281,
          41.8445,
          38.8597,
          39.1413,
          29.7395,
          34.116,
          28.073,
          36.3146,
          36.5692,
          37.9404,
          41.0216,
          41.103,
          27.979,
          32.3568,
          36.0319,
          34.6837,
          28.5325,
          41.4764,
          35.1817,
          41.5113,
          40.8222,
          40.863,
          37.8232,
          39.9301,
          42.0699,
          32.354,
          44.6222,
          41.6147,
          40.9733,
          36.8278,
          33.6905,
          47.704,
          39.073,
          33.6363,
          30.5852,
          35.047,
          38.677,
          38.9301,
          38.8674,
          34.0538,
          37.1036,
          45.0484,
          32.51,
          39.2093,
          33.5088,
          39.9862,
          33.9963,
          39.8641,
          33.893,
          37.9722,
          38.5117,
          35.3933,
          39.5669,
          40.0161,
          39.6582,
          30.3238,
          37.926,
          29.5091,
          35.0753,
          33.8401,
          33.6646,
          36.1482,
          43.0658,
          32.9639,
          31.1192,
          25.7037,
          38.8706,
          26.2702,
          25.7464,
          41.699,
          40.8812,
          33.8616,
          27.7254,
          42.6004,
          33.6667,
          47.7466,
          25.9407,
          34.0903,
          35.566,
          40.4333,
          41.7658,
          39.5944,
          34.2486,
          38.3355,
          29.9146,
          41.2005,
          33.9631,
          29.1023,
          34.0058,
          25.5765,
          41.1641,
          33.8171,
          26.5392,
          28.3565,
          38.6473,
          32.7935,
          34.769,
          37.6862,
          41.4015,
          26.0593,
          41.8086,
          30.6263,
          41.7448,
          26.0789,
          38.5553,
          39.7805,
          30.0315,
          38.4173,
          29.1995,
          42.3127,
          33.7711,
          40.7623,
          29.6898,
          26.305,
          41.9314,
          35.4483,
          36.5913,
          29.3708,
          29.0225,
          33.7672,
          33.2175,
          34.0754,
          39.762,
          37.5571,
          41.5725,
          38.5973,
          42.0345,
          35.7305,
          30.395,
          42.3834,
          33.9992,
          28.6675,
          36.5453,
          41.0127,
          28.4474,
          25.8152,
          39.161,
          41.7949,
          33.9379,
          39.9495,
          33.7842,
          34.161,
          37.7161,
          42.5002,
          34.0053,
          46.7756,
          34.5408,
          28.0329,
          33.9418,
          37.2659,
          35.9792,
          39.6366,
          28.7125,
          41.5317,
          40.7367,
          42.748,
          34.0326,
          40.7197,
          40.7651,
          34.1378,
          33.6696,
          41.8065,
          33.8949,
          38.96,
          40.6858,
          33.9617,
          32.5607,
          44.8197,
          44.8488,
          32.6561,
          28.4879,
          26.3196,
          35.6689,
          38.7922,
          28.0177,
          32.8017,
          32.7865,
          37.9196,
          33.5905,
          34.0739,
          31.8476,
          40.6658,
          35.3862,
          38.4161,
          42.0064,
          39.1941,
          39.2774,
          41.8973,
          29.9554,
          41.9225,
          41.8762,
          41.376,
          38.4028,
          33.0492,
          42.098,
          39.6468,
          36.4063,
          36.0091,
          42.1167,
          33.1348,
          47.7937,
          26.4276,
          44.0564,
          32.8508,
          42.0464,
          37.9881,
          42.4064,
          47.9525,
          41.7213,
          32.6296,
          33.5496,
          38.7942,
          38.2583,
          39.3301,
          43.6441,
          40.4173,
          28.6021,
          47.4467,
          41.7136,
          46.8651,
          32.9272,
          36.305,
          36.7555,
          40.9845,
          42.486,
          33.4501,
          35.085,
          40.154,
          42.7994,
          39.1869,
          42.4592,
          39.5627,
          30.5205,
          38.3081,
          39.9588,
          42.5912,
          42.9859,
          45.6883,
          35.1872,
          30.0988,
          40.5087,
          41.3312,
          25.4418,
          38.9347,
          33.0343,
          39.8924,
          34.0968,
          34.0323,
          41.8683,
          39.2861,
          38.8518,
          33.0352,
          40.5477,
          44.045,
          31.1357,
          26.1412,
          40.8509,
          37.7562,
          35.0061,
          26.6194,
          40.9068,
          35.3495,
          31.8811,
          30.8926,
          38.7339,
          41.0888,
          32.7817,
          38.6886,
          33.7105,
          25.7723,
          44.929,
          40.5247,
          42.3085,
          38.7682,
          38.1924,
          35.92,
          40.5321,
          38.9133,
          41.9361,
          39.4337,
          38.2992,
          47.0916,
          37.5265,
          33.5999,
          40.5272,
          36.783,
          29.511,
          33.156,
          43.1248,
          33.8841,
          40.6309,
          36.5145,
          35.5953,
          40.0251,
          29.6804,
          34.2902,
          39.1346,
          29.7452,
          29.2484,
          37.9637,
          32.0867,
          37.9753,
          40.712,
          33.7787,
          33.8943,
          30.3582,
          42.5845,
          38.8957,
          32.91,
          35.6936,
          41.5905,
          35.2494,
          31.4445,
          41.2494,
          30.666,
          39.1755,
          30.1833,
          33.31,
          37.0046,
          38.7578,
          40.8709,
          43.1287,
          34.1449,
          38.9833,
          32.5506,
          39.5455,
          42.626,
          38.6268,
          39.7406,
          26.1844,
          28.6114,
          34.4361,
          33.2614,
          35.9644,
          30.9609,
          36.0589,
          32.4475,
          42.9258,
          47.9214,
          43.0553,
          40.9218,
          39.0877,
          32.6871,
          42.9619,
          47.238,
          34.0312,
          38.8802,
          35.1538,
          39.6472,
          32.9343,
          47.5022,
          39.011,
          44.5148,
          41.5127,
          40.417,
          26.627,
          39.267,
          36.0956,
          34.8354,
          33.1116,
          34.1947,
          45.5021,
          41.5277,
          42.3794,
          39.8654,
          38.7605,
          34.9609,
          30.2764,
          39.6287,
          33.997,
          39.6401,
          28.1102,
          40.9363,
          25.9854,
          32.8176,
          39.3939,
          41.6168,
          30.5061,
          33.3774,
          37.0551,
          40.8695,
          36.3274,
          39.7098,
          40.0819,
          33.6609,
          45.4358,
          26.1916,
          42.439,
          44.0168,
          40.7431,
          35.1271,
          38.4362,
          29.8876,
          40.8211,
          33.8304,
          32.2965,
          33.9147,
          47.768,
          37.6328,
          42.4619,
          40.9505,
          33.0337,
          29.5687,
          33.7341,
          36.0133,
          36.3063,
          38.0064,
          34.8225,
          33.8653,
          38.9699,
          34.3975,
          31.452,
          25.8696,
          40.7637,
          35.991,
          35.3957,
          34.1113,
          41.5483,
          40.4276,
          27.9633,
          41.5518,
          33.3973,
          42.1823,
          42.4052,
          37.5516,
          33.0897,
          39.5419,
          41.1263,
          45.5273,
          40.5069,
          41.0074,
          32.1896,
          31.8248,
          41.0001,
          40.7452,
          39.7837,
          35.0838,
          28.1864,
          40.66,
          42.7677,
          34.1681,
          35.6526,
          26.0293,
          25.4665,
          33.3763,
          34.971,
          37.2915,
          31.6799,
          29.58,
          29.786,
          28.3595,
          29.9921,
          40.8308,
          35.406,
          38.4109,
          33.696,
          33.98,
          42.1599,
          34.6981,
          30.7009,
          32.8353,
          32.6421,
          38.0671,
          32.839,
          32.5693,
          39.0871,
          33.359,
          40.622,
          39.7771,
          33.7346,
          33.9566,
          30.2393,
          41.6559,
          33.6772,
          32.8583,
          41.0349,
          34.1121,
          45.4925,
          34.4128,
          40.7503,
          25.9632,
          39.0448,
          35.6538,
          30.2782,
          28.293,
          34.471,
          29.9609,
          41.7384,
          38.2049,
          35.9981,
          38.7231,
          45.3927,
          40.7875,
          40.7184,
          29.8903,
          34.0333,
          41.5188,
          35.8212,
          33.5211,
          40.413,
          37.0757,
          39.4181,
          34.1236,
          44.2068,
          26.92,
          34.001,
          42.2749,
          48.2153,
          35.4764,
          39.1238,
          41.256,
          29.7905,
          40.6519,
          40.7528,
          32.9335,
          47.5371,
          39.577,
          25.7081,
          25.6697,
          25.7065,
          30.0109,
          34.026,
          46.1978,
          42.5865,
          41.149,
          47.3887,
          42.8852,
          36.7248,
          30.0398,
          25.6908,
          24.7233,
          25.1224,
          24.5642,
          39.5901,
          31.0753,
          44.267,
          40.0963,
          35.217,
          39.245,
          34.2664,
          36.5224,
          27.5094,
          47.697,
          38.5788,
          28.3041,
          42.2195,
          35.7911,
          35.9692,
          29.9932,
          43.8241,
          41.8308,
          33.9282,
          26.2796,
          32.7703,
          33.9025,
          34.0323,
          36.02,
          31.6292,
          33.9972,
          39.9946,
          40.3991,
          30.2082,
          33.5275,
          42.2826,
          28.379,
          28.4862,
          30.201,
          44.1053,
          33.1279,
          33.6605,
          42.238,
          26.7998,
          40.8297,
          39.103,
          47.2307,
          28.0557,
          30.1356,
          42.8367,
          33.8471,
          39.6977,
          41.4822,
          47.1628,
          38.074,
          35.2659,
          34.6935,
          37.6148,
          40.042,
          32.5922,
          42.7142,
          26.5834,
          33.0926,
          43.0447,
          41.3099,
          27.5625,
          27.9088,
          37.9393,
          32.3265,
          36.2333,
          37.809,
          39.0949,
          33.8884,
          39.8674,
          33.9523,
          38.7264,
          29.4874,
          36.204,
          38.9171,
          39.1057,
          40.4136,
          32.7331,
          35.8111,
          29.4954,
          40.7241,
          44.0915,
          33.0454,
          35.8018,
          40.741,
          40.8099,
          39.9532,
          38.8158,
          45.1679,
          41.7918,
          39.1954,
          45.1221,
          33.7811,
          33.1858,
          34.7256,
          39.5915,
          29.5545,
          37.6868,
          36.3875,
          42.3972,
          26.1309,
          34.6618,
          33.7977,
          40.2965,
          41.2666,
          41.3536,
          40.1686,
          39.3136,
          46.1461,
          37.3684,
          34.1141,
          37.063,
          37.2304,
          36.1151,
          38.1663,
          33.4426,
          40.4166,
          36.2561,
          42.6389,
          33.5657,
          34.6312,
          41.5172,
          38.2645,
          42.4781,
          47.8284,
          33.924,
          33.8133,
          41.3147,
          40.4709,
          32.8065,
          42.5073,
          39.0714,
          28.6295,
          34.037,
          39.6931,
          42.9848,
          46.829,
          39.1886,
          40.7834,
          33.8894,
          44.1715,
          30.3562,
          32.569,
          37.7927,
          32.4355,
          24.7263,
          25.933,
          33.9533,
          39.4241,
          36.681,
          42.3494,
          42.0343,
          47.8479,
          36.3385,
          37.9985,
          33.5209,
          39.1016,
          38.7189,
          48.0809,
          35.7468,
          43.1487,
          35.1195,
          41.0012,
          39.4343,
          33.9886,
          26.2252,
          33.4397,
          40.3418,
          40.9488,
          33.2016,
          38.9436,
          45.211,
          40.2815,
          38.9513,
          28.3698,
          40.822,
          42.3372,
          25.8647,
          35.1087,
          44.2125,
          36.7555,
          33.6909,
          37.4685,
          43.1487,
          41.6893,
          37.3057,
          26.1533,
          47.5661,
          41.5369,
          40.8531,
          33.4015,
          36.8032,
          32.7602,
          29.9977,
          40.5424,
          25.784,
          25.8171,
          25.9125,
          25.867,
          39.6322,
          40.8857,
          35.1877,
          41.3696,
          41.5476,
          32.0243,
          47.1734,
          40.6148,
          40.5183,
          26.223,
          40.5694,
          39.3444,
          47.8631,
          37.9086,
          32.5027,
          33.0874,
          40.9374,
          37.4336,
          43.0642,
          44.9635,
          48.2375,
          25.9773,
          26.2039,
          46.8751,
          29.563,
          30.6782,
          37.6375,
          41.5327,
          31.6289,
          41.9155,
          34.165,
          34.0715,
          37.2405,
          34.0155,
          34.0497,
          32.3482,
          40.2502,
          44.2659,
          38.4689,
          30.0168,
          39.0736,
          35.3293,
          35.5847,
          46.8673,
          38.0386,
          34.7308,
          33.9244,
          37.1325,
          39.6383,
          41.3749,
          40.7967,
          36.2043,
          35.3682,
          46.7308,
          42.5977,
          36.199,
          32.8537,
          40.9136,
          40.7185,
          37.7673,
          40.8907,
          37.4001,
          47.9096,
          40.1989,
          35.849,
          36.6146,
          40.6498,
          43.2281,
          35.7432,
          31.6134,
          38.2975,
          41.748,
          26.1504,
          42.7491,
          36.1715,
          31.7315,
          32.6654,
          41.489,
          30.3873,
          40.8467,
          38.309,
          41.6697,
          29.6994,
          41.6759,
          40.487,
          40.7602,
          39.6681,
          41.3113,
          45.0375,
          40.7323,
          30.0049,
          41.5095,
          30.0687,
          40.9304,
          40.6943,
          39.6776,
          40.7245,
          40.0706,
          37.9494,
          33.3767,
          39.0856,
          41.4801,
          33.6151,
          37.1051,
          42.3316,
          43.0921,
          40.0355,
          33.9252,
          33.9379,
          36.8945,
          35.2335,
          42.6844,
          40.7005,
          33.5214,
          40.7314,
          39.6008,
          39.0393,
          40.8742,
          32.9067,
          42.3172,
          33.8074,
          38.6713,
          39.1396,
          36.2883,
          26.2113,
          40.7072,
          34.7807,
          25.9008,
          25.9302,
          33.8232,
          41.4149,
          27.0576,
          41.3852,
          27.3592,
          40.684,
          40.2111,
          36.1728,
          42.3266,
          42.1292,
          39.1845,
          42.4355,
          33.9069,
          41.1144,
          40.9933,
          39.1605,
          38.092,
          42.4786,
          40.9826,
          38.785,
          42.8803,
          45.4156,
          33.978,
          38.9845,
          30.369,
          41.8872,
          28.4727,
          30.157,
          39.8055,
          37.7904,
          28.5535,
          26.178,
          38.4479,
          34.2236,
          41.286,
          38.3998,
          39.2681,
          33.2247,
          28.5796,
          31.8801,
          41.2279,
          35.4293,
          42.7057,
          35.4676,
          41.0163,
          28.0506,
          26.2285,
          34.961,
          39.1465,
          47.0417,
          41.2627,
          44.0391,
          34.0393,
          32.6612,
          33.8038,
          30.2942,
          45.689,
          34.8691,
          41.6524,
          40.2981,
          41.6075,
          28.4773,
          32.4208,
          47.0967,
          44.0227,
          41.3555,
          38.887,
          37.7575,
          42.8218,
          34.3627,
          39.5061,
          39.7858,
          34.1964,
          37.0365,
          36.6188,
          37.6113,
          36.2235,
          42.118,
          26.8466,
          33.7378,
          28.0847,
          33.8017,
          30.2011,
          34.5944,
          37.3905,
          30.1995,
          30.237,
          33.7059,
          41.1511,
          36.0872,
          33.5434,
          33.8977,
          38.2016,
          33.6688,
          40.7996,
          42.0125,
          34.8513,
          39.2623,
          39.3832,
          39.2005,
          41.3843,
          38.9863,
          34.1597,
          39.1552,
          29.6575,
          40.8574,
          40.9147,
          42.5335,
          33.3942,
          29.5581,
          28.8915,
          31.3971,
          33.3114,
          33.561,
          26.0128,
          45.6757,
          39.9867,
          30.4413,
          41.5377,
          37.7263,
          40.5202,
          40.7593,
          38.2423,
          30.4515,
          26.1685,
          40.0077,
          44.5423,
          33.5722,
          47.8744,
          33.9901,
          34.7074,
          35.7977,
          27.8589,
          31.3414,
          38.0599,
          40.1506,
          42.4023,
          38.0182,
          40.4397,
          42.4517,
          33.8807,
          40.6154,
          33.0502,
          28.014,
          26.1259,
          30.2833,
          44.6951,
          37.9539,
          37.6663,
          40.5024,
          41.3483,
          45.0225,
          36.2635,
          42.8724,
          40.0928,
          34.0585,
          26.2428,
          42.6493,
          32.1043,
          30.4456,
          26.9918,
          34.1618,
          42.9821,
          43.3846,
          42.2,
          36.0643,
          43.6773,
          45.5371,
          47.7213,
          40.2508,
          41.695,
          47.1438,
          30.0847,
          34.5849,
          44.7523,
          30.7735,
          38.3553,
          37.3689,
          42.1039,
          41.823,
          40.2457,
          38.3465,
          35.1933,
          46.7336,
          26.8941,
          33.2454,
          40.7498,
          42.2506,
          29.7282,
          42.7274,
          40.6077,
          35.8324,
          41.2005,
          27.7392,
          34.1247,
          33.7554,
          26.0358,
          39.3723,
          40.34,
          33.7394,
          40.5698,
          39.1339,
          34.0512,
          47.6763,
          33.8577,
          37.5025,
          36.5988,
          43.5348,
          38.7172,
          36.3376,
          39.455,
          39.5497,
          47.4784,
          38.9497,
          39.9588,
          34.1175,
          32.9716,
          44.8763,
          46.2824,
          37.9477,
          37.7307,
          29.5824,
          37.5295,
          40.8313,
          39.8785,
          32.2947,
          41.1065,
          26.3808,
          28.5271,
          35.2873,
          38.1765,
          44.8609,
          29.9593,
          37.726,
          33.5639,
          38.9643,
          33.9381,
          40.5176,
          27.8227,
          40.3395,
          42.6866,
          43.299,
          42.2596,
          45.092,
          28.3203,
          38.8075,
          39.0834,
          37.463,
          37.0045,
          40.9357,
          38.3479,
          26.4166,
          34.2662,
          41.6318,
          35.3886,
          40.8208,
          34.0689,
          38.5478,
          29.5456,
          38.7703,
          42.5074,
          45.0155,
          33.7887,
          34.0391,
          33.373,
          30.527,
          33.9716,
          32.9155,
          26.7038,
          33.3646,
          40.8203,
          38.5677,
          31.9323,
          44.9233,
          38.8136,
          36.6883,
          35.6658,
          45.7099,
          40.7776,
          40.0929,
          31.4424,
          29.4632,
          34.1416,
          37.6256,
          37.4982,
          26.4765,
          33.4499,
          32.8313,
          34.1082,
          34.2886,
          37.7558,
          37.3012,
          26.1903,
          37.7074,
          37.6733,
          35.2669,
          33.135,
          29.8734,
          37.5522,
          37.9629,
          37.9905,
          33.1786,
          41.4468,
          40.5709,
          33.9366,
          32.8027,
          33.7367,
          34.4285,
          37.3646,
          34.4175,
          36.9789,
          35.6619,
          33.9329,
          34.9333,
          34.0235,
          34.3545,
          38.4458,
          34.2459,
          32.8554,
          27.3387,
          37.2684,
          32.0286,
          33.2257,
          39.1416,
          29.7038,
          42.0308,
          29.565,
          41.9586,
          29.7333,
          33.6872,
          33.7542,
          38.8952,
          47.4444,
          47.6211,
          38.4001,
          38.7059,
          36.5715,
          27.8435,
          34.6818,
          40.9484,
          39.1355,
          41.4744,
          40.1923,
          40.679,
          39.0158,
          35.3531,
          43.6114,
          40.8167,
          30.184,
          37.9813,
          39.6468,
          44.7961,
          40.3029,
          38.5534,
          38.197,
          41.5169,
          44.9034,
          43.0913,
          33.803,
          35.1448,
          39.0028,
          47.6663,
          34.2663,
          34.7287,
          42.4959,
          43.5396,
          42.036,
          30.2887,
          41.0695,
          39.3919,
          33.8633,
          35.9687,
          47.9276,
          31.6383,
          36.4432,
          39.8455,
          37.0834,
          42.3908,
          37.9819,
          41.6767,
          34.0493,
          41.9906,
          41.524,
          40.7175,
          33.9447,
          27.9086,
          47.1198,
          29.6611,
          38.9393,
          25.7079,
          42.912,
          28.202,
          38.4214,
          40.7057,
          37.6538,
          39.9418,
          35.0093,
          33.9336,
          42.4765,
          42.2047,
          39.5736,
          34.9442,
          43.1882,
          47.6671,
          47.6626,
          40.3949,
          30.0613,
          35.7437,
          39.7709,
          42.1155,
          40.1638,
          29.6271,
          41.9595,
          41.1039,
          37.4252,
          33.8003,
          33.4608,
          40.7909,
          40.5834,
          32.4375,
          42.5809,
          33.5254,
          37.9765,
          41.8083,
          39.829,
          42.0209,
          27.1959,
          36.6953,
          34.108,
          29.5935,
          30.2286,
          47.2189,
          33.6165,
          27.715,
          25.9385,
          37.3836,
          26.1547,
          36.1783,
          30.2258,
          33.6815,
          40.8157,
          43.0407,
          41.0859,
          47.2431,
          35.9112,
          30.4551,
          41.1023,
          26.2056,
          25.7556,
          27.9945,
          47.0512,
          41.9036,
          42.226,
          33.4928,
          38.2577,
          33.3881,
          34.1022,
          38.8106,
          28.0436,
          39.466,
          29.9014,
          40.9093,
          35.9289,
          33.45,
          29.4154,
          33.0925,
          25.6708,
          45.6053,
          25.67,
          35.5706,
          30.1738,
          39.9197,
          41.1184,
          34.1914,
          32.0339,
          27.6687,
          45.4237,
          40.2708,
          41.9902,
          41.6638,
          30.0951,
          43.0105,
          34.0965,
          39.0346,
          34.4354,
          33.8346,
          40.9039,
          28.0106,
          38.6317,
          37.7269,
          34.9582,
          44.7546,
          40.2237,
          38.9708,
          42.7354,
          40.9531,
          33.8436,
          32.1541,
          47.475,
          36.1283,
          37.5053,
          40.4085,
          33.2348,
          32.4409,
          33.7311,
          39.8229,
          40.2631,
          41.322,
          32.3184,
          38.9469,
          40.6966,
          37.6032,
          33.5942,
          46.5566,
          40.7176,
          29.5521,
          28.0771,
          41.4948,
          47.2147,
          34.1178,
          40.1107,
          41.639,
          43.0962,
          29.2152,
          38.3587,
          34.04,
          33.7436,
          38.1125,
          40.6647,
          41.3831,
          41.4783,
          27.9193,
          45.6366,
          42.1917,
          27.1184,
          34.0019,
          42.234,
          27.6463,
          34.1907,
          38.0486,
          33.4518,
          28.8287,
          34.5277,
          33.9955,
          41.8865,
          33.8608,
          37.2746,
          36.7335,
          36.3276,
          33.1896,
          42.6517,
          31.5599,
          44.8422,
          41.2166,
          35.9632,
          38.6085,
          41.0133,
          30.4851,
          38.8758,
          36.1576,
          47.4736,
          40.8536,
          34.0334,
          37.9024,
          32.901,
          42.3889,
          40.2366,
          32.5961,
          35.5285,
          42.4934,
          41.7062,
          35.5938,
          38.9047,
          40.7587,
          32.8719,
          41.5582,
          44.9094,
          42.7243,
          36.9206,
          42.3698,
          43.0616,
          32.4035,
          34.9363,
          33.0909,
          44.967,
          32.7536,
          29.5317,
          38.5866,
          26.6461,
          41.1613,
          26.1599,
          28.2106,
          34.9985,
          43.0068,
          40.7129,
          33.8229,
          34.0555,
          42.0981,
          41.2739,
          40.6959,
          34.0883,
          40.6024,
          40.4432,
          30.292,
          45.367,
          40.2883,
          35.153,
          32.512,
          40.7857,
          26.7469,
          38.5557,
          40.6886,
          40.1241,
          40.0341,
          42.1382,
          40.6516,
          41.4524,
          32.9809,
          42.3192,
          33.7523,
          39.8837,
          26.1006,
          42.3031,
          25.7237,
          39.7728,
          39.0492,
          39.3819,
          39.0451,
          48.4328,
          41.5215,
          32.0304,
          41.6731,
          36.1008,
          33.9678,
          37.6895,
          33.9072,
          33.6173,
          28.7752,
          37.2693,
          39.6874,
          41.7171,
          33.9209,
          32.0033,
          35.7311,
          45.3109,
          38.0018,
          36.1365,
          39.1735,
          35.6705,
          40.469,
          36.1029,
          28.5421,
          28.5989,
          35.5291,
          42.5243,
          42.4869,
          38.9395,
          45.1472,
          44.9057,
          42.132,
          47.757,
          42.2705,
          38.3093,
          33.0362,
          40.0915,
          40.9466,
          33.889,
          39.9651,
          34.9967,
          41.0993,
          42.244,
          34.1234,
          35.5201,
          32.5995,
          42.4603,
          39.9897
         ],
         "lon": [
          -76.1733,
          -123.8094,
          -76.2754,
          -98.4179,
          -96.8355,
          -117.4397,
          -106.0149,
          -117.5792,
          -81.5219,
          -81.1868,
          -122.267,
          -98.1177,
          -98.4682,
          -123.0965,
          -106.6465,
          -106.0575,
          -83.9753,
          -122.2672,
          -95.3784,
          -92.4702,
          -77.0861,
          -88.3159,
          -118.1355,
          -80.2547,
          -96.6735,
          -75.4756,
          -83.0434,
          -122.8725,
          -103.665,
          -118.1346,
          -81.3953,
          -98.3098,
          -93.4783,
          -101.8316,
          -75.2215,
          -122.2583,
          -111.7953,
          -93.6217,
          -117.8574,
          -93.3265,
          -95.4293,
          -93.6031,
          -83.731,
          -121.361,
          -112.1168,
          -121.796,
          -81.5316,
          -117.2109,
          -93.2004,
          -88.3892,
          -118.0373,
          -93.167,
          -121.3845,
          -97.1256,
          -75.2947,
          -97.0385,
          -97.125,
          -77.1011,
          -87.9826,
          -87.8011,
          -118.0805,
          -105.151,
          -118.8306,
          -74.0119,
          -77.4714,
          -82.5537,
          -122.1159,
          -82.6448,
          -77.4716,
          -106.8369,
          -77.0826,
          -123.8053,
          -95.1953,
          -74.8618,
          -83.3689,
          -82.0987,
          -84.422,
          -74.4527,
          -87.4762,
          -120.5959,
          -96.9622,
          -85.4903,
          -122.2108,
          -83.2448,
          -81.8012,
          -82.0708,
          -92.9784,
          -97.7522,
          -80.7405,
          -120.1162,
          -80.1371,
          -86.3916,
          -82.0187,
          -112.3235,
          -84.2648,
          -111.3393,
          -81.2956,
          -117.9124,
          -77.1305,
          -119.0359,
          -80.1258,
          -117.9722,
          -77.4206,
          -90.55,
          -76.6144,
          -116.8992,
          -82.2964,
          -72.5085,
          -117.0471,
          -95.9456,
          -88.2071,
          -89.8195,
          -74.5568,
          -78.1802,
          -89.9249,
          -91.1311,
          -95.9601,
          -121.9615,
          -74.1158,
          -90.6733,
          -90.751,
          -94.9671,
          -87.8583,
          -94.1451,
          -84.0624,
          -122.8168,
          -97.135,
          -79.5179,
          -97.9629,
          -91.8998,
          -111.1736,
          -118.1798,
          -95.4621,
          -90.0045,
          -93.7606,
          -89.99,
          -95.939,
          -80.055,
          -122.1535,
          -118.1271,
          -122.469,
          -97.0897,
          -122.2953,
          -94.5335,
          -76.9211,
          -88.8649,
          -97.4637,
          -121.3095,
          -92.5713,
          -94.2305,
          -122.276,
          -90.3361,
          -105.0281,
          -116.2874,
          -106.5537,
          -86.7673,
          -87.7909,
          -86.9728,
          -90.0466,
          -77.1188,
          -75.3679,
          -70.8627,
          -118.4021,
          -83.2423,
          -82.9343,
          -116.7903,
          -116.8951,
          -80.3632,
          -101.4799,
          -122.7519,
          -86.7971,
          -80.1814,
          -75.0629,
          -96.1359,
          -74.6971,
          -107.9734,
          -93.3151,
          -87.6811,
          -111.9381,
          -80.9316,
          -114.6195,
          -80.108,
          -116.2308,
          -88.1021,
          -96.1901,
          -122.17,
          -81.6669,
          -106.7011,
          -71.0852,
          -105.2524,
          -86.4378,
          -80.0811,
          -96.1292,
          -111.0558,
          -82.5757,
          -93.2636,
          -83.8127,
          -115.5287,
          -95.567,
          -117.8655,
          -91.9043,
          -122.7121,
          -121.719,
          -90.3475,
          -79.9757,
          -86.7758,
          -68.7352,
          -73.1954,
          -83.8827,
          -78.9674,
          -74.3787,
          -87.8562,
          -75.0495,
          -71.0242,
          -95.7806,
          -73.8662,
          -73.8265,
          -86.6849,
          -87.847,
          -88.1231,
          -84.3314,
          -90.4432,
          -96.7859,
          -73.9496,
          -81.7497,
          -75.7152,
          -82.3903,
          -97.458,
          -81.4746,
          -96.3807,
          -97.8487,
          -118.0046,
          -78.8487,
          -87.9615,
          -77.5204,
          -77.4897,
          -114.5461,
          -95.5317,
          -118.3235,
          -77.2633,
          -122.3667,
          -73.2316,
          -87.1257,
          -93.2793,
          -87.92,
          -118.6689,
          -120.576,
          -87.5505,
          -119.0321,
          -71.1185,
          -76.9199,
          -121.9539,
          -85.3511,
          -84.2723,
          -95.8641,
          -106.6006,
          -101.919,
          -117.2621,
          -74.8205,
          -92.0388,
          -117.2834,
          -86.146,
          -121.3263,
          -88.1307,
          -88.2896,
          -119.5118,
          -118.2559,
          -119.7476,
          -84.8009,
          -78.8195,
          -111.7624,
          -122.0626,
          -98.8711,
          -116.4642,
          -76.7424,
          -95.768,
          -81.0429,
          -105.2203,
          -96.9591,
          -97.8197,
          -91.6783,
          -83.8109,
          -73.0821,
          -82.7161,
          -73.1945,
          -77.4389,
          -118.0686,
          -96.1353,
          -84.3007,
          -88.2737,
          -111.8514,
          -95.1144,
          -77.4453,
          -79.0391,
          -79.9687,
          -81.6322,
          -80.8303,
          -78.4855,
          -85.2481,
          -86.63,
          -77.2895,
          -76.3023,
          -76.2824,
          -75.3718,
          -90.5803,
          -76.0714,
          -76.9141,
          -104.7902,
          -87.6866,
          -121.8161,
          -76.9791,
          -117.6654,
          -117.7254,
          -117.0144,
          -87.7593,
          -104.6995,
          -84.506,
          -95.7607,
          -117.8891,
          -82.5628,
          -95.6095,
          -87.3413,
          -121.9301,
          -78.439,
          -112.0238,
          -82.7623,
          -97.4151,
          -80.3861,
          -82.8124,
          -81.7208,
          -81.6805,
          -84.8707,
          -81.5636,
          -73.9879,
          -74.1575,
          -79.825,
          -75.2958,
          -83.9687,
          -90.3403,
          -88.7513,
          -93.798,
          -73.9604,
          -119.683,
          -116.143,
          -116.7936,
          -77.001,
          -84.464,
          -96.2959,
          -89.6987,
          -90.0063,
          -76.9437,
          -104.7605,
          -117.3255,
          -85.3073,
          -93.2472,
          -84.8771,
          -85.9183,
          -88.4096,
          -82.9855,
          -118.1519,
          -104.843,
          -118.2274,
          -122.0016,
          -90.3574,
          -80.6369,
          -97.6467,
          -79.5893,
          -85.141,
          -95.4824,
          -122.054,
          -98.3084,
          -92.4692,
          -79.0431,
          -83.9966,
          -85.5109,
          -85.9341,
          -96.9903,
          -97.914,
          -80.2715,
          -76.9215,
          -80.2591,
          -80.3049,
          -91.5967,
          -73.0059,
          -117.5649,
          -97.3767,
          -76.1784,
          -117.9135,
          -122.0755,
          -80.3102,
          -117.8818,
          -89.6482,
          -80.0712,
          -71.4858,
          -78.8356,
          -117.2887,
          -85.4839,
          -95.0591,
          -73.9001,
          -118.183,
          -97.2871,
          -118.3968,
          -80.3356,
          -81.5207,
          -118.0386,
          -81.8999,
          -82.1942,
          -77.3459,
          -96.7667,
          -84.972,
          -122.4685,
          -73.4709,
          -80.1637,
          -71.8854,
          -87.8816,
          -87.9822,
          -80.287,
          -121.737,
          -84.2003,
          -94.9158,
          -78.9412,
          -81.0982,
          -83.213,
          -84.2963,
          -73.3218,
          -95.1151,
          -80.1277,
          -88.7481,
          -97.4408,
          -121.829,
          -100.8801,
          -81.2875,
          -96.5808,
          -97.1418,
          -80.9547,
          -104.8758,
          -97.2551,
          -93.6105,
          -90.448,
          -87.9008,
          -91.6856,
          -86.4701,
          -83.1024,
          -117.8161,
          -99.1765,
          -119.3987,
          -73.8697,
          -81.4914,
          -80.3565,
          -75.5202,
          -88.0172,
          -118.1311,
          -75.3038,
          -84.3272,
          -117.9504,
          -121.8963,
          -90.707,
          -84.1492,
          -92.1393,
          -97.9215,
          -82.7862,
          -84.3122,
          -107.8781,
          -78.9022,
          -106.8125,
          -100.484,
          -81.5794,
          -73.4114,
          -84.4836,
          -118.1691,
          -73.5604,
          -74.2117,
          -118.0776,
          -84.4701,
          -71.3565,
          -118.1956,
          -76.9109,
          -75.2209,
          -117.5803,
          -93.5625,
          -91.4948,
          -93.4595,
          -97.3406,
          -81.3771,
          -98.1597,
          -97.416,
          -89.9874,
          -82.5062,
          -116.9604,
          -115.5595,
          -122.3025,
          -112.3271,
          -118.0291,
          -106.43,
          -74.1913,
          -99.4301,
          -121.3842,
          -87.9921,
          -76.7428,
          -76.8345,
          -87.9432,
          -90.1879,
          -87.8163,
          -91.5856,
          -82.106,
          -96.1932,
          -117.261,
          -76.0639,
          -104.9942,
          -97.87,
          -115.2278,
          -80.0733,
          -117.0723,
          -122.3469,
          -81.7951,
          -123.1174,
          -97.08,
          -87.6943,
          -87.5341,
          -71.0545,
          -122.1669,
          -87.7013,
          -97.2827,
          -84.5914,
          -77.3358,
          -122.0335,
          -84.5409,
          -94.4621,
          -85.6477,
          -81.3958,
          -122.143,
          -71.1015,
          -96.8292,
          -96.8804,
          -119.2083,
          -108.1823,
          -111.9065,
          -83.3771,
          -84.471,
          -78.9772,
          -74.9915,
          -83.7144,
          -76.6331,
          -83.1313,
          -119.1906,
          -87.1899,
          -85.5415,
          -85.9659,
          -71.8156,
          -89.4255,
          -122.5738,
          -111.6194,
          -81.7124,
          -74.8599,
          -74.3533,
          -80.4685,
          -77.4084,
          -97.1146,
          -75.3287,
          -117.4599,
          -80.9716,
          -87.8157,
          -84.5258,
          -76.8708,
          -83.939,
          -105.0656,
          -75.7845,
          -97.7834,
          -80.1464,
          -73.9713,
          -92.1274,
          -80.9389,
          -81.8302,
          -73.2996,
          -94.3695,
          -81.6131,
          -102.8842,
          -77.0069,
          -85.1436,
          -97.3474,
          -104.6829,
          -117.9514,
          -80.346,
          -122.9732,
          -79.8898,
          -71.4368,
          -77.1587,
          -84.8643,
          -86.8516,
          -74.5415,
          -77.3969,
          -87.8794,
          -77.4141,
          -77.4872,
          -122.3603,
          -121.9843,
          -117.1069,
          -75.0571,
          -119.7939,
          -95.1981,
          -96.8216,
          -86.1561,
          -117.9279,
          -75.4834,
          -88.882,
          -78.7778,
          -82.8637,
          -82.3459,
          -83.8294,
          -77.2131,
          -95.2333,
          -94.8913,
          -121.2296,
          -81.1773,
          -100.8527,
          -73.6607,
          -117.9601,
          -118.3072,
          -91.1346,
          -71.9868,
          -119.7492,
          -96.6304,
          -78.6181,
          -87.3473,
          -81.1854,
          -97.7317,
          -73.4343,
          -97.6966,
          -77.2643,
          -96.9279,
          -111.7463,
          -121.5854,
          -90.1984,
          -73.6287,
          -87.9277,
          -117.8467,
          -76.804,
          -96.8548,
          -107.3347,
          -70.6897,
          -121.2488,
          -105.2118,
          -81.7031,
          -81.2916,
          -119.8594,
          -112.3622,
          -89.9721,
          -85.5123,
          -79.3894,
          -97.7702,
          -83.6181,
          -97.0884,
          -86.2201,
          -98.3586,
          -108.5673,
          -97.0208,
          -85.6562,
          -93.5327,
          -117.3132,
          -94.5227,
          -107.8335,
          -79.9975,
          -97.0742,
          -111.2996,
          -77.3013,
          -87.9895,
          -109.471,
          -80.0544,
          -80.1371,
          -84.5194,
          -79.8271,
          -82.3646,
          -96.1099,
          -82.1542,
          -122.4413,
          -87.4239,
          -82.9287,
          -83.069,
          -77.098,
          -120.5735,
          -87.7017,
          -106.9348,
          -117.9727,
          -77.7217,
          -81.6157,
          -74.1887,
          -80.1423,
          -97.2707,
          -84.5653,
          -87.4909,
          -90.4563,
          -84.2969,
          -76.363,
          -72.5225,
          -119.6549,
          -91.3939,
          -82.2761,
          -84.4093,
          -122.5081,
          -97.6977,
          -82.9293,
          -84.808,
          -74.1531,
          -85.1453,
          -78.8735,
          -90.0666,
          -73.2109,
          -118.0728,
          -83.4815,
          -118.3476,
          -116.804,
          -122.0766,
          -83.0977,
          -75.9725,
          -96.8759,
          -98.696,
          -116.9969,
          -115.0381,
          -86.5997,
          -122.2564,
          -102.4001,
          -118.3962,
          -77.3867,
          -117.3147,
          -97.196,
          -80.3045,
          -73.5245,
          -79.9937,
          -81.2048,
          -117.165,
          -87.4588,
          -111.7957,
          -81.8781,
          -81.4691,
          -86.6495,
          -87.8104,
          -83.0977,
          -77.3285,
          -97.0615,
          -104.9708,
          -74.1706,
          -122.936,
          -74.6523,
          -74.044,
          -80.7499,
          -81.6137,
          -74.0972,
          -74.0281,
          -75.6815,
          -96.4017,
          -82.7429,
          -111.8226,
          -86.0984,
          -84.4847,
          -78.8399,
          -80.1679,
          -80.4472,
          -86.8068,
          -78.9597,
          -77.2985,
          -106.1903,
          -90.7059,
          -95.3885,
          -82.6894,
          -95.2655,
          -76.841,
          -80.8716,
          -82.4345,
          -118.0018,
          -118.2167,
          -88.433,
          -86.6412,
          -95.5567,
          -97.1809,
          -96.7093,
          -97.9081,
          -115.572,
          -117.118,
          -94.3501,
          -86.7492,
          -79.1552,
          -86.1458,
          -116.2346,
          -118.3444,
          -93.013,
          -91.5303,
          -117.7738,
          -96.9702,
          -73.866,
          -117.9636,
          -93.2408,
          -119.8614,
          -73.1869,
          -80.183,
          -82.6458,
          -88.8354,
          -81.4045,
          -82.6907,
          -84.4497,
          -90.1554,
          -80.7689,
          -85.5701,
          -95.9736,
          -90.2644,
          -122.6152,
          -73.5416,
          -74.0686,
          -95.5721,
          -84.2027,
          -88.1499,
          -90.6791,
          -84.3548,
          -76.4806,
          -94.5018,
          -76.3516,
          -116.3128,
          -123.2102,
          -80.1128,
          -117.4706,
          -85.5882,
          -114.3274,
          -80.6408,
          -94.5541,
          -73.6857,
          -95.8353,
          -112.0095,
          -74.1202,
          -97.2256,
          -116.142,
          -105.1144,
          -80.4078,
          -80.3556,
          -80.4388,
          -90.2549,
          -84.6177,
          -119.1732,
          -87.8773,
          -81.361,
          -122.2128,
          -85.5926,
          -120.0625,
          -99.132,
          -80.1653,
          -81.0216,
          -80.412,
          -81.7775,
          -105.9383,
          -97.7297,
          -88.3378,
          -75.3821,
          -114.0105,
          -120.0203,
          -77.8659,
          -82.5454,
          -97.861,
          -122.2057,
          -90.4203,
          -81.4169,
          -121.7754,
          -78.4966,
          -83.9496,
          -97.8852,
          -91.2268,
          -87.8723,
          -117.9515,
          -98.3575,
          -117.0204,
          -118.0093,
          -117.9533,
          -86.5586,
          -97.1052,
          -118.374,
          -105.0998,
          -86.8593,
          -92.0325,
          -117.705,
          -87.851,
          -81.5262,
          -81.546,
          -93.2111,
          -94.2188,
          -97.0234,
          -117.6714,
          -87.8596,
          -80.0681,
          -73.1128,
          -76.4876,
          -122.1695,
          -81.9545,
          -81.7674,
          -77.703,
          -118.1222,
          -105.1172,
          -81.8008,
          -122.5299,
          -102.6154,
          -118.9159,
          -118.1753,
          -84.5815,
          -76.3012,
          -96.7739,
          -84.5601,
          -80.0564,
          -97.1214,
          -83.3253,
          -105.6085,
          -99.4874,
          -82.7712,
          -122.5312,
          -106.7893,
          -115.2654,
          -121.3131,
          -76.8622,
          -118.3531,
          -85.9904,
          -83.9932,
          -87.6873,
          -95.1087,
          -86.3481,
          -94.3816,
          -77.5544,
          -111.8725,
          -117.0344,
          -84.2818,
          -98.6143,
          -73.5125,
          -70.1681,
          -96.9815,
          -80.2682,
          -84.112,
          -96.6784,
          -83.1314,
          -77.1543,
          -93.083,
          -88.0888,
          -89.63,
          -94.5253,
          -84.6487,
          -96.9295,
          -92.3577,
          -105.0188,
          -98.3404,
          -121.7607,
          -85.3265,
          -83.3733,
          -97.9687,
          -120.4714,
          -118.167,
          -73.9915,
          -73.2283,
          -72.0517,
          -105.1005,
          -74.5261,
          -122.963,
          -122.0965,
          -118.4068,
          -120.8406,
          -121.9562,
          -106.0371,
          -85.6485,
          -84.3177,
          -105.0623,
          -94.1532,
          -71.3217,
          -101.8879,
          -79.0186,
          -81.4922,
          -85.5891,
          -70.9664,
          -122.3033,
          -118.2016,
          -84.5655,
          -81.4989,
          -90.6807,
          -83.6974,
          -83.1034,
          -75.476,
          -81.3718,
          -118.7839,
          -74.2495,
          -71.4447,
          -100.887,
          -96.6048,
          -73.9662,
          -118.3967,
          -93.9772,
          -97.5227,
          -97.1213,
          -121.2264,
          -111.1558,
          -81.0374,
          -81.6993,
          -84.5422,
          -81.4465,
          -121.7892,
          -71.5468,
          -92.9068,
          -122.2327,
          -88.8513,
          -122.1161,
          -82.0985,
          -76.8051,
          -90.4749,
          -122.1561,
          -83.9789,
          -93.1997,
          -80.7101,
          -72.5419,
          -76.6516,
          -118.1877,
          -98.2467,
          -84.1505,
          -79.844,
          -124.0857,
          -96.667,
          -77.1943,
          -123.1918,
          -80.0874,
          -77.4115,
          -81.3467,
          -72.9859,
          -122.854,
          -80.3516,
          -89.9663,
          -88.4271,
          -120.3776,
          -117.1849,
          -122.1673,
          -88.1227,
          -81.3362,
          -120.4779,
          -97.9128,
          -122.232,
          -72.7946,
          -79.9555,
          -111.7178,
          -114.133,
          -96.5865,
          -90.178,
          -74.3628,
          -80.2101,
          -80.1396,
          -80.3214,
          -80.1779,
          -84.2724,
          -72.9454,
          -85.1959,
          -81.815,
          -72.6549,
          -102.1147,
          -122.412,
          -111.8927,
          -111.4746,
          -97.9601,
          -75.0916,
          -76.7668,
          -122.2037,
          -122.5421,
          -86.3737,
          -83.2414,
          -72.9864,
          -121.8921,
          -87.9675,
          -93.2678,
          -101.278,
          -80.3351,
          -98.3256,
          -114.0214,
          -95.5365,
          -88.1162,
          -121.0028,
          -87.8781,
          -103.0403,
          -83.3849,
          -117.9921,
          -117.6981,
          -121.9881,
          -118.1108,
          -118.1326,
          -86.2668,
          -75.2405,
          -72.5717,
          -107.859,
          -90.4634,
          -104.8467,
          -97.4757,
          -80.8266,
          -96.7461,
          -121.2456,
          -76.7388,
          -117.2045,
          -121.6419,
          -79.9464,
          -88.4304,
          -74.4772,
          -83.3001,
          -120.8482,
          -116.9986,
          -82.8821,
          -86.5115,
          -79.8203,
          -73.8291,
          -122.3262,
          -121.5449,
          -74.4406,
          -122.0796,
          -122.3035,
          -85.395,
          -86.4121,
          -88.3207,
          -111.8874,
          -86.2562,
          -95.3567,
          -94.6528,
          -122.301,
          -88.1659,
          -81.7936,
          -71.491,
          -86.7842,
          -93.0975,
          -117.0983,
          -73.0518,
          -96.0901,
          -73.1522,
          -85.8234,
          -70.9428,
          -98.1148,
          -72.7862,
          -74.445,
          -73.5649,
          -75.5697,
          -72.9246,
          -93.3869,
          -73.6858,
          -91.8202,
          -87.9703,
          -89.9288,
          -73.7836,
          -73.9249,
          -75.7576,
          -74.1725,
          -82.425,
          -87.4053,
          -84.7761,
          -84.4868,
          -71.3203,
          -117.8668,
          -76.5185,
          -71.2085,
          -79.0147,
          -86.0042,
          -117.5498,
          -84.2065,
          -76.259,
          -97.3471,
          -73.1166,
          -73.4119,
          -81.9547,
          -73.3248,
          -74.2123,
          -77.1191,
          -81.3971,
          -80.0722,
          -87.8595,
          -84.2889,
          -121.3721,
          -94.5641,
          -115.0888,
          -80.2209,
          -73.3859,
          -92.2371,
          -80.1686,
          -80.1659,
          -78.7082,
          -81.919,
          -82.1977,
          -82.0195,
          -82.5213,
          -73.7077,
          -75.2745,
          -81.139,
          -72.6745,
          -87.8352,
          -94.6054,
          -83.489,
          -118.0829,
          -73.4215,
          -73.951,
          -84.4535,
          -122.5575,
          -83.4893,
          -72.335,
          -90.7175,
          -87.9009,
          -122.6349,
          -81.1468,
          -77.4174,
          -91.0887,
          -87.7899,
          -81.4169,
          -95.4421,
          -75.1589,
          -122.2166,
          -81.636,
          -80.1528,
          -90.3199,
          -83.8851,
          -82.2198,
          -75.0715,
          -74.602,
          -117.3083,
          -81.5332,
          -102.3448,
          -111.9682,
          -119.0306,
          -84.4135,
          -97.5136,
          -73.9855,
          -82.6698,
          -97.9931,
          -89.8469,
          -77.0715,
          -122.8959,
          -96.0529,
          -88.7378,
          -117.6064,
          -85.3769,
          -117.8218,
          -87.5849,
          -122.5306,
          -120.4222,
          -83.4321,
          -111.6994,
          -87.8619,
          -81.337,
          -110.9767,
          -122.2112,
          -88.5619,
          -88.8261,
          -94.687,
          -87.1172,
          -83.2563,
          -89.5336,
          -84.7446,
          -75.9801,
          -119.1815,
          -93.2158,
          -121.9259,
          -122.4782,
          -115.9974,
          -88.043,
          -80.1679,
          -116.3695,
          -82.7481,
          -116.5382,
          -81.3948,
          -118.1057,
          -122.1468,
          -85.6003,
          -85.8776,
          -84.2763,
          -96.0665,
          -115.1355,
          -111.9595,
          -118.1651,
          -84.2718,
          -95.546,
          -77.9084,
          -87.8436,
          -82.4512,
          -81.542,
          -76.5519,
          -94.7225,
          -81.7286,
          -76.5518,
          -118.139,
          -76.5537,
          -95.1498,
          -74.1282,
          -74.1624,
          -70.9725,
          -84.571,
          -95.3218,
          -99.0975,
          -103.5201,
          -86.7573,
          -86.2669,
          -80.3382,
          -118.8201,
          -75.2715,
          -87.1911,
          -83.6413,
          -89.8759,
          -74.2724,
          -86.0756,
          -122.6266,
          -97.6018,
          -98.1904,
          -75.1339,
          -123.3599,
          -112.0892,
          -122.3077,
          -118.0888,
          -82.4651,
          -83.5623,
          -82.7078,
          -92.4096,
          -85.68,
          -84.2441,
          -88.2115,
          -121.8965,
          -79.9763,
          -73.2605,
          -117.8553,
          -74.4157,
          -96.7486,
          -82.1201,
          -80.2617,
          -91.243,
          -73.4563,
          -122.0759,
          -121.8805,
          -79.7495,
          -86.3187,
          -93.4617,
          -90.9706,
          -112.4647,
          -74.0459,
          -117.7626,
          -80.1312,
          -83.2878,
          -81.2569,
          -91.2098,
          -82.114,
          -119.2036,
          -82.4388,
          -87.8855,
          -85.5906,
          -119.0338,
          -70.2715,
          -122.65,
          -116.9384,
          -75.6445,
          -73.9211,
          -122.1408,
          -95.9892,
          -112.4473,
          -92.7882,
          -88.1301,
          -87.5784,
          -81.0961,
          -87.9267,
          -71.4187,
          -111.6457,
          -104.7246,
          -87.035,
          -117.168,
          -82.0513,
          -111.6173,
          -73.7976,
          -71.0187,
          -90.6362,
          -87.8135,
          -74.2807,
          -78.6429,
          -96.0355,
          -98.1027,
          -117.5667,
          -118.3634,
          -97.5568,
          -76.8024,
          -75.9267,
          -84.1644,
          -122.365,
          -77.1464,
          -117.1712,
          -122.1169,
          -118.3765,
          -122.2253,
          -119.4471,
          -89.9965,
          -75.0845,
          -79.6725,
          -76.814,
          -119.8483,
          -122.1918,
          -77.3461,
          -82.7943,
          -117.3892,
          -96.7093,
          -93.2829,
          -119.2939,
          -122.3389,
          -84.2925,
          -95.7563,
          -77.4756,
          -74.0147,
          -75.3251,
          -81.2353,
          -74.2749,
          -98.8215,
          -81.2628,
          -106.6982,
          -121.7025,
          -92.6247,
          -90.2202,
          -120.9433,
          -84.4103,
          -76.9266,
          -117.3949,
          -111.9636,
          -82.3023,
          -74.2939,
          -83.1198,
          -70.9787,
          -89.064,
          -93.7453,
          -80.736,
          -121.2489,
          -77.1553,
          -77.5744,
          -79.8854,
          -72.9364,
          -122.6965,
          -99.0061,
          -85.1863,
          -88.0997,
          -119.2058,
          -74.3086,
          -118.0823,
          -121.3553,
          -95.8223,
          -121.3196,
          -82.9369,
          -93.1545,
          -118.0803,
          -84.3513,
          -104.5294,
          -97.6642,
          -117.8912,
          -96.5489,
          -80.2241,
          -105.6434,
          -74.1057,
          -121.4685,
          -110.9654,
          -123.0244,
          -97.6143,
          -121.6317,
          -80.4905,
          -122.6632,
          -111.9311,
          -76.4279,
          -100.4504,
          -98.5238,
          -117.2943,
          -122.4313,
          -122.2677,
          -81.8193,
          -117.6102,
          -117.1222,
          -117.809,
          -118.4362,
          -122.4449,
          -121.848,
          -98.152,
          -122.1599,
          -122.1332,
          -120.669,
          -117.1743,
          -97.9356,
          -122.3121,
          -122.3426,
          -122.5221,
          -111.5629,
          -82.7024,
          -111.8506,
          -84.3703,
          -97.4021,
          -117.8819,
          -119.7202,
          -121.968,
          -118.4964,
          -122.0346,
          -105.9819,
          -118.0625,
          -120.4431,
          -118.481,
          -119.0656,
          -122.7067,
          -118.9018,
          -116.9851,
          -82.5432,
          -122.0263,
          -81.1821,
          -96.9081,
          -76.8843,
          -98.6712,
          -88.0838,
          -98.2535,
          -87.8693,
          -90.831,
          -111.8651,
          -118.0714,
          -76.9016,
          -122.2986,
          -122.3244,
          -122.8275,
          -93.234,
          -119.6143,
          -82.784,
          -82.96,
          -73.116,
          -76.6956,
          -81.5496,
          -74.0463,
          -122.3775,
          -94.8076,
          -96.9647,
          -86.3648,
          -76.2003,
          -95.4557,
          -85.7007,
          -105.0182,
          -106.9642,
          -75.967,
          -89.9161,
          -85.8136,
          -88.2146,
          -93.5905,
          -87.8864,
          -118.1681,
          -85.3457,
          -77.0207,
          -122.6828,
          -118.749,
          -82.2569,
          -96.3901,
          -96.7311,
          -87.74,
          -89.7828,
          -80.058,
          -94.5747,
          -84.5168,
          -86.5264,
          -122.0969,
          -106.2601,
          -121.3426,
          -75.0218,
          -84.6109,
          -71.1014,
          -120.3828,
          -86.2696,
          -118.0484,
          -88.3135,
          -81.5245,
          -73.4473,
          -118.1926,
          -82.7162,
          -122.2853,
          -95.2285,
          -119.9828,
          -80.2952,
          -87.8627,
          -80.6137,
          -82.5784,
          -111.8986,
          -122.4196,
          -74.2087,
          -106.6819,
          -118.0312,
          -83.2605,
          -83.2057,
          -119.7161,
          -81.9251,
          -77.8067,
          -117.433,
          -117.2346,
          -74.392,
          -95.383,
          -86.9116,
          -89.654,
          -72.5395,
          -111.6205,
          -95.5654,
          -72.3105,
          -73.5585,
          -122.1674,
          -117.9935,
          -88.8297,
          -77.8567,
          -74.1496,
          -81.7751,
          -83.0305,
          -84.2295,
          -121.3109,
          -72.2514,
          -75.0156,
          -88.1779,
          -80.2444,
          -76.6398,
          -84.0558,
          -95.6358,
          -93.3566,
          -122.2338,
          -112.2819,
          -82.3569,
          -80.1246,
          -122.0255,
          -80.2997,
          -115.0487,
          -97.8158,
          -112.4515,
          -73.502,
          -76.1437,
          -112.0698,
          -122.4531,
          -94.977,
          -84.2527,
          -81.4216,
          -80.2539,
          -80.4016,
          -82.4447,
          -122.7809,
          -71.0943,
          -83.2688,
          -117.1315,
          -122.4982,
          -111.9319,
          -118.0579,
          -76.9495,
          -82.3773,
          -87.3751,
          -90.0279,
          -73.0486,
          -119.2783,
          -94.0847,
          -94.9682,
          -96.8976,
          -80.4018,
          -121.1818,
          -80.4482,
          -97.5567,
          -95.5134,
          -104.9438,
          -73.7795,
          -118.8756,
          -81.0479,
          -82.7299,
          -122.7845,
          -74.0949,
          -92.5803,
          -83.5827,
          -95.6194,
          -78.8805,
          -118.6053,
          -95.6955,
          -119.5562,
          -118.3416,
          -74.2214,
          -82.5763,
          -90.479,
          -121.4523,
          -82.4412,
          -85.6038,
          -74.7641,
          -90.9714,
          -73.6751,
          -73.823,
          -84.2024,
          -110.8787,
          -122.2728,
          -95.9042,
          -120.8588,
          -79.8214,
          -87.5268,
          -85.7131,
          -117.8107,
          -105.0036,
          -74.4917,
          -81.4451,
          -95.3062,
          -84.6729,
          -74.2693,
          -122.0181,
          -84.5629,
          -120.4979,
          -73.5947,
          -98.3074,
          -82.4335,
          -81.535,
          -122.5461,
          -117.6604,
          -88.1973,
          -93.7812,
          -75.2261,
          -99.7782,
          -121.9673,
          -117.93,
          -116.8871,
          -122.2342,
          -73.7043,
          -81.6067,
          -87.0506,
          -82.2293,
          -122.5967,
          -84.3855,
          -82.4137,
          -118.2105,
          -87.9608,
          -80.393,
          -88.7204,
          -84.7258,
          -86.7437,
          -96.9849,
          -117.3536,
          -118.3483,
          -87.9779,
          -84.4686,
          -79.8887,
          -76.0435,
          -119.3269,
          -117.2386,
          -73.9347,
          -97.1882,
          -93.7896,
          -96.6172,
          -78.514,
          -76.9194,
          -74.1259,
          -90.8654,
          -76.8854,
          -80.1641,
          -115.9227,
          -74.1069,
          -117.8593,
          -122.0399,
          -80.676,
          -71.2423,
          -74.0294,
          -83.6527,
          -97.6182,
          -83.027,
          -71.4334,
          -119.3671,
          -77.0163,
          -74.9825,
          -97.2515,
          -73.0361,
          -97.1532,
          -73.7068,
          -121.7708,
          -87.8716,
          -88.0347,
          -96.8446,
          -80.7439,
          -82.0145,
          -93.516,
          -97.7723,
          -95.1188,
          -90.3544,
          -80.2699,
          -82.2255,
          -97.9877,
          -82.3238,
          -80.6903,
          -88.0296,
          -73.3585,
          -118.2931,
          -117.9113,
          -88.3066,
          -72.9672,
          -73.6507,
          -118.3719,
          -112.0008,
          -86.9238,
          -97.8083,
          -122.6399,
          -74.0185,
          -90.1996,
          -92.1513,
          -74.0094,
          -80.132,
          -121.5505,
          -112.0123,
          -82.921,
          -86.1529,
          -72.7561,
          -74.3432,
          -81.9294,
          -97.2041,
          -83.3805,
          -117.9938,
          -105.0624,
          -80.4054,
          -85.6286,
          -80.3717,
          -105.1028,
          -77.0573,
          -76.4574,
          -76.9885,
          -114.359,
          -83.7958,
          -81.0109,
          -87.4842,
          -115.0379,
          -118.0188,
          -97.3443,
          -98.5291,
          -117.2582,
          -82.0075,
          -76.7076,
          -74.9786,
          -72.2114,
          -118.2356,
          -80.9752,
          -77.9284,
          -122.7702,
          -84.1908,
          -115.137,
          -78.1746,
          -109.0639,
          -104.9198,
          -80.261,
          -81.5967,
          -81.3442,
          -77.4,
          -83.5346,
          -71.1543,
          -77.2842,
          -122.8603,
          -92.923,
          -83.2374,
          -122.1477,
          -71.8079,
          -85.527,
          -96.5161,
          -75.1463,
          -73.8673,
          -117.7714,
          -76.7315,
          -81.2341,
          -80.6463,
          -83.6208,
          -116.4216,
          -97.7639,
          -114.5491,
          -87.8511,
          -86.3182
         ],
         "marker": {
          "cmax": 627,
          "cmin": 1,
          "color": [
           1,
           1,
           1,
           1,
           3,
           1,
           1,
           1,
           10,
           3,
           2,
           1,
           1,
           1,
           25,
           1,
           3,
           1,
           1,
           1,
           9,
           2,
           4,
           1,
           1,
           1,
           1,
           1,
           1,
           4,
           5,
           5,
           1,
           4,
           1,
           1,
           1,
           2,
           31,
           1,
           1,
           12,
           3,
           2,
           2,
           2,
           1,
           1,
           1,
           1,
           2,
           1,
           2,
           2,
           1,
           1,
           34,
           10,
           2,
           1,
           1,
           2,
           4,
           3,
           1,
           3,
           4,
           3,
           1,
           1,
           1,
           1,
           7,
           1,
           6,
           1,
           108,
           1,
           1,
           1,
           1,
           4,
           3,
           2,
           1,
           1,
           2,
           155,
           2,
           1,
           2,
           1,
           2,
           3,
           1,
           1,
           2,
           3,
           2,
           20,
           1,
           5,
           1,
           2,
           32,
           1,
           2,
           4,
           1,
           1,
           1,
           3,
           1,
           1,
           1,
           28,
           1,
           1,
           1,
           1,
           2,
           7,
           1,
           2,
           2,
           5,
           10,
           1,
           1,
           1,
           1,
           5,
           1,
           1,
           1,
           1,
           1,
           1,
           1,
           3,
           1,
           1,
           3,
           1,
           1,
           1,
           1,
           1,
           1,
           3,
           15,
           1,
           1,
           1,
           2,
           1,
           3,
           1,
           1,
           2,
           2,
           3,
           9,
           1,
           1,
           1,
           1,
           1,
           3,
           1,
           10,
           1,
           1,
           2,
           1,
           1,
           4,
           1,
           1,
           1,
           1,
           7,
           5,
           1,
           1,
           1,
           1,
           1,
           42,
           6,
           5,
           3,
           1,
           3,
           2,
           2,
           1,
           1,
           1,
           4,
           1,
           3,
           1,
           3,
           1,
           1,
           2,
           1,
           1,
           1,
           1,
           1,
           1,
           3,
           1,
           56,
           2,
           2,
           1,
           1,
           4,
           1,
           1,
           254,
           2,
           1,
           2,
           10,
           1,
           7,
           1,
           4,
           12,
           1,
           1,
           1,
           1,
           1,
           11,
           1,
           4,
           6,
           1,
           1,
           1,
           3,
           1,
           1,
           2,
           6,
           2,
           2,
           1,
           1,
           1,
           1,
           4,
           1,
           1,
           1,
           2,
           7,
           2,
           1,
           1,
           2,
           23,
           2,
           1,
           5,
           2,
           7,
           1,
           1,
           1,
           1,
           2,
           2,
           1,
           1,
           1,
           1,
           1,
           1,
           1,
           1,
           6,
           1,
           1,
           2,
           10,
           3,
           1,
           10,
           1,
           3,
           61,
           5,
           3,
           3,
           3,
           1,
           1,
           1,
           4,
           1,
           1,
           1,
           299,
           6,
           6,
           2,
           2,
           3,
           1,
           2,
           18,
           5,
           1,
           2,
           1,
           1,
           1,
           1,
           1,
           1,
           2,
           7,
           1,
           2,
           20,
           1,
           1,
           1,
           4,
           1,
           1,
           3,
           2,
           1,
           1,
           1,
           5,
           5,
           4,
           1,
           9,
           32,
           1,
           1,
           1,
           11,
           4,
           2,
           1,
           2,
           2,
           1,
           32,
           5,
           4,
           4,
           7,
           1,
           5,
           1,
           1,
           1,
           4,
           1,
           1,
           1,
           1,
           2,
           2,
           1,
           6,
           1,
           1,
           2,
           3,
           5,
           1,
           2,
           8,
           15,
           1,
           15,
           1,
           1,
           4,
           2,
           1,
           2,
           4,
           2,
           1,
           4,
           1,
           1,
           1,
           6,
           1,
           1,
           2,
           4,
           2,
           3,
           153,
           1,
           2,
           1,
           4,
           1,
           1,
           1,
           4,
           7,
           3,
           1,
           3,
           3,
           4,
           3,
           1,
           1,
           2,
           1,
           1,
           1,
           4,
           1,
           1,
           20,
           3,
           79,
           1,
           3,
           1,
           2,
           1,
           1,
           29,
           2,
           1,
           2,
           1,
           2,
           10,
           2,
           1,
           6,
           1,
           1,
           1,
           3,
           2,
           2,
           2,
           1,
           1,
           7,
           1,
           18,
           2,
           1,
           1,
           1,
           2,
           3,
           4,
           3,
           1,
           3,
           3,
           3,
           1,
           1,
           1,
           1,
           6,
           6,
           2,
           1,
           10,
           2,
           1,
           1,
           3,
           1,
           3,
           2,
           2,
           70,
           8,
           1,
           1,
           1,
           2,
           1,
           2,
           1,
           1,
           1,
           3,
           1,
           2,
           1,
           1,
           2,
           9,
           2,
           1,
           1,
           2,
           9,
           1,
           1,
           3,
           5,
           4,
           2,
           3,
           1,
           1,
           1,
           1,
           2,
           2,
           1,
           1,
           1,
           4,
           1,
           1,
           1,
           1,
           1,
           1,
           8,
           2,
           1,
           2,
           1,
           3,
           1,
           1,
           6,
           1,
           1,
           1,
           2,
           1,
           1,
           1,
           2,
           2,
           5,
           1,
           7,
           5,
           2,
           1,
           3,
           1,
           2,
           1,
           1,
           9,
           2,
           1,
           1,
           2,
           1,
           2,
           1,
           1,
           2,
           7,
           65,
           2,
           1,
           2,
           1,
           1,
           2,
           4,
           1,
           3,
           1,
           1,
           1,
           1,
           1,
           1,
           8,
           3,
           1,
           31,
           5,
           6,
           1,
           17,
           1,
           1,
           1,
           1,
           10,
           3,
           2,
           2,
           2,
           2,
           4,
           1,
           1,
           10,
           2,
           1,
           1,
           4,
           12,
           2,
           1,
           1,
           1,
           1,
           1,
           3,
           1,
           11,
           1,
           1,
           4,
           1,
           3,
           1,
           2,
           1,
           1,
           1,
           1,
           1,
           2,
           1,
           3,
           1,
           1,
           5,
           3,
           1,
           1,
           1,
           1,
           1,
           10,
           8,
           1,
           1,
           1,
           2,
           1,
           11,
           2,
           1,
           2,
           2,
           1,
           1,
           3,
           13,
           9,
           2,
           2,
           2,
           1,
           1,
           1,
           1,
           2,
           1,
           1,
           4,
           1,
           1,
           1,
           2,
           8,
           1,
           5,
           2,
           2,
           3,
           1,
           4,
           1,
           1,
           1,
           1,
           6,
           1,
           2,
           1,
           1,
           5,
           3,
           1,
           2,
           1,
           6,
           1,
           10,
           1,
           1,
           2,
           2,
           2,
           8,
           1,
           1,
           1,
           2,
           2,
           2,
           1,
           8,
           3,
           9,
           1,
           1,
           2,
           1,
           1,
           1,
           1,
           1,
           1,
           1,
           1,
           1,
           1,
           6,
           1,
           2,
           1,
           1,
           1,
           7,
           1,
           2,
           2,
           4,
           1,
           1,
           1,
           7,
           3,
           6,
           1,
           1,
           2,
           2,
           334,
           1,
           3,
           1,
           2,
           3,
           11,
           1,
           1,
           7,
           2,
           4,
           1,
           4,
           2,
           2,
           3,
           1,
           2,
           40,
           14,
           8,
           1,
           3,
           25,
           13,
           2,
           1,
           1,
           23,
           1,
           1,
           1,
           2,
           3,
           1,
           1,
           1,
           1,
           2,
           1,
           1,
           1,
           1,
           16,
           2,
           2,
           2,
           1,
           1,
           7,
           1,
           1,
           1,
           1,
           2,
           1,
           2,
           1,
           1,
           38,
           1,
           2,
           2,
           4,
           2,
           1,
           1,
           1,
           2,
           1,
           1,
           3,
           5,
           2,
           1,
           3,
           1,
           3,
           1,
           1,
           1,
           1,
           1,
           1,
           3,
           1,
           1,
           1,
           2,
           2,
           1,
           5,
           4,
           1,
           4,
           1,
           1,
           8,
           4,
           3,
           1,
           2,
           2,
           2,
           2,
           3,
           1,
           1,
           1,
           3,
           4,
           16,
           1,
           1,
           3,
           3,
           4,
           1,
           1,
           1,
           1,
           1,
           3,
           1,
           1,
           7,
           3,
           1,
           2,
           16,
           5,
           1,
           1,
           1,
           4,
           1,
           2,
           2,
           8,
           1,
           1,
           2,
           2,
           6,
           1,
           3,
           5,
           41,
           2,
           1,
           1,
           1,
           4,
           1,
           4,
           3,
           1,
           2,
           2,
           4,
           2,
           1,
           1,
           1,
           2,
           1,
           2,
           9,
           2,
           1,
           1,
           2,
           1,
           1,
           1,
           1,
           8,
           2,
           5,
           1,
           2,
           5,
           4,
           1,
           68,
           1,
           1,
           1,
           3,
           1,
           1,
           1,
           627,
           3,
           1,
           1,
           31,
           2,
           2,
           2,
           4,
           8,
           2,
           1,
           1,
           1,
           1,
           6,
           6,
           1,
           2,
           8,
           3,
           1,
           1,
           2,
           1,
           4,
           1,
           1,
           274,
           2,
           5,
           1,
           3,
           4,
           1,
           1,
           1,
           5,
           2,
           1,
           1,
           1,
           1,
           1,
           1,
           1,
           2,
           3,
           10,
           4,
           1,
           2,
           1,
           1,
           1,
           25,
           2,
           1,
           1,
           10,
           4,
           1,
           1,
           1,
           1,
           1,
           2,
           1,
           25,
           1,
           3,
           5,
           1,
           1,
           2,
           5,
           3,
           2,
           1,
           1,
           9,
           1,
           15,
           21,
           1,
           33,
           12,
           1,
           1,
           1,
           1,
           2,
           1,
           2,
           4,
           1,
           1,
           1,
           6,
           4,
           1,
           1,
           1,
           1,
           3,
           1,
           4,
           37,
           43,
           1,
           3,
           11,
           2,
           4,
           5,
           2,
           1,
           1,
           1,
           2,
           2,
           1,
           3,
           2,
           3,
           1,
           2,
           2,
           1,
           1,
           2,
           3,
           1,
           1,
           2,
           3,
           2,
           1,
           1,
           2,
           1,
           2,
           1,
           2,
           3,
           3,
           1,
           1,
           1,
           1,
           3,
           1,
           4,
           2,
           1,
           1,
           1,
           1,
           6,
           2,
           3,
           1,
           4,
           66,
           4,
           5,
           3,
           1,
           1,
           1,
           1,
           3,
           1,
           2,
           1,
           1,
           4,
           1,
           1,
           1,
           1,
           53,
           2,
           5,
           3,
           10,
           3,
           1,
           3,
           3,
           4,
           1,
           5,
           3,
           1,
           2,
           1,
           1,
           14,
           3,
           1,
           2,
           2,
           1,
           1,
           1,
           1,
           2,
           2,
           1,
           1,
           1,
           11,
           1,
           2,
           2,
           1,
           1,
           1,
           2,
           2,
           1,
           1,
           1,
           1,
           1,
           1,
           1,
           1,
           1,
           3,
           1,
           2,
           1,
           1,
           1,
           1,
           2,
           2,
           3,
           1,
           2,
           1,
           3,
           2,
           3,
           1,
           73,
           4,
           1,
           1,
           1,
           1,
           1,
           1,
           11,
           1,
           9,
           5,
           1,
           1,
           27,
           1,
           1,
           3,
           1,
           2,
           2,
           19,
           1,
           13,
           1,
           8,
           1,
           6,
           1,
           2,
           2,
           3,
           35,
           2,
           2,
           5,
           1,
           5,
           1,
           1,
           1,
           5,
           1,
           28,
           1,
           1,
           2,
           9,
           2,
           2,
           13,
           1,
           3,
           3,
           14,
           1,
           2,
           1,
           1,
           1,
           37,
           2,
           1,
           1,
           1,
           2,
           1,
           1,
           2,
           2,
           1,
           3,
           2,
           16,
           1,
           5,
           1,
           5,
           2,
           1,
           6,
           1,
           1,
           1,
           1,
           3,
           1,
           1,
           1,
           2,
           1,
           2,
           1,
           2,
           1,
           6,
           146,
           1,
           73,
           3,
           4,
           1,
           1,
           1,
           1,
           1,
           1,
           3,
           4,
           10,
           2,
           2,
           2,
           13,
           3,
           1,
           1,
           2,
           3,
           1,
           1,
           1,
           2,
           4,
           1,
           1,
           15,
           3,
           1,
           1,
           1,
           1,
           2,
           3,
           1,
           1,
           3,
           2,
           62,
           1,
           1,
           2,
           1,
           1,
           1,
           1,
           1,
           1,
           1,
           1,
           8,
           1,
           2,
           1,
           1,
           1,
           1,
           103,
           3,
           1,
           1,
           5,
           30,
           1,
           1,
           9,
           1,
           1,
           2,
           1,
           4,
           4,
           2,
           2,
           3,
           6,
           2,
           1,
           1,
           1,
           1,
           1,
           11,
           1,
           4,
           1,
           9,
           5,
           1,
           1,
           10,
           1,
           1,
           29,
           1,
           1,
           1,
           2,
           1,
           1,
           3,
           1,
           1,
           1,
           1,
           2,
           1,
           27,
           1,
           2,
           1,
           1,
           1,
           11,
           1,
           2,
           1,
           4,
           1,
           1,
           1,
           2,
           1,
           1,
           1,
           2,
           1,
           2,
           1,
           1,
           1,
           2,
           1,
           1,
           3,
           1,
           5,
           1,
           2,
           1,
           1,
           2,
           29,
           1,
           5,
           2,
           7,
           1,
           1,
           12,
           1,
           1,
           194,
           4,
           1,
           3,
           1,
           2,
           76,
           2,
           1,
           89,
           73,
           2,
           4,
           1,
           5,
           5,
           23,
           1,
           1,
           4,
           3,
           2,
           1,
           23,
           1,
           26,
           3,
           4,
           2,
           5,
           3,
           5,
           1,
           13,
           1,
           1,
           1,
           1,
           2,
           1,
           7,
           1,
           6,
           1,
           7,
           2,
           1,
           2,
           8,
           2,
           1,
           1,
           76,
           1,
           1,
           1,
           1,
           1,
           2,
           1,
           1,
           1,
           1,
           2,
           1,
           2,
           1,
           1,
           2,
           1,
           2,
           1,
           1,
           2,
           1,
           1,
           1,
           6,
           1,
           1,
           2,
           2,
           3,
           1,
           2,
           1,
           1,
           1,
           2,
           4,
           4,
           1,
           2,
           1,
           1,
           1,
           6,
           1,
           2,
           3,
           1,
           1,
           1,
           7,
           1,
           2,
           2,
           1,
           1,
           1,
           3,
           2,
           1,
           1,
           1,
           1,
           2,
           2,
           1,
           4,
           1,
           1,
           6,
           1,
           1,
           4,
           1,
           13,
           8,
           2,
           1,
           1,
           1,
           2,
           1,
           1,
           2,
           15,
           2,
           1,
           2,
           12,
           1,
           1,
           1,
           3,
           1,
           1,
           5,
           1,
           1,
           2,
           1,
           2,
           7,
           4,
           4,
           1,
           1,
           1,
           9,
           1,
           5,
           1,
           28,
           1,
           1,
           4,
           26,
           1,
           4,
           1,
           2,
           1,
           20,
           1,
           1,
           1,
           1,
           1,
           1,
           1,
           1,
           2,
           4,
           2,
           1,
           5,
           1,
           7,
           5,
           1,
           4,
           1,
           1,
           11,
           1,
           1,
           2,
           1,
           2,
           1,
           3,
           1,
           9,
           2,
           3,
           1,
           5,
           1,
           5,
           1,
           2,
           3,
           1,
           2,
           10,
           1,
           28,
           1,
           1,
           3,
           4,
           3,
           1,
           1,
           1,
           4,
           1,
           1,
           1,
           2,
           1,
           1,
           1,
           5,
           1,
           2,
           5,
           2,
           1,
           3,
           1,
           2,
           3,
           1,
           10,
           2,
           1,
           3,
           3,
           5,
           1,
           1,
           1,
           2,
           1,
           1,
           1,
           2,
           4,
           1,
           1,
           3,
           3,
           2,
           18,
           12,
           2,
           1,
           3,
           1,
           1,
           2,
           1,
           1,
           1,
           1,
           1,
           1,
           1,
           3,
           4,
           1,
           2,
           1,
           1,
           1,
           1,
           2,
           1,
           117,
           1,
           1,
           2,
           1,
           2,
           1,
           1,
           2,
           2,
           1,
           2,
           1,
           1,
           1,
           1,
           2,
           1,
           3,
           1,
           1,
           1,
           1,
           3,
           13,
           1,
           1,
           1,
           11,
           2,
           1,
           1,
           1,
           1,
           1,
           1,
           3,
           2,
           2,
           3,
           1,
           3,
           2,
           2,
           2,
           1,
           3,
           1,
           3,
           6,
           1,
           1,
           3,
           2,
           2,
           3,
           1,
           1,
           1,
           1,
           1,
           17,
           8,
           3,
           1,
           2,
           1,
           1,
           1,
           1,
           1,
           1,
           1,
           1,
           2,
           1,
           1,
           1,
           5,
           2,
           1,
           1,
           5,
           1,
           1,
           2,
           2,
           1,
           1,
           5,
           1,
           1,
           1,
           11,
           1,
           1,
           1,
           1,
           2,
           1,
           3,
           5,
           1,
           1
          ],
          "colorbar": {
           "title": {
            "text": "Counts"
           }
          },
          "colorscale": [
           [
            0,
            "rgb(176, 242, 188)"
           ],
           [
            0.16666666666666666,
            "rgb(137, 232, 172)"
           ],
           [
            0.3333333333333333,
            "rgb(103, 219, 165)"
           ],
           [
            0.5,
            "rgb(76, 200, 163)"
           ],
           [
            0.6666666666666666,
            "rgb(56, 178, 163)"
           ],
           [
            0.8333333333333334,
            "rgb(44, 152, 160)"
           ],
           [
            1,
            "rgb(37, 125, 152)"
           ]
          ],
          "showscale": true,
          "size": [
           1,
           1,
           1,
           1,
           3,
           1,
           1,
           1,
           10,
           3,
           2,
           1,
           1,
           1,
           25,
           1,
           3,
           1,
           1,
           1,
           9,
           2,
           4,
           1,
           1,
           1,
           1,
           1,
           1,
           4,
           5,
           5,
           1,
           4,
           1,
           1,
           1,
           2,
           31,
           1,
           1,
           12,
           3,
           2,
           2,
           2,
           1,
           1,
           1,
           1,
           2,
           1,
           2,
           2,
           1,
           1,
           34,
           10,
           2,
           1,
           1,
           2,
           4,
           3,
           1,
           3,
           4,
           3,
           1,
           1,
           1,
           1,
           7,
           1,
           6,
           1,
           108,
           1,
           1,
           1,
           1,
           4,
           3,
           2,
           1,
           1,
           2,
           155,
           2,
           1,
           2,
           1,
           2,
           3,
           1,
           1,
           2,
           3,
           2,
           20,
           1,
           5,
           1,
           2,
           32,
           1,
           2,
           4,
           1,
           1,
           1,
           3,
           1,
           1,
           1,
           28,
           1,
           1,
           1,
           1,
           2,
           7,
           1,
           2,
           2,
           5,
           10,
           1,
           1,
           1,
           1,
           5,
           1,
           1,
           1,
           1,
           1,
           1,
           1,
           3,
           1,
           1,
           3,
           1,
           1,
           1,
           1,
           1,
           1,
           3,
           15,
           1,
           1,
           1,
           2,
           1,
           3,
           1,
           1,
           2,
           2,
           3,
           9,
           1,
           1,
           1,
           1,
           1,
           3,
           1,
           10,
           1,
           1,
           2,
           1,
           1,
           4,
           1,
           1,
           1,
           1,
           7,
           5,
           1,
           1,
           1,
           1,
           1,
           42,
           6,
           5,
           3,
           1,
           3,
           2,
           2,
           1,
           1,
           1,
           4,
           1,
           3,
           1,
           3,
           1,
           1,
           2,
           1,
           1,
           1,
           1,
           1,
           1,
           3,
           1,
           56,
           2,
           2,
           1,
           1,
           4,
           1,
           1,
           254,
           2,
           1,
           2,
           10,
           1,
           7,
           1,
           4,
           12,
           1,
           1,
           1,
           1,
           1,
           11,
           1,
           4,
           6,
           1,
           1,
           1,
           3,
           1,
           1,
           2,
           6,
           2,
           2,
           1,
           1,
           1,
           1,
           4,
           1,
           1,
           1,
           2,
           7,
           2,
           1,
           1,
           2,
           23,
           2,
           1,
           5,
           2,
           7,
           1,
           1,
           1,
           1,
           2,
           2,
           1,
           1,
           1,
           1,
           1,
           1,
           1,
           1,
           6,
           1,
           1,
           2,
           10,
           3,
           1,
           10,
           1,
           3,
           61,
           5,
           3,
           3,
           3,
           1,
           1,
           1,
           4,
           1,
           1,
           1,
           299,
           6,
           6,
           2,
           2,
           3,
           1,
           2,
           18,
           5,
           1,
           2,
           1,
           1,
           1,
           1,
           1,
           1,
           2,
           7,
           1,
           2,
           20,
           1,
           1,
           1,
           4,
           1,
           1,
           3,
           2,
           1,
           1,
           1,
           5,
           5,
           4,
           1,
           9,
           32,
           1,
           1,
           1,
           11,
           4,
           2,
           1,
           2,
           2,
           1,
           32,
           5,
           4,
           4,
           7,
           1,
           5,
           1,
           1,
           1,
           4,
           1,
           1,
           1,
           1,
           2,
           2,
           1,
           6,
           1,
           1,
           2,
           3,
           5,
           1,
           2,
           8,
           15,
           1,
           15,
           1,
           1,
           4,
           2,
           1,
           2,
           4,
           2,
           1,
           4,
           1,
           1,
           1,
           6,
           1,
           1,
           2,
           4,
           2,
           3,
           153,
           1,
           2,
           1,
           4,
           1,
           1,
           1,
           4,
           7,
           3,
           1,
           3,
           3,
           4,
           3,
           1,
           1,
           2,
           1,
           1,
           1,
           4,
           1,
           1,
           20,
           3,
           79,
           1,
           3,
           1,
           2,
           1,
           1,
           29,
           2,
           1,
           2,
           1,
           2,
           10,
           2,
           1,
           6,
           1,
           1,
           1,
           3,
           2,
           2,
           2,
           1,
           1,
           7,
           1,
           18,
           2,
           1,
           1,
           1,
           2,
           3,
           4,
           3,
           1,
           3,
           3,
           3,
           1,
           1,
           1,
           1,
           6,
           6,
           2,
           1,
           10,
           2,
           1,
           1,
           3,
           1,
           3,
           2,
           2,
           70,
           8,
           1,
           1,
           1,
           2,
           1,
           2,
           1,
           1,
           1,
           3,
           1,
           2,
           1,
           1,
           2,
           9,
           2,
           1,
           1,
           2,
           9,
           1,
           1,
           3,
           5,
           4,
           2,
           3,
           1,
           1,
           1,
           1,
           2,
           2,
           1,
           1,
           1,
           4,
           1,
           1,
           1,
           1,
           1,
           1,
           8,
           2,
           1,
           2,
           1,
           3,
           1,
           1,
           6,
           1,
           1,
           1,
           2,
           1,
           1,
           1,
           2,
           2,
           5,
           1,
           7,
           5,
           2,
           1,
           3,
           1,
           2,
           1,
           1,
           9,
           2,
           1,
           1,
           2,
           1,
           2,
           1,
           1,
           2,
           7,
           65,
           2,
           1,
           2,
           1,
           1,
           2,
           4,
           1,
           3,
           1,
           1,
           1,
           1,
           1,
           1,
           8,
           3,
           1,
           31,
           5,
           6,
           1,
           17,
           1,
           1,
           1,
           1,
           10,
           3,
           2,
           2,
           2,
           2,
           4,
           1,
           1,
           10,
           2,
           1,
           1,
           4,
           12,
           2,
           1,
           1,
           1,
           1,
           1,
           3,
           1,
           11,
           1,
           1,
           4,
           1,
           3,
           1,
           2,
           1,
           1,
           1,
           1,
           1,
           2,
           1,
           3,
           1,
           1,
           5,
           3,
           1,
           1,
           1,
           1,
           1,
           10,
           8,
           1,
           1,
           1,
           2,
           1,
           11,
           2,
           1,
           2,
           2,
           1,
           1,
           3,
           13,
           9,
           2,
           2,
           2,
           1,
           1,
           1,
           1,
           2,
           1,
           1,
           4,
           1,
           1,
           1,
           2,
           8,
           1,
           5,
           2,
           2,
           3,
           1,
           4,
           1,
           1,
           1,
           1,
           6,
           1,
           2,
           1,
           1,
           5,
           3,
           1,
           2,
           1,
           6,
           1,
           10,
           1,
           1,
           2,
           2,
           2,
           8,
           1,
           1,
           1,
           2,
           2,
           2,
           1,
           8,
           3,
           9,
           1,
           1,
           2,
           1,
           1,
           1,
           1,
           1,
           1,
           1,
           1,
           1,
           1,
           6,
           1,
           2,
           1,
           1,
           1,
           7,
           1,
           2,
           2,
           4,
           1,
           1,
           1,
           7,
           3,
           6,
           1,
           1,
           2,
           2,
           334,
           1,
           3,
           1,
           2,
           3,
           11,
           1,
           1,
           7,
           2,
           4,
           1,
           4,
           2,
           2,
           3,
           1,
           2,
           40,
           14,
           8,
           1,
           3,
           25,
           13,
           2,
           1,
           1,
           23,
           1,
           1,
           1,
           2,
           3,
           1,
           1,
           1,
           1,
           2,
           1,
           1,
           1,
           1,
           16,
           2,
           2,
           2,
           1,
           1,
           7,
           1,
           1,
           1,
           1,
           2,
           1,
           2,
           1,
           1,
           38,
           1,
           2,
           2,
           4,
           2,
           1,
           1,
           1,
           2,
           1,
           1,
           3,
           5,
           2,
           1,
           3,
           1,
           3,
           1,
           1,
           1,
           1,
           1,
           1,
           3,
           1,
           1,
           1,
           2,
           2,
           1,
           5,
           4,
           1,
           4,
           1,
           1,
           8,
           4,
           3,
           1,
           2,
           2,
           2,
           2,
           3,
           1,
           1,
           1,
           3,
           4,
           16,
           1,
           1,
           3,
           3,
           4,
           1,
           1,
           1,
           1,
           1,
           3,
           1,
           1,
           7,
           3,
           1,
           2,
           16,
           5,
           1,
           1,
           1,
           4,
           1,
           2,
           2,
           8,
           1,
           1,
           2,
           2,
           6,
           1,
           3,
           5,
           41,
           2,
           1,
           1,
           1,
           4,
           1,
           4,
           3,
           1,
           2,
           2,
           4,
           2,
           1,
           1,
           1,
           2,
           1,
           2,
           9,
           2,
           1,
           1,
           2,
           1,
           1,
           1,
           1,
           8,
           2,
           5,
           1,
           2,
           5,
           4,
           1,
           68,
           1,
           1,
           1,
           3,
           1,
           1,
           1,
           627,
           3,
           1,
           1,
           31,
           2,
           2,
           2,
           4,
           8,
           2,
           1,
           1,
           1,
           1,
           6,
           6,
           1,
           2,
           8,
           3,
           1,
           1,
           2,
           1,
           4,
           1,
           1,
           274,
           2,
           5,
           1,
           3,
           4,
           1,
           1,
           1,
           5,
           2,
           1,
           1,
           1,
           1,
           1,
           1,
           1,
           2,
           3,
           10,
           4,
           1,
           2,
           1,
           1,
           1,
           25,
           2,
           1,
           1,
           10,
           4,
           1,
           1,
           1,
           1,
           1,
           2,
           1,
           25,
           1,
           3,
           5,
           1,
           1,
           2,
           5,
           3,
           2,
           1,
           1,
           9,
           1,
           15,
           21,
           1,
           33,
           12,
           1,
           1,
           1,
           1,
           2,
           1,
           2,
           4,
           1,
           1,
           1,
           6,
           4,
           1,
           1,
           1,
           1,
           3,
           1,
           4,
           37,
           43,
           1,
           3,
           11,
           2,
           4,
           5,
           2,
           1,
           1,
           1,
           2,
           2,
           1,
           3,
           2,
           3,
           1,
           2,
           2,
           1,
           1,
           2,
           3,
           1,
           1,
           2,
           3,
           2,
           1,
           1,
           2,
           1,
           2,
           1,
           2,
           3,
           3,
           1,
           1,
           1,
           1,
           3,
           1,
           4,
           2,
           1,
           1,
           1,
           1,
           6,
           2,
           3,
           1,
           4,
           66,
           4,
           5,
           3,
           1,
           1,
           1,
           1,
           3,
           1,
           2,
           1,
           1,
           4,
           1,
           1,
           1,
           1,
           53,
           2,
           5,
           3,
           10,
           3,
           1,
           3,
           3,
           4,
           1,
           5,
           3,
           1,
           2,
           1,
           1,
           14,
           3,
           1,
           2,
           2,
           1,
           1,
           1,
           1,
           2,
           2,
           1,
           1,
           1,
           11,
           1,
           2,
           2,
           1,
           1,
           1,
           2,
           2,
           1,
           1,
           1,
           1,
           1,
           1,
           1,
           1,
           1,
           3,
           1,
           2,
           1,
           1,
           1,
           1,
           2,
           2,
           3,
           1,
           2,
           1,
           3,
           2,
           3,
           1,
           73,
           4,
           1,
           1,
           1,
           1,
           1,
           1,
           11,
           1,
           9,
           5,
           1,
           1,
           27,
           1,
           1,
           3,
           1,
           2,
           2,
           19,
           1,
           13,
           1,
           8,
           1,
           6,
           1,
           2,
           2,
           3,
           35,
           2,
           2,
           5,
           1,
           5,
           1,
           1,
           1,
           5,
           1,
           28,
           1,
           1,
           2,
           9,
           2,
           2,
           13,
           1,
           3,
           3,
           14,
           1,
           2,
           1,
           1,
           1,
           37,
           2,
           1,
           1,
           1,
           2,
           1,
           1,
           2,
           2,
           1,
           3,
           2,
           16,
           1,
           5,
           1,
           5,
           2,
           1,
           6,
           1,
           1,
           1,
           1,
           3,
           1,
           1,
           1,
           2,
           1,
           2,
           1,
           2,
           1,
           6,
           146,
           1,
           73,
           3,
           4,
           1,
           1,
           1,
           1,
           1,
           1,
           3,
           4,
           10,
           2,
           2,
           2,
           13,
           3,
           1,
           1,
           2,
           3,
           1,
           1,
           1,
           2,
           4,
           1,
           1,
           15,
           3,
           1,
           1,
           1,
           1,
           2,
           3,
           1,
           1,
           3,
           2,
           62,
           1,
           1,
           2,
           1,
           1,
           1,
           1,
           1,
           1,
           1,
           1,
           8,
           1,
           2,
           1,
           1,
           1,
           1,
           103,
           3,
           1,
           1,
           5,
           30,
           1,
           1,
           9,
           1,
           1,
           2,
           1,
           4,
           4,
           2,
           2,
           3,
           6,
           2,
           1,
           1,
           1,
           1,
           1,
           11,
           1,
           4,
           1,
           9,
           5,
           1,
           1,
           10,
           1,
           1,
           29,
           1,
           1,
           1,
           2,
           1,
           1,
           3,
           1,
           1,
           1,
           1,
           2,
           1,
           27,
           1,
           2,
           1,
           1,
           1,
           11,
           1,
           2,
           1,
           4,
           1,
           1,
           1,
           2,
           1,
           1,
           1,
           2,
           1,
           2,
           1,
           1,
           1,
           2,
           1,
           1,
           3,
           1,
           5,
           1,
           2,
           1,
           1,
           2,
           29,
           1,
           5,
           2,
           7,
           1,
           1,
           12,
           1,
           1,
           194,
           4,
           1,
           3,
           1,
           2,
           76,
           2,
           1,
           89,
           73,
           2,
           4,
           1,
           5,
           5,
           23,
           1,
           1,
           4,
           3,
           2,
           1,
           23,
           1,
           26,
           3,
           4,
           2,
           5,
           3,
           5,
           1,
           13,
           1,
           1,
           1,
           1,
           2,
           1,
           7,
           1,
           6,
           1,
           7,
           2,
           1,
           2,
           8,
           2,
           1,
           1,
           76,
           1,
           1,
           1,
           1,
           1,
           2,
           1,
           1,
           1,
           1,
           2,
           1,
           2,
           1,
           1,
           2,
           1,
           2,
           1,
           1,
           2,
           1,
           1,
           1,
           6,
           1,
           1,
           2,
           2,
           3,
           1,
           2,
           1,
           1,
           1,
           2,
           4,
           4,
           1,
           2,
           1,
           1,
           1,
           6,
           1,
           2,
           3,
           1,
           1,
           1,
           7,
           1,
           2,
           2,
           1,
           1,
           1,
           3,
           2,
           1,
           1,
           1,
           1,
           2,
           2,
           1,
           4,
           1,
           1,
           6,
           1,
           1,
           4,
           1,
           13,
           8,
           2,
           1,
           1,
           1,
           2,
           1,
           1,
           2,
           15,
           2,
           1,
           2,
           12,
           1,
           1,
           1,
           3,
           1,
           1,
           5,
           1,
           1,
           2,
           1,
           2,
           7,
           4,
           4,
           1,
           1,
           1,
           9,
           1,
           5,
           1,
           28,
           1,
           1,
           4,
           26,
           1,
           4,
           1,
           2,
           1,
           20,
           1,
           1,
           1,
           1,
           1,
           1,
           1,
           1,
           2,
           4,
           2,
           1,
           5,
           1,
           7,
           5,
           1,
           4,
           1,
           1,
           11,
           1,
           1,
           2,
           1,
           2,
           1,
           3,
           1,
           9,
           2,
           3,
           1,
           5,
           1,
           5,
           1,
           2,
           3,
           1,
           2,
           10,
           1,
           28,
           1,
           1,
           3,
           4,
           3,
           1,
           1,
           1,
           4,
           1,
           1,
           1,
           2,
           1,
           1,
           1,
           5,
           1,
           2,
           5,
           2,
           1,
           3,
           1,
           2,
           3,
           1,
           10,
           2,
           1,
           3,
           3,
           5,
           1,
           1,
           1,
           2,
           1,
           1,
           1,
           2,
           4,
           1,
           1,
           3,
           3,
           2,
           18,
           12,
           2,
           1,
           3,
           1,
           1,
           2,
           1,
           1,
           1,
           1,
           1,
           1,
           1,
           3,
           4,
           1,
           2,
           1,
           1,
           1,
           1,
           2,
           1,
           117,
           1,
           1,
           2,
           1,
           2,
           1,
           1,
           2,
           2,
           1,
           2,
           1,
           1,
           1,
           1,
           2,
           1,
           3,
           1,
           1,
           1,
           1,
           3,
           13,
           1,
           1,
           1,
           11,
           2,
           1,
           1,
           1,
           1,
           1,
           1,
           3,
           2,
           2,
           3,
           1,
           3,
           2,
           2,
           2,
           1,
           3,
           1,
           3,
           6,
           1,
           1,
           3,
           2,
           2,
           3,
           1,
           1,
           1,
           1,
           1,
           17,
           8,
           3,
           1,
           2,
           1,
           1,
           1,
           1,
           1,
           1,
           1,
           1,
           2,
           1,
           1,
           1,
           5,
           2,
           1,
           1,
           5,
           1,
           1,
           2,
           2,
           1,
           1,
           5,
           1,
           1,
           1,
           11,
           1,
           1,
           1,
           1,
           2,
           1,
           3,
           5,
           1,
           1
          ],
          "sizemin": 4,
          "sizemode": "area",
          "sizeref": 0.78375
         },
         "mode": "markers",
         "text": [
          "aberdeen, MD",
          "aberdeen, WA",
          "abingdon, MD",
          "abram, TX",
          "addison, TX",
          "adelanto, CA",
          "agua fria, NM",
          "airway heights, WA",
          "akron, OH",
          "alafaya, FL",
          "alameda, CA",
          "alamo, TX",
          "alamo heights, TX",
          "albany, OR",
          "albuquerque, NM",
          "alcalde, NM",
          "alcoa, TN",
          "alderwood manor, WA",
          "aldine, TX",
          "alexandria, LA",
          "alexandria, VA",
          "algonquin, IL",
          "alhambra, CA",
          "aliquippa, PA",
          "allen, TX",
          "allentown, PA",
          "almont, MI",
          "aloha, OR",
          "alpine, TX",
          "altadena, CA",
          "altamonte springs, FL",
          "alton, TX",
          "altoona, IA",
          "amarillo, TX",
          "ambler, PA",
          "american canyon, CA",
          "american fork, UT",
          "ames, IA",
          "anaheim, CA",
          "andover, MN",
          "angleton, TX",
          "ankeny, IA",
          "ann arbor, MI",
          "antelope, CA",
          "anthem, AZ",
          "antioch, CA",
          "apopka, FL",
          "apple valley, CA",
          "apple valley, MN",
          "appleton, WI",
          "arcadia, CA",
          "arden hills, MN",
          "arden-arcade, CA",
          "ardmore, OK",
          "ardmore, PA",
          "arkansas city, KS",
          "arlington, TX",
          "arlington, VA",
          "arlington heights, IL",
          "aroma park, IL",
          "artesia, CA",
          "arvada, CO",
          "arvin, CA",
          "asbury park, NJ",
          "ashburn, VA",
          "asheville, NC",
          "ashland, CA",
          "ashland, KY",
          "ashland, VA",
          "aspen, CO",
          "aspen hill, MD",
          "astoria, OR",
          "atascocita, TX",
          "atco, NJ",
          "athens, GA",
          "athens, OH",
          "atlanta, GA",
          "atlantic city, NJ",
          "atmore, AL",
          "atwater, CA",
          "aubrey, TX",
          "auburn, AL",
          "auburn, WA",
          "auburn hills, MI",
          "auburndale, FL",
          "augusta, GA",
          "austin, MN",
          "austin, TX",
          "austintown, OH",
          "avenal, CA",
          "aventura, FL",
          "avon, IN",
          "avon, OH",
          "avondale, AZ",
          "avondale estates, GA",
          "avra valley, AZ",
          "azalea park, FL",
          "azusa, CA",
          "bailey's crossroads, VA",
          "bakersfield, CA",
          "bal harbour, FL",
          "baldwin park, CA",
          "ballenger creek, MD",
          "ballwin, MO",
          "baltimore, MD",
          "banning, CA",
          "barboursville, WV",
          "barre, VT",
          "barstow, CA",
          "bartlesville, OK",
          "bartlett, IL",
          "bartlett, TN",
          "basking ridge, NJ",
          "batavia, NY",
          "batesville, MS",
          "baton rouge, LA",
          "bay city, TX",
          "bay point, CA",
          "bayonne, NJ",
          "bayou blue, LA",
          "bayou cane, LA",
          "baytown, TX",
          "beach park, IL",
          "beaumont, TX",
          "beavercreek, OH",
          "beaverton, OR",
          "bedford, TX",
          "bedford, VA",
          "bee cave, TX",
          "beebe, AR",
          "belgrade, MT",
          "bell, CA",
          "bellaire, TX",
          "belle chasse, LA",
          "belle plaine, MN",
          "belleville, IL",
          "bellevue, NE",
          "bellevue, PA",
          "bellevue, WA",
          "bellflower, CA",
          "bellingham, WA",
          "bellmead, TX",
          "belmont, CA",
          "belton, MO",
          "beltsville, MD",
          "belvidere, IL",
          "benbrook, TX",
          "bend, OR",
          "benton, AR",
          "bentonville, AR",
          "berkeley, CA",
          "berkeley, MO",
          "berkley, CO",
          "bermuda dunes, CA",
          "bernalillo, NM",
          "berry hill, TN",
          "berwyn, IL",
          "bessemer, AL",
          "bethalto, IL",
          "bethesda, MD",
          "bethlehem, PA",
          "beverly, MA",
          "beverly hills, CA",
          "beverly hills, MI",
          "bexley, OH",
          "big bear city, CA",
          "big bear lake, CA",
          "big beaver, PA",
          "big spring, TX",
          "birch bay, WA",
          "birmingham, AL",
          "biscayne park, FL",
          "blackwood, NJ",
          "blair, NE",
          "blawenburg, NJ",
          "bloomfield, NM",
          "bloomington, MN",
          "blue island, IL",
          "bluffdale, UT",
          "bluffton, SC",
          "blythe, CA",
          "boca raton, FL",
          "boise, ID",
          "bolingbrook, IL",
          "bonham, TX",
          "bonney lake, WA",
          "boone, NC",
          "bosque farms, NM",
          "boston, MA",
          "boulder, CO",
          "bowling green, KY",
          "boynton beach, FL",
          "boys town, NE",
          "bozeman, MT",
          "bradenton, FL",
          "branson, MO",
          "braselton, GA",
          "brawley, CA",
          "brazoria, TX",
          "brea, CA",
          "breaux bridge, LA",
          "bremerton, WA",
          "brentwood, CA",
          "brentwood, MO",
          "brentwood, PA",
          "brentwood, TN",
          "brewer, ME",
          "bridgeport, CT",
          "bridgeport, MI",
          "bridgewater, VA",
          "brigantine, NJ",
          "broadview, IL",
          "broadway, NJ",
          "brockton, MA",
          "broken arrow, OK",
          "bronx, NY",
          "bronxville, NY",
          "brook highland, AL",
          "brookfield, IL",
          "brookfield, WI",
          "brookhaven, GA",
          "brookhaven, MS",
          "brookings, SD",
          "brooklyn, NY",
          "brooklyn, OH",
          "brookside, DE",
          "brooksville, FL",
          "brownsville, TX",
          "brunswick, GA",
          "bryan, TX",
          "buda, TX",
          "buena park, CA",
          "buffalo, NY",
          "buffalo grove, IL",
          "bull run, VA",
          "bull run, VA",
          "bullhead city, AZ",
          "bunker hill village, TX",
          "burbank, CA",
          "burke, VA",
          "burlingame, CA",
          "burlington, VT",
          "burns harbor, IN",
          "burnsville, MN",
          "burr ridge, IL",
          "calabasas, CA",
          "callender, CA",
          "calumet city, IL",
          "camarillo, CA",
          "cambridge, MA",
          "camp springs, MD",
          "campbell, CA",
          "campbellsville, KY",
          "candler-mcafee, GA",
          "canton, TX",
          "canutillo, TX",
          "canyon, TX",
          "canyon lake, CA",
          "cape may court house, NJ",
          "carencro, LA",
          "carlsbad, CA",
          "carmel, IN",
          "carmichael, CA",
          "carol stream, IL",
          "carpentersville, IL",
          "carpinteria, CA",
          "carson, CA",
          "carson city, NV",
          "cartersville, GA",
          "cary, NC",
          "casa grande, AZ",
          "castro valley, CA",
          "castroville, TX",
          "cathedral city, CA",
          "catonsville, MD",
          "catoosa, OK",
          "cayce, SC",
          "cañon city, CO",
          "cedar hill, TX",
          "cedar park, TX",
          "cedar rapids, IA",
          "cedarville, OH",
          "centereach, NY",
          "centerville, SC",
          "central islip, NY",
          "centreville, VA",
          "cerritos, CA",
          "chalco, NE",
          "chamblee, GA",
          "champaign, IL",
          "chandler, AZ",
          "channelview, TX",
          "chantilly, VA",
          "chapel hill, NC",
          "charleston, SC",
          "charleston, WV",
          "charlotte, NC",
          "charlottesville, VA",
          "chattanooga, TN",
          "chelsea, AL",
          "cherry hill, VA",
          "chesapeake, VA",
          "chester, MD",
          "chester, PA",
          "chesterfield, MO",
          "chestertown, MD",
          "cheverly, MD",
          "cheyenne, WY",
          "chicago, IL",
          "chico, CA",
          "chillum, MD",
          "chino, CA",
          "chino hills, CA",
          "chula vista, CA",
          "cicero, IL",
          "cimarron hills, CO",
          "cincinnati, OH",
          "cinco ranch, TX",
          "citrus, CA",
          "citrus park, FL",
          "claremore, OK",
          "clarksville, TN",
          "clayton, CA",
          "clearfield, PA",
          "clearfield, UT",
          "clearwater, FL",
          "cleburne, TX",
          "clemmons, NC",
          "clemson, SC",
          "clermont, FL",
          "cleveland, OH",
          "cleveland, TN",
          "cleveland heights, OH",
          "cliffside park, NJ",
          "clifton, NJ",
          "clifton forge, VA",
          "clifton heights, PA",
          "clinton, MI",
          "clinton, MS",
          "clintonville, WI",
          "clive, IA",
          "closter, NJ",
          "clovis, CA",
          "coachella, CA",
          "coeur d'alene, ID",
          "colesville, MD",
          "college park, GA",
          "college station, TX",
          "collierville, TN",
          "collinsville, IL",
          "colmar manor, MD",
          "colorado springs, CO",
          "colton, CA",
          "columbia, KY",
          "columbia heights, MN",
          "columbus, GA",
          "columbus, IN",
          "columbus, MS",
          "columbus, OH",
          "commerce, CA",
          "commerce city, CO",
          "compton, CA",
          "concord, CA",
          "concord, MO",
          "concord, NC",
          "concordia, KS",
          "connellsville, PA",
          "connersville, IN",
          "conroe, TX",
          "contra costa centre, CA",
          "converse, TX",
          "conway, AR",
          "conway, SC",
          "conyers, GA",
          "cookeville, TN",
          "coopersville, MI",
          "coppell, TX",
          "copperas cove, TX",
          "coral gables, FL",
          "coral hills, MD",
          "coral springs, FL",
          "coral terrace, FL",
          "coralville, IA",
          "coram, NY",
          "corona, CA",
          "corpus christi, TX",
          "cortland, NY",
          "costa mesa, CA",
          "cottage lake, WA",
          "country club, FL",
          "covina, CA",
          "covington, TN",
          "crafton, PA",
          "cranston, RI",
          "cresaptown, MD",
          "crestline, CA",
          "crestwood, KY",
          "crosby, TX",
          "croton-on-hudson, NY",
          "cudahy, CA",
          "cuero, TX",
          "culver city, CA",
          "cutler bay, FL",
          "cuyahoga falls, OH",
          "cypress, CA",
          "cypress lake, FL",
          "dade city, FL",
          "dale city, VA",
          "dallas, TX",
          "dalton, GA",
          "daly city, CA",
          "danbury, CT",
          "dania beach, FL",
          "danielson, CT",
          "daphne, AL",
          "darien, IL",
          "davie, FL",
          "davis, CA",
          "dayton, OH",
          "dayton, TX",
          "dayton, VA",
          "daytona beach, FL",
          "dearborn, MI",
          "decatur, GA",
          "deer park, NY",
          "deer park, TX",
          "deerfield beach, FL",
          "dekalb, IL",
          "del city, OK",
          "del rey oaks, CA",
          "del rio, TX",
          "deland, FL",
          "denison, TX",
          "denton, TX",
          "dentsville, SC",
          "denver, CO",
          "derby, KS",
          "des moines, IA",
          "des peres, MO",
          "des plaines, IL",
          "desha, AR",
          "destin, FL",
          "detroit, MI",
          "diamond bar, CA",
          "dilley, TX",
          "dinuba, CA",
          "dobbs ferry, NY",
          "doctor phillips, FL",
          "doral, FL",
          "dover, DE",
          "downers grove, IL",
          "downey, CA",
          "drexel hill, PA",
          "druid hills, GA",
          "duarte, CA",
          "dublin, CA",
          "dubuque, IA",
          "duluth, GA",
          "duluth, MN",
          "duncan, OK",
          "dunedin, FL",
          "dunwoody, GA",
          "durango, CO",
          "durham, NC",
          "eagle, CO",
          "eagle pass, TX",
          "east cleveland, OH",
          "east farmingdale, NY",
          "east lansing, MI",
          "east los angeles, CA",
          "east meadow, NY",
          "east orange, NJ",
          "east pasadena, CA",
          "east point, GA",
          "east providence, RI",
          "east rancho dominguez, CA",
          "east riverdale, MD",
          "easton, PA",
          "eastvale, CA",
          "eastwood, LA",
          "eau claire, WI",
          "eden prairie, MN",
          "edgecliff village, TX",
          "edgewood, FL",
          "edinburg, TX",
          "edmond, OK",
          "edwardsville, IL",
          "egypt lake-leto, FL",
          "el cajon, CA",
          "el centro, CA",
          "el cerrito, CA",
          "el mirage, AZ",
          "el monte, CA",
          "el paso, TX",
          "elizabeth, NJ",
          "elk city, OK",
          "elk grove, CA",
          "elk grove village, IL",
          "elkridge, MD",
          "ellicott city, MD",
          "elmhurst, IL",
          "elmwood, LA",
          "elmwood park, IL",
          "ely, IA",
          "elyria, OH",
          "emporia, KS",
          "encinitas, CA",
          "endicott, NY",
          "englewood, CO",
          "enid, OK",
          "enterprise, NV",
          "erie, PA",
          "escondido, CA",
          "esperance, WA",
          "estero, FL",
          "eugene, OR",
          "euless, TX",
          "evanston, IL",
          "evansville, IN",
          "everett, MA",
          "everett, WA",
          "evergreen park, IL",
          "everman, TX",
          "fairburn, GA",
          "fairfax station, VA",
          "fairfield, CA",
          "fairfield, OH",
          "fairmont, MN",
          "fairmount, IN",
          "fairview shores, FL",
          "fairwood, WA",
          "fall river, MA",
          "fargo, ND",
          "farmers branch, TX",
          "farmersville, CA",
          "farmington, NM",
          "farmington, UT",
          "farmington hills, MI",
          "fayetteville, GA",
          "fayetteville, NC",
          "feasterville, PA",
          "fenton, MI",
          "ferndale, MD",
          "ferndale, MI",
          "fernley, NV",
          "ferry pass, FL",
          "fincastle, KY",
          "fishers, IN",
          "fitchburg, MA",
          "fitchburg, WI",
          "five corners, WA",
          "flagstaff, AZ",
          "fleming island, FL",
          "flemington, NJ",
          "florida, NY",
          "florida city, FL",
          "floris, VA",
          "flower mound, TX",
          "folsom, PA",
          "fontana, CA",
          "forest acres, SC",
          "forest park, IL",
          "forest park, OH",
          "forestville, MD",
          "forsyth, GA",
          "fort collins, CO",
          "fort drum, NY",
          "fort hood, TX",
          "fort lauderdale, FL",
          "fort lee, NJ",
          "fort leonard wood, MO",
          "fort mill, SC",
          "fort myers, FL",
          "fort salonga, NY",
          "fort smith, AR",
          "fort stewart, GA",
          "fort stockton, TX",
          "fort washington, MD",
          "fort wayne, IN",
          "fort worth, TX",
          "fountain, CO",
          "fountain valley, CA",
          "fountainebleau, FL",
          "four corners, OR",
          "fox chapel, PA",
          "framingham, MA",
          "franconia, VA",
          "frankfort, KY",
          "franklin, TN",
          "franklin center, NJ",
          "franklin farm, VA",
          "franklin park, IL",
          "frederick, MD",
          "fredericksburg, VA",
          "frederickson, WA",
          "fremont, CA",
          "french valley, CA",
          "frenchtown, NJ",
          "fresno, CA",
          "friendswood, TX",
          "frisco, TX",
          "fruitport, MI",
          "fullerton, CA",
          "fullerton, PA",
          "fulton, KY",
          "fuquay-varina, NC",
          "gahanna, OH",
          "gainesville, FL",
          "gainesville, GA",
          "gaithersburg, MD",
          "galena park, TX",
          "galveston, TX",
          "garden acres, CA",
          "garden city, GA",
          "garden city, KS",
          "garden city south, NY",
          "garden grove, CA",
          "gardena, CA",
          "gardere, LA",
          "gardner, MA",
          "gardnerville ranchos, NV",
          "garland, TX",
          "garner, NC",
          "gary, IN",
          "gastonia, NC",
          "gatesville, TX",
          "georgetown, CT",
          "georgetown, TX",
          "germantown, MD",
          "giddings, TX",
          "gilbert, AZ",
          "gilroy, CA",
          "glasgow village, MO",
          "glen cove, NY",
          "glendale, WI",
          "glendora, CA",
          "glenn dale, MD",
          "glenn heights, TX",
          "glenwood springs, CO",
          "gloucester, MA",
          "gold river, CA",
          "golden, CO",
          "golden gate, FL",
          "goldenrod, FL",
          "goleta, CA",
          "goodyear, AZ",
          "gosnell, AR",
          "graceville, FL",
          "graham, NC",
          "granbury, TX",
          "grand blanc, MI",
          "grand forks, ND",
          "grand haven, MI",
          "grand island, NE",
          "grand junction, CO",
          "grand prairie, TX",
          "grand rapids, MI",
          "grand rapids, MN",
          "grand terrace, CA",
          "grandview, MO",
          "grants, NM",
          "granville, WV",
          "grapevine, TX",
          "great falls, MT",
          "great falls, VA",
          "green bay, WI",
          "green river, WY",
          "green tree, PA",
          "greenacres, FL",
          "greenhills, OH",
          "greensboro, NC",
          "greenville, SC",
          "greenville, TX",
          "greenwood, SC",
          "gresham, OR",
          "griffith, IN",
          "grosse pointe park, MI",
          "grove city, OH",
          "groveton, VA",
          "guadalupe, CA",
          "gulf shores, AL",
          "gypsum, CO",
          "hacienda heights, CA",
          "hagerstown, MD",
          "haines city, FL",
          "haledon, NJ",
          "hallandale beach, FL",
          "haltom city, TX",
          "hamilton, OH",
          "hammond, IN",
          "hammond, LA",
          "hampton, GA",
          "hampton, VA",
          "hampton bays, NY",
          "hanford, CA",
          "hannibal, MO",
          "hanover, OH",
          "hapeville, GA",
          "happy valley, OR",
          "harlingen, TX",
          "harper woods, MI",
          "harrison, MI",
          "harrison, NJ",
          "harrison, TN",
          "harrisonburg, VA",
          "harvey, LA",
          "hauppauge, NY",
          "hawaiian gardens, CA",
          "hawkinsville, GA",
          "hawthorne, CA",
          "hayden, ID",
          "hayward, CA",
          "hazel park, MI",
          "hazleton, PA",
          "hebron, TX",
          "helotes, TX",
          "hemet, CA",
          "henderson, NV",
          "hendersonville, TN",
          "hercules, CA",
          "hereford, TX",
          "hermosa beach, CA",
          "herndon, VA",
          "hesperia, CA",
          "hewitt, TX",
          "hialeah, FL",
          "hicksville, NY",
          "high point, NC",
          "high shoals, NC",
          "highland, CA",
          "highland, IN",
          "highland, UT",
          "highland city, FL",
          "highland heights, OH",
          "highland lakes, AL",
          "highland park, IL",
          "highland park, MI",
          "highland springs, VA",
          "highland village, TX",
          "highlands ranch, CO",
          "hillburn, NY",
          "hillsboro, OR",
          "hillsborough, NJ",
          "hillsdale, NJ",
          "hilton head island, SC",
          "hinesville, GA",
          "ho-ho-kus, NJ",
          "hoboken, NJ",
          "hockessin, DE",
          "holdenville, OK",
          "holiday, FL",
          "holladay, UT",
          "holland, MI",
          "holly springs, GA",
          "holly springs, NC",
          "hollywood, FL",
          "homestead, FL",
          "hoover, AL",
          "hope mills, NC",
          "hopewell, VA",
          "horizon city, TX",
          "houma, LA",
          "houston, TX",
          "hudson, FL",
          "humble, TX",
          "hummels wharf, PA",
          "huntersville, NC",
          "huntington, WV",
          "huntington beach, CA",
          "huntington park, CA",
          "huntley, IL",
          "huntsville, AL",
          "huntsville, TX",
          "hurst, TX",
          "hutchins, TX",
          "hutchinson, KS",
          "imperial, CA",
          "imperial beach, CA",
          "independence, MO",
          "indian springs village, AL",
          "indiana, PA",
          "indianapolis, IN",
          "indio, CA",
          "inglewood, CA",
          "iowa, LA",
          "iowa city, IA",
          "irvine, CA",
          "irving, TX",
          "irvington, NY",
          "irwindale, CA",
          "isanti, MN",
          "isla vista, CA",
          "islip terrace, NY",
          "ives estates, FL",
          "jackson, OH",
          "jackson, TN",
          "jacksonville beach, FL",
          "jasmine estates, FL",
          "jasper, GA",
          "jefferson, LA",
          "jefferson, OH",
          "jeffersontown, KY",
          "jenks, OK",
          "jennings, MO",
          "jennings lodge, OR",
          "jericho, NY",
          "jersey city, NJ",
          "jersey village, TX",
          "johns creek, GA",
          "joliet, IL",
          "jonesboro, AR",
          "jonesboro, GA",
          "jonestown, PA",
          "joplin, MO",
          "joppatowne, MD",
          "joshua tree, CA",
          "junction city, OR",
          "jupiter, FL",
          "jurupa valley, CA",
          "kalamazoo, MI",
          "kalispell, MT",
          "kannapolis, NC",
          "kansas city, MO",
          "katonah, NY",
          "katy, TX",
          "kearns, UT",
          "kearny, NJ",
          "keller, TX",
          "kellogg, ID",
          "ken caryl, CO",
          "kendale lakes, FL",
          "kendall, FL",
          "kendall west, FL",
          "kenner, LA",
          "kennesaw, GA",
          "kennewick, WA",
          "kenosha, WI",
          "kent, OH",
          "kent, WA",
          "kentwood, MI",
          "kerman, CA",
          "kerrville, TX",
          "key biscayne, FL",
          "key colony beach, FL",
          "key largo, FL",
          "key west, FL",
          "keystone, CO",
          "killeen, TX",
          "kimberly, WI",
          "king of prussia, PA",
          "kingman, AZ",
          "kings beach, CA",
          "kings grant, NC",
          "kingsport, TN",
          "kingsville, TX",
          "kirkland, WA",
          "kirkwood, MO",
          "kissimmee, FL",
          "klamath falls, OR",
          "knightdale, NC",
          "knoxville, TN",
          "kyle, TX",
          "la crosse, WI",
          "la grange park, IL",
          "la habra, CA",
          "la homa, TX",
          "la mesa, CA",
          "la mirada, CA",
          "la puente, CA",
          "la vergne, TN",
          "lacy-lakeview, TX",
          "ladera heights, CA",
          "lafayette, CO",
          "lafayette, IN",
          "lafayette, LA",
          "laguna niguel, CA",
          "lake bluff, IL",
          "lake buena vista, FL",
          "lake butler, FL",
          "lake charles, LA",
          "lake crystal, MN",
          "lake dallas, TX",
          "lake forest, CA",
          "lake forest, IL",
          "lake park, FL",
          "lake ronkonkoma, NY",
          "lake shore, MD",
          "lake tapps, WA",
          "lakeland, FL",
          "lakeside, FL",
          "lakeville, NY",
          "lakewood, CA",
          "lakewood, CO",
          "lakewood, OH",
          "lakewood, WA",
          "lamar, CO",
          "lamont, CA",
          "lancaster, CA",
          "lancaster, KY",
          "lancaster, PA",
          "lancaster, TX",
          "lansing, MI",
          "lantana, FL",
          "lantana, TX",
          "lapeer, MI",
          "laramie, WY",
          "laredo, TX",
          "largo, FL",
          "larkspur, CA",
          "las cruces, NM",
          "las vegas, NV",
          "lathrop, CA",
          "laurel, MD",
          "lawndale, CA",
          "lawrence, IN",
          "lawrenceville, GA",
          "lawrenceville, IL",
          "league city, TX",
          "lebanon, TN",
          "lee's summit, MO",
          "leesburg, VA",
          "lehi, UT",
          "lemon grove, CA",
          "lenoir city, TN",
          "leon valley, TX",
          "levittown, NY",
          "lewiston, ME",
          "lewisville, TX",
          "lexington, NC",
          "lima, OH",
          "lincoln, NE",
          "lincoln village, OH",
          "lincolnia, VA",
          "lino lakes, MN",
          "lisle, IL",
          "litchfield, IL",
          "litchfield, MN",
          "lithia springs, GA",
          "little elm, TX",
          "little rock, AR",
          "littleton, CO",
          "live oak, TX",
          "livermore, CA",
          "livingston, TN",
          "livonia, MI",
          "llano grande, TX",
          "lompoc, CA",
          "long beach, CA",
          "long branch, NJ",
          "long hill, CT",
          "long hill, CT",
          "longmont, CO",
          "longport, NJ",
          "longview, WA",
          "los altos, CA",
          "los angeles, CA",
          "los banos, CA",
          "los gatos, CA",
          "los luceros, NM",
          "louisville, KY",
          "lovejoy, GA",
          "loveland, CO",
          "lowell, AR",
          "lowell, MA",
          "lubbock, TX",
          "lumberton, NC",
          "lyndhurst, OH",
          "lyndon, KY",
          "lynn, MA",
          "lynnwood, WA",
          "lynwood, CA",
          "mableton, GA",
          "macedonia, OH",
          "macomb, IL",
          "macon, GA",
          "madison heights, MI",
          "magnolia, DE",
          "maitland, FL",
          "malibu, CA",
          "manahawkin, NJ",
          "manchester, NH",
          "mandan, ND",
          "manhattan, KS",
          "manhattan, NY",
          "manhattan beach, CA",
          "mankato, MN",
          "manor, TX",
          "mansfield, TX",
          "manteca, CA",
          "marana, AZ",
          "marathon, FL",
          "marco island, FL",
          "marietta, GA",
          "marietta, OH",
          "marina, CA",
          "marlborough, MA",
          "marshalltown, IA",
          "martha lake, WA",
          "martin, TN",
          "martinez, CA",
          "martinez, GA",
          "maryland city, MD",
          "maryland heights, MO",
          "marysville, WA",
          "maryville, TN",
          "mason city, IA",
          "matthews, NC",
          "mattituck, NY",
          "mays chapel, MD",
          "maywood, CA",
          "mcallen, TX",
          "mcdonough, GA",
          "mckeesport, PA",
          "mckinleyville, CA",
          "mckinney, TX",
          "mclean, VA",
          "mcminnville, OR",
          "mcmurray, PA",
          "mcnair, VA",
          "meadow woods, FL",
          "medford, NY",
          "medford, OR",
          "medley, FL",
          "memphis, TN",
          "menasha, WI",
          "mendota, CA",
          "menifee, CA",
          "menlo park, CA",
          "menomonee falls, WI",
          "mentor, OH",
          "merced, CA",
          "mercedes, TX",
          "mercer island, WA",
          "meriden, CT",
          "meridian, PA",
          "mesa, AZ",
          "mesquite, NV",
          "mesquite, TX",
          "metairie, LA",
          "metuchen, NJ",
          "miami, FL",
          "miami beach, FL",
          "miami lakes, FL",
          "miami shores, FL",
          "miamisburg, OH",
          "middle island, NY",
          "middle valley, TN",
          "middleburg heights, OH",
          "middletown, CT",
          "midland, TX",
          "midland, WA",
          "midvale, UT",
          "midway, UT",
          "mila doce, TX",
          "milford, NJ",
          "milford mill, MD",
          "mill creek, WA",
          "mill valley, CA",
          "millbrook, AL",
          "milledgeville, GA",
          "miller place, NY",
          "milpitas, CA",
          "milwaukee, WI",
          "minneapolis, MN",
          "minot, ND",
          "miramar, FL",
          "mission, TX",
          "missoula, MT",
          "missouri city, TX",
          "mobile, AL",
          "modesto, CA",
          "mokena, IL",
          "monahans, TX",
          "monroe, MI",
          "monrovia, CA",
          "montclair, CA",
          "monte sereno, CA",
          "montebello, CA",
          "monterey park, CA",
          "montgomery, AL",
          "montgomeryville, PA",
          "montpelier, VT",
          "montrose, CO",
          "montz, LA",
          "monument, CO",
          "moore, OK",
          "mooresville, NC",
          "moorhead, MN",
          "morada, CA",
          "morehead city, NC",
          "moreno valley, CA",
          "morgan hill, CA",
          "morgantown, WV",
          "morris, IL",
          "morristown, NJ",
          "morristown, TN",
          "morro bay, CA",
          "moscow, ID",
          "mount clemens, MI",
          "mount juliet, TN",
          "mount pleasant, SC",
          "mount vernon, NY",
          "mountain gate, CA",
          "mountain house, CA",
          "mountain lakes, NJ",
          "mountain view, CA",
          "mukilteo, WA",
          "muncie, IN",
          "murfreesboro, TN",
          "murray, KY",
          "murray, UT",
          "muskegon, MI",
          "muskogee, OK",
          "nacogdoches, TX",
          "napa, CA",
          "naperville, IL",
          "naples, FL",
          "nashua, NH",
          "nashville, TN",
          "natchitoches, LA",
          "national city, CA",
          "naugatuck, CT",
          "navasota, TX",
          "nesconset, NY",
          "new albany, IN",
          "new bedford, MA",
          "new braunfels, TX",
          "new britain, CT",
          "new brunswick, NJ",
          "new cassel, NY",
          "new castle, DE",
          "new haven, CT",
          "new hope, MN",
          "new hyde park, NY",
          "new iberia, LA",
          "new lenox, IL",
          "new orleans, LA",
          "new rochelle, NY",
          "new york, NY",
          "newark, DE",
          "newark, NJ",
          "newark, OH",
          "newburgh, IN",
          "newnan, GA",
          "newport, KY",
          "newport, RI",
          "newport beach, CA",
          "newport news, VA",
          "newton, MA",
          "niagara falls, NY",
          "noblesville, IN",
          "norco, CA",
          "norcross, GA",
          "norfolk, VA",
          "norman, OK",
          "north adams, MA",
          "north amityville, NY",
          "north augusta, SC",
          "north babylon, NY",
          "north beach haven, NJ",
          "north bethesda, MD",
          "north canton, OH",
          "north charleston, SC",
          "north chicago, IL",
          "north decatur, GA",
          "north highlands, CA",
          "north kansas city, MO",
          "north las vegas, NV",
          "north lauderdale, FL",
          "north lindenhurst, NY",
          "north little rock, AR",
          "north miami, FL",
          "north miami beach, FL",
          "north myrtle beach, SC",
          "north olmsted, OH",
          "north port, FL",
          "north ridgeville, OH",
          "north sarasota, FL",
          "north valley stream, NY",
          "north wales, PA",
          "north wilkesboro, NC",
          "northampton, MA",
          "northbrook, IL",
          "northmoor, MO",
          "northville, MI",
          "norwalk, CA",
          "norwalk, CT",
          "norwood, NJ",
          "norwood, OH",
          "novato, CA",
          "novi, MI",
          "noyack, NY",
          "o'fallon, MO",
          "oak creek, WI",
          "oak grove, OR",
          "oak grove, SC",
          "oak grove, VA",
          "oak hills place, LA",
          "oak park, IL",
          "oak ridge, FL",
          "oak ridge north, TX",
          "oak valley, NJ",
          "oakland, CA",
          "oakland, FL",
          "oakland park, FL",
          "oakville, MO",
          "oakwood, GA",
          "oberlin, OH",
          "ocean city, MD",
          "ocean city, NJ",
          "oceanside, CA",
          "ocoee, FL",
          "odessa, TX",
          "ogden, UT",
          "oildale, CA",
          "okemos, MI",
          "oklahoma city, OK",
          "old tappan, NJ",
          "oldsmar, FL",
          "olivarez, TX",
          "olive branch, MS",
          "olney, MD",
          "olympia, WA",
          "omaha, NE",
          "omro, WI",
          "ontario, CA",
          "opelika, AL",
          "orange, CA",
          "orange beach, AL",
          "orchards, WA",
          "orcutt, CA",
          "oregon, OH",
          "orem, UT",
          "orland park, IL",
          "orlando, FL",
          "oro valley, AZ",
          "orting, WA",
          "oshkosh, WI",
          "ottawa, IL",
          "overland park, KS",
          "owensboro, KY",
          "oxford, MI",
          "oxford, MS",
          "oxford, OH",
          "oxford, PA",
          "oxnard, CA",
          "ozark, MO",
          "pacific grove, CA",
          "pacifica, CA",
          "pahrump, NV",
          "palatine, IL",
          "palm beach gardens, FL",
          "palm desert, CA",
          "palm harbor, FL",
          "palm springs, CA",
          "palm valley, FL",
          "palmdale, CA",
          "palo alto, CA",
          "panama city, FL",
          "panama city beach, FL",
          "panthersville, GA",
          "papillion, NE",
          "paradise, NV",
          "paradise valley, AZ",
          "paramount, CA",
          "paris, KY",
          "paris, TX",
          "park forest village, PA",
          "park ridge, IL",
          "parker, SC",
          "parkersburg, WV",
          "parkville, MD",
          "parkville, MO",
          "parma, OH",
          "parole, MD",
          "pasadena, CA",
          "pasadena, MD",
          "pasadena, TX",
          "passaic, NJ",
          "paterson, NJ",
          "peabody, MA",
          "peachtree city, GA",
          "pearland, TX",
          "pearsall, TX",
          "pecos, TX",
          "pelham, AL",
          "pell city, AL",
          "pembroke pines, FL",
          "pendleton, OR",
          "penn wynne, PA",
          "pensacola, FL",
          "perrysburg, OH",
          "perryville, MO",
          "perth amboy, NJ",
          "peru, IN",
          "petaluma, CA",
          "pflugerville, TX",
          "pharr, TX",
          "philadelphia, PA",
          "philomath, OR",
          "phoenix, AZ",
          "picnic point, WA",
          "pico rivera, CA",
          "piedmont, SC",
          "pigeon forge, TN",
          "pinellas park, FL",
          "pineville, LA",
          "pioneer village, KY",
          "piqua, OH",
          "pistakee highlands, IL",
          "pittsburg, CA",
          "pittsburgh, PA",
          "pittsfield, MA",
          "placentia, CA",
          "plainfield, NJ",
          "plano, TX",
          "plant city, FL",
          "plantation, FL",
          "plaquemine, LA",
          "plattsburgh, NY",
          "pleasant hill, CA",
          "pleasanton, CA",
          "plum, PA",
          "plymouth, IN",
          "plymouth, MN",
          "pocahontas, AR",
          "pocatello, ID",
          "point pleasant beach, NJ",
          "pomona, CA",
          "pompano beach, FL",
          "pontiac, MI",
          "pooler, GA",
          "port allen, LA",
          "port charlotte, FL",
          "port hueneme, CA",
          "port huron, MI",
          "port washington, WI",
          "portage, MI",
          "porterville, CA",
          "portland, ME",
          "portland, OR",
          "post falls, ID",
          "pottstown, PA",
          "poughkeepsie, NY",
          "prairie ridge, WA",
          "prairie view, TX",
          "prescott, AZ",
          "prescott, WI",
          "prichard, AL",
          "princeton, IN",
          "princeton, WV",
          "prospect heights, IL",
          "providence, RI",
          "provo, UT",
          "pueblo west, CO",
          "pulaski, TN",
          "pullman, WA",
          "punta gorda, FL",
          "queen creek, AZ",
          "queens, NY",
          "quincy, MA",
          "raceland, LA",
          "racine, WI",
          "rahway, NJ",
          "raleigh, NC",
          "ralston, NE",
          "rancho alegre, TX",
          "rancho cucamonga, CA",
          "rancho palos verdes, CA",
          "rancho viejo, TX",
          "randallstown, MD",
          "reading, PA",
          "redan, GA",
          "redding, CA",
          "redland, MD",
          "redlands, CA",
          "redmond, WA",
          "redondo beach, CA",
          "redwood city, CA",
          "reedley, CA",
          "reedsburg, WI",
          "rehoboth beach, DE",
          "reidsville, NC",
          "reisterstown, MD",
          "reno, NV",
          "renton, WA",
          "reston, VA",
          "reynoldsburg, OH",
          "rialto, CA",
          "richardson, TX",
          "richfield, MN",
          "richland, WA",
          "richmond, CA",
          "richmond, KY",
          "richmond, TX",
          "richmond, VA",
          "ridgefield, NJ",
          "ridley park, PA",
          "rincon, GA",
          "ringwood, NJ",
          "rio grande city, TX",
          "rio pinar, FL",
          "rio rancho, NM",
          "rio vista, CA",
          "river falls, WI",
          "river ridge, LA",
          "riverbank, CA",
          "riverdale, GA",
          "riverdale park, MD",
          "riverside, CA",
          "riverton, UT",
          "riverview, FL",
          "robertsville, NJ",
          "rochester, MI",
          "rochester, NH",
          "rockford, IL",
          "rockford, MN",
          "rockledge, FL",
          "rocklin, CA",
          "rockville, MD",
          "rockwood, VA",
          "rocky mount, VA",
          "rocky point, NY",
          "rohnert park, CA",
          "roma, TX",
          "rome, GA",
          "romeoville, IL",
          "rosedale, CA",
          "roseland, NJ",
          "rosemead, CA",
          "rosemont, CA",
          "rosenberg, TX",
          "roseville, CA",
          "roseville, MI",
          "roseville, MN",
          "rossmoor, CA",
          "roswell, GA",
          "roswell, NM",
          "round rock, TX",
          "rowland heights, CA",
          "rowlett, TX",
          "royal palm beach, FL",
          "ruidoso, NM",
          "rutherford, NJ",
          "sacramento, CA",
          "sahuarita, AZ",
          "salem, OR",
          "salina, KS",
          "salinas, CA",
          "salisbury, NC",
          "salmon creek, WA",
          "salt lake city, UT",
          "salunga, PA",
          "san angelo, TX",
          "san antonio, TX",
          "san bernardino, CA",
          "san bruno, CA",
          "san carlos, CA",
          "san carlos park, FL",
          "san clemente, CA",
          "san diego, CA",
          "san dimas, CA",
          "san fernando, CA",
          "san francisco, CA",
          "san jose, CA",
          "san juan, TX",
          "san leandro, CA",
          "san lorenzo, CA",
          "san luis obispo, CA",
          "san marcos, CA",
          "san marcos, TX",
          "san mateo, CA",
          "san pablo, CA",
          "san rafael, CA",
          "san tan valley, AZ",
          "sandusky, OH",
          "sandy, UT",
          "sandy springs, GA",
          "sansom park, TX",
          "santa ana, CA",
          "santa barbara, CA",
          "santa clara, CA",
          "santa clarita, CA",
          "santa cruz, CA",
          "santa fe, NM",
          "santa fe springs, CA",
          "santa maria, CA",
          "santa monica, CA",
          "santa paula, CA",
          "santa rosa, CA",
          "santa rosa valley, CA",
          "santee, CA",
          "sarasota, FL",
          "saratoga, CA",
          "savannah, GA",
          "savannah, TX",
          "scaggsville, MD",
          "scenic oaks, TX",
          "schaumburg, IL",
          "schertz, TX",
          "schiller park, IL",
          "schriever, LA",
          "scottsdale, AZ",
          "seal beach, CA",
          "seat pleasant, MD",
          "seatac, WA",
          "seattle, WA",
          "sebastopol, CA",
          "sedalia, MO",
          "selma, CA",
          "seminole, FL",
          "seneca, SC",
          "setauket, NY",
          "severn, MD",
          "shaker heights, OH",
          "shark river hills, NJ",
          "shasta lake, CA",
          "shawnee, KS",
          "shawnee, OK",
          "shelby, MI",
          "shenandoah, PA",
          "shenandoah, TX",
          "shepherdsville, KY",
          "sheridan, CO",
          "sheridan, WY",
          "shillington, PA",
          "shiloh, IL",
          "shively, KY",
          "shorewood, IL",
          "shorewood, MN",
          "shorewood, WI",
          "signal hill, CA",
          "signal mountain, TN",
          "silver spring, MD",
          "silverdale, WA",
          "simi valley, CA",
          "simpsonville, SC",
          "sioux city, IA",
          "sioux falls, SD",
          "skokie, IL",
          "slidell, LA",
          "slippery rock, PA",
          "smithville, MO",
          "smyrna, GA",
          "smyrna, TN",
          "snohomish, WA",
          "socorro, TX",
          "soledad, CA",
          "somerdale, NJ",
          "somerset, KY",
          "somerville, MA",
          "sonora, CA",
          "south bend, IN",
          "south el monte, CA",
          "south elgin, IL",
          "south euclid, OH",
          "south farmingdale, NY",
          "south gate, CA",
          "south highpoint, FL",
          "south hill, WA",
          "south houston, TX",
          "south lake tahoe, CA",
          "south miami, FL",
          "south milwaukee, WI",
          "south patrick shores, FL",
          "south point, OH",
          "south salt lake, UT",
          "south san francisco, CA",
          "south toms river, NJ",
          "south valley, NM",
          "south whittier, CA",
          "southfield, MI",
          "southgate, MI",
          "sparks, NV",
          "spartanburg, SC",
          "spencerport, NY",
          "spokane, WA",
          "spokane valley, WA",
          "spotswood, NJ",
          "spring, TX",
          "spring hill, TN",
          "springfield, IL",
          "springfield, MA",
          "springville, UT",
          "stafford, TX",
          "stafford springs, CT",
          "stamford, CT",
          "stanford, CA",
          "stanton, CA",
          "starkville, MS",
          "state college, PA",
          "staten island, NY",
          "statesboro, GA",
          "sterling heights, MI",
          "stockbridge, GA",
          "stockton, CA",
          "storrs, CT",
          "stratford, NJ",
          "streamwood, IL",
          "stuart, FL",
          "suffolk, VA",
          "sugar hill, GA",
          "sugar land, TX",
          "sulphur, LA",
          "sumner, WA",
          "sun city, AZ",
          "sun city center, FL",
          "sunny isles beach, FL",
          "sunnyvale, CA",
          "sunrise, FL",
          "sunrise manor, NV",
          "sunset valley, TX",
          "surprise, AZ",
          "syosset, NY",
          "syracuse, NY",
          "syracuse, UT",
          "tacoma, WA",
          "tahlequah, OK",
          "tallahassee, FL",
          "tallmadge, OH",
          "tamarac, FL",
          "tamiami, FL",
          "tampa, FL",
          "tanglewilde, WA",
          "taunton, MA",
          "taylor, MI",
          "temecula, CA",
          "temelec, CA",
          "tempe, AZ",
          "temple city, CA",
          "temple hills, MD",
          "temple terrace, FL",
          "terre haute, IN",
          "terrytown, LA",
          "terryville, NY",
          "teviston, CA",
          "texarkana, TX",
          "texas city, TX",
          "the colony, TX",
          "the crossings, FL",
          "the dalles, OR",
          "the hammocks, FL",
          "the village, OK",
          "the woodlands, TX",
          "thornton, CO",
          "thornwood, NY",
          "thousand oaks, CA",
          "thunderbolt, GA",
          "tierra verde, FL",
          "tigard, OR",
          "tinton falls, NJ",
          "toledo, IA",
          "toledo, OH",
          "tomball, TX",
          "tonawanda, NY",
          "topanga, CA",
          "topeka, KS",
          "toro canyon, CA",
          "torrance, CA",
          "totowa, NJ",
          "town 'n' country, FL",
          "town and country, MO",
          "tracy, CA",
          "travelers rest, SC",
          "traverse city, MI",
          "trenton, NJ",
          "troy, MO",
          "troy, NY",
          "tuckahoe, NY",
          "tucker, GA",
          "tucson, AZ",
          "tukwila, WA",
          "tulsa, OK",
          "turlock, CA",
          "turtle creek, PA",
          "tuscaloosa, AL",
          "tuskegee, AL",
          "tustin, CA",
          "twin lakes, CO",
          "twin rivers, NJ",
          "twinsburg, OH",
          "tyler, TX",
          "union, KY",
          "union, NJ",
          "union city, CA",
          "union city, GA",
          "union gap, WA",
          "uniondale, NY",
          "universal city, TX",
          "university, FL",
          "university heights, OH",
          "university place, WA",
          "upland, CA",
          "urbana, IL",
          "urbandale, IA",
          "utica, NY",
          "uvalde, TX",
          "vacaville, CA",
          "valinda, CA",
          "valle vista, CA",
          "vallejo, CA",
          "valley stream, NY",
          "valley view, OH",
          "valparaiso, IN",
          "valrico, FL",
          "vancouver, WA",
          "vandercook lake, MI",
          "venice, FL",
          "vernon, CA",
          "vernon hills, IL",
          "vero beach, FL",
          "verona, MS",
          "versailles, KY",
          "vestavia hills, AL",
          "victoria, TX",
          "victorville, CA",
          "view park-windsor hills, CA",
          "villa park, IL",
          "vinings, GA",
          "vinton, VA",
          "virginia beach, VA",
          "visalia, CA",
          "vista, CA",
          "voorheesville, NY",
          "waco, TX",
          "waconia, MN",
          "wahoo, NE",
          "wake forest, NC",
          "waldorf, MD",
          "waldwick, NJ",
          "walker, LA",
          "walker mill, MD",
          "walkertown, NC",
          "wallace, ID",
          "wallington, NJ",
          "walnut, CA",
          "walnut creek, CA",
          "walterboro, SC",
          "waltham, MA",
          "wanamassa, NJ",
          "warner robins, GA",
          "warr acres, OK",
          "warren, MI",
          "warwick, RI",
          "wasco, CA",
          "washington, DC",
          "washington, NJ",
          "watauga, TX",
          "waterbury, CT",
          "watertown, SD",
          "watervliet, NY",
          "watsonville, CA",
          "waukegan, IL",
          "wauwatosa, WI",
          "waxahachie, TX",
          "waxhaw, NC",
          "waynesboro, GA",
          "wayzata, MN",
          "weatherford, TX",
          "webster, TX",
          "webster groves, MO",
          "wellington, FL",
          "wellington, OH",
          "weslaco, TX",
          "wesley chapel, FL",
          "wesley chapel, NC",
          "west allis, WI",
          "west babylon, NY",
          "west carson, CA",
          "west covina, CA",
          "west dundee, IL",
          "west haven, CT",
          "west hempstead, NY",
          "west hollywood, CA",
          "west jordan, UT",
          "west lafayette, IN",
          "west lake hills, TX",
          "west linn, OR",
          "west long branch, NJ",
          "west memphis, AR",
          "west monroe, LA",
          "west new york, NJ",
          "west palm beach, FL",
          "west sacramento, CA",
          "west valley city, UT",
          "westerville, OH",
          "westfield, IN",
          "westfield, MA",
          "westfield, NJ",
          "westlake, OH",
          "westlake, TX",
          "westland, MI",
          "westminster, CA",
          "westminster, CO",
          "weston, FL",
          "westwood, MI",
          "westwood lakes, FL",
          "wheat ridge, CO",
          "wheaton, MD",
          "white marsh, MD",
          "white oak, MD",
          "whitefish, MT",
          "whitehouse, OH",
          "whitemarsh island, GA",
          "whiting, IN",
          "whitney, NV",
          "whittier, CA",
          "wichita, KS",
          "wichita falls, TX",
          "wildomar, CA",
          "wildwood, FL",
          "williamsburg, VA",
          "williamstown, NJ",
          "willimantic, CT",
          "willowbrook, CA",
          "wilmington island, GA",
          "wilson, NC",
          "wilsonville, OR",
          "winchester, KY",
          "winchester, NV",
          "winchester, VA",
          "window rock, AZ",
          "windsor, CO",
          "winston-salem, NC",
          "winter garden, FL",
          "winter park, FL",
          "winterville, NC",
          "wixom, MI",
          "woburn, MA",
          "wolf trap, VA",
          "woodburn, OR",
          "woodbury, MN",
          "woodhaven, MI",
          "woodinville, WA",
          "worcester, MA",
          "worthington hills, KY",
          "wylie, TX",
          "wyncote, PA",
          "yonkers, NY",
          "yorba linda, CA",
          "york, PA",
          "york, SC",
          "youngstown, OH",
          "ypsilanti, MI",
          "yucca valley, CA",
          "yukon, OK",
          "yuma, AZ",
          "zion, IL",
          "zionsville, IN"
         ],
         "type": "scattergeo"
        }
       ],
       "layout": {
        "geo": {
         "countrycolor": "rgb(217, 217, 217)",
         "lakecolor": "rgb(255, 255, 255)",
         "landcolor": "rgb(217, 217, 217)",
         "scope": "usa",
         "showlakes": true,
         "showsubunits": true,
         "subunitcolor": "rgb(217, 217, 217)"
        },
        "template": {
         "data": {
          "bar": [
           {
            "error_x": {
             "color": "#f2f5fa"
            },
            "error_y": {
             "color": "#f2f5fa"
            },
            "marker": {
             "line": {
              "color": "rgb(17,17,17)",
              "width": 0.5
             },
             "pattern": {
              "fillmode": "overlay",
              "size": 10,
              "solidity": 0.2
             }
            },
            "type": "bar"
           }
          ],
          "barpolar": [
           {
            "marker": {
             "line": {
              "color": "rgb(17,17,17)",
              "width": 0.5
             },
             "pattern": {
              "fillmode": "overlay",
              "size": 10,
              "solidity": 0.2
             }
            },
            "type": "barpolar"
           }
          ],
          "carpet": [
           {
            "aaxis": {
             "endlinecolor": "#A2B1C6",
             "gridcolor": "#506784",
             "linecolor": "#506784",
             "minorgridcolor": "#506784",
             "startlinecolor": "#A2B1C6"
            },
            "baxis": {
             "endlinecolor": "#A2B1C6",
             "gridcolor": "#506784",
             "linecolor": "#506784",
             "minorgridcolor": "#506784",
             "startlinecolor": "#A2B1C6"
            },
            "type": "carpet"
           }
          ],
          "choropleth": [
           {
            "colorbar": {
             "outlinewidth": 0,
             "ticks": ""
            },
            "type": "choropleth"
           }
          ],
          "contour": [
           {
            "colorbar": {
             "outlinewidth": 0,
             "ticks": ""
            },
            "colorscale": [
             [
              0,
              "#0d0887"
             ],
             [
              0.1111111111111111,
              "#46039f"
             ],
             [
              0.2222222222222222,
              "#7201a8"
             ],
             [
              0.3333333333333333,
              "#9c179e"
             ],
             [
              0.4444444444444444,
              "#bd3786"
             ],
             [
              0.5555555555555556,
              "#d8576b"
             ],
             [
              0.6666666666666666,
              "#ed7953"
             ],
             [
              0.7777777777777778,
              "#fb9f3a"
             ],
             [
              0.8888888888888888,
              "#fdca26"
             ],
             [
              1,
              "#f0f921"
             ]
            ],
            "type": "contour"
           }
          ],
          "contourcarpet": [
           {
            "colorbar": {
             "outlinewidth": 0,
             "ticks": ""
            },
            "type": "contourcarpet"
           }
          ],
          "heatmap": [
           {
            "colorbar": {
             "outlinewidth": 0,
             "ticks": ""
            },
            "colorscale": [
             [
              0,
              "#0d0887"
             ],
             [
              0.1111111111111111,
              "#46039f"
             ],
             [
              0.2222222222222222,
              "#7201a8"
             ],
             [
              0.3333333333333333,
              "#9c179e"
             ],
             [
              0.4444444444444444,
              "#bd3786"
             ],
             [
              0.5555555555555556,
              "#d8576b"
             ],
             [
              0.6666666666666666,
              "#ed7953"
             ],
             [
              0.7777777777777778,
              "#fb9f3a"
             ],
             [
              0.8888888888888888,
              "#fdca26"
             ],
             [
              1,
              "#f0f921"
             ]
            ],
            "type": "heatmap"
           }
          ],
          "heatmapgl": [
           {
            "colorbar": {
             "outlinewidth": 0,
             "ticks": ""
            },
            "colorscale": [
             [
              0,
              "#0d0887"
             ],
             [
              0.1111111111111111,
              "#46039f"
             ],
             [
              0.2222222222222222,
              "#7201a8"
             ],
             [
              0.3333333333333333,
              "#9c179e"
             ],
             [
              0.4444444444444444,
              "#bd3786"
             ],
             [
              0.5555555555555556,
              "#d8576b"
             ],
             [
              0.6666666666666666,
              "#ed7953"
             ],
             [
              0.7777777777777778,
              "#fb9f3a"
             ],
             [
              0.8888888888888888,
              "#fdca26"
             ],
             [
              1,
              "#f0f921"
             ]
            ],
            "type": "heatmapgl"
           }
          ],
          "histogram": [
           {
            "marker": {
             "pattern": {
              "fillmode": "overlay",
              "size": 10,
              "solidity": 0.2
             }
            },
            "type": "histogram"
           }
          ],
          "histogram2d": [
           {
            "colorbar": {
             "outlinewidth": 0,
             "ticks": ""
            },
            "colorscale": [
             [
              0,
              "#0d0887"
             ],
             [
              0.1111111111111111,
              "#46039f"
             ],
             [
              0.2222222222222222,
              "#7201a8"
             ],
             [
              0.3333333333333333,
              "#9c179e"
             ],
             [
              0.4444444444444444,
              "#bd3786"
             ],
             [
              0.5555555555555556,
              "#d8576b"
             ],
             [
              0.6666666666666666,
              "#ed7953"
             ],
             [
              0.7777777777777778,
              "#fb9f3a"
             ],
             [
              0.8888888888888888,
              "#fdca26"
             ],
             [
              1,
              "#f0f921"
             ]
            ],
            "type": "histogram2d"
           }
          ],
          "histogram2dcontour": [
           {
            "colorbar": {
             "outlinewidth": 0,
             "ticks": ""
            },
            "colorscale": [
             [
              0,
              "#0d0887"
             ],
             [
              0.1111111111111111,
              "#46039f"
             ],
             [
              0.2222222222222222,
              "#7201a8"
             ],
             [
              0.3333333333333333,
              "#9c179e"
             ],
             [
              0.4444444444444444,
              "#bd3786"
             ],
             [
              0.5555555555555556,
              "#d8576b"
             ],
             [
              0.6666666666666666,
              "#ed7953"
             ],
             [
              0.7777777777777778,
              "#fb9f3a"
             ],
             [
              0.8888888888888888,
              "#fdca26"
             ],
             [
              1,
              "#f0f921"
             ]
            ],
            "type": "histogram2dcontour"
           }
          ],
          "mesh3d": [
           {
            "colorbar": {
             "outlinewidth": 0,
             "ticks": ""
            },
            "type": "mesh3d"
           }
          ],
          "parcoords": [
           {
            "line": {
             "colorbar": {
              "outlinewidth": 0,
              "ticks": ""
             }
            },
            "type": "parcoords"
           }
          ],
          "pie": [
           {
            "automargin": true,
            "type": "pie"
           }
          ],
          "scatter": [
           {
            "marker": {
             "line": {
              "color": "#283442"
             }
            },
            "type": "scatter"
           }
          ],
          "scatter3d": [
           {
            "line": {
             "colorbar": {
              "outlinewidth": 0,
              "ticks": ""
             }
            },
            "marker": {
             "colorbar": {
              "outlinewidth": 0,
              "ticks": ""
             }
            },
            "type": "scatter3d"
           }
          ],
          "scattercarpet": [
           {
            "marker": {
             "colorbar": {
              "outlinewidth": 0,
              "ticks": ""
             }
            },
            "type": "scattercarpet"
           }
          ],
          "scattergeo": [
           {
            "marker": {
             "colorbar": {
              "outlinewidth": 0,
              "ticks": ""
             }
            },
            "type": "scattergeo"
           }
          ],
          "scattergl": [
           {
            "marker": {
             "line": {
              "color": "#283442"
             }
            },
            "type": "scattergl"
           }
          ],
          "scattermapbox": [
           {
            "marker": {
             "colorbar": {
              "outlinewidth": 0,
              "ticks": ""
             }
            },
            "type": "scattermapbox"
           }
          ],
          "scatterpolar": [
           {
            "marker": {
             "colorbar": {
              "outlinewidth": 0,
              "ticks": ""
             }
            },
            "type": "scatterpolar"
           }
          ],
          "scatterpolargl": [
           {
            "marker": {
             "colorbar": {
              "outlinewidth": 0,
              "ticks": ""
             }
            },
            "type": "scatterpolargl"
           }
          ],
          "scatterternary": [
           {
            "marker": {
             "colorbar": {
              "outlinewidth": 0,
              "ticks": ""
             }
            },
            "type": "scatterternary"
           }
          ],
          "surface": [
           {
            "colorbar": {
             "outlinewidth": 0,
             "ticks": ""
            },
            "colorscale": [
             [
              0,
              "#0d0887"
             ],
             [
              0.1111111111111111,
              "#46039f"
             ],
             [
              0.2222222222222222,
              "#7201a8"
             ],
             [
              0.3333333333333333,
              "#9c179e"
             ],
             [
              0.4444444444444444,
              "#bd3786"
             ],
             [
              0.5555555555555556,
              "#d8576b"
             ],
             [
              0.6666666666666666,
              "#ed7953"
             ],
             [
              0.7777777777777778,
              "#fb9f3a"
             ],
             [
              0.8888888888888888,
              "#fdca26"
             ],
             [
              1,
              "#f0f921"
             ]
            ],
            "type": "surface"
           }
          ],
          "table": [
           {
            "cells": {
             "fill": {
              "color": "#506784"
             },
             "line": {
              "color": "rgb(17,17,17)"
             }
            },
            "header": {
             "fill": {
              "color": "#2a3f5f"
             },
             "line": {
              "color": "rgb(17,17,17)"
             }
            },
            "type": "table"
           }
          ]
         },
         "layout": {
          "annotationdefaults": {
           "arrowcolor": "#f2f5fa",
           "arrowhead": 0,
           "arrowwidth": 1
          },
          "autotypenumbers": "strict",
          "coloraxis": {
           "colorbar": {
            "outlinewidth": 0,
            "ticks": ""
           }
          },
          "colorscale": {
           "diverging": [
            [
             0,
             "#8e0152"
            ],
            [
             0.1,
             "#c51b7d"
            ],
            [
             0.2,
             "#de77ae"
            ],
            [
             0.3,
             "#f1b6da"
            ],
            [
             0.4,
             "#fde0ef"
            ],
            [
             0.5,
             "#f7f7f7"
            ],
            [
             0.6,
             "#e6f5d0"
            ],
            [
             0.7,
             "#b8e186"
            ],
            [
             0.8,
             "#7fbc41"
            ],
            [
             0.9,
             "#4d9221"
            ],
            [
             1,
             "#276419"
            ]
           ],
           "sequential": [
            [
             0,
             "#0d0887"
            ],
            [
             0.1111111111111111,
             "#46039f"
            ],
            [
             0.2222222222222222,
             "#7201a8"
            ],
            [
             0.3333333333333333,
             "#9c179e"
            ],
            [
             0.4444444444444444,
             "#bd3786"
            ],
            [
             0.5555555555555556,
             "#d8576b"
            ],
            [
             0.6666666666666666,
             "#ed7953"
            ],
            [
             0.7777777777777778,
             "#fb9f3a"
            ],
            [
             0.8888888888888888,
             "#fdca26"
            ],
            [
             1,
             "#f0f921"
            ]
           ],
           "sequentialminus": [
            [
             0,
             "#0d0887"
            ],
            [
             0.1111111111111111,
             "#46039f"
            ],
            [
             0.2222222222222222,
             "#7201a8"
            ],
            [
             0.3333333333333333,
             "#9c179e"
            ],
            [
             0.4444444444444444,
             "#bd3786"
            ],
            [
             0.5555555555555556,
             "#d8576b"
            ],
            [
             0.6666666666666666,
             "#ed7953"
            ],
            [
             0.7777777777777778,
             "#fb9f3a"
            ],
            [
             0.8888888888888888,
             "#fdca26"
            ],
            [
             1,
             "#f0f921"
            ]
           ]
          },
          "colorway": [
           "#636efa",
           "#EF553B",
           "#00cc96",
           "#ab63fa",
           "#FFA15A",
           "#19d3f3",
           "#FF6692",
           "#B6E880",
           "#FF97FF",
           "#FECB52"
          ],
          "font": {
           "color": "#f2f5fa"
          },
          "geo": {
           "bgcolor": "rgb(17,17,17)",
           "lakecolor": "rgb(17,17,17)",
           "landcolor": "rgb(17,17,17)",
           "showlakes": true,
           "showland": true,
           "subunitcolor": "#506784"
          },
          "hoverlabel": {
           "align": "left"
          },
          "hovermode": "closest",
          "mapbox": {
           "style": "dark"
          },
          "paper_bgcolor": "rgb(17,17,17)",
          "plot_bgcolor": "rgb(17,17,17)",
          "polar": {
           "angularaxis": {
            "gridcolor": "#506784",
            "linecolor": "#506784",
            "ticks": ""
           },
           "bgcolor": "rgb(17,17,17)",
           "radialaxis": {
            "gridcolor": "#506784",
            "linecolor": "#506784",
            "ticks": ""
           }
          },
          "scene": {
           "xaxis": {
            "backgroundcolor": "rgb(17,17,17)",
            "gridcolor": "#506784",
            "gridwidth": 2,
            "linecolor": "#506784",
            "showbackground": true,
            "ticks": "",
            "zerolinecolor": "#C8D4E3"
           },
           "yaxis": {
            "backgroundcolor": "rgb(17,17,17)",
            "gridcolor": "#506784",
            "gridwidth": 2,
            "linecolor": "#506784",
            "showbackground": true,
            "ticks": "",
            "zerolinecolor": "#C8D4E3"
           },
           "zaxis": {
            "backgroundcolor": "rgb(17,17,17)",
            "gridcolor": "#506784",
            "gridwidth": 2,
            "linecolor": "#506784",
            "showbackground": true,
            "ticks": "",
            "zerolinecolor": "#C8D4E3"
           }
          },
          "shapedefaults": {
           "line": {
            "color": "#f2f5fa"
           }
          },
          "sliderdefaults": {
           "bgcolor": "#C8D4E3",
           "bordercolor": "rgb(17,17,17)",
           "borderwidth": 1,
           "tickwidth": 0
          },
          "ternary": {
           "aaxis": {
            "gridcolor": "#506784",
            "linecolor": "#506784",
            "ticks": ""
           },
           "baxis": {
            "gridcolor": "#506784",
            "linecolor": "#506784",
            "ticks": ""
           },
           "bgcolor": "rgb(17,17,17)",
           "caxis": {
            "gridcolor": "#506784",
            "linecolor": "#506784",
            "ticks": ""
           }
          },
          "title": {
           "x": 0.05
          },
          "updatemenudefaults": {
           "bgcolor": "#506784",
           "borderwidth": 0
          },
          "xaxis": {
           "automargin": true,
           "gridcolor": "#283442",
           "linecolor": "#506784",
           "ticks": "",
           "title": {
            "standoff": 15
           },
           "zerolinecolor": "#283442",
           "zerolinewidth": 2
          },
          "yaxis": {
           "automargin": true,
           "gridcolor": "#283442",
           "linecolor": "#506784",
           "ticks": "",
           "title": {
            "standoff": 15
           },
           "zerolinecolor": "#283442",
           "zerolinewidth": 2
          }
         }
        },
        "title": {
         "text": "Geographical Distribution of Spotify Stream Tweets",
         "x": 0.5,
         "xanchor": "center"
        }
       }
      }
     },
     "metadata": {},
     "output_type": "display_data"
    }
   ],
   "source": [
    "create_bubble_map(US_2022_geoloc)"
   ]
  },
  {
   "cell_type": "markdown",
   "metadata": {},
   "source": [
    "#### 4.1.4 Key Observations"
   ]
  },
  {
   "cell_type": "markdown",
   "metadata": {},
   "source": [
    "**Lyrics**:\n",
    "- In the analysis of all words, the most common words include \"love\", \"time\", \"feel\", \"baby\", and \"good\", which make up a significant portion of the total word count. For instance, the word \"love\" has the highest sentiment score of 0.6369 among the top 50 words, underscoring the pervasiveness of love as a theme in music.\n",
    "\n",
    "- Further sentiment analysis of all words shows that many of the frequently used words have neutral sentiment scores. For example, the words \"time\", \"feel\", \"baby\", and \"life\" all have a sentiment score of 0. This trend suggests a propensity for lyrics to employ words that are emotionally neutral, neither veering towards strong positivity nor negativity.\n",
    "\n",
    "- Upon categorizing words based on sentiment, unique patterns emerge. The most common negative words encompass \"leave\", \"low\", \"bad\", \"lose\", and \"bitch\", with sentiment scores ranging from -0.0516 to -0.5859. These words, many of which denote loss, negativity, and conflict, indicate a prevalence of such themes in the music shared on Twitter.\n",
    "\n",
    "- Contrastingly, the most frequent positive words include \"love\", \"good\", \"win\", \"play\", and \"hand\", with sentiment scores ranging from 0.3400 to 0.6369. These words, symbolizing love, positivity, victory, and cooperation, suggest that these positive themes are as pervasive in music as their negative counterparts.\n",
    "\n",
    "- Ultimately, this provides insight into the diverse themes and sentiments in the music shared on Twitter, revealing a complex mix of positivity, negativity, love, conflict, success, and loss. \n",
    "\n",
    "\n",
    "**Audio Features**:\n",
    "- Firstly, the tempo of the songs, measured in beats per minute (BPM), has a mean value of approximately 121.16 BPM, with a standard deviation of about 29.44. This suggests a preference for moderately paced songs among users. The tempo range is quite wide, from 40 BPM to 220 BPM, indicating a diversity of musical styles and moods.\n",
    "\n",
    "- The popularity of the songs, ranging from 0 to 95, has a mean score of approximately 43.96. It is notable that the 75th percentile of popularity is 64, indicating that a significant proportion of the shared songs have a high popularity score. This reflects the inclination of Twitter users to share music that is generally well-received and popular.\n",
    "\n",
    "- The year of the songs spans from 1950 to 2023, with a mean value around 2012.85. This indicates a preference for relatively recent music, reflecting the evolving tastes of listeners and the dynamism of the music industry.\n",
    "\n",
    "- The analysis of the key of the songs reveals a mean value of approximately 5.36, which corresponds to the key of \"F\" using the provided key mapping. This suggests a slight preference for songs in this key, but the standard deviation of 3.61 and the full range from 0 (\"C\") to 11 (\"B\") indicate a broad diversity of musical keys in the shared songs.\n",
    "\n",
    "- The mean audio features presents an interesting pattern. Energy and danceability, with mean values of 63.53 and 59.46 respectively, are relatively high. This suggests a preference for energetic and danceable music. In contrast, instrumentalness is quite low (mean value of 8.02), indicating a preference for music with vocals. Speechiness, acousticness, valence, and liveness have moderate mean values, suggesting a balanced mix of these elements in the music shared on Twitter.\n",
    "\n",
    "**Correlations between Audio Features**:\n",
    "- Danceability and Valence show a moderate positive correlation (0.38), indicating that tracks with higher danceability tend to have more positive or happier content.\n",
    "\n",
    "- There's a strong negative correlation (-0.61) between Energy and Acousticness. This suggests that tracks with higher energy are typically less acoustic and more likely to involve electronic or amplified instruments.\n",
    "\n",
    "- Speechiness shows a mild positive correlation with Danceability (0.21), suggesting that more danceable tracks tend to have more spoken words.\n",
    "\n",
    "- Instrumentalness has a mild negative correlation with Speechiness (-0.15) and Danceability (-0.15), indicating that tracks with a higher proportion of instrumental content are less likely to be danceable or have spoken words.\n",
    "\n",
    "- Liveness shows a mild positive correlation with Energy (0.18), suggesting that more energetic tracks are likely to have been recorded with a live audience.\n",
    "\n",
    "**Genres**:\n",
    "- The genre with the highest occurrence is 'rap', appearing in 1,311 instances. This indicates a strong preference for rap music among Twitter users who share Spotify links.\n",
    "\n",
    "- Following closely, 'pop' and 'hip hop' genres are also quite popular, appearing in 1,059 and 985 instances respectively. This suggests a significant interest in these genres.\n",
    "\n",
    "- The 'rock' and 'trap' genres, while less frequent than the top three genres, still appear in a substantial number of instances (732 and 513 respectively), indicating their relevance in the music shared on Twitter.\n",
    "\n",
    "- The total number of unique genres identified is 2,033. This high number points to a remarkable diversity in the music genres shared on Twitter, highlighting the platform's role in disseminating a wide range of music styles.\n"
   ]
  },
  {
   "cell_type": "markdown",
   "metadata": {},
   "source": [
    "### 4.2 Cluster Analysis"
   ]
  },
  {
   "cell_type": "markdown",
   "metadata": {},
   "source": []
  }
 ],
 "metadata": {
  "kernelspec": {
   "display_name": "Python 3 (ipykernel)",
   "language": "python",
   "name": "python3"
  },
  "language_info": {
   "codemirror_mode": {
    "name": "ipython",
    "version": 3
   },
   "file_extension": ".py",
   "mimetype": "text/x-python",
   "name": "python",
   "nbconvert_exporter": "python",
   "pygments_lexer": "ipython3",
   "version": "3.10.5"
  }
 },
 "nbformat": 4,
 "nbformat_minor": 2
}
